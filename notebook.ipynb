{
 "cells": [
  {
   "cell_type": "code",
   "execution_count": 5,
   "metadata": {},
   "outputs": [
    {
     "name": "stdout",
     "output_type": "stream",
     "text": [
      "Collecting llama-index\n",
      "  Downloading llama_index-0.5.5.tar.gz (163 kB)\n",
      "     ------------------------------------ 163.1/163.1 kB 376.5 kB/s eta 0:00:00\n",
      "  Preparing metadata (setup.py): started\n",
      "  Preparing metadata (setup.py): finished with status 'done'\n",
      "Collecting dataclasses_json\n",
      "  Using cached dataclasses_json-0.5.7-py3-none-any.whl (25 kB)\n",
      "Collecting langchain\n",
      "  Downloading langchain-0.0.129-py3-none-any.whl (467 kB)\n",
      "     ------------------------------------ 467.5/467.5 kB 597.7 kB/s eta 0:00:00\n",
      "Requirement already satisfied: numpy in c:\\users\\edison yi\\appdata\\local\\programs\\python\\python310\\lib\\site-packages (from llama-index) (1.24.2)\n",
      "Collecting tenacity<9.0.0,>=8.2.0\n",
      "  Using cached tenacity-8.2.2-py3-none-any.whl (24 kB)\n",
      "Collecting openai>=0.26.4\n",
      "  Using cached openai-0.27.2-py3-none-any.whl (70 kB)\n",
      "Requirement already satisfied: pandas in c:\\users\\edison yi\\appdata\\local\\programs\\python\\python310\\lib\\site-packages (from llama-index) (1.5.3)\n",
      "Collecting tiktoken\n",
      "  Downloading tiktoken-0.3.3-cp310-cp310-win_amd64.whl (579 kB)\n",
      "     ------------------------------------ 579.4/579.4 kB 124.3 kB/s eta 0:00:00\n",
      "Requirement already satisfied: requests>=2.20 in c:\\users\\edison yi\\appdata\\local\\programs\\python\\python310\\lib\\site-packages (from openai>=0.26.4->llama-index) (2.28.2)\n",
      "Collecting aiohttp\n",
      "  Using cached aiohttp-3.8.4-cp310-cp310-win_amd64.whl (319 kB)\n",
      "Requirement already satisfied: tqdm in c:\\users\\edison yi\\appdata\\local\\programs\\python\\python310\\lib\\site-packages (from openai>=0.26.4->llama-index) (4.65.0)\n",
      "Collecting typing-inspect>=0.4.0\n",
      "  Using cached typing_inspect-0.8.0-py3-none-any.whl (8.7 kB)\n",
      "Collecting marshmallow-enum<2.0.0,>=1.5.1\n",
      "  Using cached marshmallow_enum-1.5.1-py2.py3-none-any.whl (4.2 kB)\n",
      "Collecting marshmallow<4.0.0,>=3.3.0\n",
      "  Using cached marshmallow-3.19.0-py3-none-any.whl (49 kB)\n",
      "Collecting SQLAlchemy<2,>=1\n",
      "  Using cached SQLAlchemy-1.4.47-cp310-cp310-win_amd64.whl (1.6 MB)\n",
      "Requirement already satisfied: PyYAML>=5.4.1 in c:\\users\\edison yi\\appdata\\local\\programs\\python\\python310\\lib\\site-packages (from langchain->llama-index) (6.0)\n",
      "Requirement already satisfied: pydantic<2,>=1 in c:\\users\\edison yi\\appdata\\local\\programs\\python\\python310\\lib\\site-packages (from langchain->llama-index) (1.10.7)\n",
      "Requirement already satisfied: pytz>=2020.1 in c:\\users\\edison yi\\appdata\\local\\programs\\python\\python310\\lib\\site-packages (from pandas->llama-index) (2023.3)\n",
      "Requirement already satisfied: python-dateutil>=2.8.1 in c:\\users\\edison yi\\appdata\\local\\programs\\python\\python310\\lib\\site-packages (from pandas->llama-index) (2.8.2)\n",
      "Requirement already satisfied: regex>=2022.1.18 in c:\\users\\edison yi\\appdata\\local\\programs\\python\\python310\\lib\\site-packages (from tiktoken->llama-index) (2023.3.23)\n",
      "Collecting frozenlist>=1.1.1\n",
      "  Using cached frozenlist-1.3.3-cp310-cp310-win_amd64.whl (33 kB)\n",
      "Collecting aiosignal>=1.1.2\n",
      "  Using cached aiosignal-1.3.1-py3-none-any.whl (7.6 kB)\n",
      "Collecting multidict<7.0,>=4.5\n",
      "  Using cached multidict-6.0.4-cp310-cp310-win_amd64.whl (28 kB)\n",
      "Collecting attrs>=17.3.0\n",
      "  Using cached attrs-22.2.0-py3-none-any.whl (60 kB)\n",
      "Requirement already satisfied: charset-normalizer<4.0,>=2.0 in c:\\users\\edison yi\\appdata\\local\\programs\\python\\python310\\lib\\site-packages (from aiohttp->openai>=0.26.4->llama-index) (3.1.0)\n",
      "Collecting async-timeout<5.0,>=4.0.0a3\n",
      "  Using cached async_timeout-4.0.2-py3-none-any.whl (5.8 kB)\n",
      "Collecting yarl<2.0,>=1.0\n",
      "  Using cached yarl-1.8.2-cp310-cp310-win_amd64.whl (56 kB)\n",
      "Requirement already satisfied: packaging>=17.0 in c:\\users\\edison yi\\appdata\\local\\programs\\python\\python310\\lib\\site-packages (from marshmallow<4.0.0,>=3.3.0->dataclasses_json->llama-index) (23.0)\n",
      "Requirement already satisfied: typing-extensions>=4.2.0 in c:\\users\\edison yi\\appdata\\local\\programs\\python\\python310\\lib\\site-packages (from pydantic<2,>=1->langchain->llama-index) (4.5.0)\n",
      "Requirement already satisfied: six>=1.5 in c:\\users\\edison yi\\appdata\\local\\programs\\python\\python310\\lib\\site-packages (from python-dateutil>=2.8.1->pandas->llama-index) (1.16.0)\n",
      "Requirement already satisfied: certifi>=2017.4.17 in c:\\users\\edison yi\\appdata\\local\\programs\\python\\python310\\lib\\site-packages (from requests>=2.20->openai>=0.26.4->llama-index) (2022.12.7)\n",
      "Requirement already satisfied: urllib3<1.27,>=1.21.1 in c:\\users\\edison yi\\appdata\\local\\programs\\python\\python310\\lib\\site-packages (from requests>=2.20->openai>=0.26.4->llama-index) (1.26.15)\n",
      "Requirement already satisfied: idna<4,>=2.5 in c:\\users\\edison yi\\appdata\\local\\programs\\python\\python310\\lib\\site-packages (from requests>=2.20->openai>=0.26.4->llama-index) (3.4)\n",
      "Collecting greenlet!=0.4.17\n",
      "  Using cached greenlet-2.0.2-cp310-cp310-win_amd64.whl (192 kB)\n",
      "Collecting mypy-extensions>=0.3.0\n",
      "  Using cached mypy_extensions-1.0.0-py3-none-any.whl (4.7 kB)\n",
      "Requirement already satisfied: colorama in c:\\users\\edison yi\\appdata\\local\\programs\\python\\python310\\lib\\site-packages (from tqdm->openai>=0.26.4->llama-index) (0.4.6)\n",
      "Installing collected packages: tenacity, mypy-extensions, multidict, marshmallow, greenlet, frozenlist, attrs, async-timeout, yarl, typing-inspect, tiktoken, SQLAlchemy, marshmallow-enum, aiosignal, dataclasses_json, aiohttp, openai, langchain, llama-index\n",
      "  Running setup.py install for llama-index: started\n",
      "  Running setup.py install for llama-index: finished with status 'done'\n",
      "Successfully installed SQLAlchemy-1.4.47 aiohttp-3.8.4 aiosignal-1.3.1 async-timeout-4.0.2 attrs-22.2.0 dataclasses_json-0.5.7 frozenlist-1.3.3 greenlet-2.0.2 langchain-0.0.129 llama-index-0.5.5 marshmallow-3.19.0 marshmallow-enum-1.5.1 multidict-6.0.4 mypy-extensions-1.0.0 openai-0.27.2 tenacity-8.2.2 tiktoken-0.3.3 typing-inspect-0.8.0 yarl-1.8.2\n"
     ]
    },
    {
     "name": "stderr",
     "output_type": "stream",
     "text": [
      "  DEPRECATION: llama-index is being installed using the legacy 'setup.py install' method, because it does not have a 'pyproject.toml' and the 'wheel' package is not installed. pip 23.1 will enforce this behaviour change. A possible replacement is to enable the '--use-pep517' option. Discussion can be found at https://github.com/pypa/pip/issues/8559\n",
      "\n",
      "[notice] A new release of pip available: 22.3.1 -> 23.0.1\n",
      "[notice] To update, run: python.exe -m pip install --upgrade pip\n"
     ]
    }
   ],
   "source": [
    "!pip install -U llama-index"
   ]
  },
  {
   "cell_type": "code",
   "execution_count": 6,
   "metadata": {},
   "outputs": [
    {
     "name": "stdout",
     "output_type": "stream",
     "text": [
      "Requirement already satisfied: langchain in c:\\users\\edison yi\\appdata\\local\\programs\\python\\python310\\lib\\site-packages (0.0.129)\n",
      "Requirement already satisfied: numpy<2,>=1 in c:\\users\\edison yi\\appdata\\local\\programs\\python\\python310\\lib\\site-packages (from langchain) (1.24.2)\n",
      "Requirement already satisfied: PyYAML>=5.4.1 in c:\\users\\edison yi\\appdata\\local\\programs\\python\\python310\\lib\\site-packages (from langchain) (6.0)\n",
      "Requirement already satisfied: tenacity<9.0.0,>=8.1.0 in c:\\users\\edison yi\\appdata\\local\\programs\\python\\python310\\lib\\site-packages (from langchain) (8.2.2)\n",
      "Requirement already satisfied: requests<3,>=2 in c:\\users\\edison yi\\appdata\\local\\programs\\python\\python310\\lib\\site-packages (from langchain) (2.28.2)\n",
      "Requirement already satisfied: pydantic<2,>=1 in c:\\users\\edison yi\\appdata\\local\\programs\\python\\python310\\lib\\site-packages (from langchain) (1.10.7)\n",
      "Requirement already satisfied: dataclasses-json<0.6.0,>=0.5.7 in c:\\users\\edison yi\\appdata\\local\\programs\\python\\python310\\lib\\site-packages (from langchain) (0.5.7)\n",
      "Requirement already satisfied: aiohttp<4.0.0,>=3.8.3 in c:\\users\\edison yi\\appdata\\local\\programs\\python\\python310\\lib\\site-packages (from langchain) (3.8.4)\n",
      "Requirement already satisfied: SQLAlchemy<2,>=1 in c:\\users\\edison yi\\appdata\\local\\programs\\python\\python310\\lib\\site-packages (from langchain) (1.4.47)\n",
      "Requirement already satisfied: multidict<7.0,>=4.5 in c:\\users\\edison yi\\appdata\\local\\programs\\python\\python310\\lib\\site-packages (from aiohttp<4.0.0,>=3.8.3->langchain) (6.0.4)\n",
      "Requirement already satisfied: attrs>=17.3.0 in c:\\users\\edison yi\\appdata\\local\\programs\\python\\python310\\lib\\site-packages (from aiohttp<4.0.0,>=3.8.3->langchain) (22.2.0)\n",
      "Requirement already satisfied: aiosignal>=1.1.2 in c:\\users\\edison yi\\appdata\\local\\programs\\python\\python310\\lib\\site-packages (from aiohttp<4.0.0,>=3.8.3->langchain) (1.3.1)\n",
      "Requirement already satisfied: frozenlist>=1.1.1 in c:\\users\\edison yi\\appdata\\local\\programs\\python\\python310\\lib\\site-packages (from aiohttp<4.0.0,>=3.8.3->langchain) (1.3.3)\n",
      "Requirement already satisfied: async-timeout<5.0,>=4.0.0a3 in c:\\users\\edison yi\\appdata\\local\\programs\\python\\python310\\lib\\site-packages (from aiohttp<4.0.0,>=3.8.3->langchain) (4.0.2)\n",
      "Requirement already satisfied: charset-normalizer<4.0,>=2.0 in c:\\users\\edison yi\\appdata\\local\\programs\\python\\python310\\lib\\site-packages (from aiohttp<4.0.0,>=3.8.3->langchain) (3.1.0)\n",
      "Requirement already satisfied: yarl<2.0,>=1.0 in c:\\users\\edison yi\\appdata\\local\\programs\\python\\python310\\lib\\site-packages (from aiohttp<4.0.0,>=3.8.3->langchain) (1.8.2)\n",
      "Requirement already satisfied: typing-inspect>=0.4.0 in c:\\users\\edison yi\\appdata\\local\\programs\\python\\python310\\lib\\site-packages (from dataclasses-json<0.6.0,>=0.5.7->langchain) (0.8.0)\n",
      "Requirement already satisfied: marshmallow-enum<2.0.0,>=1.5.1 in c:\\users\\edison yi\\appdata\\local\\programs\\python\\python310\\lib\\site-packages (from dataclasses-json<0.6.0,>=0.5.7->langchain) (1.5.1)\n",
      "Requirement already satisfied: marshmallow<4.0.0,>=3.3.0 in c:\\users\\edison yi\\appdata\\local\\programs\\python\\python310\\lib\\site-packages (from dataclasses-json<0.6.0,>=0.5.7->langchain) (3.19.0)\n",
      "Requirement already satisfied: typing-extensions>=4.2.0 in c:\\users\\edison yi\\appdata\\local\\programs\\python\\python310\\lib\\site-packages (from pydantic<2,>=1->langchain) (4.5.0)\n",
      "Requirement already satisfied: urllib3<1.27,>=1.21.1 in c:\\users\\edison yi\\appdata\\local\\programs\\python\\python310\\lib\\site-packages (from requests<3,>=2->langchain) (1.26.15)\n",
      "Requirement already satisfied: certifi>=2017.4.17 in c:\\users\\edison yi\\appdata\\local\\programs\\python\\python310\\lib\\site-packages (from requests<3,>=2->langchain) (2022.12.7)\n",
      "Requirement already satisfied: idna<4,>=2.5 in c:\\users\\edison yi\\appdata\\local\\programs\\python\\python310\\lib\\site-packages (from requests<3,>=2->langchain) (3.4)\n",
      "Requirement already satisfied: greenlet!=0.4.17 in c:\\users\\edison yi\\appdata\\local\\programs\\python\\python310\\lib\\site-packages (from SQLAlchemy<2,>=1->langchain) (2.0.2)\n",
      "Requirement already satisfied: packaging>=17.0 in c:\\users\\edison yi\\appdata\\local\\programs\\python\\python310\\lib\\site-packages (from marshmallow<4.0.0,>=3.3.0->dataclasses-json<0.6.0,>=0.5.7->langchain) (23.0)\n",
      "Requirement already satisfied: mypy-extensions>=0.3.0 in c:\\users\\edison yi\\appdata\\local\\programs\\python\\python310\\lib\\site-packages (from typing-inspect>=0.4.0->dataclasses-json<0.6.0,>=0.5.7->langchain) (1.0.0)\n"
     ]
    },
    {
     "name": "stderr",
     "output_type": "stream",
     "text": [
      "\n",
      "[notice] A new release of pip available: 22.3.1 -> 23.0.1\n",
      "[notice] To update, run: python.exe -m pip install --upgrade pip\n"
     ]
    }
   ],
   "source": [
    "!pip install -U langchain"
   ]
  },
  {
   "cell_type": "code",
   "execution_count": 9,
   "metadata": {},
   "outputs": [
    {
     "name": "stdout",
     "output_type": "stream",
     "text": [
      "Collecting PyPDF2\n",
      "  Using cached pypdf2-3.0.1-py3-none-any.whl (232 kB)\n",
      "Installing collected packages: PyPDF2\n",
      "Successfully installed PyPDF2-3.0.1\n"
     ]
    },
    {
     "name": "stderr",
     "output_type": "stream",
     "text": [
      "\n",
      "[notice] A new release of pip available: 22.3.1 -> 23.0.1\n",
      "[notice] To update, run: python.exe -m pip install --upgrade pip\n"
     ]
    }
   ],
   "source": [
    "!pip install PyPDF2"
   ]
  },
  {
   "cell_type": "code",
   "execution_count": 4,
   "metadata": {},
   "outputs": [
    {
     "name": "stdout",
     "output_type": "stream",
     "text": [
      "Collecting chromadb\n",
      "  Using cached chromadb-0.3.18-py3-none-any.whl (46 kB)\n",
      "Collecting hnswlib>=0.7\n",
      "  Using cached hnswlib-0.7.0.tar.gz (33 kB)\n",
      "  Installing build dependencies: started\n",
      "  Installing build dependencies: finished with status 'done'\n",
      "  Getting requirements to build wheel: started\n",
      "  Getting requirements to build wheel: finished with status 'done'\n",
      "  Preparing metadata (pyproject.toml): started\n",
      "  Preparing metadata (pyproject.toml): finished with status 'done'\n",
      "Collecting numpy>=1.21.6\n",
      "  Using cached numpy-1.24.2-cp39-cp39-win_amd64.whl (14.9 MB)\n",
      "Requirement already satisfied: pydantic>=1.9 in c:\\users\\edison yi\\anaconda3\\lib\\site-packages (from chromadb) (1.10.7)\n",
      "Collecting fastapi>=0.85.1\n",
      "  Using cached fastapi-0.95.0-py3-none-any.whl (57 kB)\n",
      "Collecting posthog>=2.4.0\n",
      "  Using cached posthog-2.4.2-py2.py3-none-any.whl (36 kB)\n",
      "Collecting duckdb>=0.7.1\n",
      "  Using cached duckdb-0.7.1-cp39-cp39-win_amd64.whl (9.5 MB)\n",
      "Collecting uvicorn[standard]>=0.18.3\n",
      "  Using cached uvicorn-0.21.1-py3-none-any.whl (57 kB)\n",
      "Collecting sentence-transformers>=2.2.2\n",
      "  Using cached sentence_transformers-2.2.2-py3-none-any.whl\n",
      "Collecting clickhouse-connect>=0.5.7\n",
      "  Using cached clickhouse_connect-0.5.18-cp39-cp39-win_amd64.whl (222 kB)\n",
      "Requirement already satisfied: pandas>=1.3 in c:\\users\\edison yi\\anaconda3\\lib\\site-packages (from chromadb) (1.4.4)\n",
      "Requirement already satisfied: requests>=2.28 in c:\\users\\edison yi\\anaconda3\\lib\\site-packages (from chromadb) (2.28.1)\n",
      "Requirement already satisfied: lz4 in c:\\users\\edison yi\\anaconda3\\lib\\site-packages (from clickhouse-connect>=0.5.7->chromadb) (3.1.3)\n",
      "Requirement already satisfied: urllib3>=1.26 in c:\\users\\edison yi\\anaconda3\\lib\\site-packages (from clickhouse-connect>=0.5.7->chromadb) (1.26.11)\n",
      "Requirement already satisfied: certifi in c:\\users\\edison yi\\anaconda3\\lib\\site-packages (from clickhouse-connect>=0.5.7->chromadb) (2022.12.7)\n",
      "Collecting zstandard\n",
      "  Using cached zstandard-0.20.0-cp39-cp39-win_amd64.whl (644 kB)\n",
      "Requirement already satisfied: pytz in c:\\users\\edison yi\\anaconda3\\lib\\site-packages (from clickhouse-connect>=0.5.7->chromadb) (2022.1)\n",
      "Collecting starlette<0.27.0,>=0.26.1\n",
      "  Using cached starlette-0.26.1-py3-none-any.whl (66 kB)\n",
      "Requirement already satisfied: python-dateutil>=2.8.1 in c:\\users\\edison yi\\anaconda3\\lib\\site-packages (from pandas>=1.3->chromadb) (2.8.2)\n",
      "Requirement already satisfied: monotonic>=1.5 in c:\\users\\edison yi\\anaconda3\\lib\\site-packages (from posthog>=2.4.0->chromadb) (1.6)\n",
      "Requirement already satisfied: six>=1.5 in c:\\users\\edison yi\\anaconda3\\lib\\site-packages (from posthog>=2.4.0->chromadb) (1.16.0)\n",
      "Requirement already satisfied: backoff>=1.10.0 in c:\\users\\edison yi\\anaconda3\\lib\\site-packages (from posthog>=2.4.0->chromadb) (2.2.1)\n",
      "Requirement already satisfied: typing-extensions>=4.2.0 in c:\\users\\edison yi\\anaconda3\\lib\\site-packages (from pydantic>=1.9->chromadb) (4.3.0)\n",
      "Requirement already satisfied: idna<4,>=2.5 in c:\\users\\edison yi\\anaconda3\\lib\\site-packages (from requests>=2.28->chromadb) (3.3)\n",
      "Requirement already satisfied: charset-normalizer<3,>=2 in c:\\users\\edison yi\\anaconda3\\lib\\site-packages (from requests>=2.28->chromadb) (2.0.4)\n",
      "Requirement already satisfied: nltk in c:\\users\\edison yi\\anaconda3\\lib\\site-packages (from sentence-transformers>=2.2.2->chromadb) (3.7)\n",
      "Collecting torchvision\n",
      "  Using cached torchvision-0.15.1-cp39-cp39-win_amd64.whl (1.2 MB)\n",
      "Requirement already satisfied: tqdm in c:\\users\\edison yi\\anaconda3\\lib\\site-packages (from sentence-transformers>=2.2.2->chromadb) (4.64.1)\n",
      "Requirement already satisfied: scipy in c:\\users\\edison yi\\anaconda3\\lib\\site-packages (from sentence-transformers>=2.2.2->chromadb) (1.9.1)\n",
      "Requirement already satisfied: transformers<5.0.0,>=4.6.0 in c:\\users\\edison yi\\anaconda3\\lib\\site-packages (from sentence-transformers>=2.2.2->chromadb) (4.27.4)\n",
      "Requirement already satisfied: torch>=1.6.0 in c:\\users\\edison yi\\anaconda3\\lib\\site-packages (from sentence-transformers>=2.2.2->chromadb) (1.13.1)\n",
      "Requirement already satisfied: scikit-learn in c:\\users\\edison yi\\anaconda3\\lib\\site-packages (from sentence-transformers>=2.2.2->chromadb) (1.0.2)\n",
      "Collecting sentencepiece\n",
      "  Using cached sentencepiece-0.1.97-cp39-cp39-win_amd64.whl (1.1 MB)\n",
      "Requirement already satisfied: huggingface-hub>=0.4.0 in c:\\users\\edison yi\\anaconda3\\lib\\site-packages (from sentence-transformers>=2.2.2->chromadb) (0.13.3)\n",
      "Requirement already satisfied: h11>=0.8 in c:\\users\\edison yi\\anaconda3\\lib\\site-packages (from uvicorn[standard]>=0.18.3->chromadb) (0.14.0)\n",
      "Requirement already satisfied: click>=7.0 in c:\\users\\edison yi\\anaconda3\\lib\\site-packages (from uvicorn[standard]>=0.18.3->chromadb) (8.0.4)\n",
      "Collecting httptools>=0.5.0\n",
      "  Using cached httptools-0.5.0-cp39-cp39-win_amd64.whl (145 kB)\n",
      "Requirement already satisfied: colorama>=0.4 in c:\\users\\edison yi\\anaconda3\\lib\\site-packages (from uvicorn[standard]>=0.18.3->chromadb) (0.4.5)\n",
      "Collecting python-dotenv>=0.13\n",
      "  Using cached python_dotenv-1.0.0-py3-none-any.whl (19 kB)\n",
      "Collecting watchfiles>=0.13\n",
      "  Using cached watchfiles-0.19.0-cp37-abi3-win_amd64.whl (270 kB)\n",
      "Requirement already satisfied: pyyaml>=5.1 in c:\\users\\edison yi\\anaconda3\\lib\\site-packages (from uvicorn[standard]>=0.18.3->chromadb) (6.0)\n",
      "Requirement already satisfied: websockets>=10.4 in c:\\users\\edison yi\\anaconda3\\lib\\site-packages (from uvicorn[standard]>=0.18.3->chromadb) (10.4)\n",
      "Requirement already satisfied: filelock in c:\\users\\edison yi\\anaconda3\\lib\\site-packages (from huggingface-hub>=0.4.0->sentence-transformers>=2.2.2->chromadb) (3.6.0)\n",
      "Requirement already satisfied: packaging>=20.9 in c:\\users\\edison yi\\anaconda3\\lib\\site-packages (from huggingface-hub>=0.4.0->sentence-transformers>=2.2.2->chromadb) (21.3)\n",
      "Requirement already satisfied: anyio<5,>=3.4.0 in c:\\users\\edison yi\\anaconda3\\lib\\site-packages (from starlette<0.27.0,>=0.26.1->fastapi>=0.85.1->chromadb) (3.5.0)\n",
      "Requirement already satisfied: regex!=2019.12.17 in c:\\users\\edison yi\\anaconda3\\lib\\site-packages (from transformers<5.0.0,>=4.6.0->sentence-transformers>=2.2.2->chromadb) (2022.7.9)\n",
      "Requirement already satisfied: tokenizers!=0.11.3,<0.14,>=0.11.1 in c:\\users\\edison yi\\anaconda3\\lib\\site-packages (from transformers<5.0.0,>=4.6.0->sentence-transformers>=2.2.2->chromadb) (0.13.2)\n",
      "Requirement already satisfied: joblib in c:\\users\\edison yi\\anaconda3\\lib\\site-packages (from nltk->sentence-transformers>=2.2.2->chromadb) (1.1.0)\n",
      "Requirement already satisfied: threadpoolctl>=2.0.0 in c:\\users\\edison yi\\anaconda3\\lib\\site-packages (from scikit-learn->sentence-transformers>=2.2.2->chromadb) (2.2.0)\n",
      "Collecting torch>=1.6.0\n",
      "  Using cached torch-2.0.0-cp39-cp39-win_amd64.whl (172.3 MB)\n",
      "Requirement already satisfied: pillow!=8.3.*,>=5.3.0 in c:\\users\\edison yi\\anaconda3\\lib\\site-packages (from torchvision->sentence-transformers>=2.2.2->chromadb) (9.2.0)\n",
      "Requirement already satisfied: networkx in c:\\users\\edison yi\\anaconda3\\lib\\site-packages (from torch>=1.6.0->sentence-transformers>=2.2.2->chromadb) (2.8.4)\n",
      "Requirement already satisfied: sympy in c:\\users\\edison yi\\anaconda3\\lib\\site-packages (from torch>=1.6.0->sentence-transformers>=2.2.2->chromadb) (1.10.1)\n",
      "Requirement already satisfied: jinja2 in c:\\users\\edison yi\\anaconda3\\lib\\site-packages (from torch>=1.6.0->sentence-transformers>=2.2.2->chromadb) (2.11.3)\n",
      "Requirement already satisfied: sniffio>=1.1 in c:\\users\\edison yi\\anaconda3\\lib\\site-packages (from anyio<5,>=3.4.0->starlette<0.27.0,>=0.26.1->fastapi>=0.85.1->chromadb) (1.2.0)\n",
      "Requirement already satisfied: pyparsing!=3.0.5,>=2.0.2 in c:\\users\\edison yi\\anaconda3\\lib\\site-packages (from packaging>=20.9->huggingface-hub>=0.4.0->sentence-transformers>=2.2.2->chromadb) (3.0.9)\n",
      "Requirement already satisfied: MarkupSafe>=0.23 in c:\\users\\edison yi\\anaconda3\\lib\\site-packages (from jinja2->torch>=1.6.0->sentence-transformers>=2.2.2->chromadb) (2.0.1)\n",
      "Requirement already satisfied: mpmath>=0.19 in c:\\users\\edison yi\\anaconda3\\lib\\site-packages (from sympy->torch>=1.6.0->sentence-transformers>=2.2.2->chromadb) (1.2.1)\n",
      "Building wheels for collected packages: hnswlib\n",
      "  Building wheel for hnswlib (pyproject.toml): started\n",
      "  Building wheel for hnswlib (pyproject.toml): finished with status 'done'\n",
      "  Created wheel for hnswlib: filename=hnswlib-0.7.0-cp39-cp39-win_amd64.whl size=140905 sha256=8cdadf7d1078f55237a073cc2814da1dbda0cfbdc90309d9788a490b00cd3678\n",
      "  Stored in directory: c:\\users\\edison yi\\appdata\\local\\pip\\cache\\wheels\\ba\\26\\61\\fface6c407f56418b3140cd7645917f20ba6b27d4e32b2bd20\n",
      "Successfully built hnswlib\n",
      "Installing collected packages: sentencepiece, duckdb, zstandard, python-dotenv, numpy, httptools, watchfiles, uvicorn, torch, starlette, posthog, hnswlib, clickhouse-connect, torchvision, fastapi, sentence-transformers, chromadb\n",
      "  Attempting uninstall: numpy\n",
      "    Found existing installation: numpy 1.21.5\n",
      "    Uninstalling numpy-1.21.5:\n",
      "      Successfully uninstalled numpy-1.21.5\n",
      "  Attempting uninstall: torch\n",
      "    Found existing installation: torch 1.13.1\n",
      "    Uninstalling torch-1.13.1:\n",
      "      Successfully uninstalled torch-1.13.1\n",
      "Successfully installed chromadb-0.3.18 clickhouse-connect-0.5.18 duckdb-0.7.1 fastapi-0.95.0 hnswlib-0.7.0 httptools-0.5.0 numpy-1.24.2 posthog-2.4.2 python-dotenv-1.0.0 sentence-transformers-2.2.2 sentencepiece-0.1.97 starlette-0.26.1 torch-2.0.0 torchvision-0.15.1 uvicorn-0.21.1 watchfiles-0.19.0 zstandard-0.20.0\n",
      "Note: you may need to restart the kernel to use updated packages.\n"
     ]
    },
    {
     "name": "stderr",
     "output_type": "stream",
     "text": [
      "ERROR: pip's dependency resolver does not currently take into account all the packages that are installed. This behaviour is the source of the following dependency conflicts.\n",
      "daal4py 2021.6.0 requires daal==2021.4.0, which is not installed.\n",
      "numba 0.55.1 requires numpy<1.22,>=1.18, but you have numpy 1.24.2 which is incompatible.\n",
      "argilla 1.5.1 requires numpy<1.24.0, but you have numpy 1.24.2 which is incompatible.\n"
     ]
    }
   ],
   "source": [
    "pip install chromadb"
   ]
  },
  {
   "cell_type": "code",
   "execution_count": 2,
   "metadata": {},
   "outputs": [],
   "source": [
    "import os"
   ]
  },
  {
   "cell_type": "code",
   "execution_count": 3,
   "metadata": {},
   "outputs": [
    {
     "name": "stderr",
     "output_type": "stream",
     "text": [
      "c:\\Users\\Edison Yi\\AppData\\Local\\Programs\\Python\\Python310\\lib\\site-packages\\tqdm\\auto.py:21: TqdmWarning: IProgress not found. Please update jupyter and ipywidgets. See https://ipywidgets.readthedocs.io/en/stable/user_install.html\n",
      "  from .autonotebook import tqdm as notebook_tqdm\n"
     ]
    }
   ],
   "source": [
    "# import logging\n",
    "# import sys\n",
    "\n",
    "# logging.basicConfig(stream=sys.stdout, level=logging.INFO)\n",
    "# logging.getLogger().addHandler(logging.StreamHandler(stream=sys.stdout))\n",
    "\n",
    "from llama_index import GPTSimpleVectorIndex, SimpleDirectoryReader, LLMPredictor, ServiceContext, GPTTreeIndex, GPTChromaIndex\n",
    "from langchain.chat_models import ChatOpenAI\n",
    "from langchain.llms import OpenAI\n",
    "from llama_index.indices.query.query_transform import DecomposeQueryTransform\n",
    "from llama_index.prompts.chat_prompts import CHAT_REFINE_PROMPT\n",
    "from IPython.display import Markdown, display\n",
    "import warnings\n",
    "import chromadb\n",
    "warnings.filterwarnings(\"ignore\")"
   ]
  },
  {
   "cell_type": "code",
   "execution_count": 4,
   "metadata": {},
   "outputs": [],
   "source": [
    "def get_file_name(filename):\n",
    "    filename_dict = {'filename':filename.split('\\\\')[-1]}\n",
    "    return filename_dict"
   ]
  },
  {
   "cell_type": "code",
   "execution_count": 38,
   "metadata": {},
   "outputs": [
    {
     "name": "stdout",
     "output_type": "stream",
     "text": [
      "C:/Users/Edison%20Yi/Documents/papers/For_Imposter_Concept_Paper\n"
     ]
    }
   ],
   "source": [
    "path = r'C:\\Users\\Edison Yi\\Documents\\papers\\For_Imposter_Concept_Paper'\n",
    "path = path.replace('\\\\', '/').replace(' ', '%20')\n",
    "print(path)"
   ]
  },
  {
   "cell_type": "code",
   "execution_count": 39,
   "metadata": {},
   "outputs": [
    {
     "ename": "KeyboardInterrupt",
     "evalue": "",
     "output_type": "error",
     "traceback": [
      "\u001b[1;31m---------------------------------------------------------------------------\u001b[0m",
      "\u001b[1;31mKeyboardInterrupt\u001b[0m                         Traceback (most recent call last)",
      "Cell \u001b[1;32mIn[39], line 6\u001b[0m\n\u001b[0;32m      4\u001b[0m llm_predictor \u001b[39m=\u001b[39m LLMPredictor(llm\u001b[39m=\u001b[39mOpenAI(temperature\u001b[39m=\u001b[39m\u001b[39m0.7\u001b[39m, model_name\u001b[39m=\u001b[39m\u001b[39m\"\u001b[39m\u001b[39mgpt-3.5-turbo\u001b[39m\u001b[39m\"\u001b[39m, max_tokens \u001b[39m=\u001b[39m \u001b[39m600\u001b[39m)) \n\u001b[0;32m      5\u001b[0m service_context \u001b[39m=\u001b[39m ServiceContext\u001b[39m.\u001b[39mfrom_defaults(llm_predictor\u001b[39m=\u001b[39mllm_predictor, chunk_size_limit \u001b[39m=\u001b[39m \u001b[39m1500\u001b[39m) \u001b[39m#, chunk_size_limit = 600\u001b[39;00m\n\u001b[1;32m----> 6\u001b[0m index \u001b[39m=\u001b[39m GPTSimpleVectorIndex\u001b[39m.\u001b[39;49mfrom_documents(documents, service_context \u001b[39m=\u001b[39;49m service_context)\n",
      "File \u001b[1;32mc:\\Users\\Edison Yi\\AppData\\Local\\Programs\\Python\\Python310\\lib\\site-packages\\llama_index\\indices\\base.py:100\u001b[0m, in \u001b[0;36mBaseGPTIndex.from_documents\u001b[1;34m(cls, documents, docstore, service_context, **kwargs)\u001b[0m\n\u001b[0;32m     96\u001b[0m     docstore\u001b[39m.\u001b[39mset_document_hash(doc\u001b[39m.\u001b[39mget_doc_id(), doc\u001b[39m.\u001b[39mget_doc_hash())\n\u001b[0;32m     98\u001b[0m nodes \u001b[39m=\u001b[39m service_context\u001b[39m.\u001b[39mnode_parser\u001b[39m.\u001b[39mget_nodes_from_documents(documents)\n\u001b[1;32m--> 100\u001b[0m \u001b[39mreturn\u001b[39;00m \u001b[39mcls\u001b[39m(\n\u001b[0;32m    101\u001b[0m     nodes\u001b[39m=\u001b[39mnodes,\n\u001b[0;32m    102\u001b[0m     docstore\u001b[39m=\u001b[39mdocstore,\n\u001b[0;32m    103\u001b[0m     service_context\u001b[39m=\u001b[39mservice_context,\n\u001b[0;32m    104\u001b[0m     \u001b[39m*\u001b[39m\u001b[39m*\u001b[39mkwargs,\n\u001b[0;32m    105\u001b[0m )\n",
      "File \u001b[1;32mc:\\Users\\Edison Yi\\AppData\\Local\\Programs\\Python\\Python310\\lib\\site-packages\\llama_index\\indices\\vector_store\\vector_indices.py:94\u001b[0m, in \u001b[0;36mGPTSimpleVectorIndex.__init__\u001b[1;34m(self, nodes, index_struct, service_context, text_qa_template, simple_vector_store_data_dict, **kwargs)\u001b[0m\n\u001b[0;32m     86\u001b[0m     simple_vector_store_data_dict \u001b[39m=\u001b[39m {\n\u001b[0;32m     87\u001b[0m         \u001b[39m\"\u001b[39m\u001b[39membedding_dict\u001b[39m\u001b[39m\"\u001b[39m: index_struct\u001b[39m.\u001b[39membeddings_dict,\n\u001b[0;32m     88\u001b[0m     }\n\u001b[0;32m     90\u001b[0m vector_store \u001b[39m=\u001b[39m SimpleVectorStore(\n\u001b[0;32m     91\u001b[0m     simple_vector_store_data_dict\u001b[39m=\u001b[39msimple_vector_store_data_dict\n\u001b[0;32m     92\u001b[0m )\n\u001b[1;32m---> 94\u001b[0m \u001b[39msuper\u001b[39m()\u001b[39m.\u001b[39m\u001b[39m__init__\u001b[39m(\n\u001b[0;32m     95\u001b[0m     nodes\u001b[39m=\u001b[39mnodes,\n\u001b[0;32m     96\u001b[0m     index_struct\u001b[39m=\u001b[39mindex_struct,\n\u001b[0;32m     97\u001b[0m     service_context\u001b[39m=\u001b[39mservice_context,\n\u001b[0;32m     98\u001b[0m     text_qa_template\u001b[39m=\u001b[39mtext_qa_template,\n\u001b[0;32m     99\u001b[0m     vector_store\u001b[39m=\u001b[39mvector_store,\n\u001b[0;32m    100\u001b[0m     \u001b[39m*\u001b[39m\u001b[39m*\u001b[39mkwargs,\n\u001b[0;32m    101\u001b[0m )\n\u001b[0;32m    103\u001b[0m \u001b[39m# TODO: Temporary hack to also store embeddings in index_struct\u001b[39;00m\n\u001b[0;32m    104\u001b[0m embedding_dict \u001b[39m=\u001b[39m vector_store\u001b[39m.\u001b[39m_data\u001b[39m.\u001b[39membedding_dict\n",
      "File \u001b[1;32mc:\\Users\\Edison Yi\\AppData\\Local\\Programs\\Python\\Python310\\lib\\site-packages\\llama_index\\indices\\vector_store\\base.py:58\u001b[0m, in \u001b[0;36mGPTVectorStoreIndex.__init__\u001b[1;34m(self, nodes, index_struct, service_context, text_qa_template, vector_store, use_async, **kwargs)\u001b[0m\n\u001b[0;32m     56\u001b[0m \u001b[39mself\u001b[39m\u001b[39m.\u001b[39mtext_qa_template \u001b[39m=\u001b[39m text_qa_template \u001b[39mor\u001b[39;00m DEFAULT_TEXT_QA_PROMPT\n\u001b[0;32m     57\u001b[0m \u001b[39mself\u001b[39m\u001b[39m.\u001b[39m_use_async \u001b[39m=\u001b[39m use_async\n\u001b[1;32m---> 58\u001b[0m \u001b[39msuper\u001b[39m()\u001b[39m.\u001b[39m\u001b[39m__init__\u001b[39m(\n\u001b[0;32m     59\u001b[0m     nodes\u001b[39m=\u001b[39mnodes,\n\u001b[0;32m     60\u001b[0m     index_struct\u001b[39m=\u001b[39mindex_struct,\n\u001b[0;32m     61\u001b[0m     service_context\u001b[39m=\u001b[39mservice_context,\n\u001b[0;32m     62\u001b[0m     \u001b[39m*\u001b[39m\u001b[39m*\u001b[39mkwargs,\n\u001b[0;32m     63\u001b[0m )\n",
      "File \u001b[1;32mc:\\Users\\Edison Yi\\AppData\\Local\\Programs\\Python\\Python310\\lib\\site-packages\\llama_index\\indices\\base.py:69\u001b[0m, in \u001b[0;36mBaseGPTIndex.__init__\u001b[1;34m(self, nodes, index_struct, docstore, service_context)\u001b[0m\n\u001b[0;32m     67\u001b[0m \u001b[39mif\u001b[39;00m index_struct \u001b[39mis\u001b[39;00m \u001b[39mNone\u001b[39;00m:\n\u001b[0;32m     68\u001b[0m     \u001b[39massert\u001b[39;00m nodes \u001b[39mis\u001b[39;00m \u001b[39mnot\u001b[39;00m \u001b[39mNone\u001b[39;00m\n\u001b[1;32m---> 69\u001b[0m     index_struct \u001b[39m=\u001b[39m \u001b[39mself\u001b[39;49m\u001b[39m.\u001b[39;49mbuild_index_from_nodes(nodes)\n\u001b[0;32m     70\u001b[0m     \u001b[39m# if not isinstance(index_struct, self.index_struct_cls):\u001b[39;00m\n\u001b[0;32m     71\u001b[0m     \u001b[39m#     raise ValueError(\u001b[39;00m\n\u001b[0;32m     72\u001b[0m     \u001b[39m#         f\"index_struct must be of type {self.index_struct_cls} \"\u001b[39;00m\n\u001b[0;32m     73\u001b[0m     \u001b[39m#         f\"but got {type(index_struct)}\"\u001b[39;00m\n\u001b[0;32m     74\u001b[0m     \u001b[39m#     )\u001b[39;00m\n\u001b[0;32m     75\u001b[0m \u001b[39mself\u001b[39m\u001b[39m.\u001b[39m_index_struct \u001b[39m=\u001b[39m index_struct\n",
      "File \u001b[1;32mc:\\Users\\Edison Yi\\AppData\\Local\\Programs\\Python\\Python310\\lib\\site-packages\\llama_index\\token_counter\\token_counter.py:78\u001b[0m, in \u001b[0;36mllm_token_counter.<locals>.wrap.<locals>.wrapped_llm_predict\u001b[1;34m(_self, *args, **kwargs)\u001b[0m\n\u001b[0;32m     76\u001b[0m \u001b[39mdef\u001b[39;00m \u001b[39mwrapped_llm_predict\u001b[39m(_self: Any, \u001b[39m*\u001b[39margs: Any, \u001b[39m*\u001b[39m\u001b[39m*\u001b[39mkwargs: Any) \u001b[39m-\u001b[39m\u001b[39m>\u001b[39m Any:\n\u001b[0;32m     77\u001b[0m     \u001b[39mwith\u001b[39;00m wrapper_logic(_self):\n\u001b[1;32m---> 78\u001b[0m         f_return_val \u001b[39m=\u001b[39m f(_self, \u001b[39m*\u001b[39margs, \u001b[39m*\u001b[39m\u001b[39m*\u001b[39mkwargs)\n\u001b[0;32m     80\u001b[0m     \u001b[39mreturn\u001b[39;00m f_return_val\n",
      "File \u001b[1;32mc:\\Users\\Edison Yi\\AppData\\Local\\Programs\\Python\\Python310\\lib\\site-packages\\llama_index\\indices\\vector_store\\base.py:214\u001b[0m, in \u001b[0;36mGPTVectorStoreIndex.build_index_from_nodes\u001b[1;34m(self, nodes)\u001b[0m\n\u001b[0;32m    206\u001b[0m \u001b[39m@llm_token_counter\u001b[39m(\u001b[39m\"\u001b[39m\u001b[39mbuild_index_from_nodes\u001b[39m\u001b[39m\"\u001b[39m)\n\u001b[0;32m    207\u001b[0m \u001b[39mdef\u001b[39;00m \u001b[39mbuild_index_from_nodes\u001b[39m(\u001b[39mself\u001b[39m, nodes: Sequence[Node]) \u001b[39m-\u001b[39m\u001b[39m>\u001b[39m IndexDict:\n\u001b[0;32m    208\u001b[0m \u001b[39m    \u001b[39m\u001b[39m\"\"\"Build the index from nodes.\u001b[39;00m\n\u001b[0;32m    209\u001b[0m \n\u001b[0;32m    210\u001b[0m \u001b[39m    NOTE: Overrides BaseGPTIndex.build_index_from_nodes.\u001b[39;00m\n\u001b[0;32m    211\u001b[0m \u001b[39m        GPTVectorStoreIndex only stores nodes in document store\u001b[39;00m\n\u001b[0;32m    212\u001b[0m \u001b[39m        if vector store does not store text\u001b[39;00m\n\u001b[0;32m    213\u001b[0m \u001b[39m    \"\"\"\u001b[39;00m\n\u001b[1;32m--> 214\u001b[0m     \u001b[39mreturn\u001b[39;00m \u001b[39mself\u001b[39;49m\u001b[39m.\u001b[39;49m_build_index_from_nodes(nodes)\n",
      "File \u001b[1;32mc:\\Users\\Edison Yi\\AppData\\Local\\Programs\\Python\\Python310\\lib\\site-packages\\llama_index\\indices\\vector_store\\base.py:203\u001b[0m, in \u001b[0;36mGPTVectorStoreIndex._build_index_from_nodes\u001b[1;34m(self, nodes)\u001b[0m\n\u001b[0;32m    201\u001b[0m     run_async_tasks(tasks)\n\u001b[0;32m    202\u001b[0m \u001b[39melse\u001b[39;00m:\n\u001b[1;32m--> 203\u001b[0m     \u001b[39mself\u001b[39;49m\u001b[39m.\u001b[39;49m_add_nodes_to_index(index_struct, nodes)\n\u001b[0;32m    204\u001b[0m \u001b[39mreturn\u001b[39;00m index_struct\n",
      "File \u001b[1;32mc:\\Users\\Edison Yi\\AppData\\Local\\Programs\\Python\\Python310\\lib\\site-packages\\llama_index\\indices\\vector_store\\base.py:182\u001b[0m, in \u001b[0;36mGPTVectorStoreIndex._add_nodes_to_index\u001b[1;34m(self, index_struct, nodes)\u001b[0m\n\u001b[0;32m    176\u001b[0m \u001b[39mdef\u001b[39;00m \u001b[39m_add_nodes_to_index\u001b[39m(\n\u001b[0;32m    177\u001b[0m     \u001b[39mself\u001b[39m,\n\u001b[0;32m    178\u001b[0m     index_struct: IndexDict,\n\u001b[0;32m    179\u001b[0m     nodes: Sequence[Node],\n\u001b[0;32m    180\u001b[0m ) \u001b[39m-\u001b[39m\u001b[39m>\u001b[39m \u001b[39mNone\u001b[39;00m:\n\u001b[0;32m    181\u001b[0m \u001b[39m    \u001b[39m\u001b[39m\"\"\"Add document to index.\"\"\"\u001b[39;00m\n\u001b[1;32m--> 182\u001b[0m     embedding_results \u001b[39m=\u001b[39m \u001b[39mself\u001b[39;49m\u001b[39m.\u001b[39;49m_get_node_embedding_results(\n\u001b[0;32m    183\u001b[0m         nodes,\n\u001b[0;32m    184\u001b[0m         \u001b[39mset\u001b[39;49m(),\n\u001b[0;32m    185\u001b[0m     )\n\u001b[0;32m    187\u001b[0m     new_ids \u001b[39m=\u001b[39m \u001b[39mself\u001b[39m\u001b[39m.\u001b[39m_vector_store\u001b[39m.\u001b[39madd(embedding_results)\n\u001b[0;32m    189\u001b[0m     \u001b[39m# if the vector store doesn't store text, we need to add the nodes to the\u001b[39;00m\n\u001b[0;32m    190\u001b[0m     \u001b[39m# index struct and document store\u001b[39;00m\n",
      "File \u001b[1;32mc:\\Users\\Edison Yi\\AppData\\Local\\Programs\\Python\\Python310\\lib\\site-packages\\llama_index\\indices\\vector_store\\base.py:100\u001b[0m, in \u001b[0;36mGPTVectorStoreIndex._get_node_embedding_results\u001b[1;34m(self, nodes, existing_node_ids)\u001b[0m\n\u001b[0;32m     94\u001b[0m     id_to_node_map[new_id] \u001b[39m=\u001b[39m n\n\u001b[0;32m     96\u001b[0m \u001b[39m# call embedding model to get embeddings\u001b[39;00m\n\u001b[0;32m     97\u001b[0m (\n\u001b[0;32m     98\u001b[0m     result_ids,\n\u001b[0;32m     99\u001b[0m     result_embeddings,\n\u001b[1;32m--> 100\u001b[0m ) \u001b[39m=\u001b[39m \u001b[39mself\u001b[39;49m\u001b[39m.\u001b[39;49m_service_context\u001b[39m.\u001b[39;49membed_model\u001b[39m.\u001b[39;49mget_queued_text_embeddings()\n\u001b[0;32m    101\u001b[0m \u001b[39mfor\u001b[39;00m new_id, text_embedding \u001b[39min\u001b[39;00m \u001b[39mzip\u001b[39m(result_ids, result_embeddings):\n\u001b[0;32m    102\u001b[0m     id_to_embed_map[new_id] \u001b[39m=\u001b[39m text_embedding\n",
      "File \u001b[1;32mc:\\Users\\Edison Yi\\AppData\\Local\\Programs\\Python\\Python310\\lib\\site-packages\\llama_index\\embeddings\\base.py:151\u001b[0m, in \u001b[0;36mBaseEmbedding.get_queued_text_embeddings\u001b[1;34m(self)\u001b[0m\n\u001b[0;32m    149\u001b[0m cur_batch_ids \u001b[39m=\u001b[39m [text_id \u001b[39mfor\u001b[39;00m text_id, _ \u001b[39min\u001b[39;00m cur_batch]\n\u001b[0;32m    150\u001b[0m cur_batch_texts \u001b[39m=\u001b[39m [text \u001b[39mfor\u001b[39;00m _, text \u001b[39min\u001b[39;00m cur_batch]\n\u001b[1;32m--> 151\u001b[0m embeddings \u001b[39m=\u001b[39m \u001b[39mself\u001b[39;49m\u001b[39m.\u001b[39;49m_get_text_embeddings(cur_batch_texts)\n\u001b[0;32m    152\u001b[0m result_ids\u001b[39m.\u001b[39mextend(cur_batch_ids)\n\u001b[0;32m    153\u001b[0m result_embeddings\u001b[39m.\u001b[39mextend(embeddings)\n",
      "File \u001b[1;32mc:\\Users\\Edison Yi\\AppData\\Local\\Programs\\Python\\Python310\\lib\\site-packages\\llama_index\\embeddings\\openai.py:261\u001b[0m, in \u001b[0;36mOpenAIEmbedding._get_text_embeddings\u001b[1;34m(self, texts)\u001b[0m\n\u001b[0;32m    259\u001b[0m         \u001b[39mraise\u001b[39;00m \u001b[39mValueError\u001b[39;00m(\u001b[39mf\u001b[39m\u001b[39m\"\u001b[39m\u001b[39mInvalid mode, model combination: \u001b[39m\u001b[39m{\u001b[39;00mkey\u001b[39m}\u001b[39;00m\u001b[39m\"\u001b[39m)\n\u001b[0;32m    260\u001b[0m     engine \u001b[39m=\u001b[39m _TEXT_MODE_MODEL_DICT[key]\n\u001b[1;32m--> 261\u001b[0m embeddings \u001b[39m=\u001b[39m get_embeddings(texts, engine\u001b[39m=\u001b[39;49mengine)\n\u001b[0;32m    262\u001b[0m \u001b[39mreturn\u001b[39;00m embeddings\n",
      "File \u001b[1;32mc:\\Users\\Edison Yi\\AppData\\Local\\Programs\\Python\\Python310\\lib\\site-packages\\tenacity\\__init__.py:289\u001b[0m, in \u001b[0;36mBaseRetrying.wraps.<locals>.wrapped_f\u001b[1;34m(*args, **kw)\u001b[0m\n\u001b[0;32m    287\u001b[0m \u001b[39m@functools\u001b[39m\u001b[39m.\u001b[39mwraps(f)\n\u001b[0;32m    288\u001b[0m \u001b[39mdef\u001b[39;00m \u001b[39mwrapped_f\u001b[39m(\u001b[39m*\u001b[39margs: t\u001b[39m.\u001b[39mAny, \u001b[39m*\u001b[39m\u001b[39m*\u001b[39mkw: t\u001b[39m.\u001b[39mAny) \u001b[39m-\u001b[39m\u001b[39m>\u001b[39m t\u001b[39m.\u001b[39mAny:\n\u001b[1;32m--> 289\u001b[0m     \u001b[39mreturn\u001b[39;00m \u001b[39mself\u001b[39m(f, \u001b[39m*\u001b[39margs, \u001b[39m*\u001b[39m\u001b[39m*\u001b[39mkw)\n",
      "File \u001b[1;32mc:\\Users\\Edison Yi\\AppData\\Local\\Programs\\Python\\Python310\\lib\\site-packages\\tenacity\\__init__.py:379\u001b[0m, in \u001b[0;36mRetrying.__call__\u001b[1;34m(self, fn, *args, **kwargs)\u001b[0m\n\u001b[0;32m    377\u001b[0m retry_state \u001b[39m=\u001b[39m RetryCallState(retry_object\u001b[39m=\u001b[39m\u001b[39mself\u001b[39m, fn\u001b[39m=\u001b[39mfn, args\u001b[39m=\u001b[39margs, kwargs\u001b[39m=\u001b[39mkwargs)\n\u001b[0;32m    378\u001b[0m \u001b[39mwhile\u001b[39;00m \u001b[39mTrue\u001b[39;00m:\n\u001b[1;32m--> 379\u001b[0m     do \u001b[39m=\u001b[39m \u001b[39mself\u001b[39;49m\u001b[39m.\u001b[39;49miter(retry_state\u001b[39m=\u001b[39;49mretry_state)\n\u001b[0;32m    380\u001b[0m     \u001b[39mif\u001b[39;00m \u001b[39misinstance\u001b[39m(do, DoAttempt):\n\u001b[0;32m    381\u001b[0m         \u001b[39mtry\u001b[39;00m:\n",
      "File \u001b[1;32mc:\\Users\\Edison Yi\\AppData\\Local\\Programs\\Python\\Python310\\lib\\site-packages\\tenacity\\__init__.py:314\u001b[0m, in \u001b[0;36mBaseRetrying.iter\u001b[1;34m(self, retry_state)\u001b[0m\n\u001b[0;32m    312\u001b[0m is_explicit_retry \u001b[39m=\u001b[39m fut\u001b[39m.\u001b[39mfailed \u001b[39mand\u001b[39;00m \u001b[39misinstance\u001b[39m(fut\u001b[39m.\u001b[39mexception(), TryAgain)\n\u001b[0;32m    313\u001b[0m \u001b[39mif\u001b[39;00m \u001b[39mnot\u001b[39;00m (is_explicit_retry \u001b[39mor\u001b[39;00m \u001b[39mself\u001b[39m\u001b[39m.\u001b[39mretry(retry_state)):\n\u001b[1;32m--> 314\u001b[0m     \u001b[39mreturn\u001b[39;00m fut\u001b[39m.\u001b[39;49mresult()\n\u001b[0;32m    316\u001b[0m \u001b[39mif\u001b[39;00m \u001b[39mself\u001b[39m\u001b[39m.\u001b[39mafter \u001b[39mis\u001b[39;00m \u001b[39mnot\u001b[39;00m \u001b[39mNone\u001b[39;00m:\n\u001b[0;32m    317\u001b[0m     \u001b[39mself\u001b[39m\u001b[39m.\u001b[39mafter(retry_state)\n",
      "File \u001b[1;32mc:\\Users\\Edison Yi\\AppData\\Local\\Programs\\Python\\Python310\\lib\\concurrent\\futures\\_base.py:451\u001b[0m, in \u001b[0;36mFuture.result\u001b[1;34m(self, timeout)\u001b[0m\n\u001b[0;32m    449\u001b[0m     \u001b[39mraise\u001b[39;00m CancelledError()\n\u001b[0;32m    450\u001b[0m \u001b[39melif\u001b[39;00m \u001b[39mself\u001b[39m\u001b[39m.\u001b[39m_state \u001b[39m==\u001b[39m FINISHED:\n\u001b[1;32m--> 451\u001b[0m     \u001b[39mreturn\u001b[39;00m \u001b[39mself\u001b[39;49m\u001b[39m.\u001b[39;49m__get_result()\n\u001b[0;32m    453\u001b[0m \u001b[39mself\u001b[39m\u001b[39m.\u001b[39m_condition\u001b[39m.\u001b[39mwait(timeout)\n\u001b[0;32m    455\u001b[0m \u001b[39mif\u001b[39;00m \u001b[39mself\u001b[39m\u001b[39m.\u001b[39m_state \u001b[39min\u001b[39;00m [CANCELLED, CANCELLED_AND_NOTIFIED]:\n",
      "File \u001b[1;32mc:\\Users\\Edison Yi\\AppData\\Local\\Programs\\Python\\Python310\\lib\\concurrent\\futures\\_base.py:403\u001b[0m, in \u001b[0;36mFuture.__get_result\u001b[1;34m(self)\u001b[0m\n\u001b[0;32m    401\u001b[0m \u001b[39mif\u001b[39;00m \u001b[39mself\u001b[39m\u001b[39m.\u001b[39m_exception:\n\u001b[0;32m    402\u001b[0m     \u001b[39mtry\u001b[39;00m:\n\u001b[1;32m--> 403\u001b[0m         \u001b[39mraise\u001b[39;00m \u001b[39mself\u001b[39m\u001b[39m.\u001b[39m_exception\n\u001b[0;32m    404\u001b[0m     \u001b[39mfinally\u001b[39;00m:\n\u001b[0;32m    405\u001b[0m         \u001b[39m# Break a reference cycle with the exception in self._exception\u001b[39;00m\n\u001b[0;32m    406\u001b[0m         \u001b[39mself\u001b[39m \u001b[39m=\u001b[39m \u001b[39mNone\u001b[39;00m\n",
      "File \u001b[1;32mc:\\Users\\Edison Yi\\AppData\\Local\\Programs\\Python\\Python310\\lib\\site-packages\\tenacity\\__init__.py:382\u001b[0m, in \u001b[0;36mRetrying.__call__\u001b[1;34m(self, fn, *args, **kwargs)\u001b[0m\n\u001b[0;32m    380\u001b[0m \u001b[39mif\u001b[39;00m \u001b[39misinstance\u001b[39m(do, DoAttempt):\n\u001b[0;32m    381\u001b[0m     \u001b[39mtry\u001b[39;00m:\n\u001b[1;32m--> 382\u001b[0m         result \u001b[39m=\u001b[39m fn(\u001b[39m*\u001b[39margs, \u001b[39m*\u001b[39m\u001b[39m*\u001b[39mkwargs)\n\u001b[0;32m    383\u001b[0m     \u001b[39mexcept\u001b[39;00m \u001b[39mBaseException\u001b[39;00m:  \u001b[39m# noqa: B902\u001b[39;00m\n\u001b[0;32m    384\u001b[0m         retry_state\u001b[39m.\u001b[39mset_exception(sys\u001b[39m.\u001b[39mexc_info())  \u001b[39m# type: ignore[arg-type]\u001b[39;00m\n",
      "File \u001b[1;32mc:\\Users\\Edison Yi\\AppData\\Local\\Programs\\Python\\Python310\\lib\\site-packages\\llama_index\\embeddings\\openai.py:147\u001b[0m, in \u001b[0;36mget_embeddings\u001b[1;34m(list_of_text, engine)\u001b[0m\n\u001b[0;32m    144\u001b[0m \u001b[39m# replace newlines, which can negatively affect performance.\u001b[39;00m\n\u001b[0;32m    145\u001b[0m list_of_text \u001b[39m=\u001b[39m [text\u001b[39m.\u001b[39mreplace(\u001b[39m\"\u001b[39m\u001b[39m\\n\u001b[39;00m\u001b[39m\"\u001b[39m, \u001b[39m\"\u001b[39m\u001b[39m \u001b[39m\u001b[39m\"\u001b[39m) \u001b[39mfor\u001b[39;00m text \u001b[39min\u001b[39;00m list_of_text]\n\u001b[1;32m--> 147\u001b[0m data \u001b[39m=\u001b[39m openai\u001b[39m.\u001b[39;49mEmbedding\u001b[39m.\u001b[39;49mcreate(\u001b[39minput\u001b[39;49m\u001b[39m=\u001b[39;49mlist_of_text, engine\u001b[39m=\u001b[39;49mengine)\u001b[39m.\u001b[39mdata\n\u001b[0;32m    148\u001b[0m data \u001b[39m=\u001b[39m \u001b[39msorted\u001b[39m(data, key\u001b[39m=\u001b[39m\u001b[39mlambda\u001b[39;00m x: x[\u001b[39m\"\u001b[39m\u001b[39mindex\u001b[39m\u001b[39m\"\u001b[39m])  \u001b[39m# maintain the same order as input.\u001b[39;00m\n\u001b[0;32m    149\u001b[0m \u001b[39mreturn\u001b[39;00m [d[\u001b[39m\"\u001b[39m\u001b[39membedding\u001b[39m\u001b[39m\"\u001b[39m] \u001b[39mfor\u001b[39;00m d \u001b[39min\u001b[39;00m data]\n",
      "File \u001b[1;32mc:\\Users\\Edison Yi\\AppData\\Local\\Programs\\Python\\Python310\\lib\\site-packages\\openai\\api_resources\\embedding.py:33\u001b[0m, in \u001b[0;36mEmbedding.create\u001b[1;34m(cls, *args, **kwargs)\u001b[0m\n\u001b[0;32m     31\u001b[0m \u001b[39mwhile\u001b[39;00m \u001b[39mTrue\u001b[39;00m:\n\u001b[0;32m     32\u001b[0m     \u001b[39mtry\u001b[39;00m:\n\u001b[1;32m---> 33\u001b[0m         response \u001b[39m=\u001b[39m \u001b[39msuper\u001b[39m()\u001b[39m.\u001b[39mcreate(\u001b[39m*\u001b[39margs, \u001b[39m*\u001b[39m\u001b[39m*\u001b[39mkwargs)\n\u001b[0;32m     35\u001b[0m         \u001b[39m# If a user specifies base64, we'll just return the encoded string.\u001b[39;00m\n\u001b[0;32m     36\u001b[0m         \u001b[39m# This is only for the default case.\u001b[39;00m\n\u001b[0;32m     37\u001b[0m         \u001b[39mif\u001b[39;00m \u001b[39mnot\u001b[39;00m user_provided_encoding_format:\n",
      "File \u001b[1;32mc:\\Users\\Edison Yi\\AppData\\Local\\Programs\\Python\\Python310\\lib\\site-packages\\openai\\api_resources\\abstract\\engine_api_resource.py:153\u001b[0m, in \u001b[0;36mEngineAPIResource.create\u001b[1;34m(cls, api_key, api_base, api_type, request_id, api_version, organization, **params)\u001b[0m\n\u001b[0;32m    127\u001b[0m \u001b[39m@classmethod\u001b[39m\n\u001b[0;32m    128\u001b[0m \u001b[39mdef\u001b[39;00m \u001b[39mcreate\u001b[39m(\n\u001b[0;32m    129\u001b[0m     \u001b[39mcls\u001b[39m,\n\u001b[1;32m   (...)\u001b[0m\n\u001b[0;32m    136\u001b[0m     \u001b[39m*\u001b[39m\u001b[39m*\u001b[39mparams,\n\u001b[0;32m    137\u001b[0m ):\n\u001b[0;32m    138\u001b[0m     (\n\u001b[0;32m    139\u001b[0m         deployment_id,\n\u001b[0;32m    140\u001b[0m         engine,\n\u001b[1;32m   (...)\u001b[0m\n\u001b[0;32m    150\u001b[0m         api_key, api_base, api_type, api_version, organization, \u001b[39m*\u001b[39m\u001b[39m*\u001b[39mparams\n\u001b[0;32m    151\u001b[0m     )\n\u001b[1;32m--> 153\u001b[0m     response, _, api_key \u001b[39m=\u001b[39m requestor\u001b[39m.\u001b[39;49mrequest(\n\u001b[0;32m    154\u001b[0m         \u001b[39m\"\u001b[39;49m\u001b[39mpost\u001b[39;49m\u001b[39m\"\u001b[39;49m,\n\u001b[0;32m    155\u001b[0m         url,\n\u001b[0;32m    156\u001b[0m         params\u001b[39m=\u001b[39;49mparams,\n\u001b[0;32m    157\u001b[0m         headers\u001b[39m=\u001b[39;49mheaders,\n\u001b[0;32m    158\u001b[0m         stream\u001b[39m=\u001b[39;49mstream,\n\u001b[0;32m    159\u001b[0m         request_id\u001b[39m=\u001b[39;49mrequest_id,\n\u001b[0;32m    160\u001b[0m         request_timeout\u001b[39m=\u001b[39;49mrequest_timeout,\n\u001b[0;32m    161\u001b[0m     )\n\u001b[0;32m    163\u001b[0m     \u001b[39mif\u001b[39;00m stream:\n\u001b[0;32m    164\u001b[0m         \u001b[39m# must be an iterator\u001b[39;00m\n\u001b[0;32m    165\u001b[0m         \u001b[39massert\u001b[39;00m \u001b[39mnot\u001b[39;00m \u001b[39misinstance\u001b[39m(response, OpenAIResponse)\n",
      "File \u001b[1;32mc:\\Users\\Edison Yi\\AppData\\Local\\Programs\\Python\\Python310\\lib\\site-packages\\openai\\api_requestor.py:216\u001b[0m, in \u001b[0;36mAPIRequestor.request\u001b[1;34m(self, method, url, params, headers, files, stream, request_id, request_timeout)\u001b[0m\n\u001b[0;32m    205\u001b[0m \u001b[39mdef\u001b[39;00m \u001b[39mrequest\u001b[39m(\n\u001b[0;32m    206\u001b[0m     \u001b[39mself\u001b[39m,\n\u001b[0;32m    207\u001b[0m     method,\n\u001b[1;32m   (...)\u001b[0m\n\u001b[0;32m    214\u001b[0m     request_timeout: Optional[Union[\u001b[39mfloat\u001b[39m, Tuple[\u001b[39mfloat\u001b[39m, \u001b[39mfloat\u001b[39m]]] \u001b[39m=\u001b[39m \u001b[39mNone\u001b[39;00m,\n\u001b[0;32m    215\u001b[0m ) \u001b[39m-\u001b[39m\u001b[39m>\u001b[39m Tuple[Union[OpenAIResponse, Iterator[OpenAIResponse]], \u001b[39mbool\u001b[39m, \u001b[39mstr\u001b[39m]:\n\u001b[1;32m--> 216\u001b[0m     result \u001b[39m=\u001b[39m \u001b[39mself\u001b[39;49m\u001b[39m.\u001b[39;49mrequest_raw(\n\u001b[0;32m    217\u001b[0m         method\u001b[39m.\u001b[39;49mlower(),\n\u001b[0;32m    218\u001b[0m         url,\n\u001b[0;32m    219\u001b[0m         params\u001b[39m=\u001b[39;49mparams,\n\u001b[0;32m    220\u001b[0m         supplied_headers\u001b[39m=\u001b[39;49mheaders,\n\u001b[0;32m    221\u001b[0m         files\u001b[39m=\u001b[39;49mfiles,\n\u001b[0;32m    222\u001b[0m         stream\u001b[39m=\u001b[39;49mstream,\n\u001b[0;32m    223\u001b[0m         request_id\u001b[39m=\u001b[39;49mrequest_id,\n\u001b[0;32m    224\u001b[0m         request_timeout\u001b[39m=\u001b[39;49mrequest_timeout,\n\u001b[0;32m    225\u001b[0m     )\n\u001b[0;32m    226\u001b[0m     resp, got_stream \u001b[39m=\u001b[39m \u001b[39mself\u001b[39m\u001b[39m.\u001b[39m_interpret_response(result, stream)\n\u001b[0;32m    227\u001b[0m     \u001b[39mreturn\u001b[39;00m resp, got_stream, \u001b[39mself\u001b[39m\u001b[39m.\u001b[39mapi_key\n",
      "File \u001b[1;32mc:\\Users\\Edison Yi\\AppData\\Local\\Programs\\Python\\Python310\\lib\\site-packages\\openai\\api_requestor.py:516\u001b[0m, in \u001b[0;36mAPIRequestor.request_raw\u001b[1;34m(self, method, url, params, supplied_headers, files, stream, request_id, request_timeout)\u001b[0m\n\u001b[0;32m    514\u001b[0m     _thread_context\u001b[39m.\u001b[39msession \u001b[39m=\u001b[39m _make_session()\n\u001b[0;32m    515\u001b[0m \u001b[39mtry\u001b[39;00m:\n\u001b[1;32m--> 516\u001b[0m     result \u001b[39m=\u001b[39m _thread_context\u001b[39m.\u001b[39;49msession\u001b[39m.\u001b[39;49mrequest(\n\u001b[0;32m    517\u001b[0m         method,\n\u001b[0;32m    518\u001b[0m         abs_url,\n\u001b[0;32m    519\u001b[0m         headers\u001b[39m=\u001b[39;49mheaders,\n\u001b[0;32m    520\u001b[0m         data\u001b[39m=\u001b[39;49mdata,\n\u001b[0;32m    521\u001b[0m         files\u001b[39m=\u001b[39;49mfiles,\n\u001b[0;32m    522\u001b[0m         stream\u001b[39m=\u001b[39;49mstream,\n\u001b[0;32m    523\u001b[0m         timeout\u001b[39m=\u001b[39;49mrequest_timeout \u001b[39mif\u001b[39;49;00m request_timeout \u001b[39melse\u001b[39;49;00m TIMEOUT_SECS,\n\u001b[0;32m    524\u001b[0m     )\n\u001b[0;32m    525\u001b[0m \u001b[39mexcept\u001b[39;00m requests\u001b[39m.\u001b[39mexceptions\u001b[39m.\u001b[39mTimeout \u001b[39mas\u001b[39;00m e:\n\u001b[0;32m    526\u001b[0m     \u001b[39mraise\u001b[39;00m error\u001b[39m.\u001b[39mTimeout(\u001b[39m\"\u001b[39m\u001b[39mRequest timed out: \u001b[39m\u001b[39m{}\u001b[39;00m\u001b[39m\"\u001b[39m\u001b[39m.\u001b[39mformat(e)) \u001b[39mfrom\u001b[39;00m \u001b[39me\u001b[39;00m\n",
      "File \u001b[1;32mc:\\Users\\Edison Yi\\AppData\\Local\\Programs\\Python\\Python310\\lib\\site-packages\\requests\\sessions.py:587\u001b[0m, in \u001b[0;36mSession.request\u001b[1;34m(self, method, url, params, data, headers, cookies, files, auth, timeout, allow_redirects, proxies, hooks, stream, verify, cert, json)\u001b[0m\n\u001b[0;32m    582\u001b[0m send_kwargs \u001b[39m=\u001b[39m {\n\u001b[0;32m    583\u001b[0m     \u001b[39m\"\u001b[39m\u001b[39mtimeout\u001b[39m\u001b[39m\"\u001b[39m: timeout,\n\u001b[0;32m    584\u001b[0m     \u001b[39m\"\u001b[39m\u001b[39mallow_redirects\u001b[39m\u001b[39m\"\u001b[39m: allow_redirects,\n\u001b[0;32m    585\u001b[0m }\n\u001b[0;32m    586\u001b[0m send_kwargs\u001b[39m.\u001b[39mupdate(settings)\n\u001b[1;32m--> 587\u001b[0m resp \u001b[39m=\u001b[39m \u001b[39mself\u001b[39m\u001b[39m.\u001b[39msend(prep, \u001b[39m*\u001b[39m\u001b[39m*\u001b[39msend_kwargs)\n\u001b[0;32m    589\u001b[0m \u001b[39mreturn\u001b[39;00m resp\n",
      "File \u001b[1;32mc:\\Users\\Edison Yi\\AppData\\Local\\Programs\\Python\\Python310\\lib\\site-packages\\requests\\sessions.py:701\u001b[0m, in \u001b[0;36mSession.send\u001b[1;34m(self, request, **kwargs)\u001b[0m\n\u001b[0;32m    698\u001b[0m start \u001b[39m=\u001b[39m preferred_clock()\n\u001b[0;32m    700\u001b[0m \u001b[39m# Send the request\u001b[39;00m\n\u001b[1;32m--> 701\u001b[0m r \u001b[39m=\u001b[39m adapter\u001b[39m.\u001b[39msend(request, \u001b[39m*\u001b[39m\u001b[39m*\u001b[39mkwargs)\n\u001b[0;32m    703\u001b[0m \u001b[39m# Total elapsed time of the request (approximately)\u001b[39;00m\n\u001b[0;32m    704\u001b[0m elapsed \u001b[39m=\u001b[39m preferred_clock() \u001b[39m-\u001b[39m start\n",
      "File \u001b[1;32mc:\\Users\\Edison Yi\\AppData\\Local\\Programs\\Python\\Python310\\lib\\site-packages\\requests\\adapters.py:489\u001b[0m, in \u001b[0;36mHTTPAdapter.send\u001b[1;34m(self, request, stream, timeout, verify, cert, proxies)\u001b[0m\n\u001b[0;32m    487\u001b[0m \u001b[39mtry\u001b[39;00m:\n\u001b[0;32m    488\u001b[0m     \u001b[39mif\u001b[39;00m \u001b[39mnot\u001b[39;00m chunked:\n\u001b[1;32m--> 489\u001b[0m         resp \u001b[39m=\u001b[39m conn\u001b[39m.\u001b[39;49murlopen(\n\u001b[0;32m    490\u001b[0m             method\u001b[39m=\u001b[39;49mrequest\u001b[39m.\u001b[39;49mmethod,\n\u001b[0;32m    491\u001b[0m             url\u001b[39m=\u001b[39;49murl,\n\u001b[0;32m    492\u001b[0m             body\u001b[39m=\u001b[39;49mrequest\u001b[39m.\u001b[39;49mbody,\n\u001b[0;32m    493\u001b[0m             headers\u001b[39m=\u001b[39;49mrequest\u001b[39m.\u001b[39;49mheaders,\n\u001b[0;32m    494\u001b[0m             redirect\u001b[39m=\u001b[39;49m\u001b[39mFalse\u001b[39;49;00m,\n\u001b[0;32m    495\u001b[0m             assert_same_host\u001b[39m=\u001b[39;49m\u001b[39mFalse\u001b[39;49;00m,\n\u001b[0;32m    496\u001b[0m             preload_content\u001b[39m=\u001b[39;49m\u001b[39mFalse\u001b[39;49;00m,\n\u001b[0;32m    497\u001b[0m             decode_content\u001b[39m=\u001b[39;49m\u001b[39mFalse\u001b[39;49;00m,\n\u001b[0;32m    498\u001b[0m             retries\u001b[39m=\u001b[39;49m\u001b[39mself\u001b[39;49m\u001b[39m.\u001b[39;49mmax_retries,\n\u001b[0;32m    499\u001b[0m             timeout\u001b[39m=\u001b[39;49mtimeout,\n\u001b[0;32m    500\u001b[0m         )\n\u001b[0;32m    502\u001b[0m     \u001b[39m# Send the request.\u001b[39;00m\n\u001b[0;32m    503\u001b[0m     \u001b[39melse\u001b[39;00m:\n\u001b[0;32m    504\u001b[0m         \u001b[39mif\u001b[39;00m \u001b[39mhasattr\u001b[39m(conn, \u001b[39m\"\u001b[39m\u001b[39mproxy_pool\u001b[39m\u001b[39m\"\u001b[39m):\n",
      "File \u001b[1;32mc:\\Users\\Edison Yi\\AppData\\Local\\Programs\\Python\\Python310\\lib\\site-packages\\urllib3\\connectionpool.py:703\u001b[0m, in \u001b[0;36mHTTPConnectionPool.urlopen\u001b[1;34m(self, method, url, body, headers, retries, redirect, assert_same_host, timeout, pool_timeout, release_conn, chunked, body_pos, **response_kw)\u001b[0m\n\u001b[0;32m    700\u001b[0m     \u001b[39mself\u001b[39m\u001b[39m.\u001b[39m_prepare_proxy(conn)\n\u001b[0;32m    702\u001b[0m \u001b[39m# Make the request on the httplib connection object.\u001b[39;00m\n\u001b[1;32m--> 703\u001b[0m httplib_response \u001b[39m=\u001b[39m \u001b[39mself\u001b[39;49m\u001b[39m.\u001b[39;49m_make_request(\n\u001b[0;32m    704\u001b[0m     conn,\n\u001b[0;32m    705\u001b[0m     method,\n\u001b[0;32m    706\u001b[0m     url,\n\u001b[0;32m    707\u001b[0m     timeout\u001b[39m=\u001b[39;49mtimeout_obj,\n\u001b[0;32m    708\u001b[0m     body\u001b[39m=\u001b[39;49mbody,\n\u001b[0;32m    709\u001b[0m     headers\u001b[39m=\u001b[39;49mheaders,\n\u001b[0;32m    710\u001b[0m     chunked\u001b[39m=\u001b[39;49mchunked,\n\u001b[0;32m    711\u001b[0m )\n\u001b[0;32m    713\u001b[0m \u001b[39m# If we're going to release the connection in ``finally:``, then\u001b[39;00m\n\u001b[0;32m    714\u001b[0m \u001b[39m# the response doesn't need to know about the connection. Otherwise\u001b[39;00m\n\u001b[0;32m    715\u001b[0m \u001b[39m# it will also try to release it and we'll have a double-release\u001b[39;00m\n\u001b[0;32m    716\u001b[0m \u001b[39m# mess.\u001b[39;00m\n\u001b[0;32m    717\u001b[0m response_conn \u001b[39m=\u001b[39m conn \u001b[39mif\u001b[39;00m \u001b[39mnot\u001b[39;00m release_conn \u001b[39melse\u001b[39;00m \u001b[39mNone\u001b[39;00m\n",
      "File \u001b[1;32mc:\\Users\\Edison Yi\\AppData\\Local\\Programs\\Python\\Python310\\lib\\site-packages\\urllib3\\connectionpool.py:449\u001b[0m, in \u001b[0;36mHTTPConnectionPool._make_request\u001b[1;34m(self, conn, method, url, timeout, chunked, **httplib_request_kw)\u001b[0m\n\u001b[0;32m    444\u001b[0m             httplib_response \u001b[39m=\u001b[39m conn\u001b[39m.\u001b[39mgetresponse()\n\u001b[0;32m    445\u001b[0m         \u001b[39mexcept\u001b[39;00m \u001b[39mBaseException\u001b[39;00m \u001b[39mas\u001b[39;00m e:\n\u001b[0;32m    446\u001b[0m             \u001b[39m# Remove the TypeError from the exception chain in\u001b[39;00m\n\u001b[0;32m    447\u001b[0m             \u001b[39m# Python 3 (including for exceptions like SystemExit).\u001b[39;00m\n\u001b[0;32m    448\u001b[0m             \u001b[39m# Otherwise it looks like a bug in the code.\u001b[39;00m\n\u001b[1;32m--> 449\u001b[0m             six\u001b[39m.\u001b[39;49mraise_from(e, \u001b[39mNone\u001b[39;49;00m)\n\u001b[0;32m    450\u001b[0m \u001b[39mexcept\u001b[39;00m (SocketTimeout, BaseSSLError, SocketError) \u001b[39mas\u001b[39;00m e:\n\u001b[0;32m    451\u001b[0m     \u001b[39mself\u001b[39m\u001b[39m.\u001b[39m_raise_timeout(err\u001b[39m=\u001b[39me, url\u001b[39m=\u001b[39murl, timeout_value\u001b[39m=\u001b[39mread_timeout)\n",
      "File \u001b[1;32m<string>:3\u001b[0m, in \u001b[0;36mraise_from\u001b[1;34m(value, from_value)\u001b[0m\n",
      "File \u001b[1;32mc:\\Users\\Edison Yi\\AppData\\Local\\Programs\\Python\\Python310\\lib\\site-packages\\urllib3\\connectionpool.py:444\u001b[0m, in \u001b[0;36mHTTPConnectionPool._make_request\u001b[1;34m(self, conn, method, url, timeout, chunked, **httplib_request_kw)\u001b[0m\n\u001b[0;32m    441\u001b[0m \u001b[39mexcept\u001b[39;00m \u001b[39mTypeError\u001b[39;00m:\n\u001b[0;32m    442\u001b[0m     \u001b[39m# Python 3\u001b[39;00m\n\u001b[0;32m    443\u001b[0m     \u001b[39mtry\u001b[39;00m:\n\u001b[1;32m--> 444\u001b[0m         httplib_response \u001b[39m=\u001b[39m conn\u001b[39m.\u001b[39;49mgetresponse()\n\u001b[0;32m    445\u001b[0m     \u001b[39mexcept\u001b[39;00m \u001b[39mBaseException\u001b[39;00m \u001b[39mas\u001b[39;00m e:\n\u001b[0;32m    446\u001b[0m         \u001b[39m# Remove the TypeError from the exception chain in\u001b[39;00m\n\u001b[0;32m    447\u001b[0m         \u001b[39m# Python 3 (including for exceptions like SystemExit).\u001b[39;00m\n\u001b[0;32m    448\u001b[0m         \u001b[39m# Otherwise it looks like a bug in the code.\u001b[39;00m\n\u001b[0;32m    449\u001b[0m         six\u001b[39m.\u001b[39mraise_from(e, \u001b[39mNone\u001b[39;00m)\n",
      "File \u001b[1;32mc:\\Users\\Edison Yi\\AppData\\Local\\Programs\\Python\\Python310\\lib\\http\\client.py:1374\u001b[0m, in \u001b[0;36mHTTPConnection.getresponse\u001b[1;34m(self)\u001b[0m\n\u001b[0;32m   1372\u001b[0m \u001b[39mtry\u001b[39;00m:\n\u001b[0;32m   1373\u001b[0m     \u001b[39mtry\u001b[39;00m:\n\u001b[1;32m-> 1374\u001b[0m         response\u001b[39m.\u001b[39;49mbegin()\n\u001b[0;32m   1375\u001b[0m     \u001b[39mexcept\u001b[39;00m \u001b[39mConnectionError\u001b[39;00m:\n\u001b[0;32m   1376\u001b[0m         \u001b[39mself\u001b[39m\u001b[39m.\u001b[39mclose()\n",
      "File \u001b[1;32mc:\\Users\\Edison Yi\\AppData\\Local\\Programs\\Python\\Python310\\lib\\http\\client.py:318\u001b[0m, in \u001b[0;36mHTTPResponse.begin\u001b[1;34m(self)\u001b[0m\n\u001b[0;32m    316\u001b[0m \u001b[39m# read until we get a non-100 response\u001b[39;00m\n\u001b[0;32m    317\u001b[0m \u001b[39mwhile\u001b[39;00m \u001b[39mTrue\u001b[39;00m:\n\u001b[1;32m--> 318\u001b[0m     version, status, reason \u001b[39m=\u001b[39m \u001b[39mself\u001b[39;49m\u001b[39m.\u001b[39;49m_read_status()\n\u001b[0;32m    319\u001b[0m     \u001b[39mif\u001b[39;00m status \u001b[39m!=\u001b[39m CONTINUE:\n\u001b[0;32m    320\u001b[0m         \u001b[39mbreak\u001b[39;00m\n",
      "File \u001b[1;32mc:\\Users\\Edison Yi\\AppData\\Local\\Programs\\Python\\Python310\\lib\\http\\client.py:279\u001b[0m, in \u001b[0;36mHTTPResponse._read_status\u001b[1;34m(self)\u001b[0m\n\u001b[0;32m    278\u001b[0m \u001b[39mdef\u001b[39;00m \u001b[39m_read_status\u001b[39m(\u001b[39mself\u001b[39m):\n\u001b[1;32m--> 279\u001b[0m     line \u001b[39m=\u001b[39m \u001b[39mstr\u001b[39m(\u001b[39mself\u001b[39;49m\u001b[39m.\u001b[39;49mfp\u001b[39m.\u001b[39;49mreadline(_MAXLINE \u001b[39m+\u001b[39;49m \u001b[39m1\u001b[39;49m), \u001b[39m\"\u001b[39m\u001b[39miso-8859-1\u001b[39m\u001b[39m\"\u001b[39m)\n\u001b[0;32m    280\u001b[0m     \u001b[39mif\u001b[39;00m \u001b[39mlen\u001b[39m(line) \u001b[39m>\u001b[39m _MAXLINE:\n\u001b[0;32m    281\u001b[0m         \u001b[39mraise\u001b[39;00m LineTooLong(\u001b[39m\"\u001b[39m\u001b[39mstatus line\u001b[39m\u001b[39m\"\u001b[39m)\n",
      "File \u001b[1;32mc:\\Users\\Edison Yi\\AppData\\Local\\Programs\\Python\\Python310\\lib\\socket.py:705\u001b[0m, in \u001b[0;36mSocketIO.readinto\u001b[1;34m(self, b)\u001b[0m\n\u001b[0;32m    703\u001b[0m \u001b[39mwhile\u001b[39;00m \u001b[39mTrue\u001b[39;00m:\n\u001b[0;32m    704\u001b[0m     \u001b[39mtry\u001b[39;00m:\n\u001b[1;32m--> 705\u001b[0m         \u001b[39mreturn\u001b[39;00m \u001b[39mself\u001b[39;49m\u001b[39m.\u001b[39;49m_sock\u001b[39m.\u001b[39;49mrecv_into(b)\n\u001b[0;32m    706\u001b[0m     \u001b[39mexcept\u001b[39;00m timeout:\n\u001b[0;32m    707\u001b[0m         \u001b[39mself\u001b[39m\u001b[39m.\u001b[39m_timeout_occurred \u001b[39m=\u001b[39m \u001b[39mTrue\u001b[39;00m\n",
      "File \u001b[1;32mc:\\Users\\Edison Yi\\AppData\\Local\\Programs\\Python\\Python310\\lib\\ssl.py:1274\u001b[0m, in \u001b[0;36mSSLSocket.recv_into\u001b[1;34m(self, buffer, nbytes, flags)\u001b[0m\n\u001b[0;32m   1270\u001b[0m     \u001b[39mif\u001b[39;00m flags \u001b[39m!=\u001b[39m \u001b[39m0\u001b[39m:\n\u001b[0;32m   1271\u001b[0m         \u001b[39mraise\u001b[39;00m \u001b[39mValueError\u001b[39;00m(\n\u001b[0;32m   1272\u001b[0m           \u001b[39m\"\u001b[39m\u001b[39mnon-zero flags not allowed in calls to recv_into() on \u001b[39m\u001b[39m%s\u001b[39;00m\u001b[39m\"\u001b[39m \u001b[39m%\u001b[39m\n\u001b[0;32m   1273\u001b[0m           \u001b[39mself\u001b[39m\u001b[39m.\u001b[39m\u001b[39m__class__\u001b[39m)\n\u001b[1;32m-> 1274\u001b[0m     \u001b[39mreturn\u001b[39;00m \u001b[39mself\u001b[39;49m\u001b[39m.\u001b[39;49mread(nbytes, buffer)\n\u001b[0;32m   1275\u001b[0m \u001b[39melse\u001b[39;00m:\n\u001b[0;32m   1276\u001b[0m     \u001b[39mreturn\u001b[39;00m \u001b[39msuper\u001b[39m()\u001b[39m.\u001b[39mrecv_into(buffer, nbytes, flags)\n",
      "File \u001b[1;32mc:\\Users\\Edison Yi\\AppData\\Local\\Programs\\Python\\Python310\\lib\\ssl.py:1130\u001b[0m, in \u001b[0;36mSSLSocket.read\u001b[1;34m(self, len, buffer)\u001b[0m\n\u001b[0;32m   1128\u001b[0m \u001b[39mtry\u001b[39;00m:\n\u001b[0;32m   1129\u001b[0m     \u001b[39mif\u001b[39;00m buffer \u001b[39mis\u001b[39;00m \u001b[39mnot\u001b[39;00m \u001b[39mNone\u001b[39;00m:\n\u001b[1;32m-> 1130\u001b[0m         \u001b[39mreturn\u001b[39;00m \u001b[39mself\u001b[39;49m\u001b[39m.\u001b[39;49m_sslobj\u001b[39m.\u001b[39;49mread(\u001b[39mlen\u001b[39;49m, buffer)\n\u001b[0;32m   1131\u001b[0m     \u001b[39melse\u001b[39;00m:\n\u001b[0;32m   1132\u001b[0m         \u001b[39mreturn\u001b[39;00m \u001b[39mself\u001b[39m\u001b[39m.\u001b[39m_sslobj\u001b[39m.\u001b[39mread(\u001b[39mlen\u001b[39m)\n",
      "\u001b[1;31mKeyboardInterrupt\u001b[0m: "
     ]
    }
   ],
   "source": [
    "# load documents\n",
    "documents = SimpleDirectoryReader(r'C:\\Users\\Edison Yi\\Documents\\papers\\For_Imposter_Concept_Paper', file_metadata = get_file_name).load_data()\n",
    "# indexing config\n",
    "llm_predictor = LLMPredictor(llm=OpenAI(temperature=0.7, model_name=\"gpt-3.5-turbo\", max_tokens = 600)) \n",
    "service_context = ServiceContext.from_defaults(llm_predictor=llm_predictor, chunk_size_limit = 1500) #, chunk_size_limit = 600\n",
    "index = GPTSimpleVectorIndex.from_documents(documents, service_context = service_context)"
   ]
  },
  {
   "cell_type": "code",
   "execution_count": 155,
   "metadata": {},
   "outputs": [
    {
     "name": "stderr",
     "output_type": "stream",
     "text": [
      "INFO:llama_index.token_counter.token_counter:> [build_index_from_nodes] Total LLM token usage: 0 tokens\n",
      "INFO:llama_index.token_counter.token_counter:> [build_index_from_nodes] Total embedding token usage: 429439 tokens\n"
     ]
    }
   ],
   "source": [
    "# index = GPTTreeIndex.from_documents(documents)\n",
    "\n",
    "# chroma_client = chromadb.Client()\n",
    "# chroma_collection = chroma_client.create_collection(\"quickstart\")\n",
    "# index = GPTChromaIndex.from_documents(documents, chroma_collection=chroma_collection, service_context = service_context)"
   ]
  },
  {
   "cell_type": "code",
   "execution_count": null,
   "metadata": {},
   "outputs": [],
   "source": [
    "index"
   ]
  },
  {
   "cell_type": "code",
   "execution_count": 156,
   "metadata": {},
   "outputs": [],
   "source": [
    "# save index to disk\n",
    "index.save_to_disk('index_simple_small_chunks.json')\n",
    "# index.save_to_disk('tree_index.json')\n",
    "# index.save_to_disk('chroma_index.json')"
   ]
  },
  {
   "cell_type": "code",
   "execution_count": 7,
   "metadata": {},
   "outputs": [],
   "source": [
    "# load index from disk\n",
    "index = GPTSimpleVectorIndex.load_from_disk('index_simple_small_chunks.json', service_context = service_context)\n",
    "# index = GPTTreeIndex.load_from_disk('tree_index.json')\n",
    "# index = GPTChromaIndex.load_from_disk('chroma_index.json')"
   ]
  },
  {
   "cell_type": "code",
   "execution_count": null,
   "metadata": {},
   "outputs": [
    {
     "name": "stderr",
     "output_type": "stream",
     "text": [
      "INFO:llama_index.token_counter.token_counter:> [query] Total LLM token usage: 13827 tokens\n",
      "INFO:llama_index.token_counter.token_counter:> [query] Total embedding token usage: 16 tokens\n"
     ]
    },
    {
     "data": {
      "text/markdown": [
       "<b>\n",
       "\n",
       "Hermeneutical injustice is a wrong done to a social group by the fact that their culture's shared hermeneutical resources are skewed towards the experiences of its more powerful members, resulting in harm to the less powerful group. It is characterized by three criteria: (a) the culture lacks the appropriate meanings to understand (some aspect of) the experience of the less powerful group; (b) the less powerful group is harmed by this lack of meanings; and (c) the lack of meanings is due to the fact that the social group to which they belong is hermeneutically marginalized. This marginalization is usually the result of uneven distributions of power, and the harm caused by hermeneutical injustice is not merely bad luck, but an actual injustice. An example of this is when someone suffers from a mystery illness, but their culture lacks the concepts to properly understand their situation, resulting in them not receiving appropriate medical care. In such cases, individuals may attempt to circumvent the lack of hermeneutical resources by engaging in collective consciousness-raising exercises, such as speak-outs, which can introduce new hermeneutical resources that better reflect their lived experience. This can provide them with a handle on their experiences of which they had previously been deprived.</b>"
      ],
      "text/plain": [
       "<IPython.core.display.Markdown object>"
      ]
     },
     "metadata": {},
     "output_type": "display_data"
    },
    {
     "name": "stdout",
     "output_type": "stream",
     "text": [
      "> Source (Doc id: b31c58bd-e9ee-437c-8087-8918bc0941a7):    Feminist Philosophy Quarterly   Volume 3 | Issue 3 Article 1     2017   Hermeneutical Injustic...\n",
      "\n",
      "> Source (Doc id: 87f69f8d-4749-4b87-86ab-6b8db2129dd4): taboo, hermeneutical injustice, and\n",
      "expressively free environments\n",
      "charlie crerar\n",
      "cbcrerar1@shef ...\n",
      "\n",
      "> Source (Doc id: b31c58bd-e9ee-437c-8087-8918bc0941a7): for responding to this problem is thus to \n",
      "try and articulate why they are unacceptable, and from...\n"
     ]
    }
   ],
   "source": [
    "# set Logging to DEBUG for more detailed outputs\n",
    "response = index.query(\"What is hermeneutical injustice, according to Fricker?\", similarity_top_k = 3, query_transform = DecomposeQueryTransform(llm_predictor))\n",
    "display(Markdown(f\"<b>{response}</b>\"))\n",
    "print(response.get_formatted_sources())"
   ]
  },
  {
   "cell_type": "code",
   "execution_count": 31,
   "metadata": {},
   "outputs": [
    {
     "name": "stdout",
     "output_type": "stream",
     "text": [
      "\u001b[36;1m\u001b[1;3m> Got node text: injus-\n",
      "tice. Is this the right result? I think it would be a serious mistake to draw this conclu-\n",
      "sion. Instead, cases like these highlight a need to revise and expand upon the analysis of\n",
      "hermeneu...\n",
      "\u001b[0m\u001b[36;1m\u001b[1;3m> Got node text: ARTICLE\n",
      "Hermeneutical Injustice: Distortion and\n",
      "Conceptual Aptness\n",
      "Arianna Falbo\n",
      "Department of Philosophy, Brown University, 45 Prospect Street, Providence, RI, 02912, USA\n",
      "Corresponding author. ari...\n",
      "\u001b[0m\u001b[36;1m\u001b[1;3m> Got node text: the presence of negative\n",
      "controlling images might very well serve to sustain and reinforce hermeneutical lacunae. In classifying this\n",
      "species of hermeneutical injustice as negative , I don ’t want ...\n",
      "\u001b[0m"
     ]
    },
    {
     "name": "stderr",
     "output_type": "stream",
     "text": [
      "INFO:llama_index.token_counter.token_counter:> [query] Total LLM token usage: 14140 tokens\n",
      "INFO:llama_index.token_counter.token_counter:> [query] Total embedding token usage: 28 tokens\n"
     ]
    },
    {
     "data": {
      "text/markdown": [
       "<b>\n",
       "\n",
       "Hermeneutical injustice is related to a phenomenon where the meaning of concepts are twisted and co-opted, eventually losing their meaning in that oppressive and distorting concepts can be used to crowd out, defeat, or preempt the accurate application of a concept. Examples of such oppressive concepts include the use of genocidal language games (Tirrell, 2012) and rape myths in the news media (O’Hara, 2012), which both have been used to distort the meaning of concepts and prevent the accurate application of those concepts. Positive hermeneutical injustice is thus connected to the presence of oppressive concepts that limit or block the accurate application of a concept, as well as the removal of available hermeneutical resources, such as postracial movements which attempt to erase the concept of race and thereby limit or block the accurate application of the concept (Paiella, 2016). \n",
       "\n",
       "This can result in a failure of conceptual aptness or applicability, meaning that marginalized individuals are unable to contribute their knowledge in a socially significant context and their status as a knower is diminished (Pohlhaus, 2012; Toole, 2019). Combating hermeneutical injustice is therefore not just a matter of filling in hermeneutical gaps, but also involves large-scale social movements aimed at dismantling oppressive ideologies and scripts. Such movements are necessary in order to develop and widely disseminate novel concepts needed to understand socially significant experiences (Rowe, 1974; Taylor, 2018), as well as to unlearning and dislodging the distorting ideological grip of controlling images and oppressive concepts that are operative within one’s social milieu (Yap, 2017). Examples of such movements include the gay rights movement and the fight for marriage equality in North America (Eleonore, 2019), as well as the #BodyPositivity movement (Park, 2017; Shackelford, 2019), which have helped to support the intelligibility of concepts that have been twisted and co-opted, and have also enabled individuals to enjoy benefits and privileges afforded by legal unions (White, 1983; Xu, 2016).</b>"
      ],
      "text/plain": [
       "<IPython.core.display.Markdown object>"
      ]
     },
     "metadata": {},
     "output_type": "display_data"
    },
    {
     "name": "stdout",
     "output_type": "stream",
     "text": [
      "> Source (Doc id: dce56ddf-710f-4da2-8fd6-b35d0e967dfd): injus-\n",
      "tice. Is this the right result? I think it would be a serious mistake to draw this conclu-...\n",
      "\n",
      "> Source (Doc id: dce56ddf-710f-4da2-8fd6-b35d0e967dfd): ARTICLE\n",
      "Hermeneutical Injustice: Distortion and\n",
      "Conceptual Aptness\n",
      "Arianna Falbo\n",
      "Department of Ph...\n",
      "\n",
      "> Source (Doc id: dce56ddf-710f-4da2-8fd6-b35d0e967dfd): the presence of negative\n",
      "controlling images might very well serve to sustain and reinforce hermen...\n"
     ]
    }
   ],
   "source": [
    "# davinci\n",
    "response = index.query(\"How is hermeneutical injustice related to a phenomenon where the meaning of concepts are twisted and co-opted, eventually losing their meaning?\", similarity_top_k = 3, verbose = True)\n",
    "display(Markdown(f\"<b>{response}</b>\"))\n",
    "print(response.get_formatted_sources())"
   ]
  },
  {
   "cell_type": "code",
   "execution_count": 148,
   "metadata": {},
   "outputs": [
    {
     "data": {
      "text/plain": [
       "Response(response='The original answer is still relevant and provides a good overview of how hermeneutical injustice can result from the co-opting and twisting of concepts. However, let\\'s add some more context to illustrate the connection between the two phenomena.\\n\\nWhen concepts are co-opted and twisted, it can result in a loss of meaning and understanding, which can perpetuate hermeneutical injustice. Hermeneutical injustice occurs when a person or group is unable to fully express their experiences and meanings due to a lack of shared understanding or language. This can result in the marginalization and silencing of certain groups.\\n\\nFor example, the concept of \"equality\" has been co-opted by some to mean simply treating everyone the same, rather than addressing systemic inequalities and power imbalances. This can result in hermeneutical injustice for marginalized groups who are disproportionately affected by these inequalities, as their experiences and struggles are not being fully recognized or addressed within the concept of \"equality.\"\\n\\nSimilarly, the co-opting of the concept of \"diversity\" can perpetuate hermeneutical injustice for marginalized groups. When diversity is reduced to a superficial representation of different backgrounds, it fails to address systemic inequalities and power imbalances that prevent marginalized groups from thriving. This can result in a lack of understanding and misrepresentation of the experiences and struggles of these groups, perpetuating the marginalization and silencing of their voices.\\n\\nOverall, the co-opting and twisting of concepts can lead to a loss of meaning and understanding, perpetuating hermeneutical injustice for marginalized groups. This can result in further injustices, as dominant groups use these concepts to reinforce unequal power dynamics and perpetuate systemic inequalities.', source_nodes=[NodeWithScore(node=Node(text='Human: How is hermeneutical injustice related to a phenomenon where the meaning of concepts are twisted and co-opted, eventually losing their meaning? Can hermeneutical injustice result from this phenomenon? If so, what injustices will follow?', doc_id='f3214649-70c9-4bc5-86b1-001144bd55f8', embedding=None, doc_hash='68f5201ac22374e59fe39188eb5b2c7f028d2d78c15b70470be5c6d47e46c919', extra_info=None, node_info={'start': 0, 'end': 243}, relationships={<DocumentRelationship.SOURCE: '1'>: '6adec511-e82a-47d8-8dd5-bb5c67b64299'}), score=0.9699888814708166), NodeWithScore(node=Node(text='Human: How is hermeneutical injustice related to a phenomenon where the meaning of concepts are twisted and co-opted, eventually losing their meaning? Can hermeneutical injustice result from this phenomenon? If so, what injustices will follow?', doc_id='f6618ce3-dfb0-4f1e-a81d-39486300b318', embedding=None, doc_hash='68f5201ac22374e59fe39188eb5b2c7f028d2d78c15b70470be5c6d47e46c919', extra_info=None, node_info={'start': 0, 'end': 243}, relationships={<DocumentRelationship.SOURCE: '1'>: '12fa6411-7779-4eeb-b615-bf1c1dfc2dfd'}), score=0.9699888814708166), NodeWithScore(node=Node(text='Human: How is hermeneutical injustice related to a phenomenon where the meaning of concepts are twisted and co-opted, eventually losing their meaning? Can hermeneutical injustice result from this phenomenon? If so, what injustices will follow?', doc_id='034fa626-38cb-4ae1-8144-10222d6b02e0', embedding=None, doc_hash='68f5201ac22374e59fe39188eb5b2c7f028d2d78c15b70470be5c6d47e46c919', extra_info=None, node_info={'start': 0, 'end': 243}, relationships={<DocumentRelationship.SOURCE: '1'>: '1787cf66-c868-4727-8849-83724f7a7827'}), score=0.9699888814708166), NodeWithScore(node=Node(text='Human: How is hermeneutical injustice related to a phenomenon where the meaning of concepts are twisted and co-opted, eventually losing their meaning? Can hermeneutical injustice result from this phenomenon? If so, what injustices will follow?', doc_id='b3740fed-2c79-4a18-82f2-ba34d51ef615', embedding=None, doc_hash='68f5201ac22374e59fe39188eb5b2c7f028d2d78c15b70470be5c6d47e46c919', extra_info=None, node_info={'start': 0, 'end': 243}, relationships={<DocumentRelationship.SOURCE: '1'>: 'caf1a0be-81a0-41e4-b8f9-81d8e367b2b7'}), score=0.9699888814708166)], extra_info=None)"
      ]
     },
     "execution_count": 148,
     "metadata": {},
     "output_type": "execute_result"
    }
   ],
   "source": [
    "response"
   ]
  },
  {
   "cell_type": "code",
   "execution_count": 177,
   "metadata": {},
   "outputs": [
    {
     "name": "stderr",
     "output_type": "stream",
     "text": [
      "INFO:llama_index.token_counter.token_counter:> [query] Total LLM token usage: 7880 tokens\n",
      "INFO:llama_index.token_counter.token_counter:> [query] Total embedding token usage: 310 tokens\n"
     ]
    },
    {
     "data": {
      "text/markdown": [
       "<b>Epistemic injustice and hermeneutical injustice are closely related as both result in unfair disadvantages for certain individuals or groups in making sense of their social experiences. Epistemic injustice occurs when individuals or groups are denied access to particular information, resulting in their marginalization in the knowledge production process. Hermeneutical injustice, on the other hand, refers to a gap in collective hermeneutical resources that prevents understanding and communication of certain experiences, leading to hermeneutical marginalization.\n",
       "\n",
       "These two types of injustice can lead to one another. If dominant social and epistemic authorities do not recognize or respect the hermeneutical resources of marginalized groups, this can lead to hermeneutical injustice. Conversely, if marginalized groups are denied access to certain knowledge or means of knowledge production, they may be unable to develop the hermeneutical resources needed to make sense of their experiences, leading to hermeneutical injustice.\n",
       "\n",
       "Linguistic hijacking, the co-opting of politically significant terminology by dominant groups, can further exacerbate these injustices by perpetuating unequal power dynamics and preventing adequate understanding of marginalized experiences. This phenomenon is particularly insidious as it allows dominant groups to twist and co-opt the meaning of concepts, eventually losing their original meaning and rendering them useless for marginalized groups.\n",
       "\n",
       "In order to combat these injustices, it is necessary to develop and widely disseminate novel concepts needed to understand socially significant experiences, as well as to dismantle oppressive ideologies and scripts. This requires large-scale social movements aimed at unlearning and dislodging the distorting ideological grip of controlling images and oppressive concepts that are operative within one’s social milieu. Only by recognizing and respecting the hermeneutical and epistemic resources of all individuals and groups can we hope to create a more just and equitable society.\n",
       "\n",
       "Sources such as Miranda Fricker's Epistemic Injustice: Power and the Ethics of Knowing and Gaile Pohlhaus Jr's “Relational Knowing and Epistemic Injustice: Toward a Theory of Willful Hermeneutical Ignorance” provide insight into the relationship between epistemic and hermeneutical injustice. Additionally, Arianna Falbo's \"Hermeneutical Injustice, Distortion, and Conceptual Aptness\" offers a more expansive framework for understanding hermeneutical injustice and its impact on marginalized individuals and communities.</b>"
      ],
      "text/plain": [
       "<IPython.core.display.Markdown object>"
      ]
     },
     "metadata": {},
     "output_type": "display_data"
    },
    {
     "name": "stdout",
     "output_type": "stream",
     "text": [
      "Source 0: ..\\..\\papers\\For_Imposter_Concept_Paper\\kidd2016.pdf\n"
     ]
    },
    {
     "data": {
      "text/markdown": [
       "Sons Ltd on behalf of Society for Applied Philosophy.Epistemic Injustice and Illness 11\n",
       "5. Hermeneutical Injustice\n",
       "Hermeneutical injustice occurs when a gap in collective hermeneutical resources puts\n",
       "a person or group at unfair disadvantage when making sense of their social experi-ences. Speci ﬁcally, ‘some signi ﬁcant area of one ’s social experience [is] obscured from\n",
       "collective understanding owing to a structural identity prejudice in the collective\n",
       "hermeneutical resource ’.\n",
       "45Certain experiences cannot be understood because of the\n",
       "absence of the resources needed to understand them, and then to articulate and com-municate that understanding to others, with the consequence that the person or groupsuffers hermeneutical marginalization , which Fricker de ﬁnes as ‘unequal hermeneutical\n",
       "participation with respect to some signi ﬁcant area(s) of social experience ’.\n",
       "46\n",
       "The social implications of hermeneutical marginalization arise because our ability to\n",
       "recognise and respond to the concerns and experiences of others is crucially premisedupon our ability to understand those concerns and experiences by mobilising adequate\n",
       "hermeneutical resources. If the required resources do not exist, those experiences will\n",
       "remain obscure in a way that prevents even the most sympathetic social peers torespond adequately to them. It is for this reason that hermeneutical injustice is struc-tural and not agential, arising from speci ﬁc contingent features of the social world –\n",
       "such as its educational practices and political arrangements –rather than from the\n",
       "activities of speci ﬁc agents. Indeed, a consequence of hermeneutical injustice is what\n",
       "Fricker calls cognitive disablement . All members of a society that is structurally\n",
       "hermeneutically unjust will be impaired in their capacity to understand certain experi-\n",
       "ences, but the impairment has differential impact.\n",
       "Fricker offers the example of societies that lack the concept of sexual harassment,\n",
       "noting that though both the harasser and harassee are cognitively disabled, there is anobvious sense in which this is to the harasser ’s advantage: ‘it suits his immediate pur-\n",
       "pose, in that it leaves his conduct unchallenged ’.\n",
       "47Indeed, many cases can be offered\n",
       "in which a particular social group actively bene ﬁts from their inability to understand,\n",
       "and hence take seriously, the experiences of other groups. Bacon ’s maxim that knowl-\n",
       "edge is power is true, but in certain contexts ignorance can also be a source and\n",
       "means of legitimating power.48\n",
       "Hermeneutical injustice can arise in at least three ways, the ﬁrst two of which are\n",
       "identi ﬁed by Rebecca Mason.49She argues that a distinction should be drawn between\n",
       "dominant andnon-dominant hermeneutical resources on the grounds that ‘marginalized\n",
       "groups can be silenced relative to dominant discourses without being prevented fromunderstanding or expressing their own social experiences ’.\n",
       "50The ﬁrst way that\n",
       "hermeneutical injustice can arise is a situation characterised by a global lack of\n",
       "hermeneutical resources: the required hermeneutical resources do not exist and so are\n",
       "not available to any person or group within that society, including but not limited to\n",
       "the speci ﬁc social group whose experiences they are. The second way is that a particu-\n",
       "lar social group has perfectly adequate hermeneutical resources of its own –its mem-\n",
       "bers can make sense of their experiences –but those resources are not recognised or\n",
       "respected by the dominant social and epistemic authorities. This group therefore hasnon-dominant hermeneutical resources, and so suffers hermeneutical injustice becausethe dominant social groups cannot understand their experiences.\n",
       "We add to this a third way in which"
      ],
      "text/plain": [
       "<IPython.core.display.Markdown object>"
      ]
     },
     "metadata": {},
     "output_type": "display_data"
    },
    {
     "name": "stdout",
     "output_type": "stream",
     "text": [
      "Source 1: ..\\..\\papers\\For_Imposter_Concept_Paper\\kidd2016.pdf\n"
     ]
    },
    {
     "data": {
      "text/markdown": [
       "ﬁrst way that\n",
       "hermeneutical injustice can arise is a situation characterised by a global lack of\n",
       "hermeneutical resources: the required hermeneutical resources do not exist and so are\n",
       "not available to any person or group within that society, including but not limited to\n",
       "the speci ﬁc social group whose experiences they are. The second way is that a particu-\n",
       "lar social group has perfectly adequate hermeneutical resources of its own –its mem-\n",
       "bers can make sense of their experiences –but those resources are not recognised or\n",
       "respected by the dominant social and epistemic authorities. This group therefore hasnon-dominant hermeneutical resources, and so suffers hermeneutical injustice becausethe dominant social groups cannot understand their experiences.\n",
       "We add to this a third way in which hermeneutical injustice can arise, through what\n",
       "we call epistemic isolation : situations where a person or group lacks the knowledge of,\n",
       "©2016The Author. Journal of Applied Philosophy published by John Wiley & Sons Ltd on behalf of Society for Applied Philosophy.12 Ian James Kidd & Havi Carel\n",
       "or means of access to, particular information; for instance, if they live within a politi-\n",
       "cally repressive society which forbids access to the necessary sources of information in\n",
       "order to protect the government ’s hegemony (for example, by blocking certain web-\n",
       "sites, outlawing certain literature, and so on).51We suggest that ill persons have non-\n",
       "dominant hermeneutical resources and so suffer from hermeneutic injustice for thatreason; i.e. ill persons can make sense of their experience but these lack the socialrecognition and epistemic respect in ways that are detailed below. We suggest that illpersons are less prone to the ﬁrst and third modes of hermeneutical injustice, although\n",
       "it remains to be seen in further work whether some areas of illness are subject to a glo-\n",
       "bal lack of hermeneutical resources.\n",
       "In the case of illness, hermeneutical injustice arises because the resources required\n",
       "for the understanding of the social experiences of ill persons are not accepted as partof the dominant hermeneutical resources. Most ill persons are capable of describingtheir experiences in non-expert terms, but such experiences are: a. largely consideredinappropriate for public discussion and b. play little or no role in clinical decision-making. Such experiences are often considered private, if not shameful, and inappro-priate for sharing with others. They are also stigmatising (cf. Goffman) and therefore\n",
       "talking about them can exact a social and personal cost from the ill person (e.g. dis-\n",
       "closing one ’s HIV status can lead to social exclusion in certain groups).\n",
       "52\n",
       "Ill persons ’accounts are often dismissed as ‘moaning ’or as idiosyncratic experi-\n",
       "ences shaped by the negative attitudes of the ill person (who is a ‘moaner ’or‘expects\n",
       "too much ’). And unless subsumed under a formal complaints procedure, such experi-\n",
       "ences remain largely un-noted by healthcare providers. Such experiences play littlerole in the design of clinical services, regulation of service performance, or in the pro-duction of clinical guidelines. The inherently qualitative nature of such accounts\n",
       "makes them dif ﬁcult to quantify and they are hence considered inadmissible evidence\n",
       "by medical decision-making bodies.\n",
       "53Recent attempts in the UK to shoehorn the\n",
       "diversity of illness experiences into the ‘friends and family test ’further reduce the rich-\n",
       "ness of such experiences to a simple binary question.54\n",
       "Hermeneutical injustice can arise through two sorts of strategies, de ﬁned here as\n",
       "stable social and epistemic practices which act to prevent the promotion of non-domi-nant hermeneutical resources. The ﬁrst are strategies of exclusion , which take the"
      ],
      "text/plain": [
       "<IPython.core.display.Markdown object>"
      ]
     },
     "metadata": {},
     "output_type": "display_data"
    },
    {
     "name": "stdout",
     "output_type": "stream",
     "text": [
      "Source 2: ..\\..\\papers\\For_Imposter_Concept_Paper\\pohlhaus2011.pdf\n"
     ]
    },
    {
     "data": {
      "text/markdown": [
       "conjunction with each other, thislacuna in her work becomes more prominent. In what follows, I clarify whatFricker means by epistemic injustice and the two kinds of epistemic injustice sheidentiﬁes: testimonial injustice and hermeneutical injustice. Analyzing a keyexample from Fricker’s book, I use the relation between situatedness and interde-pendence to develop further the idea of willful hermeneutical ignorance while\n",
       "demonstrating some limitations of Fricker’s account.\n",
       "S\n",
       "ITUATEDNESS ,INTERDEPENDENCE ,AND EPISTEMIC INJUSTICE\n",
       "InEpistemic Injustice , Fricker notes that there are some injustices that are done\n",
       "to a knower in her role as knower; these kinds of injustices she calls epistemicinjustices (Fricker 2007, 1). Furthermore, she details two types of epistemicinjustice: testimonial injustice and hermeneutical injustice. Testimonial injustice\n",
       "is the injustice of “giving a deﬂated level of credibility to a speaker’s word” for\n",
       "no other reason than identity prejudice (1), whereas hermeneutical injustice is,“the injustice of having some signiﬁcant area of one’s social experience obscuredfrom collective understanding owing to hermeneutical marginalization” (158).This latter type of epistemic injustice is one site where interdependence and situ-atedness cooperate epistemically. It is in relation to this type of injustice that Icontrast the notion of willful hermeneutical ignorance .\n",
       "6\n",
       "In Fricker’s account, hermeneutical injustice results from “hermeneutical mar-\n",
       "ginalization,” an unequal participation in meaning-generating practices pertain-\n",
       "ing to some areas of the social world that is the result of subordination in orexclusion from those practices (Fricker 2007, 153 –54). Fricker’s main example of\n",
       "hermeneutical injustice is the situation of women experiencing sexual harass-ment prior to the development of the concept of and language concerning sexualharassment. For Fricker, the absence of women in meaning-generating practicessuch as legal scholarship and the general marginalization of women’s voices inthe political sphere results in an absence of epistemic resources for describing\n",
       "and ascertaining facts about that area of the world experienced by women in par-\n",
       "ticular. This situation leads to cognitive disablement for all parties (151).However, the disadvantage is shouldered by the harassee, who “is left deeplytroubled, confused, and isolated, not to mention vulnerable to continued harass-ment” (151). According to Fricker, once adequate epistemic resources aredeveloped to ﬁll a lacuna left by hermeneutical marginalization, an instance ofhermeneutical injustice ceases. In Fricker’s words, the “moment of truth” inwhich an epistemic resource lifts the “hermeneutical darkness” from the mind of\n",
       "the person wronged “seems to be not simply a hermeneutical breakthrough …\n",
       "but also a moment in which some kind of epistemic injustice is overcome”Gaile Pohlhaus, Jr. 723\n",
       "(149). Although I agree that having an epistemic resource like the concept of\n",
       "“date rape” alleviates an epistemic injustice, anyone who has discussed this issueon a college campus knows that there is still a good deal of epistemic injusticethwarting the use of this concept for knowing the world well.\n",
       "The concept of “hermeneutical injustice,” itself an epistemic resource, helps\n",
       "us to understand and identify a certain kind of experience more clearly —the\n",
       "experience of being unable to make sense of some aspect of one’s world due toexclusion from or"
      ],
      "text/plain": [
       "<IPython.core.display.Markdown object>"
      ]
     },
     "metadata": {},
     "output_type": "display_data"
    },
    {
     "name": "stdout",
     "output_type": "stream",
     "text": [
      "Source 3: ..\\..\\papers\\For_Imposter_Concept_Paper\\hermeneutical-injustice-distortion-and-conceptual-aptness.pdf\n"
     ]
    },
    {
     "data": {
      "text/markdown": [
       "injustice that occurs when,\n",
       "because of willful hermeneutical ignorance, the dominantly situated refuse to adopt\n",
       "the hermeneutical resources of those from marginalized groups and instead use\n",
       "other, often prejudiced, resources instead. When this happens, the epistemic agencyof marginalized individuals is frustrated and undermined; they are unable to positively\n",
       "contribute to the dominant hermeneutical repertoire. In light of the more expansive\n",
       "framework, we can begin to explain a related way in which the epistemic agency of mar-\n",
       "ginalized groups may be compromised. This happens when the dominantly situated fail\n",
       "to properly apply and utilize a socially significant concept accurately and for its\n",
       "intended productive purposes. Systematic failures of conceptual application, particularly\n",
       "when this is the result of endorsing and maintaining the use of oppressive concepts or\n",
       "controlling images, can serve to undermine the epistemic agency of marginalized indi-\n",
       "viduals insofar as it limits their capacity to influence how hermeneutical resources areimplemented andutilized within a social milieu. When this happens, marginalized indi-\n",
       "viduals are unjustly undermined in their ability to contribute hermeneutical resources\n",
       "with robust productive value and influence, that is, resources that are able to effectively\n",
       "support social and political change.\n",
       "Oftentimes, when disadvantaged communities develop hermeneutical resources,\n",
       "they do so not only because they are valuable interpretive tools needed to understand\n",
       "and communicate their experiences, but also because they are vital productive resources\n",
       "that are needed to help improve their material circumstances. The hope is that these356 Arianna Falbo\n",
       "https://doi.org/10.1017/hyp.2022.4  Published online by Cambridge University Press\n",
       "resources will be accurately and effectively deployed in society to improve the lives of\n",
       "individuals within these communities (for example, to help survivors of sexual vio-\n",
       "lence). However, if members of society continue to engage in oppressive social practices,\n",
       "specifically, those that make use of and reinforce the influence of oppressive controlling\n",
       "images and distorting concepts, then these hermeneutical contributions will be signifi-\n",
       "cantly diminished.\n",
       "VI. Hermeneutical Justice\n",
       "What might it take to overcome hermeneutical injustice? Here I will begin to sketch apath forward. A more expansive framework suggests that hermeneutical justice requires\n",
       "more than filling in hermeneutical lacunae. More plausibly, combating hermeneutical\n",
       "injustice demands collective social movements aimed at disrupting and reforming dom-\n",
       "inant conceptual frameworks and social scripts. Hence, it ’s not only important to\n",
       "develop and widely disseminate novel concepts needed to understand socially signifi-\n",
       "cant experiences. But equally (if not more) important is unlearning and dislodging\n",
       "the distorting ideological grip of controlling images and oppressive concepts that are\n",
       "operative within one ’s social milieu.\n",
       "This is unlikely to be effective if done piecemeal, individual by individual, concept by\n",
       "concept. Instead, hermeneutical justice is more likely to be achieved with collective\n",
       "social action —movements that center the voices and experiences of marginalized indi-\n",
       "viduals and that aim to disrupt and expose systemic patterns of oppression and exploi-\n",
       "tation.\n",
       "19We can look to the gay rights movement and the fight for marriage equality in\n",
       "North America as an illustrative example. The concept marriage is now (to a great\n",
       "extent) routinely applied to gay couples in social and legal contexts. This movement\n",
       "helped to support the intelligibility of gay marriage, but additionally, it enabled gay cou-\n",
       "ples to enjoy benefits and privileges afforded by legal unions (for example, health insur-ance benefits, immigration and residency benefits, Social Security"
      ],
      "text/plain": [
       "<IPython.core.display.Markdown object>"
      ]
     },
     "metadata": {},
     "output_type": "display_data"
    }
   ],
   "source": [
    "# 3.5 turbo\n",
    "from llama_index.indices.query.query_transform import HyDEQueryTransform, StepDecomposeQueryTransform\n",
    "from llama_index.prompts.prompts import RefinePrompt\n",
    "\n",
    "query_transform = HyDEQueryTransform(include_original=True) #StepDecomposeQueryTransform(llm_predictor, verbose=True) # HyDEQueryTransform(include_original=True)\n",
    "\n",
    "# index.index_struct.summary = \"Used to answer questions about epistemic and hermeneutic injustice.\"\n",
    "example = '''Hermeneutical injustice is related to a phenomenon where the meaning of concepts are twisted and co-opted, eventually losing their meaning in that oppressive and distorting concepts can be used to crowd out, defeat, or preempt the accurate application of a concept. Examples of such oppressive concepts include the use of genocidal language games (Tirrell, 2012) and rape myths in the news media (O’Hara, 2012), which both have been used to distort the meaning of concepts and prevent the accurate application of those concepts. Positive hermeneutical injustice is thus connected to the presence of oppressive concepts that limit or block the accurate application of a concept, as well as the removal of available hermeneutical resources, such as postracial movements which attempt to erase the concept of race and thereby limit or block the accurate application of the concept (Paiella, 2016).\n",
    "\n",
    "This can result in a failure of conceptual aptness or applicability, meaning that marginalized individuals are unable to contribute their knowledge in a socially significant context and their status as a knower is diminished (Pohlhaus, 2012; Toole, 2019). Combating hermeneutical injustice is therefore not just a matter of filling in hermeneutical gaps, but also involves large-scale social movements aimed at dismantling oppressive ideologies and scripts. Such movements are necessary in order to develop and widely disseminate novel concepts needed to understand socially significant experiences (Rowe, 1974; Taylor, 2018), as well as to unlearning and dislodging the distorting ideological grip of controlling images and oppressive concepts that are operative within one’s social milieu (Yap, 2017). Examples of such movements include the gay rights movement and the fight for marriage equality in North America (Eleonore, 2019), as well as the #BodyPositivity movement (Park, 2017; Shackelford, 2019), which have helped to support the intelligibility of concepts that have been twisted and co-opted, and have also enabled individuals to enjoy benefits and privileges afforded by legal unions (White, 1983; Xu, 2016).'''\n",
    "REFINE_PROMPT_TMPL = (\n",
    "    \"Example Question and Answer:\"\n",
    "    \"Question:\"\n",
    "    \"How is hermeneutical injustice related to a phenomenon where the meaning of concepts are twisted and co-opted, eventually losing their meaning?\"\n",
    "    \"Answer: \"\n",
    "    \"Hermeneutical injustice is related to a phenomenon where the meaning of concepts are twisted and co-opted, eventually losing their meaning in that oppressive and distorting concepts can be used to crowd out, defeat, or preempt the accurate application of a concept. Examples of such oppressive concepts include the use of genocidal language games (Tirrell, 2012) and rape myths in the news media (O’Hara, 2012), which both have been used to distort the meaning of concepts and prevent the accurate application of those concepts. Positive hermeneutical injustice is thus connected to the presence of oppressive concepts that limit or block the accurate application of a concept, as well as the removal of available hermeneutical resources, such as postracial movements which attempt to erase the concept of race and thereby limit or block the accurate application of the concept (Paiella, 2016).\"\n",
    "    \"This can result in a failure of conceptual aptness or applicability, meaning that marginalized individuals are unable to contribute their knowledge in a socially significant context and their status as a knower is diminished (Pohlhaus, 2012; Toole, 2019). Combating hermeneutical injustice is therefore not just a matter of filling in hermeneutical gaps, but also involves large-scale social movements aimed at dismantling oppressive ideologies and scripts. Such movements are necessary in order to develop and widely disseminate novel concepts needed to understand socially significant experiences (Rowe, 1974; Taylor, 2018), as well as to unlearning and dislodging the distorting ideological grip of controlling images and oppressive concepts that are operative within one’s social milieu (Yap, 2017). Examples of such movements include the gay rights movement and the fight for marriage equality in North America (Eleonore, 2019), as well as the #BodyPositivity movement (Park, 2017; Shackelford, 2019), which have helped to support the intelligibility of concepts that have been twisted and co-opted, and have also enabled individuals to enjoy benefits and privileges afforded by legal unions (White, 1983; Xu, 2016).\"\n",
    "    \n",
    "    \"The original question is as follows: {query_str}\\n\"\n",
    "    \"We have provided an existing answer: {existing_answer}\\n\"\n",
    "    \"(only if needed) with some more context below.\\n\"\n",
    "    \"------------\\n\"\n",
    "    \"{context_msg}\\n\"\n",
    "    \"------------\\n\"\n",
    "    \"Refine the original answer to better \"\n",
    "    \"answer the question: {query_str}\"\n",
    "    \"Write the answer in a coherent and academic style, avoid redundancies. Make use of any sources mentioned in the context\"\n",
    "    \n",
    ")\n",
    "\n",
    "REFINE_PROMPT = RefinePrompt(REFINE_PROMPT_TMPL)\n",
    "response_mode = 'default'\n",
    "mode=\"default\"\n",
    "response = index.query(\"How is epistemic injustice related to hermeneutical injustice? How can one lead to another? How are they related to a phenomenon called linguistic hijacking, the phenomenon wherein politically significant terminology is co-opted by dominant groups in ways that further their dominance over marginalized groups\", \n",
    "                        similarity_top_k = 4, \n",
    "                        query_transform=query_transform, \n",
    "                        response_mode = response_mode,\n",
    "                        refine_template = REFINE_PROMPT,\n",
    "                        mode = mode, \n",
    "                        verbose=False)\n",
    "display(Markdown(f\"<b>{response}</b>\"))\n",
    "# print(response.get_formatted_sources())\n",
    "for i in range(len(response.source_nodes)):\n",
    "    print(f'Source {i}: {response.source_nodes[i].extra_info[\"filename\"]}')\n",
    "    # print(f'Source {i}: {response.source_nodes[i].node.text.replace('\\n', ' ')}\n",
    "    display(Markdown(f\"{response.source_nodes[i].node.text}\"))"
   ]
  },
  {
   "cell_type": "code",
   "execution_count": 8,
   "metadata": {},
   "outputs": [
    {
     "name": "stderr",
     "output_type": "stream",
     "text": [
      "INFO:llama_index.token_counter.token_counter:> [query] Total LLM token usage: 8396 tokens\n",
      "INFO:llama_index.token_counter.token_counter:> [query] Total embedding token usage: 311 tokens\n"
     ]
    },
    {
     "data": {
      "text/markdown": [
       "<b>The phenomenon of distorting and co-opting concepts, eventually leading to their loss of meaning, can contribute to the persistence of hermeneutical injustice. Hermeneutical injustice occurs when there is a lacuna in the collective hermeneutical repertoire resulting from one's hermeneutical marginalization, or when there is a failure of conceptual application or aptness due to the presence of distorting and oppressive concepts. When concepts are integrated into preexisting hermeneutical frameworks containing negative controlling images and oppressive distorting concepts, they have the potential to crowd out, defeat, or preempt the application of an available and more accurate hermeneutical resource. This can restrict the productive function and power of liberatory concepts, resulting in various injustices, including the systematic exclusion of certain groups from participating in the collective interpretation of their experiences, perpetuation of oppressive social arrangements, and the normalization and justification of such arrangements.\n",
       "\n",
       "To overcome hermeneutical injustice, it is not enough to simply introduce a hermeneutical resource that fills a lacuna in the collective understanding. Hermeneutical justice requires collective social movements aimed at disrupting and reforming dominant conceptual frameworks and social scripts. This involves cultivating and propagating novel conceptual resources and dislodging the distorting ideological grip of controlling images and oppressive concepts that are operative within one's social milieu. Successfully challenging and disrupting the status quo narrative requires dislodging ingrained assumptions and ideologies that normalize and purport to justify oppressive social arrangements. Hermeneutical justice is more likely to be achieved with large-scale social movements aimed at dismantling oppressive ideologies and social practices.\n",
       "\n",
       "In summary, the distortion and co-opting of concepts can contribute to the persistence of hermeneutical injustice. Overcoming hermeneutical injustice requires challenging and disrupting dominant conceptual frameworks and social scripts through large-scale social movements. It is imperative to pay close attention to how concepts function to sustain and promote pernicious background ideologies and unjust social arrangements, and how this can restrict the productive function and power of liberatory concepts. Hermeneutical justice demands something much more radical and far-reaching than simply filling in hermeneutical gaps.</b>"
      ],
      "text/plain": [
       "<IPython.core.display.Markdown object>"
      ]
     },
     "metadata": {},
     "output_type": "display_data"
    },
    {
     "name": "stdout",
     "output_type": "stream",
     "text": [
      "Source 0: hermeneutical-injustice-distortion-and-conceptual-aptness.pdf\n"
     ]
    },
    {
     "data": {
      "text/markdown": [
       "the sheer fact that many concepts were and still are\n",
       "needed to make sense of the socially significant experiences of marginalized communi-\n",
       "ties should be extremely suggestive of the current state of collective hermeneutical\n",
       "frameworks and the strong influence of unjust social practices and oppressive concepts\n",
       "and controlling images therein.\n",
       "It is thus imperative that we pay close attention to how concepts can function to\n",
       "sustain and promote pernicious background ideologies and unjust social arrangements,\n",
       "and how this in turn can restrict the productive function and power of liberatory\n",
       "concepts, both old and new. The intelligibility gained from the introduction andwidespread dissemination of a hermeneutical resource is undeniably important.\n",
       "However, this is just one dimension of hermeneutical progress that ought not distract\n",
       "us from others. We must also recognize the productive function and value of\n",
       "hermeneutical resources and how they come to be deemed applicable and utilized, or\n",
       "more important, notapplicable and notutilized, across diverse social environments.\n",
       "Successfully overcoming hermeneutical injustice likely requires full-fledged social\n",
       "movements —it requires organization, mobilization, and activism. It requires challeng-\n",
       "ing and disrupting the status quo narrative and dislodging ingrained assumptions\n",
       "and ideologies that normalize and purport to justify oppressive social arrangements.Introducing into the collective hermeneutical repertoire a hermeneutical resource that\n",
       "is needed to understand the experiences of disadvantaged groups is clearly a move in\n",
       "the right direction —it is progress toward hermeneutical justice. However, if prevailing\n",
       "social conditions aren ’t conducive to the concept ’s gaining a meaningful grip on the\n",
       "world —that is, to its being broadly applied in important social contexts where it accu-\n",
       "rately describes social reality and where it stands to do productive work to help improve\n",
       "the material conditions of those in marginalized communities —the concept ’s potential\n",
       "to combat hermeneutical injustice will be undermined. Contrary to what a lacuna-\n",
       "centered analysis suggests, filling in hermeneutical gaps is not enough to ensure herme-\n",
       "neutical justice; it is just one part of a much broader, comprehensive, and socially\n",
       "embedded process.\n",
       "Acknowledgments. Earlier versions of this article were presented at the Summer Immersion Program in\n",
       "Philosophy at Brown University (2019), the Midwest Society for Women in Philosophy at the University of\n",
       "Cincinnati (2019), the Pacific Division of the APA (2021), and the Words Workshop (2021). I ’m grateful to\n",
       "audience members for their feedback. I would also like to thank Zach Barnett, Endre Begby, Thomas\n",
       "Brandt, David Christensen, Corbin Covington, Sally Haslanger, Jonathan Ichikawa, and Elizabeth Miller,\n",
       "as well as two anonymous referees.\n",
       "Notes\n",
       "1Hermeneutical resources include interpretive tools such as tropes, narratives, stories, scripts, and con-\n",
       "cepts. For simplicity, and following much of the literature, I will talk mostly in terms of conceptual\n",
       "resources.358 Arianna Falbo\n",
       "https://doi.org/10.1017/hyp.2022.4  Published online by Cambridge University Press\n",
       "2This requirement is argued for in Fricker 2006 ;2007 ;2016 ; and 2017. Although much of Fricker ’s orig-\n",
       "inal 2007 discussion frames hermeneutical injustice as centrally involving hermeneutical lacunae, it ’s nota-\n",
       "ble that she includes the example of Edmund White ’sA Boy ’s Own Story (White 1983 ). This is a\n",
       "semi-autobiographical novel that describe White ’s experiences in the 1950s as a gay young man battling\n",
       "dominant stereotypes of homosexuality as unnatural or as a sickness. Thus, Fricker ’s discussion of herme-\n",
       "neutical injustice is sensitive to how oppressive stereotypes —and not just conceptual gaps —can influence\n",
       "hermeneutical injustice, yet she remains focused largely upon lacunae throughout her discussion (see, espe-\n",
       "cially, Fricker 2007 , 161 –62, as well as the initial definition of hermeneutical injustice given at the start of\n",
       "her book: “hermeneutical injustice occurs . . . when a gap in collective resources puts someone at an unfair\n",
       "disadvantage when it comes to making sense of their social experiences ”[1]).\n",
       "3This requirement for hermeneutical injustice is adopted widely across recent literature. See, for example,\n",
       "Beeby 2011 ; Medina 2011 ,2012 ; Dotson 2012 ; Dotson 2014 ; Anderson 2017 ; Goetze 2017 ; Medina 2017 ;\n",
       "Toole 2019 ; Vasilyeva and Ayala-López 2019 ; Beverley 2020 ; Dembroff 2020 ; Dembroff and Whitcomb\n",
       "forthcoming .\n",
       "4Thank you to an anonymous referee for suggesting this terminology.\n",
       "5Fricker draws from Susan Brownmiller ’s memoir of the Women ’s Liberation Movement in the 1960s\n",
       "when discussing the case of Carmita Wood (Brownmiller 1990 ). For other early uses of the concept sexual\n",
       "harassment , see Rowe 1974 ; Nemy 1975 .\n",
       "6Criticisms of Fricker ’s analysis of hermeneutical injustice have pointed out a failure to distinguish\n",
       "between intra and intercommunal dissemination of hermeneutical resources. See, for example, Mason\n",
       "2011 ; Medina 2012 ; 2013. It is worth noting that even the inter/intracommunal dissemination distinction\n",
       "is fairly idealized. The boundaries here are likley not as crisp as this distinction might suggest. For a relateddiscussion, also see Ashley Atkins ’s distinction between resistant understanding and dominant or collective\n",
       "understanding (Atkins 2018 ).\n",
       "7In developing her analysis of controlling images, Collins cites the work of Mae King and Cheryl Gilkes\n",
       "(King 1973 ; Gilkes 1981 ). In discussing the work of these two scholars, Collins"
      ],
      "text/plain": [
       "<IPython.core.display.Markdown object>"
      ]
     },
     "metadata": {},
     "output_type": "display_data"
    },
    {
     "name": "stdout",
     "output_type": "stream",
     "text": [
      "Source 1: hermeneutical-injustice-distortion-and-conceptual-aptness.pdf\n"
     ]
    },
    {
     "data": {
      "text/markdown": [
       "important sociopolitical contexts,\n",
       "as is evidenced by the lenient jail sentence given to Turner.\n",
       "Introducing a concept into collective understanding facilitates intelligibility in the\n",
       "form of conceptual competence (that is, a lacuna no longer persists), but, as I ’ve argued,\n",
       "this does not guarantee that the concept will actually be used and applied in important\n",
       "and socially significant scenarios. In particular, it does not guarantee that the neededconcept is immune to unwarranted defeat or preemption by an oppressive controlling\n",
       "image or distorting concept that is operative in one ’s social milieu. Overcoming negative\n",
       "forms of hermeneutical injustice —by filling in hermeneutical lacunae —does not entail\n",
       "that positive forms of hermeneutical injustice will be guarded against and rectified as\n",
       "well. Hermeneutical injustice isn ’t overcome unless hermeneutical resources that accu-\n",
       "rately depict social reality robustly gain an influential and authoritative grip on the\n",
       "social world —a grip that positively influences and improves the lives of those in mar-\n",
       "ginalized communities. Only then can hermeneutical resources support meaningfulHypatia 355\n",
       "https://doi.org/10.1017/hyp.2022.4  Published online by Cambridge University Press\n",
       "change in helping to reform our social and political landscapes for the better. The sheer\n",
       "existence of a concept, even if it has been disseminated both intra and intercommunally,\n",
       "though vitally important, is not enough to ensure this.\n",
       "Theorizing about hermeneutical injustice using this more expansive framework\n",
       "helps us to reveal significant limits of a lacuna-centered model by illustrating how her-\n",
       "meneutical injustice may persist well after lacunae are filled. Additionally, an expansive\n",
       "framework supports a characterization of hermeneutical injustice as an appropriatelysocial phenomenon by highlighting the overarching social environments in which her-\n",
       "meneutical resources are embedded and implemented. A more expansive framework —\n",
       "one that recognizes both positive and negative forms of hermeneutical injustice —is\n",
       "more complete and possesses more explanatory depth to the extent that it acknowledges\n",
       "the aptness or applicability of socially significant concepts within specific social con-\n",
       "texts, and relative to their operationalization within a given social milieu.\n",
       "This expansive framework also has important connections to Pohlhaus ’s analysis of\n",
       "willful hermeneutical ignorance , as well as Dotson ’s account of contributory injustice.\n",
       "Recall that willful hermeneutical ignorance occurs when dominantly situated knowersrefuse to acquire the hermeneutical tools of those from marginalized groups, and, as\n",
       "a result, sustain hermeneutical lacunae at the level of the dominant (or intercommunal)\n",
       "hermeneutical repertoire. On a more expansive approach, we can begin to describe a\n",
       "phenomenon adjacent to willful hermeneutical ignorance. Even after a concept is col-\n",
       "lectively available, that is, even after the dominantly situated have acquired the concepts\n",
       "needed to make the experiences of marginalized members of society intelligible, they\n",
       "may still willfully refuse to adopt the proper application conditions for such concepts.\n",
       "This will directly affect the overall productive function and value of such concepts\n",
       "within one ’s social milieu. In such cases, those in dominant positions may acknowledge,\n",
       "acquire, and even widely utilize a concept —yet they may refuse to apply it in particular\n",
       "situations because of their continued use of controlling images and oppressive distorting\n",
       "concepts.\n",
       "In a related vein, recall Dotson ’s notion of contributory injustice that occurs when,\n",
       "because of willful hermeneutical ignorance, the dominantly situated refuse to adopt\n",
       "the hermeneutical resources of those from marginalized groups and instead use\n",
       "other, often prejudiced, resources instead. When this happens, the epistemic agencyof marginalized individuals is frustrated and undermined; they are unable to positively\n",
       "contribute to the dominant hermeneutical repertoire. In light of the more expansive\n",
       "framework, we can begin to explain a related way in which the epistemic agency of mar-\n",
       "ginalized groups may be compromised. This happens when the dominantly situated fail\n",
       "to properly apply and utilize a socially significant concept accurately and for its\n",
       "intended productive purposes. Systematic failures of conceptual application, particularly\n",
       "when this is the result of endorsing and maintaining the use of oppressive concepts or\n",
       "controlling images, can serve to undermine the epistemic agency of marginalized indi-\n",
       "viduals insofar as it limits their capacity to influence how hermeneutical resources areimplemented andutilized within a social milieu. When this happens, marginalized indi-\n",
       "viduals are unjustly undermined in their ability to contribute hermeneutical resources\n",
       "with robust productive value and influence, that is, resources that are able to effectively\n",
       "support social and political change.\n",
       "Oftentimes, when disadvantaged communities develop hermeneutical resources,\n",
       "they do so not only because they are valuable interpretive tools needed to understand\n",
       "and communicate their experiences, but also because they are vital productive resources\n",
       "that are needed to help improve their material circumstances. The hope is that these356 Arianna Falbo\n",
       "https://doi.org/10.1017/hyp.2022.4  Published online by Cambridge University Press\n",
       "resources will be accurately and effectively deployed in society to improve the lives of\n",
       "individuals within these communities (for example, to help survivors of sexual vio-\n",
       "lence). However, if members of society continue to engage in oppressive social practices,\n",
       "specifically, those that make use of and reinforce the influence of oppressive controlling\n",
       "images and distorting concepts, then these hermeneutical contributions will be"
      ],
      "text/plain": [
       "<IPython.core.display.Markdown object>"
      ]
     },
     "metadata": {},
     "output_type": "display_data"
    },
    {
     "name": "stdout",
     "output_type": "stream",
     "text": [
      "Source 2: hermeneutical-injustice-distortion-and-conceptual-aptness.pdf\n"
     ]
    },
    {
     "data": {
      "text/markdown": [
       "injustice that does not result from a hermeneu-\n",
       "tical lack. Reflecting upon concrete examples of hermeneutical injustice without lacunae\n",
       "made highlighted a critical need to consider how concepts are operationalized within a\n",
       "given social milieu —how they combine with other extant concepts and how they are\n",
       "integrated into preexisting hermeneutical frameworks. The need for this is especially\n",
       "pressing when extant hermeneutical frameworks contain negative controlling images\n",
       "and oppressive distorting concepts. Such concepts have the potential to crowd out,\n",
       "defeat, or preempt the application of an available and more accurate hermeneutical\n",
       "resource.\n",
       "In the next section, I begin to develop a more expansive and more socially situated\n",
       "framework for theorizing about hermeneutical injustice. This approach aims to accom-\n",
       "modate cases of hermeneutical injustice both with and without hermeneutical gaps.\n",
       "V. A More Expansive Framework: Positive and Negative Hermeneutical Injustice\n",
       "Why do the cases described thus far capture a distinct species of hermeneutical injus-\n",
       "tice? Recall that according to Fricker the primary harm of hermeneutical injustice “con-\n",
       "sists in a situated hermeneutical inequality : the concrete situation is such that the\n",
       "subject is rendered unable to make communicatively intelligible something which it\n",
       "is particularly in his or her interests to be able to render intelligible ”(Fricker 2007 ,\n",
       "162). We can break down Fricker ’s analysis more precisely as requiring the following\n",
       "necessary conditions. Hermeneutical injustice occurs when: (i) one ’s experience fails\n",
       "to be intelligible (either to oneself or to others), (ii) the hermeneutical tools needed\n",
       "to make one ’s experience intelligible are not collectively shared by those in the relevant\n",
       "social context, and (iii) this is due to a lacuna in the collective hermeneutical repertoire\n",
       "resulting from one ’s hermeneutical marginalization.\n",
       "Consider the perspective of Chanel Miller, the survivor in the Turner case. Miller\n",
       "was clearly in a position to render her experience intelligible —she wasn ’t hindered in\n",
       "her ability to understand that she was a victim of rape. This was unmistakably and pain-\n",
       "fully obvious to her. Others, however, were reluctant, or altogether failed, to apply the\n",
       "concept rapist to Turner. This, of course, is not to say that such individuals lacked the\n",
       "concept rapist ; this concept was available and intelligible to them. Instead, others failed\n",
       "to accurately apply this concept to Turner because he exemplified many of theHypatia 353\n",
       "https://doi.org/10.1017/hyp.2022.4  Published online by Cambridge University Press\n",
       "hallmarks of a golden boy. So, though others could render intelligible the fact that\n",
       "Miller and her defense team were accusing Turner of rape, they failed to apply the con-\n",
       "cept rapist to Turner because of the presence of distorting and oppressive concepts.\n",
       "Let’s return to the three conditions needed to establish a hermeneutical injustice on\n",
       "Fricker ’s lacuna-centered analysis. Given that the concept rapist was intelligible to\n",
       "Miller and those in the relevant social context, and moreover, given that the concept\n",
       "rapist was broadly available in the hermeneutical repertoire at large (there was no\n",
       "lacuna), this case does not satisfy any of the three conditions. So, according to the\n",
       "lacuna-centered framework, it follows that Miller isn ’t a victim of hermeneutical injus-\n",
       "tice. Is this the right result? I think it would be a serious mistake to draw this conclu-\n",
       "sion. Instead, cases like these highlight a need to revise and expand upon the analysis of\n",
       "hermeneutical injustice and the range of harms that it may give rise to.\n",
       "Defenders of a lacuna-centered framework are right to note that across a range of\n",
       "cases, the primary harm of hermeneutical injustice concerns an inability to make an\n",
       "important social experience intelligible (either to oneself or to others). However, this\n",
       "is not the sole way in which hermeneutical injustice can manifest. The hermeneuticalinjustice that Miller faced didn ’t involve a lack of intelligibility, but instead resulted\n",
       "from a failure of conceptual application or conceptual aptness. Others were reluctant\n",
       "to apply the concept rapist to Turner because they didn ’t view this concept as fitting\n",
       "or appropriate for a man like him. Furthermore, this failure of application doesn ’t\n",
       "trace back to any hermeneutical gap. It ’s the very opposite: it was the positive presence\n",
       "of distorting and oppressive concepts that served to prop up Turner ’s innocence and to\n",
       "prevent the concept rapist from applying to him. Taken in this way, we can\n",
       "explain Miller as having suffered a kind of hermeneutical injustice, not because of a\n",
       "lack of intelligibility, but because others in her social context were unable to accuratelyapply the concept rapist to Turner owing to the presence of oppressive concepts.\n",
       "This, in turn, resulted in the denial of Miller ’s credibility and thus diminished her status\n",
       "as a knower —specifically as a contributor of important and socially significant\n",
       "knowledge —in the given social context.\n",
       "Reflecting upon these features of Miller ’s situation suggests a more expansive frame-\n",
       "work for theorizing about hermeneutical injustice. This framework encompasses the\n",
       "explanatory successes of the lacuna-centered analysis, while also capturing an importantspecies of hermeneutical injustice that doesn ’t result from lacunae. According to this\n",
       "broader approach, hermeneutical injustice can manifest in at least two distinct ways,\n",
       "what we might call positive hermeneutical injustice and negative hermeneutical injus-\n",
       "tice. Negative"
      ],
      "text/plain": [
       "<IPython.core.display.Markdown object>"
      ]
     },
     "metadata": {},
     "output_type": "display_data"
    },
    {
     "name": "stdout",
     "output_type": "stream",
     "text": [
      "Source 3: hermeneutical-injustice-distortion-and-conceptual-aptness.pdf\n"
     ]
    },
    {
     "data": {
      "text/markdown": [
       "communities develop hermeneutical resources,\n",
       "they do so not only because they are valuable interpretive tools needed to understand\n",
       "and communicate their experiences, but also because they are vital productive resources\n",
       "that are needed to help improve their material circumstances. The hope is that these356 Arianna Falbo\n",
       "https://doi.org/10.1017/hyp.2022.4  Published online by Cambridge University Press\n",
       "resources will be accurately and effectively deployed in society to improve the lives of\n",
       "individuals within these communities (for example, to help survivors of sexual vio-\n",
       "lence). However, if members of society continue to engage in oppressive social practices,\n",
       "specifically, those that make use of and reinforce the influence of oppressive controlling\n",
       "images and distorting concepts, then these hermeneutical contributions will be signifi-\n",
       "cantly diminished.\n",
       "VI. Hermeneutical Justice\n",
       "What might it take to overcome hermeneutical injustice? Here I will begin to sketch apath forward. A more expansive framework suggests that hermeneutical justice requires\n",
       "more than filling in hermeneutical lacunae. More plausibly, combating hermeneutical\n",
       "injustice demands collective social movements aimed at disrupting and reforming dom-\n",
       "inant conceptual frameworks and social scripts. Hence, it ’s not only important to\n",
       "develop and widely disseminate novel concepts needed to understand socially signifi-\n",
       "cant experiences. But equally (if not more) important is unlearning and dislodging\n",
       "the distorting ideological grip of controlling images and oppressive concepts that are\n",
       "operative within one ’s social milieu.\n",
       "This is unlikely to be effective if done piecemeal, individual by individual, concept by\n",
       "concept. Instead, hermeneutical justice is more likely to be achieved with collective\n",
       "social action —movements that center the voices and experiences of marginalized indi-\n",
       "viduals and that aim to disrupt and expose systemic patterns of oppression and exploi-\n",
       "tation.\n",
       "19We can look to the gay rights movement and the fight for marriage equality in\n",
       "North America as an illustrative example. The concept marriage is now (to a great\n",
       "extent) routinely applied to gay couples in social and legal contexts. This movement\n",
       "helped to support the intelligibility of gay marriage, but additionally, it enabled gay cou-\n",
       "ples to enjoy benefits and privileges afforded by legal unions (for example, health insur-ance benefits, immigration and residency benefits, Social Security programs, and so on).\n",
       "Having marriage readily apply to gay couples was productively powerful —it helped to\n",
       "improve the material conditions of many gay couples across North America.\n",
       "Another example is the #BodyPositivity movement, which has gained a global online\n",
       "following over the past decade (Baker 2015 ; Crabbe 2017 ; Taylor 2018 ). The overarching\n",
       "mission of this movement is to combat mainstream narratives that promote unhealthy\n",
       "and downright unattainable standards of beauty, body image, and health, targeting pri-marily young women and girls. By centering bodies that are marginalized in main-\n",
       "stream media —disabled bodies, fat bodies, and bodies of color —and with slogans\n",
       "like “‘Fat’is not a bad word ”(Shackelford 2019 ) and artists like Cinta Tort Cartró\n",
       "who embraces the beauty of stretch marks by painting them vibrant colors (Park\n",
       "2017 ), this movement aims to problematize dominant social assumptions and narratives\n",
       "that deem fatness and other marginalized body features to be a cause for embarrass-\n",
       "ment, shame, or inferiority.\n",
       "20\n",
       "Combating hermeneutical injustice is thus not simply a matter of filling in\n",
       "hermeneutical gaps. Hermeneutical justice demands something much more radical andfar-reaching. More plausibly, it demands large-scale social movements aimed at disman-\n",
       "tling oppressive ideologies and social practices. Without question, part of this will involve\n",
       "cultivating and propagating novel conceptual resources —for example, concepts like gen-\n",
       "derqueer, disability pride, body positivity, andsexual harassment —that is, it will require\n",
       "filling in hermeneutical lacunae. But, as we ’ve seen, much more is needed beyond this\n",
       "to sufficiently guard against and overcome the harms of hermeneutical injustice.Hypatia 357\n",
       "https://doi.org/10.1017/hyp.2022.4  Published online by Cambridge University Press\n",
       "So, where does this leave us? In closing, I want to emphasize what I take to be the\n",
       "best way forward in theorizing about hermeneutical injustice and epistemic injustice\n",
       "more broadly. The main thrust is this: we need to broaden our horizons and engage\n",
       "in a more socially embedded way.21Contrasting cases of positive and negative herme-\n",
       "neutical injustice serves to illustrate how concepts don ’t exist and operate independently\n",
       "from each other, but are deeply interconnected. The productive value of hermeneutical\n",
       "tools is both constrained and enabled by their place alongside other concepts within anoverarching social milieu. Moreover, the sheer fact that many concepts were and still are\n",
       "needed to make sense of the socially significant experiences of marginalized communi-\n",
       "ties should be extremely suggestive of the current state of collective hermeneutical\n",
       "frameworks and the strong influence of unjust social practices and oppressive concepts\n",
       "and controlling images therein.\n",
       "It is thus imperative that we pay close attention to how concepts can function to\n",
       "sustain and promote pernicious background ideologies and unjust social arrangements,\n",
       "and how this in turn can restrict the productive function and power of liberatory\n",
       "concepts, both old and new. The intelligibility gained from the introduction andwidespread dissemination of a hermeneutical resource is undeniably important.\n",
       "However, this is just one dimension of hermeneutical progress that ought not distract\n",
       "us from others. We must"
      ],
      "text/plain": [
       "<IPython.core.display.Markdown object>"
      ]
     },
     "metadata": {},
     "output_type": "display_data"
    }
   ],
   "source": [
    "# 3.5 turbo\n",
    "from llama_index.indices.query.query_transform import HyDEQueryTransform, StepDecomposeQueryTransform\n",
    "from llama_index.prompts.prompts import RefinePrompt\n",
    "\n",
    "query_transform = HyDEQueryTransform(include_original=True) #StepDecomposeQueryTransform(llm_predictor, verbose=True) # HyDEQueryTransform(include_original=True)\n",
    "\n",
    "# index.index_struct.summary = \"Used to answer questions about epistemic and hermeneutic injustice.\"\n",
    "DEFAULT_REFINE_PROMPT_TMPL = (\n",
    "    \"The original question is as follows: {query_str}\\n\"\n",
    "    \"We have provided an existing answer: {existing_answer}\\n\"\n",
    "    \"We have the opportunity to refine the existing answer \"\n",
    "    \"(only if needed) with some more context below.\\n\"\n",
    "    \"------------\\n\"\n",
    "    \"{context_msg}\\n\"\n",
    "    \"------------\\n\"\n",
    "    \"Given the new context, refine the original answer to better \"\n",
    "    \"answer the question. \"\n",
    "    \"If the context isn't useful, return the original answer.\"\n",
    ")\n",
    "DEFAULT_REFINE_PROMPT = RefinePrompt(DEFAULT_REFINE_PROMPT_TMPL)\n",
    "response_mode = 'default'\n",
    "mode=\"default\"\n",
    "response = index.query(\"How is hermeneutical injustice related to a phenomenon where the meaning of concepts are twisted and co-opted, eventually losing their meaning? Can hermeneutical injustice result from this phenomenon? If so, what injustices will follow? Give a detailed and longform answer\", \n",
    "                        similarity_top_k = 4, \n",
    "                        query_transform=query_transform, \n",
    "                        response_mode = response_mode,\n",
    "                        refine_template = DEFAULT_REFINE_PROMPT,\n",
    "                        mode = mode, \n",
    "                        verbose=False)\n",
    "display(Markdown(f\"<b>{response}</b>\"))\n",
    "# print(response.get_formatted_sources())\n",
    "for i in range(len(response.source_nodes)):\n",
    "    if response.source_nodes[i].extra_info:\n",
    "        print(f'Source {i}: {response.source_nodes[i].extra_info[\"filename\"]}')\n",
    "        print(f'Source {i}: {response.source_nodes[i].node.text.replace('\\n', ' ')}\n",
    "    display(Markdown(f\"{response.source_nodes[i].node.text}\"))"
   ]
  },
  {
   "cell_type": "code",
   "execution_count": 311,
   "metadata": {},
   "outputs": [
    {
     "name": "stdout",
     "output_type": "stream",
     "text": [
      "NodeWithScore(node=Node(text='Human: How is epistemic injustice related to hermeneutical injustice? How can one lead to another? How are they related to a phenomenon called linguistic hijacking, the phenomenon wherein politically significant terminology is co-opted by dominant groups in ways that further their dominance over marginalized groups?', doc_id='6c847e35-6a2f-4f8a-8ed9-fa95206c2bed', embedding=None, doc_hash='94bdbf463378b2964390b01ec21093cbc26eb7e381aeb8b9efecbc3c7f6fd01b', extra_info=None, node_info={'start': 0, 'end': 317}, relationships={<DocumentRelationship.SOURCE: '1'>: '0e8c764a-7b39-484f-b5b5-44eab5fddbfc'}), score=0.9216434558454673)\n",
      "NodeWithScore(node=Node(text='injustice —by filling in hermeneutical lacunae —does not entail\\nthat positive forms of hermeneutical injustice will be guarded against and rectified as\\nwell. Hermeneutical injustice isn ’t overcome unless hermeneutical resources that accu-\\nrately depict social reality robustly gain an influential and authoritative grip on the\\nsocial world —a grip that positively influences and improves the lives of those in mar-\\nginalized communities. Only then can hermeneutical resources support meaningfulHypatia 355\\nhttps://doi.org/10.1017/hyp.2022.4  Published online by Cambridge University Press\\nchange in helping to reform our social and political landscapes for the better. The sheer\\nexistence of a concept, even if it has been disseminated both intra and intercommunally,\\nthough vitally important, is not enough to ensure this.\\nTheorizing about hermeneutical injustice using this more expansive framework\\nhelps us to reveal significant limits of a lacuna-centered model by illustrating how her-\\nmeneutical injustice may persist well after lacunae are filled. Additionally, an expansive\\nframework supports a characterization of hermeneutical injustice as an appropriatelysocial phenomenon by highlighting the overarching social environments in which her-\\nmeneutical resources are embedded and implemented. A more expansive framework —\\none that recognizes both positive and negative forms of hermeneutical injustice —is\\nmore complete and possesses more explanatory depth to the extent that it acknowledges\\nthe aptness or applicability of socially significant concepts within specific social con-\\ntexts, and relative to their operationalization within a given social milieu.\\nThis expansive framework also has important connections to Pohlhaus ’s analysis of\\nwillful hermeneutical ignorance , as well as Dotson ’s account of contributory injustice.\\nRecall that willful hermeneutical ignorance occurs when dominantly situated knowersrefuse to acquire the hermeneutical tools of those from marginalized groups, and, as\\na result, sustain hermeneutical lacunae at the level of the dominant (or intercommunal)\\nhermeneutical repertoire. On a more expansive approach, we can begin to describe a\\nphenomenon adjacent to willful hermeneutical ignorance. Even after a concept is col-\\nlectively available, that is, even after the dominantly situated have acquired the concepts\\nneeded to make the experiences of marginalized members of society intelligible, they\\nmay still willfully refuse to adopt the proper application conditions for such concepts.\\nThis will directly affect the overall productive function and value of such concepts\\nwithin one ’s social milieu. In such cases, those in dominant positions may acknowledge,\\nacquire, and even widely utilize a concept —yet they may refuse to apply it in particular\\nsituations because of their continued use of controlling images and oppressive distorting\\nconcepts.\\nIn a related vein, recall Dotson ’s notion of contributory injustice that occurs when,\\nbecause of willful hermeneutical ignorance, the dominantly situated refuse to adopt\\nthe hermeneutical resources of those from marginalized groups and instead use\\nother, often prejudiced, resources instead. When this happens, the epistemic agencyof marginalized individuals is frustrated and undermined; they are unable to positively\\ncontribute to the dominant hermeneutical repertoire. In light of the more expansive\\nframework, we can begin to explain a related way in which the epistemic agency of mar-\\nginalized groups may be compromised. This happens when the dominantly situated fail\\nto properly apply and utilize a socially significant concept accurately and for its\\nintended productive purposes. Systematic failures of conceptual application,', doc_id='023b5f37-f574-420c-afb3-f838eb18e6a6', embedding=None, doc_hash='73ea26de7a7acd6d8c15276d80be30011a95811b127735f439b99a0541fd9087', extra_info={'filename': '..\\\\..\\\\papers\\\\For_Imposter_Concept_Paper\\\\hermeneutical-injustice-distortion-and-conceptual-aptness.pdf'}, node_info={'start': 60935, 'end': 64666}, relationships={<DocumentRelationship.SOURCE: '1'>: 'e27d1a05-defb-4475-849a-5c6752c1b29a'}), score=0.9204355655660394)\n",
      "NodeWithScore(node=Node(text='injustice that occurs when,\\nbecause of willful hermeneutical ignorance, the dominantly situated refuse to adopt\\nthe hermeneutical resources of those from marginalized groups and instead use\\nother, often prejudiced, resources instead. When this happens, the epistemic agencyof marginalized individuals is frustrated and undermined; they are unable to positively\\ncontribute to the dominant hermeneutical repertoire. In light of the more expansive\\nframework, we can begin to explain a related way in which the epistemic agency of mar-\\nginalized groups may be compromised. This happens when the dominantly situated fail\\nto properly apply and utilize a socially significant concept accurately and for its\\nintended productive purposes. Systematic failures of conceptual application, particularly\\nwhen this is the result of endorsing and maintaining the use of oppressive concepts or\\ncontrolling images, can serve to undermine the epistemic agency of marginalized indi-\\nviduals insofar as it limits their capacity to influence how hermeneutical resources areimplemented andutilized within a social milieu. When this happens, marginalized indi-\\nviduals are unjustly undermined in their ability to contribute hermeneutical resources\\nwith robust productive value and influence, that is, resources that are able to effectively\\nsupport social and political change.\\nOftentimes, when disadvantaged communities develop hermeneutical resources,\\nthey do so not only because they are valuable interpretive tools needed to understand\\nand communicate their experiences, but also because they are vital productive resources\\nthat are needed to help improve their material circumstances. The hope is that these356 Arianna Falbo\\nhttps://doi.org/10.1017/hyp.2022.4  Published online by Cambridge University Press\\nresources will be accurately and effectively deployed in society to improve the lives of\\nindividuals within these communities (for example, to help survivors of sexual vio-\\nlence). However, if members of society continue to engage in oppressive social practices,\\nspecifically, those that make use of and reinforce the influence of oppressive controlling\\nimages and distorting concepts, then these hermeneutical contributions will be signifi-\\ncantly diminished.\\nVI. Hermeneutical Justice\\nWhat might it take to overcome hermeneutical injustice? Here I will begin to sketch apath forward. A more expansive framework suggests that hermeneutical justice requires\\nmore than filling in hermeneutical lacunae. More plausibly, combating hermeneutical\\ninjustice demands collective social movements aimed at disrupting and reforming dom-\\ninant conceptual frameworks and social scripts. Hence, it ’s not only important to\\ndevelop and widely disseminate novel concepts needed to understand socially signifi-\\ncant experiences. But equally (if not more) important is unlearning and dislodging\\nthe distorting ideological grip of controlling images and oppressive concepts that are\\noperative within one ’s social milieu.\\nThis is unlikely to be effective if done piecemeal, individual by individual, concept by\\nconcept. Instead, hermeneutical justice is more likely to be achieved with collective\\nsocial action —movements that center the voices and experiences of marginalized indi-\\nviduals and that aim to disrupt and expose systemic patterns of oppression and exploi-\\ntation.\\n19We can look to the gay rights movement and the fight for marriage equality in\\nNorth America as an illustrative example. The concept marriage is now (to a great\\nextent) routinely applied to gay couples in social and legal contexts. This movement\\nhelped to support the intelligibility of gay marriage, but additionally, it enabled gay cou-\\nples to enjoy benefits and privileges afforded by legal unions (for example, health insur-ance benefits, immigration and residency benefits, Social Security', doc_id='b6cfd999-7a4d-4e06-819a-0d848907e76c', embedding=None, doc_hash='648070f7b33aa238a0f7307e67f0444af54f536b22470d84789db20866d9ee94', extra_info={'filename': '..\\\\..\\\\papers\\\\For_Imposter_Concept_Paper\\\\hermeneutical-injustice-distortion-and-conceptual-aptness.pdf'}, node_info={'start': 64644, 'end': 68488}, relationships={<DocumentRelationship.SOURCE: '1'>: 'e27d1a05-defb-4475-849a-5c6752c1b29a'}), score=0.9201984798050473)\n",
      "NodeWithScore(node=Node(text='injustice. Conceptual competence does not\\nensure the accurate application of a concept, especially in high-stakes social contexts\\nwhere privileged groups stand to gain from conceptual distortion and oppressive ideo-\\nlogical practices. The application of the needed concept may be defeated or preempted\\nwhen pernicious background ideologies and social practices dictate that some other\\nopposing and distorting concept is more applicable. Hence, even if the concept is avail-\\nable and widely used across social groups and communities, this is not enough to secureits accurate application, and importantly, not enough to reap the productive value of the\\nconcept in important social contexts.\\nLet’s take stock. So far, I have outlined the productive function and power of herme-\\nneutical resources —how they serve to organize members of society and how some dis-\\ntorting concepts or controlling images purport to justify and normalize unjust social\\narrangements. This drew our attention to an important, yet often overlooked, value\\nof hermeneutical resources, namely, their productive value and potential to support\\nsocial and political change. Thus, the value of hermeneutical resources is at least two-\\nfold: they have productive as well as interpretive value. Recognizing this, in turn, helped\\nto uncover a species of hermeneutical injustice that does not result from a hermeneu-\\ntical lack. Reflecting upon concrete examples of hermeneutical injustice without lacunae\\nmade highlighted a critical need to consider how concepts are operationalized within a\\ngiven social milieu —how they combine with other extant concepts and how they are\\nintegrated into preexisting hermeneutical frameworks. The need for this is especially\\npressing when extant hermeneutical frameworks contain negative controlling images\\nand oppressive distorting concepts. Such concepts have the potential to crowd out,\\ndefeat, or preempt the application of an available and more accurate hermeneutical\\nresource.\\nIn the next section, I begin to develop a more expansive and more socially situated\\nframework for theorizing about hermeneutical injustice. This approach aims to accom-\\nmodate cases of hermeneutical injustice both with and without hermeneutical gaps.\\nV. A More Expansive Framework: Positive and Negative Hermeneutical Injustice\\nWhy do the cases described thus far capture a distinct species of hermeneutical injus-\\ntice? Recall that according to Fricker the primary harm of hermeneutical injustice “con-\\nsists in a situated hermeneutical inequality : the concrete situation is such that the\\nsubject is rendered unable to make communicatively intelligible something which it\\nis particularly in his or her interests to be able to render intelligible ”(Fricker 2007 ,\\n162). We can break down Fricker ’s analysis more precisely as requiring the following\\nnecessary conditions. Hermeneutical injustice occurs when: (i) one ’s experience fails\\nto be intelligible (either to oneself or to others), (ii) the hermeneutical tools needed\\nto make one ’s experience intelligible are not collectively shared by those in the relevant\\nsocial context, and (iii) this is due to a lacuna in the collective hermeneutical repertoire\\nresulting from one ’s hermeneutical marginalization.\\nConsider the perspective of Chanel Miller, the survivor in the Turner case. Miller\\nwas clearly in a position to render her experience intelligible —she wasn ’t hindered in\\nher ability to understand that she was a victim of rape. This was unmistakably and pain-\\nfully obvious to her. Others, however, were reluctant, or altogether failed, to apply the\\nconcept rapist to Turner. This, of course, is not to say that such individuals lacked the\\nconcept rapist ; this concept was available and intelligible to them.', doc_id='72abf306-a8d4-418a-92a1-850892f941d9', embedding=None, doc_hash='e0fa545314c67d9db9f86a3ef112faa54b9ea3d3172f4a9767aa6826b4568490', extra_info={'filename': '..\\\\..\\\\papers\\\\For_Imposter_Concept_Paper\\\\hermeneutical-injustice-distortion-and-conceptual-aptness.pdf'}, node_info={'start': 45957, 'end': 49713}, relationships={<DocumentRelationship.SOURCE: '1'>: 'e27d1a05-defb-4475-849a-5c6752c1b29a'}), score=0.9196376256538776)\n"
     ]
    }
   ],
   "source": [
    "for i in range(len(response.source_nodes)):\n",
    "    print(response.source_nodes[i])"
   ]
  },
  {
   "cell_type": "code",
   "execution_count": 34,
   "metadata": {},
   "outputs": [
    {
     "name": "stderr",
     "output_type": "stream",
     "text": [
      "INFO:llama_index.token_counter.token_counter:> [query] Total LLM token usage: 14717 tokens\n",
      "INFO:llama_index.token_counter.token_counter:> [query] Total embedding token usage: 28 tokens\n"
     ]
    },
    {
     "data": {
      "text/markdown": [
       "<b>\n",
       "\n",
       "Hermeneutical injustice can exist when oppressive concepts limit or altogether block their use, due to oppressive images and distorting concepts. This can create a situation where the meaning of concepts is distorted, eventually losing its meaning.</b>"
      ],
      "text/plain": [
       "<IPython.core.display.Markdown object>"
      ]
     },
     "metadata": {},
     "output_type": "display_data"
    },
    {
     "name": "stdout",
     "output_type": "stream",
     "text": [
      "> Source (Doc id: dce56ddf-710f-4da2-8fd6-b35d0e967dfd): injus-\n",
      "tice. Is this the right result? I think it would be a serious mistake to draw this conclu-...\n",
      "\n",
      "> Source (Doc id: dce56ddf-710f-4da2-8fd6-b35d0e967dfd): ARTICLE\n",
      "Hermeneutical Injustice: Distortion and\n",
      "Conceptual Aptness\n",
      "Arianna Falbo\n",
      "Department of Ph...\n",
      "\n",
      "> Source (Doc id: dce56ddf-710f-4da2-8fd6-b35d0e967dfd): the presence of negative\n",
      "controlling images might very well serve to sustain and reinforce hermen...\n"
     ]
    }
   ],
   "source": [
    "# curie\n",
    "response = index.query(\"How is hermeneutical injustice related to a phenomenon where the meaning of concepts are twisted and co-opted, eventually losing their meaning?\", similarity_top_k = 3)\n",
    "display(Markdown(f\"<b>{response}</b>\"))\n",
    "print(response.get_formatted_sources())\n",
    "for i in range(len(response.source_nodes)):\n",
    "    print(f'Source {i}: {response.source_nodes[0].extra_info[\"filename\"]}')"
   ]
  },
  {
   "cell_type": "code",
   "execution_count": 23,
   "metadata": {},
   "outputs": [
    {
     "name": "stderr",
     "output_type": "stream",
     "text": [
      "INFO:llama_index.token_counter.token_counter:> [query] Total LLM token usage: 4049 tokens\n",
      "INFO:llama_index.token_counter.token_counter:> [query] Total embedding token usage: 11 tokens\n"
     ]
    },
    {
     "data": {
      "text/markdown": [
       "<b>Refined answer: Hermeneutical injustice is an epistemic injustice that can arise from both a lack of hermeneutical resources as well as the overabundance of distorting and oppressive concepts that prevent the application of accurate concepts. The lacuna-centered model focuses on the former and emphasizes the importance of naming and intelligibility in filling gaps in hermeneutical resources to overcome hermeneutical injustice. However, this model is incomplete as it fails to acknowledge the latter species of hermeneutical injustice. This more expansive framework recognizes that hermeneutical injustice can also result from the pervasive use of oppressive concepts that prevent accurate understanding and interpretation of socially significant experiences.</b>"
      ],
      "text/plain": [
       "<IPython.core.display.Markdown object>"
      ]
     },
     "metadata": {},
     "output_type": "display_data"
    },
    {
     "name": "stdout",
     "output_type": "stream",
     "text": [
      "> Source (Doc id: dce56ddf-710f-4da2-8fd6-b35d0e967dfd): ARTICLE\n",
      "Hermeneutical Injustice: Distortion and\n",
      "Conceptual Aptness\n",
      "Arianna Falbo\n",
      "Department of Ph...\n"
     ]
    }
   ],
   "source": [
    "# set Logging to DEBUG for more detailed outputs\n",
    "response = index.query(\"How is hermeneutical injustice related to a phenomenon where the meaning of concepts are twisted and co-opted, eventually losing their meaning?\", similarity_top_k = 1, query_transform = DecomposeQueryTransform(llm_predictor))\n",
    "display(Markdown(f\"<b>{response}</b>\"))\n",
    "print(response.get_formatted_sources())\n",
    "for i in range(len(response.source_nodes)):\n",
    "    print(f'Source {i}: {response.source_nodes[0].extra_info[\"filename\"]}')"
   ]
  },
  {
   "cell_type": "code",
   "execution_count": 54,
   "metadata": {},
   "outputs": [
    {
     "data": {
      "text/plain": [
       "Response(response='The concept of hermeneutical injustice is related to a phenomenon where the meaning of concepts are twisted and co-opted, eventually losing their meaning by sustaining and promoting pernicious background ideologies and unjust social arrangements. This can happen in various ways, such as through eliciting inappropriate inferences or analogies, as outlined by Ishani Maitra. The distortion of concepts contributes to the restriction of the productive function and power of liberatory concepts, both old and new, and requires large-scale social movements aimed at dismantling oppressive ideologies and social practices. Filling in hermeneutical gaps is just one part of a much broader, comprehensive, and socially embedded process to guard against and overcome the harms of hermeneutical injustice. However, a lacuna-centered framework proposes that hermeneutical injustice stems from one\\'s inability to make a significant social experience intelligible owing to a gap in the stock of hermeneutical resources, where this gap is a result of hermeneutical marginalization. According to this approach, hermeneutical injustice is perpetuated by the persistence and/or cultivation of hermeneutical lacunae, and hermeneutical justice calls for hermeneutical \"plugs\" to fill in the gaps. Therefore, the lacuna-centered framework highlights a different way for hermeneutical gaps to emerge, which feature prominently in analyzing hermeneutical injustice.', source_nodes=[NodeWithScore(node=Node(text='benefits, immigration and residency benefits, Social Security programs, and so on).\\nHaving marriage readily apply to gay couples was productively powerful —it helped to\\nimprove the material conditions of many gay couples across North America.\\nAnother example is the #BodyPositivity movement, which has gained a global online\\nfollowing over the past decade (Baker 2015 ; Crabbe 2017 ; Taylor 2018 ). The overarching\\nmission of this movement is to combat mainstream narratives that promote unhealthy\\nand downright unattainable standards of beauty, body image, and health, targeting pri-marily young women and girls. By centering bodies that are marginalized in main-\\nstream media —disabled bodies, fat bodies, and bodies of color —and with slogans\\nlike “‘Fat’is not a bad word ”(Shackelford 2019 ) and artists like Cinta Tort Cartró\\nwho embraces the beauty of stretch marks by painting them vibrant colors (Park\\n2017 ), this movement aims to problematize dominant social assumptions and narratives\\nthat deem fatness and other marginalized body features to be a cause for embarrass-\\nment, shame, or inferiority.\\n20\\nCombating hermeneutical injustice is thus not simply a matter of filling in\\nhermeneutical gaps. Hermeneutical justice demands something much more radical andfar-reaching. More plausibly, it demands large-scale social movements aimed at disman-\\ntling oppressive ideologies and social practices. Without question, part of this will involve\\ncultivating and propagating novel conceptual resources —for example, concepts like gen-\\nderqueer, disability pride, body positivity, andsexual harassment —that is, it will require\\nfilling in hermeneutical lacunae. But, as we ’ve seen, much more is needed beyond this\\nto sufficiently guard against and overcome the harms of hermeneutical injustice.Hypatia 357\\nhttps://doi.org/10.1017/hyp.2022.4  Published online by Cambridge University Press\\nSo, where does this leave us? In closing, I want to emphasize what I take to be the\\nbest way forward in theorizing about hermeneutical injustice and epistemic injustice\\nmore broadly. The main thrust is this: we need to broaden our horizons and engage\\nin a more socially embedded way.21Contrasting cases of positive and negative herme-\\nneutical injustice serves to illustrate how concepts don ’t exist and operate independently\\nfrom each other, but are deeply interconnected. The productive value of hermeneutical\\ntools is both constrained and enabled by their place alongside other concepts within anoverarching social milieu. Moreover, the sheer fact that many concepts were and still are\\nneeded to make sense of the socially significant experiences of marginalized communi-\\nties should be extremely suggestive of the current state of collective hermeneutical\\nframeworks and the strong influence of unjust social practices and oppressive concepts\\nand controlling images therein.\\nIt is thus imperative that we pay close attention to how concepts can function to\\nsustain and promote pernicious background ideologies and unjust social arrangements,\\nand how this in turn can restrict the productive function and power of liberatory\\nconcepts, both old and new. The intelligibility gained from the introduction andwidespread dissemination of a hermeneutical resource is undeniably important.\\nHowever, this is just one dimension of hermeneutical progress that ought not distract\\nus from others. We must also recognize the productive function and value of\\nhermeneutical resources and how they come to be deemed applicable and utilized, or\\nmore important, notapplicable and notutilized, across diverse social environments.\\nSuccessfully overcoming hermeneutical injustice likely requires full-fledged social\\nmovements —it requires organization, mobilization, and activism. It requires challeng-\\ning and disrupting the status quo narrative and dislodging ingrained assumptions\\nand ideologies that normalize and purport to justify oppressive social arrangements.Introducing into the collective hermeneutical repertoire a hermeneutical resource that\\nis needed to understand the experiences of disadvantaged groups is clearly a move in\\nthe right direction —it is progress toward hermeneutical justice. However, if prevailing\\nsocial conditions aren ’t conducive to the concept ’s gaining a meaningful grip on the\\nworld —that is, to its being broadly applied in important social contexts where it accu-\\nrately describes social reality and where it stands to do productive work to help improve\\nthe material conditions of those in marginalized communities —the concept ’s potential\\nto combat hermeneutical injustice will be undermined. Contrary to what a lacuna-\\ncentered analysis suggests, filling in hermeneutical gaps is not enough to ensure herme-\\nneutical justice; it is just one part of a much broader, comprehensive, and socially\\nembedded process.\\nAcknowledgments. Earlier versions of this article were presented at the Summer Immersion Program in\\nPhilosophy at Brown University (2019), the Midwest Society for Women in Philosophy at the University of\\nCincinnati (2019), the Pacific Division of the APA (2021), and the Words Workshop (2021). I ’m grateful to\\naudience members for their feedback. I would also like to thank Zach Barnett, Endre Begby, Thomas\\nBrandt, David Christensen, Corbin Covington, Sally Haslanger, Jonathan Ichikawa, and Elizabeth Miller,\\nas well as two anonymous referees.\\nNotes\\n1Hermeneutical resources include interpretive tools such as tropes, narratives, stories, scripts, and con-\\ncepts. For simplicity, and following much of the literature, I will talk mostly in terms of conceptual\\nresources.358 Arianna Falbo\\nhttps://doi.org/10.1017/hyp.2022.4  Published online by Cambridge University Press\\n2This requirement is argued for in Fricker 2006 ;2007 ;2016 ; and 2017. Although much of Fricker ’s orig-\\ninal 2007 discussion frames hermeneutical injustice as centrally involving hermeneutical lacunae, it ’s nota-\\nble that she includes the example of Edmund White ’sA Boy ’s Own Story (White 1983 ). This is a\\nsemi-autobiographical novel that describe White ’s experiences in the 1950s as a gay young man battling\\ndominant stereotypes of homosexuality as unnatural or as a sickness. Thus, Fricker ’s discussion of herme-\\nneutical injustice is sensitive to how oppressive stereotypes —and not just conceptual gaps —can influence\\nhermeneutical injustice, yet she remains focused largely upon lacunae throughout her discussion (see, espe-\\ncially, Fricker 2007 , 161 –62, as well as the initial definition of hermeneutical injustice given at the start of\\nher book: “hermeneutical injustice occurs . . . when a gap in collective resources puts someone at an unfair\\ndisadvantage when it comes to making sense of their social experiences ”[1]).\\n3This requirement for hermeneutical injustice is adopted widely across recent literature. See, for example,\\nBeeby 2011 ; Medina 2011 ,2012 ; Dotson 2012 ; Dotson 2014 ; Anderson 2017 ; Goetze 2017 ; Medina 2017 ;\\nToole 2019 ; Vasilyeva and Ayala-López 2019 ; Beverley 2020 ; Dembroff 2020 ; Dembroff and Whitcomb\\nforthcoming .\\n4Thank you to an anonymous referee for suggesting this terminology.\\n5Fricker draws from Susan Brownmiller ’s memoir of the Women ’s Liberation Movement in the 1960s\\nwhen discussing the case of Carmita Wood (Brownmiller 1990 ). For other early uses of the concept sexual\\nharassment , see Rowe 1974 ; Nemy 1975 .\\n6Criticisms of Fricker ’s analysis of hermeneutical injustice have pointed out a failure to distinguish\\nbetween intra and intercommunal dissemination of hermeneutical resources. See, for example, Mason\\n2011 ; Medina 2012 ; 2013. It is worth noting that even the inter/intracommunal dissemination distinction\\nis fairly idealized. The boundaries here are likley not as crisp as this distinction might suggest. For a relateddiscussion, also see Ashley Atkins ’s distinction between resistant understanding and dominant or collective\\nunderstanding (Atkins 2018 ).\\n7In developing her analysis of controlling images, Collins cites the work of Mae King and Cheryl Gilkes\\n(King 1973 ; Gilkes 1981 ). In discussing the work of these two scholars, Collins notes:\\nKing suggests that stereotypes represent externally-defined, controlling images of Afro-American\\nwomanhood that have been central to the dehumanization of Black women and the exploitation\\nof Black women ’s labor. Gilkes points out that Black women ’s assertiveness in resisting the multifac-\\neted oppression they experience has been a consistent threat to the status quo. As punishment, Black\\nwomen have been assaulted with a variety of externally-defined negative images designed to controlassertive Black female behavior. The value of King ’s and Gilkes ’analyses lies in their emphasis on the\\nfunction of stereotypes in controlling dominated groups. (Collins 1986 , 17, italics added)\\n8Note: as was mentioned previously, this does not necessarily mean that Black women are unable to\\ndevelop and use hermeneutic resources intra communally.\\n9We can also compare similar influential rhetoric during World War II that described Jewish people as\\n“vermin. ”For example, this language is prevalent in The Eternal Jew , a 1940 Nazi propaganda film. For\\nfurther discussions on the productive function of pernicious social concepts see, for example, Young\\n1990 , chapter 2, on cultural imperialism, Kukla 2018 on the relationship between slurs and ideology,\\nand Neufeld 2019 on slurs and essentialization.\\n10It is also important to note that “monstrosity ”and “animality ”are also deeply racialized notions in a\\nUnited States context, associated primarily with Black people and people of color. Consider, for example,\\nthe rhetoric surrounding the 1989 “Central Park Five ”case where five Black teenagers were wrongfully\\naccused of raping a white woman who was jogging in Central Park. These boys were described as a\\n“wolf pack, ”“animals, ”“bloodthirsty, ”“savages, ”and “wilding ”(Hinton 2019 ).\\n11At the time of the trial, the victim ’s name was kept anonymous and listed under “Emily Doe. ”However,\\nChanel Miller has recently shared her story with the broader public in a memoir: Know My Name (Miller\\n2019\\n).\\n12Manne ’s discussion of the Brock Turner case engages primarily with Fricker ’s account of testimonial\\ninjustice, a kind of epistemic injustice wherein a testifier ’s report fails to gain uptake owing to an identity\\nprejudice that the testimonial recipient has against the testifier. It ’s noteworthy that Fricker focuses primar-\\nily upon credibility deficits when developing her analysis of testimonial injustice (that is, giving too littleHypatia 359\\nhttps://doi.org/10.1017/hyp.2022.4  Published online by Cambridge University Press\\ncredit to a testifier because of an identity prejudice that one has against them) (Fricker 2007 ). However,\\nrecent scholarship has persuasively argued that credibility surpluses —giving a testifier too much credit\\nowing to some prejudice —can also perpetuate testimonial injustice. See Medina 2012; Davis 2016 ;Y a p\\n2017 ; and Lackey 2018 ;2020 for further defenses of this point.\\n13Parts of this passage are quoted and discussed in Manne 2020 , 38. See Manne 2020 , chapter 3, for an\\ninsightful further discussion of this case.\\n14Another telling example concerns how Muslim men who commit violent acts against civilians are rou-\\ntinely labeled terrorists across United States media channels. But, when non-Muslim, white men commit\\nnearly identical acts, their behavior is routinely attributed to nonessential features of their psychology(for example, mental illness) or exogenous features of their environment (for example, poor childhood\\nupbringing or a bad neighborhood). White terrorists are typically interpreted as hapless victims of circum-\\nstance and as not acting in accordance with their “real”selves. Across many cases, in a North American\\ncontext, being a white man can, and often does, undermine one ’s classification as a terrorist —even\\nwhen one has committed blatant terrorist acts. See Kunst, Myhren, and Onyeador 2018 for further discus-\\nsion. This relates to what psychologists have called the “fundamental attribution error. ”For further discus-\\nsion see, for example, Sarah-Jane Leslie ’s work on generics and essentialization (Leslie 2017 ).\\n15Cf. Haslanger 2020b , who draws upon Yalcin 2016 , when defending the view that the content of a con-\\ncept is a partition of logical space. To possess a concept, in her view, is to have a disposition that responds to\\nthat partition in certain ways. However, one ’s ability to attend to the partition correctly (that is, to separate\\nthe X ’s from the non-X ’s) may vary depending upon a number of factors. Haslanger provides the following\\nillustrative case:\\nFor example, we may have the same concept of cat—the informational content of the concept catis\\nthe same for each of us —but our possession of it occurs in somewhat different ways so that certain\\ninferences are more direct for me than they are for you, or that I am more ready to apply the concept\\nthan you. Or it may be that because you know more about cats, you have a sensitivity to different\\nkinds of cat, so your partition of logical space is more fine-grained. (Haslanger 2020b , 240)\\nThis analysis helps to capture the idea that merely possessing or being competent with a concept is not, and\\nusually isn ’t, an indication that the individual can accurately apply the concept across all cases (that is, that\\nthey have a perfect ability to sort the X ’s from the non-X ’s).\\n16Cf. Endre Begby ’s analysis of evidential preemption in the context of testimonial exchange, especially\\nwhat he calls\\n“epistemic grooming ”(Begby 2020 ).\\n17Ishani Maitra outlines different ways in which concepts might be distorting using the concepts statutory\\nrape andsexual harassment as case studies (Maitra 2018 ). I hope to remain neutral on the ways in which\\nconcepts might be distorting; I believe that the phenomena in question are diverse and complex. Offering a\\ntaxonomy of the various ways in which concepts distort social reality is beyond the scope of this article;however, Maitra ’s work is helpful in outlining two potential ways this happens: through eliciting inappro-\\npriate inferences or eliciting inappropriate analogies. Also see Jenkins 2017 for a related and illuminating\\ndiscussion of the relationship between rape myths and hermeneutical injustice. Jenkins considers caseswhere a victim of rape is unable to understand her experience asrape owning to operative and distorting\\nrape myths.\\n18It is important to note that in some', doc_id='8b21a4fb-16c0-42b8-bd6f-c644b208f6c4', embedding=None, doc_hash='79a2a1c7f119595a1f753aaa12a42eaa0d4368fac0ff95e78b2661fcb44ac183', extra_info={'filename': '..\\\\..\\\\papers\\\\For_Imposter_Concept_Paper\\\\hermeneutical-injustice-distortion-and-conceptual-aptness.pdf'}, node_info={'start': 57990, 'end': 72524}, relationships={<DocumentRelationship.SOURCE: '1'>: 'e27d1a05-defb-4475-849a-5c6752c1b29a'}), score=0.8718824838329995), NodeWithScore(node=Node(text='ARTICLE\\nHermeneutical Injustice: Distortion and\\nConceptual Aptness\\nArianna Falbo\\nDepartment of Philosophy, Brown University, 45 Prospect Street, Providence, RI, 02912, USA\\nCorresponding author. arianna_falbo@brown.edu\\n(Received 8 March 2020; revised 2 January 2021; accepted 2 March 2021)\\nAbstract\\nThis article develops a new approach for theorizing about hermeneutical injustice.According to a dominant view, hermeneutical injustice results from a hermeneuticalgap: one lacks the conceptual tools needed to make sense of, or to communicate, impor-\\ntant social experiences, where this lack is a result of an injustice in the background socialmethods used to determine hermeneutical resources. I argue that this approach is incom-plete. It fails to capture an important species of hermeneutical injustice which doesn ’t\\nresult from a lack of hermeneutical resources, but from the overabundance of distorting\\nand oppressive concepts which function to crowd-out, defeat, or pre-empt the applicationof a more accurate hermeneutical resource. I propose a broader analysis that betterrespects the dynamic relationship between hermeneutical resources and the social andpolitical contexts in which they are implemented.\\nI. Introduction\\nScholarship on epistemic injustice has highlighted the importance of hermeneutical\\nresources in facilitating the intelligibility of socially significant experiences.1Notably,\\nMiranda Fricker has defended a species of epistemic harm that she calls hermeneutical\\ninjustice . On her analysis, hermeneutical injustice arises when one attempts to make a\\nsocially significant experience intelligible, but can ’t because one lacks the required her-\\nmeneutical tools (Fricker 2007 , 1). There is a gap in the inventory of hermeneutical\\nresources that are used to render important social experiences intelligible, where this\\ngap is the result of an injustice in the background social methods used to determine\\nhermeneutical resources (Fricker 2006 ;2007 ;2016 ;2017 ).\\nDespite various points of disagreement and further developments concerning\\nFricker ’s analysis, one key assumption appears to have gained widespread acceptance\\nin the literature. This is that hermeneutical injustice requires a lacuna in the stock of\\nhermeneutical resources used to interpret socially significant experiences.2The lacuna\\nrequirement imposes a necessary condition on the occurrence of a hermeneutical\\n© The Author(s), 2022. Published by Cambridge University Press on behalf of Hypatia, a Nonprofit Corporation. This is\\nan Open Access article, distributed under the terms of the Creative Commons Attribution licence ( https://creativecom-\\nmons.org/licenses/by/4.0/ ), which permits unrestricted re-use, distribution, and reproduction in any medium, provided\\nthe original work is properly cited.Hypatia (2022), 37, 343 –363\\ndoi:10.1017/hyp.2022.4\\nhttps://doi.org/10.1017/hyp.2022.4  Published online by Cambridge University Press\\ninjustice. A hermeneutical resource is absent from the hermeneutical repertoire, and\\nhad the needed concept been available —had this lacuna been filled —the injustice\\nwould no longer persist.3\\nIn what follows, I argue that a lacuna-centered approach to hermeneutical injustice is\\nincomplete. The lacuna requirement entails an overly narrow analysis of hermeneutical\\ninjustice and, as a result, it fails to capture an important species of hermeneutical injustice\\nthat merits more careful investigation. In particular, this approach fails to recognize a spe-cies of hermeneutical injustice that doesn ’t result from a dearth of hermeneutical\\nresources, but from the overabundance of distorting and oppressive concepts that func-\\ntion to crowd out, defeat, or preempt the application of an available and more accurate\\nconcept. Focusing on cases of hermeneutical injustice without hermeneutical lacunae\\nhelps to make salient important social dimensions of this epistemic injustice. It highlights\\nthe need for not only for novel hermeneutical resources —that is, the need to fill in her-\\nmeneutical gaps —but also the importance of acknowledging how those same resources\\nare integrated into extant conceptual frameworks within an overarching social milieu.\\nIn the next section, I develop the lacuna-centered approach in more detail. Following,\\nin section III, I argue that, in addition to facilitating intelligibility, hermeneutical resources\\nalso serve crucial productive functions —they organize and coordinate individuals within a\\nsocial milieu. In light of this, in section IV, I defend cases of hermeneutical injustice that\\ndon’t arise from a conceptual lack. In section V, I develop a broader framework for the-\\norizing about hermeneutical injustice and highlight its advantages. This framework rec-\\nognizes two distinct species of hermeneutical injustice: what I call positive andnegative\\nhermeneutical injustice.\\n4I end by sketching an approach to hermeneutical justice that\\nnaturally flows out of this more expansive framework.\\nII. The Lacuna-Centered Analysis\\nFricker draws our attention to the emergence of the concept sexual harassment in the\\nearly 1970s. She details the case of Carmita Wood, who quit her job at Cornell\\nUniversity ’s Nuclear Physics Department after experiencing persistent and unwanted\\nsexual advances from her boss. He would “jiggle his crotch ”while passing her desk\\nand would “deliberately brush against her breasts while reaching for some papers ”\\n(Fricker 2007 , 150).5When applying for unemployment insurance, Wood was required\\nto explain why she had quit, but she found herself at a loss for words. It wasn ’t shame-\\nless flirting or mere office humor that caused her to leave; what she experienced was\\nflat-out sexual harassment. But, since this concept had yet to make its way into collec-\\ntive understanding —let alone onto unemployment insurance forms —Wood couldn ’t\\narticulate her experience as such. She reported that she had quit for “personal reasons ”\\nand was subsequently denied insurance.\\nFricker describes Wood ’s case as a paradigmatic instance of hermeneutical injustice.\\nShe says: “Here is a story about how extant collective hermeneutical resources can have\\na lacuna where the name of a distinctive social experience should be ”(150 –51).\\nAccordingly, the hermeneutical injustice Wood faced resulted from a gap in the avail-able stock of hermeneutical resources; there was a lacuna where the concept sexual\\nharassment should have been. Moreover, this lacuna is a consequence of an injustice\\nin the background social methods that are used to determine hermeneutical resources.\\nIn Fricker ’s terminology, women like Wood faced hermeneutical marginalization : they\\nwere not equitably included in the political and legal contexts that serve to define the\\nconditions for unemployment.344 Arianna Falbo\\nhttps://doi.org/10.1017/hyp.2022.4  Published online by Cambridge University Press\\nAccording to this approach, the primary harm of hermeneutical injustice concerns a\\nlack of intelligibility resulting from one ’s hermeneutical marginalization. Fricker says:\\n“the subject is rendered unable to make communicatively intelligible something\\nwhich it is particularly in his or her interests to be able to render intelligible ”(162).\\nThe secondary harms of hermeneutical injustice, Fricker argues, concern the down-\\nstream negative consequences that result from this unintelligibility. In Wood ’s case,\\nthis includes, among other things, her being denied unemployment insurance as wellas her increased levels of stress and anxiety.\\nT h ec a s eo fC a r m i t aW o o da n dt h ee m e r g e n c eo ft h ec o n c e p t sexual harassment\\nhas now become the stock example of hermeneutical injustice in the literature, but\\nit’s important to highlight that this injustice, as it ’s understood on a lacuna-\\ncentered model, can be illustrated using many other examples. Consider the recent\\nemergence of the concept genderqueer as a hermeneutical resource for understand-\\ning and giving recognition to the identities of nonbinary people. Robin Dembroff\\nargues that:\\nwithout the resources for understanding nonbinary gender identities, we sustain a\\nconceptual lacuna surrounding nonbinary persons. This lacuna does not only\\nreflect a gap in philosophical understanding: it contributes to a hermeneutical\\ninjustice that arises from the failure to spread and charitably analyze the concepts\\nand practices underlying nonbinary classifications. (Dembroff 2020 , 2, italics\\nadded)\\nAnother example is the concept of disability pride as it emerged in the disability\\nrights movement in the 1960s. Elizabeth Barnes has discussed the importance of this\\nconcept in challenging dominant associations of disability with tragedy, inferiority,\\nand shame. Barnes says: “As disabled people, we are forever being told that there is\\nsomething about our bodies that is lacking, that is less than . Disability pride says it\\ndoesn ’t have to be that way. Disability pride says that we may have minority bodies,\\nbut we don ’th a v e —we refuse to have —tragic bodies ”(Barnes 2016 , 186). For disabled\\nand nondisabled people alike, Barnes argues that the concept of disability pride has\\nhelped to make intelligible that disability can be the subject of genuine pride.\\nRecent scholarship has also highlighted significant limitations of Fricker ’s analysis\\nand has further expanded upon it. Gaile Pohlhaus develops the valuable notion of will-\\nful hermeneutical ignorance , which occurs when dominantly situated individuals refuse\\nto adopt the hermeneutical resources of marginalized groups (Pohlhaus 2012 ). Willful\\nhermeneutical ignorance functions to maintain hermeneutical gaps at the intercommu-\\nnal level —that is, though such resources may be utilized, even widely, among members\\nof one ’s own community or social group (that is, they are intra communally available),\\nlacunae nevertheless persist at the level of the dominant or collective hermeneutical rep-\\nertoire, which is used to interpret and communicate one ’s experiences across social\\ngroups more broadly.\\n6\\nBuilding upon the work of Pohlhaus and others, Kristie Dotson has developed an\\nanalysis of contributory injustice . This is an epistemic injustice resulting from willful\\nhermeneutical ignorance, which occurs when dominantly situated individuals choose\\nto employ prejudiced hermeneutical resources when they could have used more accu-\\nrate resources that have already been developed by those in marginalized communities\\n(Dotson 2012 ). Contributory injustice concerns the refusal among those in dominant\\npositions to allow marginalized individuals to exercise their epistemic agency byHypatia 345\\nhttps://doi.org/10.1017/hyp.2022.4  Published online by Cambridge University Press\\ncontributing to the dominant hermeneutical repertoire. As a result, hermeneutical gaps\\npersist within the dominant (or intercommunal) hermeneutical inventory.\\nRelatedly, Luvell Anderson has analyzed how hermeneutical gaps may be actively\\ncultivated through the suppression of extant hermeneutical resources. Anderson gives\\nthe example of postracial movements aimed at eradicating and “moving beyond\\nrace”(Anderson 2017 ). Attempts to promote color-blind politics, he argues, function\\nto erase the concept race and the indispensable role it plays in understanding the expe-\\nriences of people of color (145 –46). Anderson thus enriches the lacuna-centered\\napproach to hermeneutical injustice by illustrating how some lacunae are actively cre-\\nated by the removal of available hermeneutical resources.\\nA common thread that unites these otherwise distinct analyses is an adherence to a\\nlacuna-centered framework for theorizing about hermeneutical injustice. Although\\nAnderson highlights a different way for hermeneutical gaps to emerge, lacunae feature\\nprominently in his analysis. And though Dotson and Pohlhaus articulate how needed\\nhermeneutical resources may be available and utilized within marginalized communi-\\nties, they highlight how lacunae may persist more broadly, within the stock of dominantor collective conceptual resources used to communicate across social groups. Hence,\\nhere too we find a similar background assumption, namely, the lacuna requirement.\\nA lacuna-centered approach has also influenced prominent conceptions of herme-\\nneutical justice. Fricker discusses the overcoming of hermeneutical injustice in the\\ncase of Wendy Sanford, a woman who suffered from postnatal depression after the\\nbirth of her child in the 1960s, prior to the emergence of the concept postnatal depres-\\nsion. She describes Sanford ’s experience during a consciousness-raising session:\\nWendy Sanford ’s moment of truth seems to be not simply a hermeneutical break-\\nthrough for her and for the other women present, but also a moment in which\\nsome kind of epistemic injustice is overcome . . . . If we can substantiate this intui-\\ntion, then we shall see that the area of hermeneutical gloom with which she had\\nlived up until that life-changing forty-five minutes constituted a wrong done to her\\nin her capacity as a knower, and was thus a specific sort of epistemic injustice —a\\nhermeneutical injustice. (Fricker 2007 , 149, italics added)\\nInfluenced by a lacuna-centered model, great importance is routinely placed upon\\nthe initial naming and subsequent intelligibility that hermeneutical resources help to\\nfacilitate (cf. McKinnon 2016 , 441; Davis 2018 , 720). If hermeneutical injustice results\\nfrom lacunae, the thought goes, then hermeneutical justice naturally calls for herme-\\nneutical \"plugs\", as it were, concepts that function to fill in the gaps.\\nTo summarize: a lacuna-centered framework proposes that hermeneutical injustice\\nstems from one ’s inability to make a significant social experience intelligible (to oneself\\nor to others) owing to a gap in the stock of hermeneutical resources, where this gap is a\\nresult of hermeneutical marginalization. According to this approach, hermeneuticalinjustice is perpetuated by the persistence and/or cultivation of hermeneutical lacu-\\nnae—had such lacunae been filled (intra and intercommunally), hermeneutical injustice\\nwould be overcome.\\nAlthough a lacuna-centered framework for theorizing about hermeneutical injustice\\nhas been widely adopted and endorsed across much of the recent literature, I will now\\nargue that it ’s incomplete and that a more expansive framework is needed. The lacuna-\\ncentered model is overly narrow and, as a result, it fails to capture an important species\\nof hermeneutical injustice that doesn ’t arise from a', doc_id='cca0295e-639a-433b-a537-df88136a6d22', embedding=None, doc_hash='40112cc1c1578277593032f8f3a901c3409e7d691774831b1f06fafcabfa88ed', extra_info={'filename': '..\\\\..\\\\papers\\\\For_Imposter_Concept_Paper\\\\hermeneutical-injustice-distortion-and-conceptual-aptness.pdf'}, node_info={'start': 0, 'end': 14478}, relationships={<DocumentRelationship.SOURCE: '1'>: 'e27d1a05-defb-4475-849a-5c6752c1b29a'}), score=0.8699513267329656)], extra_info=None)"
      ]
     },
     "execution_count": 54,
     "metadata": {},
     "output_type": "execute_result"
    }
   ],
   "source": [
    "response"
   ]
  },
  {
   "cell_type": "code",
   "execution_count": 63,
   "metadata": {},
   "outputs": [
    {
     "name": "stdout",
     "output_type": "stream",
     "text": [
      "Source 0: ..\\..\\papers\\For_Imposter_Concept_Paper\\hermeneutical-injustice-distortion-and-conceptual-aptness.pdf\n",
      "Source 1: ..\\..\\papers\\For_Imposter_Concept_Paper\\hermeneutical-injustice-distortion-and-conceptual-aptness.pdf\n"
     ]
    }
   ],
   "source": [
    "for i in range(len(response.source_nodes)):\n",
    "    print(f'Source {i}: {response.source_nodes[0].extra_info[\"filename\"]}')"
   ]
  },
  {
   "cell_type": "code",
   "execution_count": 59,
   "metadata": {},
   "outputs": [
    {
     "data": {
      "text/plain": [
       "[NodeWithScore(node=Node(text='benefits, immigration and residency benefits, Social Security programs, and so on).\\nHaving marriage readily apply to gay couples was productively powerful —it helped to\\nimprove the material conditions of many gay couples across North America.\\nAnother example is the #BodyPositivity movement, which has gained a global online\\nfollowing over the past decade (Baker 2015 ; Crabbe 2017 ; Taylor 2018 ). The overarching\\nmission of this movement is to combat mainstream narratives that promote unhealthy\\nand downright unattainable standards of beauty, body image, and health, targeting pri-marily young women and girls. By centering bodies that are marginalized in main-\\nstream media —disabled bodies, fat bodies, and bodies of color —and with slogans\\nlike “‘Fat’is not a bad word ”(Shackelford 2019 ) and artists like Cinta Tort Cartró\\nwho embraces the beauty of stretch marks by painting them vibrant colors (Park\\n2017 ), this movement aims to problematize dominant social assumptions and narratives\\nthat deem fatness and other marginalized body features to be a cause for embarrass-\\nment, shame, or inferiority.\\n20\\nCombating hermeneutical injustice is thus not simply a matter of filling in\\nhermeneutical gaps. Hermeneutical justice demands something much more radical andfar-reaching. More plausibly, it demands large-scale social movements aimed at disman-\\ntling oppressive ideologies and social practices. Without question, part of this will involve\\ncultivating and propagating novel conceptual resources —for example, concepts like gen-\\nderqueer, disability pride, body positivity, andsexual harassment —that is, it will require\\nfilling in hermeneutical lacunae. But, as we ’ve seen, much more is needed beyond this\\nto sufficiently guard against and overcome the harms of hermeneutical injustice.Hypatia 357\\nhttps://doi.org/10.1017/hyp.2022.4  Published online by Cambridge University Press\\nSo, where does this leave us? In closing, I want to emphasize what I take to be the\\nbest way forward in theorizing about hermeneutical injustice and epistemic injustice\\nmore broadly. The main thrust is this: we need to broaden our horizons and engage\\nin a more socially embedded way.21Contrasting cases of positive and negative herme-\\nneutical injustice serves to illustrate how concepts don ’t exist and operate independently\\nfrom each other, but are deeply interconnected. The productive value of hermeneutical\\ntools is both constrained and enabled by their place alongside other concepts within anoverarching social milieu. Moreover, the sheer fact that many concepts were and still are\\nneeded to make sense of the socially significant experiences of marginalized communi-\\nties should be extremely suggestive of the current state of collective hermeneutical\\nframeworks and the strong influence of unjust social practices and oppressive concepts\\nand controlling images therein.\\nIt is thus imperative that we pay close attention to how concepts can function to\\nsustain and promote pernicious background ideologies and unjust social arrangements,\\nand how this in turn can restrict the productive function and power of liberatory\\nconcepts, both old and new. The intelligibility gained from the introduction andwidespread dissemination of a hermeneutical resource is undeniably important.\\nHowever, this is just one dimension of hermeneutical progress that ought not distract\\nus from others. We must also recognize the productive function and value of\\nhermeneutical resources and how they come to be deemed applicable and utilized, or\\nmore important, notapplicable and notutilized, across diverse social environments.\\nSuccessfully overcoming hermeneutical injustice likely requires full-fledged social\\nmovements —it requires organization, mobilization, and activism. It requires challeng-\\ning and disrupting the status quo narrative and dislodging ingrained assumptions\\nand ideologies that normalize and purport to justify oppressive social arrangements.Introducing into the collective hermeneutical repertoire a hermeneutical resource that\\nis needed to understand the experiences of disadvantaged groups is clearly a move in\\nthe right direction —it is progress toward hermeneutical justice. However, if prevailing\\nsocial conditions aren ’t conducive to the concept ’s gaining a meaningful grip on the\\nworld —that is, to its being broadly applied in important social contexts where it accu-\\nrately describes social reality and where it stands to do productive work to help improve\\nthe material conditions of those in marginalized communities —the concept ’s potential\\nto combat hermeneutical injustice will be undermined. Contrary to what a lacuna-\\ncentered analysis suggests, filling in hermeneutical gaps is not enough to ensure herme-\\nneutical justice; it is just one part of a much broader, comprehensive, and socially\\nembedded process.\\nAcknowledgments. Earlier versions of this article were presented at the Summer Immersion Program in\\nPhilosophy at Brown University (2019), the Midwest Society for Women in Philosophy at the University of\\nCincinnati (2019), the Pacific Division of the APA (2021), and the Words Workshop (2021). I ’m grateful to\\naudience members for their feedback. I would also like to thank Zach Barnett, Endre Begby, Thomas\\nBrandt, David Christensen, Corbin Covington, Sally Haslanger, Jonathan Ichikawa, and Elizabeth Miller,\\nas well as two anonymous referees.\\nNotes\\n1Hermeneutical resources include interpretive tools such as tropes, narratives, stories, scripts, and con-\\ncepts. For simplicity, and following much of the literature, I will talk mostly in terms of conceptual\\nresources.358 Arianna Falbo\\nhttps://doi.org/10.1017/hyp.2022.4  Published online by Cambridge University Press\\n2This requirement is argued for in Fricker 2006 ;2007 ;2016 ; and 2017. Although much of Fricker ’s orig-\\ninal 2007 discussion frames hermeneutical injustice as centrally involving hermeneutical lacunae, it ’s nota-\\nble that she includes the example of Edmund White ’sA Boy ’s Own Story (White 1983 ). This is a\\nsemi-autobiographical novel that describe White ’s experiences in the 1950s as a gay young man battling\\ndominant stereotypes of homosexuality as unnatural or as a sickness. Thus, Fricker ’s discussion of herme-\\nneutical injustice is sensitive to how oppressive stereotypes —and not just conceptual gaps —can influence\\nhermeneutical injustice, yet she remains focused largely upon lacunae throughout her discussion (see, espe-\\ncially, Fricker 2007 , 161 –62, as well as the initial definition of hermeneutical injustice given at the start of\\nher book: “hermeneutical injustice occurs . . . when a gap in collective resources puts someone at an unfair\\ndisadvantage when it comes to making sense of their social experiences ”[1]).\\n3This requirement for hermeneutical injustice is adopted widely across recent literature. See, for example,\\nBeeby 2011 ; Medina 2011 ,2012 ; Dotson 2012 ; Dotson 2014 ; Anderson 2017 ; Goetze 2017 ; Medina 2017 ;\\nToole 2019 ; Vasilyeva and Ayala-López 2019 ; Beverley 2020 ; Dembroff 2020 ; Dembroff and Whitcomb\\nforthcoming .\\n4Thank you to an anonymous referee for suggesting this terminology.\\n5Fricker draws from Susan Brownmiller ’s memoir of the Women ’s Liberation Movement in the 1960s\\nwhen discussing the case of Carmita Wood (Brownmiller 1990 ). For other early uses of the concept sexual\\nharassment , see Rowe 1974 ; Nemy 1975 .\\n6Criticisms of Fricker ’s analysis of hermeneutical injustice have pointed out a failure to distinguish\\nbetween intra and intercommunal dissemination of hermeneutical resources. See, for example, Mason\\n2011 ; Medina 2012 ; 2013. It is worth noting that even the inter/intracommunal dissemination distinction\\nis fairly idealized. The boundaries here are likley not as crisp as this distinction might suggest. For a relateddiscussion, also see Ashley Atkins ’s distinction between resistant understanding and dominant or collective\\nunderstanding (Atkins 2018 ).\\n7In developing her analysis of controlling images, Collins cites the work of Mae King and Cheryl Gilkes\\n(King 1973 ; Gilkes 1981 ). In discussing the work of these two scholars, Collins notes:\\nKing suggests that stereotypes represent externally-defined, controlling images of Afro-American\\nwomanhood that have been central to the dehumanization of Black women and the exploitation\\nof Black women ’s labor. Gilkes points out that Black women ’s assertiveness in resisting the multifac-\\neted oppression they experience has been a consistent threat to the status quo. As punishment, Black\\nwomen have been assaulted with a variety of externally-defined negative images designed to controlassertive Black female behavior. The value of King ’s and Gilkes ’analyses lies in their emphasis on the\\nfunction of stereotypes in controlling dominated groups. (Collins 1986 , 17, italics added)\\n8Note: as was mentioned previously, this does not necessarily mean that Black women are unable to\\ndevelop and use hermeneutic resources intra communally.\\n9We can also compare similar influential rhetoric during World War II that described Jewish people as\\n“vermin. ”For example, this language is prevalent in The Eternal Jew , a 1940 Nazi propaganda film. For\\nfurther discussions on the productive function of pernicious social concepts see, for example, Young\\n1990 , chapter 2, on cultural imperialism, Kukla 2018 on the relationship between slurs and ideology,\\nand Neufeld 2019 on slurs and essentialization.\\n10It is also important to note that “monstrosity ”and “animality ”are also deeply racialized notions in a\\nUnited States context, associated primarily with Black people and people of color. Consider, for example,\\nthe rhetoric surrounding the 1989 “Central Park Five ”case where five Black teenagers were wrongfully\\naccused of raping a white woman who was jogging in Central Park. These boys were described as a\\n“wolf pack, ”“animals, ”“bloodthirsty, ”“savages, ”and “wilding ”(Hinton 2019 ).\\n11At the time of the trial, the victim ’s name was kept anonymous and listed under “Emily Doe. ”However,\\nChanel Miller has recently shared her story with the broader public in a memoir: Know My Name (Miller\\n2019\\n).\\n12Manne ’s discussion of the Brock Turner case engages primarily with Fricker ’s account of testimonial\\ninjustice, a kind of epistemic injustice wherein a testifier ’s report fails to gain uptake owing to an identity\\nprejudice that the testimonial recipient has against the testifier. It ’s noteworthy that Fricker focuses primar-\\nily upon credibility deficits when developing her analysis of testimonial injustice (that is, giving too littleHypatia 359\\nhttps://doi.org/10.1017/hyp.2022.4  Published online by Cambridge University Press\\ncredit to a testifier because of an identity prejudice that one has against them) (Fricker 2007 ). However,\\nrecent scholarship has persuasively argued that credibility surpluses —giving a testifier too much credit\\nowing to some prejudice —can also perpetuate testimonial injustice. See Medina 2012; Davis 2016 ;Y a p\\n2017 ; and Lackey 2018 ;2020 for further defenses of this point.\\n13Parts of this passage are quoted and discussed in Manne 2020 , 38. See Manne 2020 , chapter 3, for an\\ninsightful further discussion of this case.\\n14Another telling example concerns how Muslim men who commit violent acts against civilians are rou-\\ntinely labeled terrorists across United States media channels. But, when non-Muslim, white men commit\\nnearly identical acts, their behavior is routinely attributed to nonessential features of their psychology(for example, mental illness) or exogenous features of their environment (for example, poor childhood\\nupbringing or a bad neighborhood). White terrorists are typically interpreted as hapless victims of circum-\\nstance and as not acting in accordance with their “real”selves. Across many cases, in a North American\\ncontext, being a white man can, and often does, undermine one ’s classification as a terrorist —even\\nwhen one has committed blatant terrorist acts. See Kunst, Myhren, and Onyeador 2018 for further discus-\\nsion. This relates to what psychologists have called the “fundamental attribution error. ”For further discus-\\nsion see, for example, Sarah-Jane Leslie ’s work on generics and essentialization (Leslie 2017 ).\\n15Cf. Haslanger 2020b , who draws upon Yalcin 2016 , when defending the view that the content of a con-\\ncept is a partition of logical space. To possess a concept, in her view, is to have a disposition that responds to\\nthat partition in certain ways. However, one ’s ability to attend to the partition correctly (that is, to separate\\nthe X ’s from the non-X ’s) may vary depending upon a number of factors. Haslanger provides the following\\nillustrative case:\\nFor example, we may have the same concept of cat—the informational content of the concept catis\\nthe same for each of us —but our possession of it occurs in somewhat different ways so that certain\\ninferences are more direct for me than they are for you, or that I am more ready to apply the concept\\nthan you. Or it may be that because you know more about cats, you have a sensitivity to different\\nkinds of cat, so your partition of logical space is more fine-grained. (Haslanger 2020b , 240)\\nThis analysis helps to capture the idea that merely possessing or being competent with a concept is not, and\\nusually isn ’t, an indication that the individual can accurately apply the concept across all cases (that is, that\\nthey have a perfect ability to sort the X ’s from the non-X ’s).\\n16Cf. Endre Begby ’s analysis of evidential preemption in the context of testimonial exchange, especially\\nwhat he calls\\n“epistemic grooming ”(Begby 2020 ).\\n17Ishani Maitra outlines different ways in which concepts might be distorting using the concepts statutory\\nrape andsexual harassment as case studies (Maitra 2018 ). I hope to remain neutral on the ways in which\\nconcepts might be distorting; I believe that the phenomena in question are diverse and complex. Offering a\\ntaxonomy of the various ways in which concepts distort social reality is beyond the scope of this article;however, Maitra ’s work is helpful in outlining two potential ways this happens: through eliciting inappro-\\npriate inferences or eliciting inappropriate analogies. Also see Jenkins 2017 for a related and illuminating\\ndiscussion of the relationship between rape myths and hermeneutical injustice. Jenkins considers caseswhere a victim of rape is unable to understand her experience asrape owning to operative and distorting\\nrape myths.\\n18It is important to note that in some', doc_id='8b21a4fb-16c0-42b8-bd6f-c644b208f6c4', embedding=None, doc_hash='79a2a1c7f119595a1f753aaa12a42eaa0d4368fac0ff95e78b2661fcb44ac183', extra_info={'filename': '..\\\\..\\\\papers\\\\For_Imposter_Concept_Paper\\\\hermeneutical-injustice-distortion-and-conceptual-aptness.pdf'}, node_info={'start': 57990, 'end': 72524}, relationships={<DocumentRelationship.SOURCE: '1'>: 'e27d1a05-defb-4475-849a-5c6752c1b29a'}), score=0.8718824838329995),\n",
       " NodeWithScore(node=Node(text='ARTICLE\\nHermeneutical Injustice: Distortion and\\nConceptual Aptness\\nArianna Falbo\\nDepartment of Philosophy, Brown University, 45 Prospect Street, Providence, RI, 02912, USA\\nCorresponding author. arianna_falbo@brown.edu\\n(Received 8 March 2020; revised 2 January 2021; accepted 2 March 2021)\\nAbstract\\nThis article develops a new approach for theorizing about hermeneutical injustice.According to a dominant view, hermeneutical injustice results from a hermeneuticalgap: one lacks the conceptual tools needed to make sense of, or to communicate, impor-\\ntant social experiences, where this lack is a result of an injustice in the background socialmethods used to determine hermeneutical resources. I argue that this approach is incom-plete. It fails to capture an important species of hermeneutical injustice which doesn ’t\\nresult from a lack of hermeneutical resources, but from the overabundance of distorting\\nand oppressive concepts which function to crowd-out, defeat, or pre-empt the applicationof a more accurate hermeneutical resource. I propose a broader analysis that betterrespects the dynamic relationship between hermeneutical resources and the social andpolitical contexts in which they are implemented.\\nI. Introduction\\nScholarship on epistemic injustice has highlighted the importance of hermeneutical\\nresources in facilitating the intelligibility of socially significant experiences.1Notably,\\nMiranda Fricker has defended a species of epistemic harm that she calls hermeneutical\\ninjustice . On her analysis, hermeneutical injustice arises when one attempts to make a\\nsocially significant experience intelligible, but can ’t because one lacks the required her-\\nmeneutical tools (Fricker 2007 , 1). There is a gap in the inventory of hermeneutical\\nresources that are used to render important social experiences intelligible, where this\\ngap is the result of an injustice in the background social methods used to determine\\nhermeneutical resources (Fricker 2006 ;2007 ;2016 ;2017 ).\\nDespite various points of disagreement and further developments concerning\\nFricker ’s analysis, one key assumption appears to have gained widespread acceptance\\nin the literature. This is that hermeneutical injustice requires a lacuna in the stock of\\nhermeneutical resources used to interpret socially significant experiences.2The lacuna\\nrequirement imposes a necessary condition on the occurrence of a hermeneutical\\n© The Author(s), 2022. Published by Cambridge University Press on behalf of Hypatia, a Nonprofit Corporation. This is\\nan Open Access article, distributed under the terms of the Creative Commons Attribution licence ( https://creativecom-\\nmons.org/licenses/by/4.0/ ), which permits unrestricted re-use, distribution, and reproduction in any medium, provided\\nthe original work is properly cited.Hypatia (2022), 37, 343 –363\\ndoi:10.1017/hyp.2022.4\\nhttps://doi.org/10.1017/hyp.2022.4  Published online by Cambridge University Press\\ninjustice. A hermeneutical resource is absent from the hermeneutical repertoire, and\\nhad the needed concept been available —had this lacuna been filled —the injustice\\nwould no longer persist.3\\nIn what follows, I argue that a lacuna-centered approach to hermeneutical injustice is\\nincomplete. The lacuna requirement entails an overly narrow analysis of hermeneutical\\ninjustice and, as a result, it fails to capture an important species of hermeneutical injustice\\nthat merits more careful investigation. In particular, this approach fails to recognize a spe-cies of hermeneutical injustice that doesn ’t result from a dearth of hermeneutical\\nresources, but from the overabundance of distorting and oppressive concepts that func-\\ntion to crowd out, defeat, or preempt the application of an available and more accurate\\nconcept. Focusing on cases of hermeneutical injustice without hermeneutical lacunae\\nhelps to make salient important social dimensions of this epistemic injustice. It highlights\\nthe need for not only for novel hermeneutical resources —that is, the need to fill in her-\\nmeneutical gaps —but also the importance of acknowledging how those same resources\\nare integrated into extant conceptual frameworks within an overarching social milieu.\\nIn the next section, I develop the lacuna-centered approach in more detail. Following,\\nin section III, I argue that, in addition to facilitating intelligibility, hermeneutical resources\\nalso serve crucial productive functions —they organize and coordinate individuals within a\\nsocial milieu. In light of this, in section IV, I defend cases of hermeneutical injustice that\\ndon’t arise from a conceptual lack. In section V, I develop a broader framework for the-\\norizing about hermeneutical injustice and highlight its advantages. This framework rec-\\nognizes two distinct species of hermeneutical injustice: what I call positive andnegative\\nhermeneutical injustice.\\n4I end by sketching an approach to hermeneutical justice that\\nnaturally flows out of this more expansive framework.\\nII. The Lacuna-Centered Analysis\\nFricker draws our attention to the emergence of the concept sexual harassment in the\\nearly 1970s. She details the case of Carmita Wood, who quit her job at Cornell\\nUniversity ’s Nuclear Physics Department after experiencing persistent and unwanted\\nsexual advances from her boss. He would “jiggle his crotch ”while passing her desk\\nand would “deliberately brush against her breasts while reaching for some papers ”\\n(Fricker 2007 , 150).5When applying for unemployment insurance, Wood was required\\nto explain why she had quit, but she found herself at a loss for words. It wasn ’t shame-\\nless flirting or mere office humor that caused her to leave; what she experienced was\\nflat-out sexual harassment. But, since this concept had yet to make its way into collec-\\ntive understanding —let alone onto unemployment insurance forms —Wood couldn ’t\\narticulate her experience as such. She reported that she had quit for “personal reasons ”\\nand was subsequently denied insurance.\\nFricker describes Wood ’s case as a paradigmatic instance of hermeneutical injustice.\\nShe says: “Here is a story about how extant collective hermeneutical resources can have\\na lacuna where the name of a distinctive social experience should be ”(150 –51).\\nAccordingly, the hermeneutical injustice Wood faced resulted from a gap in the avail-able stock of hermeneutical resources; there was a lacuna where the concept sexual\\nharassment should have been. Moreover, this lacuna is a consequence of an injustice\\nin the background social methods that are used to determine hermeneutical resources.\\nIn Fricker ’s terminology, women like Wood faced hermeneutical marginalization : they\\nwere not equitably included in the political and legal contexts that serve to define the\\nconditions for unemployment.344 Arianna Falbo\\nhttps://doi.org/10.1017/hyp.2022.4  Published online by Cambridge University Press\\nAccording to this approach, the primary harm of hermeneutical injustice concerns a\\nlack of intelligibility resulting from one ’s hermeneutical marginalization. Fricker says:\\n“the subject is rendered unable to make communicatively intelligible something\\nwhich it is particularly in his or her interests to be able to render intelligible ”(162).\\nThe secondary harms of hermeneutical injustice, Fricker argues, concern the down-\\nstream negative consequences that result from this unintelligibility. In Wood ’s case,\\nthis includes, among other things, her being denied unemployment insurance as wellas her increased levels of stress and anxiety.\\nT h ec a s eo fC a r m i t aW o o da n dt h ee m e r g e n c eo ft h ec o n c e p t sexual harassment\\nhas now become the stock example of hermeneutical injustice in the literature, but\\nit’s important to highlight that this injustice, as it ’s understood on a lacuna-\\ncentered model, can be illustrated using many other examples. Consider the recent\\nemergence of the concept genderqueer as a hermeneutical resource for understand-\\ning and giving recognition to the identities of nonbinary people. Robin Dembroff\\nargues that:\\nwithout the resources for understanding nonbinary gender identities, we sustain a\\nconceptual lacuna surrounding nonbinary persons. This lacuna does not only\\nreflect a gap in philosophical understanding: it contributes to a hermeneutical\\ninjustice that arises from the failure to spread and charitably analyze the concepts\\nand practices underlying nonbinary classifications. (Dembroff 2020 , 2, italics\\nadded)\\nAnother example is the concept of disability pride as it emerged in the disability\\nrights movement in the 1960s. Elizabeth Barnes has discussed the importance of this\\nconcept in challenging dominant associations of disability with tragedy, inferiority,\\nand shame. Barnes says: “As disabled people, we are forever being told that there is\\nsomething about our bodies that is lacking, that is less than . Disability pride says it\\ndoesn ’t have to be that way. Disability pride says that we may have minority bodies,\\nbut we don ’th a v e —we refuse to have —tragic bodies ”(Barnes 2016 , 186). For disabled\\nand nondisabled people alike, Barnes argues that the concept of disability pride has\\nhelped to make intelligible that disability can be the subject of genuine pride.\\nRecent scholarship has also highlighted significant limitations of Fricker ’s analysis\\nand has further expanded upon it. Gaile Pohlhaus develops the valuable notion of will-\\nful hermeneutical ignorance , which occurs when dominantly situated individuals refuse\\nto adopt the hermeneutical resources of marginalized groups (Pohlhaus 2012 ). Willful\\nhermeneutical ignorance functions to maintain hermeneutical gaps at the intercommu-\\nnal level —that is, though such resources may be utilized, even widely, among members\\nof one ’s own community or social group (that is, they are intra communally available),\\nlacunae nevertheless persist at the level of the dominant or collective hermeneutical rep-\\nertoire, which is used to interpret and communicate one ’s experiences across social\\ngroups more broadly.\\n6\\nBuilding upon the work of Pohlhaus and others, Kristie Dotson has developed an\\nanalysis of contributory injustice . This is an epistemic injustice resulting from willful\\nhermeneutical ignorance, which occurs when dominantly situated individuals choose\\nto employ prejudiced hermeneutical resources when they could have used more accu-\\nrate resources that have already been developed by those in marginalized communities\\n(Dotson 2012 ). Contributory injustice concerns the refusal among those in dominant\\npositions to allow marginalized individuals to exercise their epistemic agency byHypatia 345\\nhttps://doi.org/10.1017/hyp.2022.4  Published online by Cambridge University Press\\ncontributing to the dominant hermeneutical repertoire. As a result, hermeneutical gaps\\npersist within the dominant (or intercommunal) hermeneutical inventory.\\nRelatedly, Luvell Anderson has analyzed how hermeneutical gaps may be actively\\ncultivated through the suppression of extant hermeneutical resources. Anderson gives\\nthe example of postracial movements aimed at eradicating and “moving beyond\\nrace”(Anderson 2017 ). Attempts to promote color-blind politics, he argues, function\\nto erase the concept race and the indispensable role it plays in understanding the expe-\\nriences of people of color (145 –46). Anderson thus enriches the lacuna-centered\\napproach to hermeneutical injustice by illustrating how some lacunae are actively cre-\\nated by the removal of available hermeneutical resources.\\nA common thread that unites these otherwise distinct analyses is an adherence to a\\nlacuna-centered framework for theorizing about hermeneutical injustice. Although\\nAnderson highlights a different way for hermeneutical gaps to emerge, lacunae feature\\nprominently in his analysis. And though Dotson and Pohlhaus articulate how needed\\nhermeneutical resources may be available and utilized within marginalized communi-\\nties, they highlight how lacunae may persist more broadly, within the stock of dominantor collective conceptual resources used to communicate across social groups. Hence,\\nhere too we find a similar background assumption, namely, the lacuna requirement.\\nA lacuna-centered approach has also influenced prominent conceptions of herme-\\nneutical justice. Fricker discusses the overcoming of hermeneutical injustice in the\\ncase of Wendy Sanford, a woman who suffered from postnatal depression after the\\nbirth of her child in the 1960s, prior to the emergence of the concept postnatal depres-\\nsion. She describes Sanford ’s experience during a consciousness-raising session:\\nWendy Sanford ’s moment of truth seems to be not simply a hermeneutical break-\\nthrough for her and for the other women present, but also a moment in which\\nsome kind of epistemic injustice is overcome . . . . If we can substantiate this intui-\\ntion, then we shall see that the area of hermeneutical gloom with which she had\\nlived up until that life-changing forty-five minutes constituted a wrong done to her\\nin her capacity as a knower, and was thus a specific sort of epistemic injustice —a\\nhermeneutical injustice. (Fricker 2007 , 149, italics added)\\nInfluenced by a lacuna-centered model, great importance is routinely placed upon\\nthe initial naming and subsequent intelligibility that hermeneutical resources help to\\nfacilitate (cf. McKinnon 2016 , 441; Davis 2018 , 720). If hermeneutical injustice results\\nfrom lacunae, the thought goes, then hermeneutical justice naturally calls for herme-\\nneutical \"plugs\", as it were, concepts that function to fill in the gaps.\\nTo summarize: a lacuna-centered framework proposes that hermeneutical injustice\\nstems from one ’s inability to make a significant social experience intelligible (to oneself\\nor to others) owing to a gap in the stock of hermeneutical resources, where this gap is a\\nresult of hermeneutical marginalization. According to this approach, hermeneuticalinjustice is perpetuated by the persistence and/or cultivation of hermeneutical lacu-\\nnae—had such lacunae been filled (intra and intercommunally), hermeneutical injustice\\nwould be overcome.\\nAlthough a lacuna-centered framework for theorizing about hermeneutical injustice\\nhas been widely adopted and endorsed across much of the recent literature, I will now\\nargue that it ’s incomplete and that a more expansive framework is needed. The lacuna-\\ncentered model is overly narrow and, as a result, it fails to capture an important species\\nof hermeneutical injustice that doesn ’t arise from a', doc_id='cca0295e-639a-433b-a537-df88136a6d22', embedding=None, doc_hash='40112cc1c1578277593032f8f3a901c3409e7d691774831b1f06fafcabfa88ed', extra_info={'filename': '..\\\\..\\\\papers\\\\For_Imposter_Concept_Paper\\\\hermeneutical-injustice-distortion-and-conceptual-aptness.pdf'}, node_info={'start': 0, 'end': 14478}, relationships={<DocumentRelationship.SOURCE: '1'>: 'e27d1a05-defb-4475-849a-5c6752c1b29a'}), score=0.8699513267329656)]"
      ]
     },
     "execution_count": 59,
     "metadata": {},
     "output_type": "execute_result"
    }
   ],
   "source": [
    "response.source_nodes"
   ]
  },
  {
   "cell_type": "code",
   "execution_count": 89,
   "metadata": {},
   "outputs": [
    {
     "data": {
      "text/plain": [
       "101027"
      ]
     },
     "execution_count": 89,
     "metadata": {},
     "output_type": "execute_result"
    }
   ],
   "source": [
    "llm_predictor.total_tokens_used"
   ]
  },
  {
   "attachments": {},
   "cell_type": "markdown",
   "metadata": {},
   "source": [
    "# Agent"
   ]
  },
  {
   "cell_type": "code",
   "execution_count": 11,
   "metadata": {},
   "outputs": [],
   "source": [
    "from langchain.agents import Tool\n",
    "from langchain.chains.conversation.memory import ConversationBufferMemory\n",
    "from llama_index.langchain_helpers.memory_wrapper import GPTIndexChatMemory\n",
    "from langchain import OpenAI\n",
    "from langchain.agents import initialize_agent\n",
    "\n",
    "from llama_index import GPTSimpleVectorIndex"
   ]
  },
  {
   "cell_type": "code",
   "execution_count": 12,
   "metadata": {},
   "outputs": [],
   "source": [
    "sources = []"
   ]
  },
  {
   "cell_type": "code",
   "execution_count": 17,
   "metadata": {},
   "outputs": [],
   "source": [
    "sources = []\n",
    "def get_answer(q):\n",
    "    REFINE_PROMPT_TMPL = (\n",
    "    \"Example Question and Answer:\"\n",
    "    \"Question:\"\n",
    "    \"How is hermeneutical injustice related to a phenomenon where the meaning of concepts are twisted and co-opted, eventually losing their meaning?\"\n",
    "    \"Answer: \"\n",
    "    \"Hermeneutical injustice is related to a phenomenon where the meaning of concepts are twisted and co-opted, eventually losing their meaning in that oppressive and distorting concepts can be used to crowd out, defeat, or preempt the accurate application of a concept. Examples of such oppressive concepts include the use of genocidal language games (Tirrell, 2012) and rape myths in the news media (O’Hara, 2012), which both have been used to distort the meaning of concepts and prevent the accurate application of those concepts. Positive hermeneutical injustice is thus connected to the presence of oppressive concepts that limit or block the accurate application of a concept, as well as the removal of available hermeneutical resources, such as postracial movements which attempt to erase the concept of race and thereby limit or block the accurate application of the concept (Paiella, 2016).\"\n",
    "    \"This can result in a failure of conceptual aptness or applicability, meaning that marginalized individuals are unable to contribute their knowledge in a socially significant context and their status as a knower is diminished (Pohlhaus, 2012; Toole, 2019). Combating hermeneutical injustice is therefore not just a matter of filling in hermeneutical gaps, but also involves large-scale social movements aimed at dismantling oppressive ideologies and scripts. Such movements are necessary in order to develop and widely disseminate novel concepts needed to understand socially significant experiences (Rowe, 1974; Taylor, 2018), as well as to unlearning and dislodging the distorting ideological grip of controlling images and oppressive concepts that are operative within one’s social milieu (Yap, 2017). Examples of such movements include the gay rights movement and the fight for marriage equality in North America (Eleonore, 2019), as well as the #BodyPositivity movement (Park, 2017; Shackelford, 2019), which have helped to support the intelligibility of concepts that have been twisted and co-opted, and have also enabled individuals to enjoy benefits and privileges afforded by legal unions (White, 1983; Xu, 2016).\"\n",
    "    \n",
    "    \"The original question is as follows: {query_str}\\n\"\n",
    "    \"We have provided an existing answer: {existing_answer}\\n\"\n",
    "    \"(only if needed) with some more context below.\\n\"\n",
    "    \"------------\\n\"\n",
    "    \"{context_msg}\\n\"\n",
    "    \"------------\\n\"\n",
    "    \"Refine the original answer to better \"\n",
    "    \"answer the question: {query_str}\"\n",
    "    \"Write the answer in a coherent and academic style, avoid redundancies. Make use of any sources mentioned in the context\"\n",
    "    )\n",
    "    query_transform = HyDEQueryTransform(include_original=True)\n",
    "    REFINE_PROMPT = RefinePrompt(REFINE_PROMPT_TMPL)\n",
    "    response_mode = 'default'\n",
    "    mode=\"default\"\n",
    "    response = index.query(q, \n",
    "                            similarity_top_k = 2, \n",
    "                            query_transform=query_transform, \n",
    "                            response_mode = response_mode,\n",
    "                            refine_template = REFINE_PROMPT,\n",
    "                            mode = mode, \n",
    "                            verbose=True)\n",
    "    display(Markdown(f\"<b>{response}</b>\"))\n",
    "    global sources\n",
    "    sources.append(response)\n",
    "    # print(response.get_formatted_sources())\n",
    "    for i in range(len(response.source_nodes)):\n",
    "        if response.source_nodes[i].extra_info:\n",
    "            print(f'Source {i}: {response.source_nodes[i].extra_info[\"filename\"]}')\n",
    "            display(Markdown(f\"{response.source_nodes[i].node.text}\"))\n",
    "        sources.append(response.source_nodes[i])\n",
    "        # print(f'Source {i}: {response.source_nodes[i].node.text.replace('\\n', ' ')}\n",
    "        # display(Markdown(f\"{response.source_nodes[i].node.text}\"))\n",
    "    return response"
   ]
  },
  {
   "cell_type": "code",
   "execution_count": 18,
   "metadata": {},
   "outputs": [],
   "source": [
    "# query_transform = HyDEQueryTransform(include_original=True)\n",
    "tools = [\n",
    "    Tool(\n",
    "        name = \"Document Search\",\n",
    "        func=lambda q: str(get_answer(q)),\n",
    "        description=\"useful for when you want to use sources to answer questions related to epistemic or hermeneutical injustice.\",\n",
    "        return_direct=True\n",
    "    ),\n",
    "]"
   ]
  },
  {
   "cell_type": "code",
   "execution_count": 20,
   "metadata": {},
   "outputs": [],
   "source": [
    "# set Logging to DEBUG for more detailed outputs\n",
    "# memory = GPTIndexChatMemory(\n",
    "#     index=index, \n",
    "#     memory_key=\"chat_history\", \n",
    "#     query_kwargs={\"response_mode\": \"compact\"},\n",
    "#     # return_source returns source nodes instead of querying index\n",
    "#     return_source=False,\n",
    "#     # return_messages returns context in message format\n",
    "#     return_messages=True\n",
    "# )\n",
    "memory = ConversationBufferMemory(memory_key=\"chat_history\", return_messages = True)\n",
    "llm=OpenAI(temperature=0.7, model_name=\"gpt-3.5-turbo\")\n",
    "agent_chain = initialize_agent(tools, llm, agent=\"chat-conversational-react-description\", memory=memory, verbose=True)"
   ]
  },
  {
   "cell_type": "code",
   "execution_count": 27,
   "metadata": {},
   "outputs": [
    {
     "name": "stderr",
     "output_type": "stream",
     "text": [
      "WARNING:langchain.llms.openai:Retrying langchain.llms.openai.completion_with_retry.<locals>._completion_with_retry in 4.0 seconds as it raised APIConnectionError: Error communicating with OpenAI: ('Connection aborted.', RemoteDisconnected('Remote end closed connection without response')).\n"
     ]
    },
    {
     "name": "stdout",
     "output_type": "stream",
     "text": [
      "\n",
      "\n",
      "\u001b[1m> Entering new AgentExecutor chain...\u001b[0m\n",
      "\u001b[32;1m\u001b[1;3m{\n",
      "    \"action\": \"Document Search\",\n",
      "    \"action_input\": \"poems about war and love\"\n",
      "}\u001b[0m\u001b[36;1m\u001b[1;3m> Got node text: filename: emilycarlisle,+fulltext.pdf\n",
      "\n",
      "\n",
      "Nzou, G oodwell . 2015. “In Zimbabwe, We Don’t Cry for L ions. ” New York Time s 4 \n",
      "August. http://www.nytimes.com/2015/08/05/opinion/in -zimbabwe -we-\n",
      "dont ...\n",
      "\u001b[0m\u001b[36;1m\u001b[1;3m> Got node text: filename: davis2018.pdf\n",
      "\n",
      "her writing in the early 1980s, most of the collections ofnineteenth-century Black women ’s writings had been edited by white\n",
      "women. She states, “It is signiﬁcant that in o...\n",
      "\u001b[0m"
     ]
    },
    {
     "name": "stderr",
     "output_type": "stream",
     "text": [
      "INFO:llama_index.token_counter.token_counter:> [query] Total LLM token usage: 3146 tokens\n",
      "INFO:llama_index.token_counter.token_counter:> [query] Total embedding token usage: 179 tokens\n"
     ]
    },
    {
     "data": {
      "text/markdown": [
       "<b>There is no direct information in the given context about poems related to war and love. However, the context does discuss the co-optation of Sojourner Truth's words and image by white, educated female peers, which is an example of hermeneutical injustice where the meaning of concepts are twisted and co-opted, eventually losing their meaning. This phenomenon can be seen in the way Truth's words were distorted and objectified by Harriet Beecher Stowe in her article \"Sojourner Truth, the Libyan Sibyl\" published in 1863. Stowe reduces Truth to a caricature and muddles the complexity of her intellectual thought, repeatedly objectifying her and comparing her to nonhuman forms. This type of injustice can lead to a failure of conceptual aptness or applicability, where marginalized individuals are unable to contribute their knowledge in a socially significant context and their status as a knower is diminished. To combat hermeneutical injustice, large-scale social movements are necessary to dismantle oppressive ideologies and scripts and to develop and widely disseminate novel concepts needed to understand socially significant experiences. \n",
       "\n",
       "While the given context does not directly address poems about war and love, it is possible to explore this topic further using other sources. For example, the poetry of Wilfred Owen and Siegfried Sassoon provides a powerful critique of war and its devastating effects on human life and love. Owen's \"Dulce et Decorum Est\" and Sassoon's \"The General\" both expose the lies and false glory of war, while also highlighting the human cost of conflict on love and relationships. Additionally, the poetry of Maya Angelou and Audre Lorde explores the intersections of love, race, and gender, highlighting the ways in which love can be a source of empowerment and resistance against oppression. Angelou's \"Phenomenal Woman\" celebrates the beauty and strength of Black women, while Lorde's \"Love Poem\" challenges the heteronormative and patriarchal assumptions about love and desire. Overall, poetry can be a powerful tool for exploring complex issues related to war and love, and for challenging dominant narratives and oppressive ideologies.</b>"
      ],
      "text/plain": [
       "<IPython.core.display.Markdown object>"
      ]
     },
     "metadata": {},
     "output_type": "display_data"
    },
    {
     "name": "stdout",
     "output_type": "stream",
     "text": [
      "Source 0: emilycarlisle,+fulltext.pdf\n"
     ]
    },
    {
     "data": {
      "text/markdown": [
       "\n",
       "Nzou, G oodwell . 2015. “In Zimbabwe, We Don’t Cry for L ions. ” New York Time s 4 \n",
       "August. http://www.nytimes.com/2015/08/05/opinion/in -zimbabwe -we-\n",
       "dont -cry-for-lions.html.  \n",
       "Obiora, L eslye . 2000. “Bridge and Barricades: Rethinking Polemics and Intransigence \n",
       "in the Campaign Against Female C ircumcision. ” In Global Critical Race \n",
       "Feminis m: An International Reader , edited by Adrien Katherine Wing, 260 –\n",
       "274. New York: New York University Press.  \n",
       "Pohlhaus, G aile. 2012. “Relational Knowing and Epistemic Injustice: Toward a T heory \n",
       "of Willful Hermeneutical I gnorance .” Hypatia  27 (4): 715 –735.  \n",
       "Reddy, R upa. 2008. “Gender, Culture and the Law: Approaches to ‘Honour C rimes’ in \n",
       "the UK. ” Feminist Legal Studies  16:305 –321.  \n",
       "Romdenh -Romluc, K omarine . 2016. “Hermeneutical Injustice: Blood -Sports and the \n",
       "English Defence League. ” Social Epistemology  30:59 2–610. \n",
       "Soni, Sangeeta. 2012. “‘Izzat’ and the Shaping of the Lives of Young Asians in Britain \n",
       "in the 21st Century.” PhD diss., University of Birmingham.  \n",
       "Tackey, N ii Djan, Helen Barnes, and Priya Khambhaita. 2011. Poverty, Ethnicity and \n",
       "Education . York: Joseph Rowntree Foundation.  \n",
       "Waller, M arguerite , and Sylvia Marcos. 2005. Dialogue and Difference . Gordonsville, \n",
       "VA: Palgrave Macmillan.  \n",
       "21Romdenh-Romluc: Hermeneutical Injustice and the Problem of Authority\n",
       "Published by Scholarship@Western, 2017\n",
       "White, Edmund. 1998. A Boy’s Own Story . London: Picador.  \n",
       "White, Megan , and Hatim Omar. 2010. “Vampirism, Vampire Cults and the Teenager \n",
       "of Today. ” International Journal of Adolescent Medical Health  22 (2): 189 –\n",
       "195.  \n",
       "World Health Organisation 2014. Female genital mutilation . Fact sheet.  \n",
       "http://www.who.int/mediacentre/factsheets/fs241/en/.  \n",
       " \n",
       " \n",
       "KOMARINE ROMDENH -ROMLUC is a senior lecturer in philosophy at the University \n",
       "of Sheffield, UK. Whilst the main focus of her research is phenomenology, she also \n",
       "writes on other topics. One strand of her current work is concerned with issues to \n",
       "do with power  and culture. She is particularly interested in trying to understand \n",
       "interactions between people from different cultures.  \n",
       "22Feminist Philosophy Quarterly, Vol. 3 [2017], Iss. 3, Art. 1\n",
       "http://ir.lib.uwo.ca/fpq/vol3/iss3/1\n",
       "DOI: 10.5206/fpq/2017.3.1"
      ],
      "text/plain": [
       "<IPython.core.display.Markdown object>"
      ]
     },
     "metadata": {},
     "output_type": "display_data"
    },
    {
     "name": "stdout",
     "output_type": "stream",
     "text": [
      "Source 1: davis2018.pdf\n"
     ]
    },
    {
     "data": {
      "text/markdown": [
       "her writing in the early 1980s, most of the collections ofnineteenth-century Black women ’s writings had been edited by white\n",
       "women. She states, “It is signiﬁcant that in our society white women\n",
       "are given grant money to do research on black women but I can ﬁndno instance where black women have received funds to research white\n",
       "women ’s history. ”\n",
       "22With this in mind, let us consider more closely the\n",
       "case of Sojourner Truth —activist, preacher, woman, thinker, mother,\n",
       "and former slave —for whom issues of race, gender, and class intersect\n",
       "in the construction of her epistemic reality.\n",
       "C. The Co-optation of Sojourner Truth\n",
       "In the same year that Harriet Taylor Mill published “The Enfranchise-\n",
       "ment of Women ”under John Stuart Mill ’s name, Sojourner Truth deliv-\n",
       "ered what has become her most famous speech at the 1851 Women ’s\n",
       "Rights Convention in Akron, Ohio. Because she did not read or write,Truth was especially vulnerable to the appropriation of her words and\n",
       "image by white, educated female peers.\n",
       "23One particularly illuminating\n",
       "example of such co-optation can be found in a short article entitled “So-\n",
       "journer Truth, the Libyan Sibyl, ”written and published in 1863 by Har-\n",
       "riet Beecher Stowe, a white woman with literary training. In the piece,\n",
       "Stowe recollects Truth ’s visit to Stowe ’s Andover home a decade earlier,\n",
       "during which Truth (reportedly) discussed her time as a slave and her\n",
       "thoughts concerning women ’s suffrage.\n",
       "21. Brittney C. Cooper, Beyond Respectability: The Intellectual Thought of Race Women (Ur-\n",
       "bana: University of Illinois Press, 2017), 24.\n",
       "22. hooks, Ain ’t I a Woman , 10.\n",
       "23. For discussion, see Collins, Black Feminist Thought ,1 7–18. See also Donna Haraway,\n",
       "“Ecce Homo, Ain ’t (Ar ’n’t) I a Woman, and Inappropriate/d Others: The Human in a\n",
       "Post-humanist Landscape, ”inFeminists Theorize the Political , ed. Judith Butler and Joan Scott\n",
       "(New York: Routledge, 1992), 86 –100.Davis On Epistemic Appropriation 711\n",
       "This content downloaded from 130.064.011.153 on June 29, 2018 14:18:44 PM\n",
       "All use subject to University of Chicago Press Terms and Conditions (http://www.journals.uchicago.edu/t-and-c).\n",
       "Although Stowe had publicly endorsed Truth several years earlier\n",
       "(at Truth ’s request) and was no doubt impressed by Truth ’s bold presence\n",
       "and powerful discourse, Stowe ’s 1863 account reduces Truth to a carica-\n",
       "ture and muddles the complexity of Truth ’s intellectual thought. Stowe\n",
       "repeatedly objectiﬁes Truth, referring to Truth and her grandson as “spec-\n",
       "imens ”and comparing Truth to nonhuman forms such as art (e.g., stat-\n",
       "ues) and ﬂora (e.g., trees).24Moreover, Stowe portrays Truth ’s words in\n",
       "an artiﬁcial dialect and utilizes obsessive detail to depict Truth —who\n",
       "was born in the state of New York —as a foreign “exotic. ”As historian Nell\n",
       "Irvin Painter notes, “In a piece nine pages long, Stowe uses the words ‘Af-\n",
       "rica ’or‘African ’six times, ‘Libyan ’seven times, ‘Ethiopian ’once, ‘Egypt ’\n",
       "once, ‘Native ’three times, and terms of exotic locales ( ‘torrid zones, ’‘des-\n",
       "ert’) six times. Through her force of repetition, [Stowe] depicts herself\n",
       "and her guests as a neutral American audience and Truth as a denizen ofthe desert on display in the exhibition hall of Stowe ’s parlor. ”\n",
       "25Through\n",
       "her publication, Stowe detaches Truth ’s person from Truth ’s thought,\n",
       "and in the process, she wholly distorts both. As evidence of Stowe ’s discon-\n",
       "nect from Truth at the time of Stowe ’s writing in 1863, Stowe inaccurately\n",
       "wrote that Truth, who lived until 1883, had already passed away. Despite\n",
       "her complete disassociation with Truth, Stowe demonstrated no qualmsabout capitalizing on Truth ’s reputation.\n",
       "26Indeed, it seems no accident\n",
       "that Stowe published “Sojourner Truth, the Libyan Sibyl ”ten years after\n",
       "the Andover encounter, during a time when Stowe ﬁnancially supportedherself by publishing shorter popular pieces. That the beneﬁts associ-\n",
       "ated with Truth ’s contributions were misdirected via Stowe is indicated\n",
       "by the following fact: while Stowe ’s short article likely procured a payment\n",
       "of two hundred dollars, Truth ’s own full-length, cloth-bound biography\n",
       "(published over a decade earlier and with which Truth made her liveli-\n",
       "hood) sold for twenty-ﬁve cents a copy.\n",
       "27\n",
       "In the years after Stowe ’s publication, Truth resisted Stowe ’s co-\n",
       "optation. Truth publicly dispelled the inaccuracies in Stowe ’s account\n",
       "and redirected curious audiences to read her biography, The Narrative of\n",
       "Sojourner Truth , instead.28This observation suggests that not all collabora-\n",
       "24. Harriet Beecher Stowe, “Sojourner Truth, the Libyan Sibyl, ”Atlantic Monthly , April\n",
       "1863.\n",
       "25. Nell Irvin Painter, Sojourner Truth: A Life, a Symbol (New York: Norton, 1996), 155.\n",
       "See also Nell Irvin Painter, “Sojourner Truth in Life and Memory: Writing the Biography of\n",
       "an American Exotic,"
      ],
      "text/plain": [
       "<IPython.core.display.Markdown object>"
      ]
     },
     "metadata": {},
     "output_type": "display_data"
    },
    {
     "name": "stdout",
     "output_type": "stream",
     "text": [
      "\n",
      "Observation: \u001b[36;1m\u001b[1;3mThere is no direct information in the given context about poems related to war and love. However, the context does discuss the co-optation of Sojourner Truth's words and image by white, educated female peers, which is an example of hermeneutical injustice where the meaning of concepts are twisted and co-opted, eventually losing their meaning. This phenomenon can be seen in the way Truth's words were distorted and objectified by Harriet Beecher Stowe in her article \"Sojourner Truth, the Libyan Sibyl\" published in 1863. Stowe reduces Truth to a caricature and muddles the complexity of her intellectual thought, repeatedly objectifying her and comparing her to nonhuman forms. This type of injustice can lead to a failure of conceptual aptness or applicability, where marginalized individuals are unable to contribute their knowledge in a socially significant context and their status as a knower is diminished. To combat hermeneutical injustice, large-scale social movements are necessary to dismantle oppressive ideologies and scripts and to develop and widely disseminate novel concepts needed to understand socially significant experiences. \n",
      "\n",
      "While the given context does not directly address poems about war and love, it is possible to explore this topic further using other sources. For example, the poetry of Wilfred Owen and Siegfried Sassoon provides a powerful critique of war and its devastating effects on human life and love. Owen's \"Dulce et Decorum Est\" and Sassoon's \"The General\" both expose the lies and false glory of war, while also highlighting the human cost of conflict on love and relationships. Additionally, the poetry of Maya Angelou and Audre Lorde explores the intersections of love, race, and gender, highlighting the ways in which love can be a source of empowerment and resistance against oppression. Angelou's \"Phenomenal Woman\" celebrates the beauty and strength of Black women, while Lorde's \"Love Poem\" challenges the heteronormative and patriarchal assumptions about love and desire. Overall, poetry can be a powerful tool for exploring complex issues related to war and love, and for challenging dominant narratives and oppressive ideologies.\u001b[0m\u001b[32;1m\u001b[1;3m\u001b[0m\n",
      "\n",
      "\u001b[1m> Finished chain.\u001b[0m\n"
     ]
    },
    {
     "data": {
      "text/plain": [
       "'There is no direct information in the given context about poems related to war and love. However, the context does discuss the co-optation of Sojourner Truth\\'s words and image by white, educated female peers, which is an example of hermeneutical injustice where the meaning of concepts are twisted and co-opted, eventually losing their meaning. This phenomenon can be seen in the way Truth\\'s words were distorted and objectified by Harriet Beecher Stowe in her article \"Sojourner Truth, the Libyan Sibyl\" published in 1863. Stowe reduces Truth to a caricature and muddles the complexity of her intellectual thought, repeatedly objectifying her and comparing her to nonhuman forms. This type of injustice can lead to a failure of conceptual aptness or applicability, where marginalized individuals are unable to contribute their knowledge in a socially significant context and their status as a knower is diminished. To combat hermeneutical injustice, large-scale social movements are necessary to dismantle oppressive ideologies and scripts and to develop and widely disseminate novel concepts needed to understand socially significant experiences. \\n\\nWhile the given context does not directly address poems about war and love, it is possible to explore this topic further using other sources. For example, the poetry of Wilfred Owen and Siegfried Sassoon provides a powerful critique of war and its devastating effects on human life and love. Owen\\'s \"Dulce et Decorum Est\" and Sassoon\\'s \"The General\" both expose the lies and false glory of war, while also highlighting the human cost of conflict on love and relationships. Additionally, the poetry of Maya Angelou and Audre Lorde explores the intersections of love, race, and gender, highlighting the ways in which love can be a source of empowerment and resistance against oppression. Angelou\\'s \"Phenomenal Woman\" celebrates the beauty and strength of Black women, while Lorde\\'s \"Love Poem\" challenges the heteronormative and patriarchal assumptions about love and desire. Overall, poetry can be a powerful tool for exploring complex issues related to war and love, and for challenging dominant narratives and oppressive ideologies.'"
      ]
     },
     "execution_count": 27,
     "metadata": {},
     "output_type": "execute_result"
    }
   ],
   "source": [
    "agent_chain.run(input=\"write a poem about war and love\")"
   ]
  },
  {
   "cell_type": "code",
   "execution_count": 21,
   "metadata": {},
   "outputs": [
    {
     "name": "stdout",
     "output_type": "stream",
     "text": [
      "\n",
      "\n",
      "\u001b[1m> Entering new AgentExecutor chain...\u001b[0m\n",
      "\u001b[32;1m\u001b[1;3m{\n",
      "    \"action\": \"Document Search\",\n",
      "    \"action_input\": \"Can you please search for articles discussing the relationship between epistemic injustice, hermeneutical injustice, and linguistic hijacking?\"\n",
      "}\u001b[0m\u001b[36;1m\u001b[1;3m> Got node text: filename: fricker2012.pdf\n",
      "\n",
      "for instance). What was less familiar was the idea\n",
      "of discriminatory epistemic injustice: a branch of epistemic injustice which, I have\n",
      "argued, divides into two sub-branc...\n",
      "\u001b[0m\u001b[36;1m\u001b[1;3m> Got node text: filename: hermeneutical-injustice-distortion-and-conceptual-aptness.pdf\n",
      "\n",
      "there is without question a long way to go. See, for example, Dove ’s Self-Esteem Project:\n",
      "https://www.dove.com/us/en/dove-s...\n",
      "\u001b[0m"
     ]
    },
    {
     "name": "stderr",
     "output_type": "stream",
     "text": [
      "INFO:llama_index.token_counter.token_counter:> [query] Total LLM token usage: 3553 tokens\n",
      "INFO:llama_index.token_counter.token_counter:> [query] Total embedding token usage: 281 tokens\n"
     ]
    },
    {
     "data": {
      "text/markdown": [
       "<b>After searching the available context, there is no direct mention of articles discussing the relationship between epistemic injustice, hermeneutical injustice, and linguistic hijacking. However, the literature provides insights into how hermeneutical injustice can contribute to epistemic injustice by distorting and co-opting concepts, ultimately leading to a failure of conceptual aptness or applicability. Oppressive concepts, such as genocidal language games and rape myths in the news media, can prevent the accurate application of a concept and limit or block marginalized individuals' ability to contribute their knowledge in a socially significant context. \n",
       "\n",
       "To combat hermeneutical injustice, large-scale social movements aimed at dismantling oppressive ideologies and scripts are necessary. These movements can help develop and disseminate novel concepts needed to understand socially significant experiences, unlearn and dislodge distorting ideological grip, and support the intelligibility of concepts that have been twisted and co-opted, enabling individuals to enjoy benefits and privileges. \n",
       "\n",
       "While no articles directly discuss the relationship between epistemic injustice, hermeneutical injustice, and linguistic hijacking, the literature's insights highlight the importance of considering the role of oppressive concepts in perpetuating epistemic injustice and the need for social movements to combat hermeneutical injustice.</b>"
      ],
      "text/plain": [
       "<IPython.core.display.Markdown object>"
      ]
     },
     "metadata": {},
     "output_type": "display_data"
    },
    {
     "name": "stdout",
     "output_type": "stream",
     "text": [
      "Source 0: fricker2012.pdf\n"
     ]
    },
    {
     "data": {
      "text/markdown": [
       "for instance). What was less familiar was the idea\n",
       "of discriminatory epistemic injustice: a branch of epistemic injustice which, I have\n",
       "argued, divides into two sub-branches, namely testimonial injustice and hermeneuticalinjustice.\n",
       "3Since I have discussed these phenomena in detail in other work, I will merely\n",
       "put the two concepts swiftly in place here. Once this is done, I will be in a position to\n",
       "proceed with the task of this paper: to make out a new connection between epistemicjustice and an ideal of political freedom, and to explore the implications for account-\n",
       "able institutional practices. My hope is that elaborating these ideas will reveal just\n",
       "how tightly epistemic justice needs to be interwoven in the fabric of the liberal polity.\n",
       "1I have argued for this point about philosophical method more fully in Fricker (2012 ).\n",
       "2David Coady has rightly emphasized both these points; see Coady (2010 ).\n",
       "3For a fuller account of these kinds of epistemic injustice, see Fricker (2007 ).\n",
       "123\n",
       "Synthese (2013) 190:1317–1332 1319\n",
       "Testimonial injustice happens when a speaker receives a deﬁcit of credibility owing\n",
       "to the operation of prejudice in the hearer’s judgement. A possible example might be in\n",
       "a case of ‘stop and search’ by the police, where a racial prejudice affects the perceptionof the police ofﬁcer so that a young black male driver receives a prejudicially deﬂated\n",
       "level of credibility when he declares that he is the rightful owner of the car. There will\n",
       "of course be a spectrum of cases spanning those in which the speaker’s credibility isonly marginally deﬂated to those where it is drastically deﬂated, and also spanning\n",
       "cases where (whatever the deﬂation) it either is or isn’t sufﬁcient to bring the level of\n",
       "credibility below the threshold for hearer acceptance. Sometimes a speaker’s word istaken far less seriously than it would be absent the prejudice, yet they are still believed;\n",
       "sometimes a small credibility deﬂation is enough to entail that the speaker’s word is\n",
       "rejected.\n",
       "Hermeneutical injustice occurs at a stage prior to communicative activity, though\n",
       "it will only surface in a certain kind of failed or semi-failed attempt to render anexperience intelligible, either to oneself or communicatively to another. This kind of\n",
       "epistemic injustice happens when a subject who is already hermeneutically marginal-\n",
       "ized (that is, they belong to a group which does not have access to equal participationin the generation of social meanings) is thereby put at an unfair disadvantage when\n",
       "it comes to making sense of a signiﬁcant area of their social experience. An example\n",
       "might be a woman who attacked or killed a long-term physically abusive partner at atime before the background history of his own violence and intimidation came to be\n",
       "interpretable by reference to the legal category of ‘provocation’.\n",
       "Like testimonial injustice, hermeneutical injustice comes in different degrees of\n",
       "severity, and along more than one dimension. First, there is internal diversity as regards\n",
       "the degree of misunderstanding. At one extreme, even serious domestic violence might\n",
       "once have been culturally, quasi secretly, understood as the violent afﬁrmation of a\n",
       "proper natural hierarchy between ‘man and wife’ (not forgetting that our rich capacity\n",
       "for incoherence in collective forms of understanding is such that this construal can\n",
       "subsist alongside another, more openly avowed, interpretation to the effect that such\n",
       "violence is appalling). Or, alternatively, a less radical failure of understanding might\n",
       "be illustrated by a situation where such violence is on the whole taken seriously as acriminal offence, yet still not properly dealt with by the relevant institutional bodies\n",
       "owing to confused social meanings surrounding, for instance, the fact that the victim\n",
       "did not leave her violent partner.\n",
       "Second, hermeneutical injustice is internally diverse in relation to how widespread\n",
       "the failure of understanding is. At the extreme, there can be cases where even the\n",
       "subject herself is radically unable to make sense of her own experience; or, by contrast,there can be cases at the other extreme in which the subject herself is entirely clear\n",
       "what is happening to her, and can perhaps expect to communicate her experience\n",
       "with ease to other members of her community or social group, but (owing to thecollective hermeneutical gap pertaining to the wider community as a whole) still\n",
       "cannot expect to communicate it successfully to signiﬁcant social agencies—notably,\n",
       "relevant institutional bodies—in order to describe or protest the experience. Finally,a third dimension of internal diversity in hermeneutical injustice is that such unfair\n",
       "deﬁcits of intelligibility might be owing either to the inadequately conceptualised\n",
       "123\n",
       "1320 Synthese (2013) 190:1317–1332\n",
       "content , and/or owing to an inadequately understood expressive form , in the sense of\n",
       "style of communication.\n",
       "I have tried in previous work to develop the ethical and epistemic aspects of the\n",
       "wrong of both kinds of discriminatory epistemic injustice.4In brief, there is a generic\n",
       "wrong to any kind of epistemic injustice (including the distributive kind) which is\n",
       "a matter of the subject being wronged speciﬁcally in their capacity as an epistemic\n",
       "subject . In respect of testimonial injustice, this generic wrong becomes somewhat\n",
       "speciﬁed in the idea of the subject’s being wronged as a giver of knowledge (an\n",
       "unjust deﬁcit of credibility); and in respect of hermeneutical injustice it becomes theidea of the subject’s being wronged in their capacity for social understanding (an\n",
       "unjust deﬁcit of"
      ],
      "text/plain": [
       "<IPython.core.display.Markdown object>"
      ]
     },
     "metadata": {},
     "output_type": "display_data"
    },
    {
     "name": "stdout",
     "output_type": "stream",
     "text": [
      "Source 1: hermeneutical-injustice-distortion-and-conceptual-aptness.pdf\n"
     ]
    },
    {
     "data": {
      "text/markdown": [
       "there is without question a long way to go. See, for example, Dove ’s Self-Esteem Project:\n",
       "https://www.dove.com/us/en/dove-self-esteem-project/our-mission.html .\n",
       "21Elizabeth Anderson, Kristie Dotson, Sally Haslanger, and Nadya Vasilyeva and Saray Ayala-López,\n",
       "among others, have also emphasized the importance of thinking about whole social systems and\n",
       "institutional-level phenomena when theorizing about epistemic injustice (Anderson 2012 ; Dotson 2012 ;\n",
       "2014 ; Haslanger 2016 ; Vasilyeva and Ayala-López 2019 ; Haslanger 2020a ;2020b ).\n",
       "References\n",
       "Anderson, Elizabeth. 2012. Epistemic justice as a virtue of social institutions. Social Epistemology 26 (2):\n",
       "163–73.\n",
       "Anderson, Luvell. 2017. Epistemic injustice and the philosophy of race. In Routledge handbook of epistemic\n",
       "injustice , ed. Ian James Kidd, José Medina, and Gaile Pohlhaus, Jr. New York: Routledge.\n",
       "Atkins, Ashley. 2018. Black lives matter or alllives matter? Color-blindness and epistemic injustice. Social\n",
       "Epistemology 33 (1): 1 –22.\n",
       "Baker, Jes. 2015. Things no one will tell fat girls: A handbook for unapologetic living . Berkeley: Seal Press.\n",
       "Balkin, Jack. 1990. Nested opposition. Yale Law Journal 99 (7):1669 –705.\n",
       "Barnes, Elizabeth. 2016. The minority body . New York: Oxford University Press.\n",
       "Beeby, Laura. 2011. A critique of hermeneutical injustice. Proceedings of the Aristotelian Society 111 (3):\n",
       "479–86.\n",
       "Begby, Endre. 2020. Evidential preemption. Philosophy and Phenomenological Research 102 (3): 515 –30.\n",
       "Beverley, John. 2020. Speak no evil: Understanding hermeneutical (in)justice. Episteme ,1–24.\n",
       "Brownmiller, Susan. 1990. In our time: Memoir of a revolution . New York: Dial Press.\n",
       "Collins, Patricia Hill. 1986. Learning from the outsider within: The sociological significance of Black\n",
       "feminist thought. Social Problems 33 (6): 14 –32.\n",
       "Collins, Patricia Hill. 1990. Black feminist thought . New York: Routledge.\n",
       "Crabbe, Megan Jayne. 2017. Body positive power: How to stop dieting, make peace with your body, and live .\n",
       "London: Vermilion.\n",
       "Davis, Emmalon. 2016. Typecasts, tokens, and spokespersons: A case for credibility excess as testimonial\n",
       "injustice. Hypatia 31 (3): 485 –501.\n",
       "Davis, Emmalon. 2018. On epistemic appropriation. Ethics 128 (4): 702 –27.\n",
       "Dembroff, Robin. 2020. Beyond binary: Genderqueer as a critical gender kind. Philosophers ’Imprint 20 (9):\n",
       "1–23.\n",
       "Dembroff, Robin, and Dennis Whitcomb. Forthcoming. Content focused epistemic injustice. In Oxford\n",
       "studies in epistemology , ed. Tamar Szabo Gendler and John Hawthorne. Oxford: Oxford University Press.\n",
       "Dotson, Kristie. 2012. A cautionary tale: On limiting epistemic oppression. Frontiers: A Journal of Women\n",
       "Studies 33 (1): 24 –47.\n",
       "Dotson, Kristie. 2014. Conceptualizing epistemic oppression. Social Epistemology 28 (2): 115 –38.\n",
       "Ferré-Sadurní, Luis. 2019. Teenager accused of rape deserves leniency because he ’sf r o ma “good family, ”\n",
       "judge says. New York Times , July 2.\n",
       "Fricker, Miranda. 2006. Powerlessness and social interpretation. Episteme: A Journal of Social Epistemology\n",
       "3( 1–2): 96 –108.Hypatia 361\n",
       "https://doi.org/10.1017/hyp.2022.4  Published online by Cambridge University Press\n",
       "Fricker, Miranda. 2007. Epistemic injustice: Power and the ethics of knowing . Oxford: Oxford University\n",
       "Press.\n",
       "Fricker, Miranda. 2016. Epistemic injustice and the preservation of ignorance. In The epistemic dimensions\n",
       "of ignorance , ed. Rik Peels and Martijn Blaauw. Cambridge, UK: Cambridge University Press.\n",
       "Fricker, Miranda. 2017. Evolving concepts of epistemic injustice. In Routledge handbook of epistemic injus-\n",
       "tice, ed. Ian James Kidd, José Medina, and Gaile Pohlhaus, Jr. New York: Routledge.\n",
       "Gilkes, Cheryl Townsend. 1981. From slavery to social welfare: Racism and control of Black women. In\n",
       "Class, race, and sex :The dynamics of control , ed. Amy Smerdlow and Helen Lessinger. Boston: G. K. Hall.\n",
       "Goetze, Trystan. 2017. Hermeneutical dissent and the species of hermeneutical injustice. Hypatia 33 (1):\n",
       "73–90.\n",
       "Gray, Emma. 2016. You don ’t have to be a monster to be capable of rape. Huffington Post , February 23.\n",
       "Haslanger, Sally. 2016. What is a (social) structural explanation? Philosophical Studies 173 (1): 113 –30.\n",
       "Haslanger, Sally. 2020a. Cognition as a social skill. Australasian Philosophical Review 3 (1): 5 –25.\n",
       "Haslanger, Sally. 2020b. Going on, not in the same way. In Conceptual ethics and conceptual engineering , ed.\n",
       "Alexis Burgess, Herman Cappelen, and David Plunkett. New York: Oxford University Press.\n",
       "Hinton, Elizabeth. 2019. How the “Central Park Five ”changed the history of American law. Atlantic ,\n",
       "June 2.\n",
       "Jenkins, Katharine. 2017. Rape myths and domestic abuse"
      ],
      "text/plain": [
       "<IPython.core.display.Markdown object>"
      ]
     },
     "metadata": {},
     "output_type": "display_data"
    },
    {
     "name": "stdout",
     "output_type": "stream",
     "text": [
      "\n",
      "Observation: \u001b[36;1m\u001b[1;3mAfter searching the available context, there is no direct mention of articles discussing the relationship between epistemic injustice, hermeneutical injustice, and linguistic hijacking. However, the literature provides insights into how hermeneutical injustice can contribute to epistemic injustice by distorting and co-opting concepts, ultimately leading to a failure of conceptual aptness or applicability. Oppressive concepts, such as genocidal language games and rape myths in the news media, can prevent the accurate application of a concept and limit or block marginalized individuals' ability to contribute their knowledge in a socially significant context. \n",
      "\n",
      "To combat hermeneutical injustice, large-scale social movements aimed at dismantling oppressive ideologies and scripts are necessary. These movements can help develop and disseminate novel concepts needed to understand socially significant experiences, unlearn and dislodge distorting ideological grip, and support the intelligibility of concepts that have been twisted and co-opted, enabling individuals to enjoy benefits and privileges. \n",
      "\n",
      "While no articles directly discuss the relationship between epistemic injustice, hermeneutical injustice, and linguistic hijacking, the literature's insights highlight the importance of considering the role of oppressive concepts in perpetuating epistemic injustice and the need for social movements to combat hermeneutical injustice.\u001b[0m\u001b[32;1m\u001b[1;3m\u001b[0m\n",
      "\n",
      "\u001b[1m> Finished chain.\u001b[0m\n"
     ]
    },
    {
     "data": {
      "text/plain": [
       "\"After searching the available context, there is no direct mention of articles discussing the relationship between epistemic injustice, hermeneutical injustice, and linguistic hijacking. However, the literature provides insights into how hermeneutical injustice can contribute to epistemic injustice by distorting and co-opting concepts, ultimately leading to a failure of conceptual aptness or applicability. Oppressive concepts, such as genocidal language games and rape myths in the news media, can prevent the accurate application of a concept and limit or block marginalized individuals' ability to contribute their knowledge in a socially significant context. \\n\\nTo combat hermeneutical injustice, large-scale social movements aimed at dismantling oppressive ideologies and scripts are necessary. These movements can help develop and disseminate novel concepts needed to understand socially significant experiences, unlearn and dislodge distorting ideological grip, and support the intelligibility of concepts that have been twisted and co-opted, enabling individuals to enjoy benefits and privileges. \\n\\nWhile no articles directly discuss the relationship between epistemic injustice, hermeneutical injustice, and linguistic hijacking, the literature's insights highlight the importance of considering the role of oppressive concepts in perpetuating epistemic injustice and the need for social movements to combat hermeneutical injustice.\""
      ]
     },
     "execution_count": 21,
     "metadata": {},
     "output_type": "execute_result"
    }
   ],
   "source": [
    "agent_chain.run(input=\"How is epistemic injustice related to hermeneutical injustice? How can one lead to another? How are they related to a phenomenon called linguistic hijacking, the phenomenon wherein politically significant terminology is co-opted by dominant groups in ways that further their dominance over marginalized groups?\")"
   ]
  },
  {
   "cell_type": "code",
   "execution_count": 23,
   "metadata": {},
   "outputs": [],
   "source": [
    "# get_answer('relationship between epistemic injustice, hermeneutical injustice, and linguistic hijacking')"
   ]
  },
  {
   "cell_type": "code",
   "execution_count": 24,
   "metadata": {},
   "outputs": [
    {
     "name": "stdout",
     "output_type": "stream",
     "text": [
      "\n",
      "\n",
      "\u001b[1m> Entering new AgentExecutor chain...\u001b[0m\n",
      "\u001b[32;1m\u001b[1;3m{\n",
      "    \"action\": \"Document Search\",\n",
      "    \"action_input\": \"Epistemic Injustice, Hermeneutical Injustice, and Testimony\"\n",
      "}\u001b[0m\u001b[36;1m\u001b[1;3m> Got node text: filename: fricker2012.pdf\n",
      "\n",
      "for instance). What was less familiar was the idea\n",
      "of discriminatory epistemic injustice: a branch of epistemic injustice which, I have\n",
      "argued, divides into two sub-branc...\n",
      "\u001b[0m\u001b[36;1m\u001b[1;3m> Got node text: filename: kidd2016.pdf\n",
      "\n",
      "injustice can also be applied to them.\n",
      "There are several varieties of epistemic injustice, but for reasons of space and focus,\n",
      "our analysis focuses on the two identi ﬁed by ...\n",
      "\u001b[0m"
     ]
    },
    {
     "name": "stderr",
     "output_type": "stream",
     "text": [
      "INFO:llama_index.token_counter.token_counter:> [query] Total LLM token usage: 3747 tokens\n",
      "INFO:llama_index.token_counter.token_counter:> [query] Total embedding token usage: 271 tokens\n"
     ]
    },
    {
     "data": {
      "text/markdown": [
       "<b>The two sub-branches of discriminatory epistemic injustice discussed by the author are testimonial injustice and hermeneutical injustice. Testimonial injustice occurs when a speaker's credibility is devalued due to the hearer's prejudice, while hermeneutical injustice occurs when a subject who is already marginalized in terms of generating social meanings is put at a disadvantage when it comes to making sense of a significant area of their social experience. The author also discusses two specific forms of testimonial injustice, participatory prejudice and informational prejudice, which involve a person or group facing obstacles to their participation in collective epistemic activities. \n",
       "\n",
       "Ill persons are particularly vulnerable to these forms of epistemic injustice due to negative stereotypes and prejudices that are often associated with illness. These stereotypes and prejudices can be irrational and operate without any focused awareness, making it difficult for ill individuals to be taken seriously as knowers. Healthcare institutions are also underpinned by biomedical approaches that focus on the biological rather than existential aspects of illness, which can lower the level of attention paid to the subjective experience of being ill. Additionally, time pressure, short consultations, and use of standardized protocols can limit opportunities for personalized care and communication between patients and health professionals, further eroding the epistemic confidence and capacities of the ill person.\n",
       "\n",
       "Combating these forms of epistemic injustice requires a large-scale social movement aimed at dismantling oppressive ideologies and stereotypes. Such movements are necessary to develop and disseminate novel concepts needed to understand socially significant experiences and to unlearn and dislodge the grip of controlling images and oppressive concepts that are operative within one's social milieu. The gay rights movement and the fight for marriage equality in North America, as well as the #BodyPositivity movement, are examples of social movements that have supported the intelligibility of concepts that have been twisted and co-opted, and have enabled individuals to enjoy benefits and privileges afforded by legal unions.</b>"
      ],
      "text/plain": [
       "<IPython.core.display.Markdown object>"
      ]
     },
     "metadata": {},
     "output_type": "display_data"
    },
    {
     "name": "stdout",
     "output_type": "stream",
     "text": [
      "Source 0: fricker2012.pdf\n"
     ]
    },
    {
     "data": {
      "text/markdown": [
       "for instance). What was less familiar was the idea\n",
       "of discriminatory epistemic injustice: a branch of epistemic injustice which, I have\n",
       "argued, divides into two sub-branches, namely testimonial injustice and hermeneuticalinjustice.\n",
       "3Since I have discussed these phenomena in detail in other work, I will merely\n",
       "put the two concepts swiftly in place here. Once this is done, I will be in a position to\n",
       "proceed with the task of this paper: to make out a new connection between epistemicjustice and an ideal of political freedom, and to explore the implications for account-\n",
       "able institutional practices. My hope is that elaborating these ideas will reveal just\n",
       "how tightly epistemic justice needs to be interwoven in the fabric of the liberal polity.\n",
       "1I have argued for this point about philosophical method more fully in Fricker (2012 ).\n",
       "2David Coady has rightly emphasized both these points; see Coady (2010 ).\n",
       "3For a fuller account of these kinds of epistemic injustice, see Fricker (2007 ).\n",
       "123\n",
       "Synthese (2013) 190:1317–1332 1319\n",
       "Testimonial injustice happens when a speaker receives a deﬁcit of credibility owing\n",
       "to the operation of prejudice in the hearer’s judgement. A possible example might be in\n",
       "a case of ‘stop and search’ by the police, where a racial prejudice affects the perceptionof the police ofﬁcer so that a young black male driver receives a prejudicially deﬂated\n",
       "level of credibility when he declares that he is the rightful owner of the car. There will\n",
       "of course be a spectrum of cases spanning those in which the speaker’s credibility isonly marginally deﬂated to those where it is drastically deﬂated, and also spanning\n",
       "cases where (whatever the deﬂation) it either is or isn’t sufﬁcient to bring the level of\n",
       "credibility below the threshold for hearer acceptance. Sometimes a speaker’s word istaken far less seriously than it would be absent the prejudice, yet they are still believed;\n",
       "sometimes a small credibility deﬂation is enough to entail that the speaker’s word is\n",
       "rejected.\n",
       "Hermeneutical injustice occurs at a stage prior to communicative activity, though\n",
       "it will only surface in a certain kind of failed or semi-failed attempt to render anexperience intelligible, either to oneself or communicatively to another. This kind of\n",
       "epistemic injustice happens when a subject who is already hermeneutically marginal-\n",
       "ized (that is, they belong to a group which does not have access to equal participationin the generation of social meanings) is thereby put at an unfair disadvantage when\n",
       "it comes to making sense of a signiﬁcant area of their social experience. An example\n",
       "might be a woman who attacked or killed a long-term physically abusive partner at atime before the background history of his own violence and intimidation came to be\n",
       "interpretable by reference to the legal category of ‘provocation’.\n",
       "Like testimonial injustice, hermeneutical injustice comes in different degrees of\n",
       "severity, and along more than one dimension. First, there is internal diversity as regards\n",
       "the degree of misunderstanding. At one extreme, even serious domestic violence might\n",
       "once have been culturally, quasi secretly, understood as the violent afﬁrmation of a\n",
       "proper natural hierarchy between ‘man and wife’ (not forgetting that our rich capacity\n",
       "for incoherence in collective forms of understanding is such that this construal can\n",
       "subsist alongside another, more openly avowed, interpretation to the effect that such\n",
       "violence is appalling). Or, alternatively, a less radical failure of understanding might\n",
       "be illustrated by a situation where such violence is on the whole taken seriously as acriminal offence, yet still not properly dealt with by the relevant institutional bodies\n",
       "owing to confused social meanings surrounding, for instance, the fact that the victim\n",
       "did not leave her violent partner.\n",
       "Second, hermeneutical injustice is internally diverse in relation to how widespread\n",
       "the failure of understanding is. At the extreme, there can be cases where even the\n",
       "subject herself is radically unable to make sense of her own experience; or, by contrast,there can be cases at the other extreme in which the subject herself is entirely clear\n",
       "what is happening to her, and can perhaps expect to communicate her experience\n",
       "with ease to other members of her community or social group, but (owing to thecollective hermeneutical gap pertaining to the wider community as a whole) still\n",
       "cannot expect to communicate it successfully to signiﬁcant social agencies—notably,\n",
       "relevant institutional bodies—in order to describe or protest the experience. Finally,a third dimension of internal diversity in hermeneutical injustice is that such unfair\n",
       "deﬁcits of intelligibility might be owing either to the inadequately conceptualised\n",
       "123\n",
       "1320 Synthese (2013) 190:1317–1332\n",
       "content , and/or owing to an inadequately understood expressive form , in the sense of\n",
       "style of communication.\n",
       "I have tried in previous work to develop the ethical and epistemic aspects of the\n",
       "wrong of both kinds of discriminatory epistemic injustice.4In brief, there is a generic\n",
       "wrong to any kind of epistemic injustice (including the distributive kind) which is\n",
       "a matter of the subject being wronged speciﬁcally in their capacity as an epistemic\n",
       "subject . In respect of testimonial injustice, this generic wrong becomes somewhat\n",
       "speciﬁed in the idea of the subject’s being wronged as a giver of knowledge (an\n",
       "unjust deﬁcit of credibility); and in respect of hermeneutical injustice it becomes theidea of the subject’s being wronged in their capacity for social understanding (an\n",
       "unjust deﬁcit of"
      ],
      "text/plain": [
       "<IPython.core.display.Markdown object>"
      ]
     },
     "metadata": {},
     "output_type": "display_data"
    },
    {
     "name": "stdout",
     "output_type": "stream",
     "text": [
      "Source 1: kidd2016.pdf\n"
     ]
    },
    {
     "data": {
      "text/markdown": [
       "injustice can also be applied to them.\n",
       "There are several varieties of epistemic injustice, but for reasons of space and focus,\n",
       "our analysis focuses on the two identi ﬁed by Fricker, namely testimonial injustice and\n",
       "hermeneutical injustice , which arise in the context of our testimonial and hermeneutical\n",
       "practices. We also discuss two speci ﬁc forms of testimonial injustice, which Christo-\n",
       "pher Hookway dubs participatory prejudice and informational prejudice , each of which\n",
       "involve a person or group facing obstacles to their participation in collective epistemic\n",
       "activities.17The relationship of these two prejudices to testimonial injustice is a matter\n",
       "of debate among virtue epistemologists, with Fricker herself arguing that testimonialinjustice is ‘the most basic ’form of epistemic injustice, of which the two prejudices\n",
       "identi ﬁed as Hookway are speci ﬁcations.\n",
       "18We agree, so the article starts with testimo-\n",
       "nial injustice, moves onto the two prejudices, before turning to hermeneutical injus-tice. In each case, we ask whether ill persons are especially vulnerable to that type ofinjustice, and if so, identify the stereotypes, structures, and practices that generate and\n",
       "sustain it.\n",
       "Illness often leads to incapacitation, anxiety, and insecurity; these can either be met\n",
       "with empathy and compassion, or may trigger negative stereotyping. Instead of makingan empirically and re ﬂectively robust judgment on a case-by-case basis of the epis-\n",
       "temic credibility of an ill person, health professionals (and others) may tacitly fall backupon such uncritically (and often unconsciously) adopted stereotypes, many of whichincorporate negative epistemic prejudices.\n",
       "Fricker emphasises that such stereotypes and prejudices typically operate ‘without\n",
       "any focused awareness ’and are ‘(typically) culpably resistant to the evidence ’, and\n",
       "thus irrational.\n",
       "19Many prevailing stereotypes of ill persons tend to connote incapacita-\n",
       "tion, disability, diminished agency, social vulnerability, psychological fragility, andbodily failure, among others.\n",
       "20These stereotypes often portray illness in terms of\n",
       "moral or conative failure or social defect that may ‘contaminate its surroundings ’21\n",
       "and range from moralistic forms through to the ‘punitive and sentimental ’types\n",
       "described by Susan Sontag.22A broad theme of these stereotypes is, as Arthur Frank\n",
       "remarks, that ‘the power of stigma has fed on seeing the body ’s condition as an\n",
       "expression of morality ’,23such that the fact of illness is a mark of moral, social, and\n",
       "epistemic failure.\n",
       "The structures of healthcare institutions are underpinned by biomedical approaches\n",
       "that focus upon the biological rather than existential aspects of illness, and thereforelower the level of attention paid to the subjective experience of being ill. Healthcareprovision is based upon principles of ef ﬁciency (and in some cases ﬁnancial pro ﬁt)\n",
       "and designed to suit the needs of health specialists rather than patients. In addition,time pressure, short consultations, and use of standardised protocols that leave little\n",
       "room for personal needs and values, are also core features of modern healthcare\n",
       "systems.\n",
       "Finally, work is task-based rather than patient-focused, thereby closing down oppor-\n",
       "tunities for establishing sustained contact between a particular health professional andan individual patient, and for the rich forms of communicative relationship that mightfacilitate the recognition and cultivation of patients ’ability to contribute to the\n",
       "©2016The Author. Journal of Applied Philosophy published by John Wiley & Sons Ltd on behalf of Society for Applied Philosophy.Epistemic Injustice and Illness 5\n",
       "epistemic aspects of their care. As we argue below, all of these can contribute in a\n",
       "myriad of ways to the gradual erosion of the epistemic con ﬁdence and capacities of\n",
       "the ill person.\n",
       "3. Testimonial Injustice\n",
       "Testimonial injustice occurs when prejudice causes a hearer to give a de ﬂated level of\n",
       "credibility to the speakers ’word.24Speci ﬁcally, a negative stereotype introduces preju-\n",
       "dices that cause a credibility de ﬁcitwith the consequence that a person ’s capacity to act\n",
       "as a testi ﬁer–a reliable giver of information –is impaired, or in severe cases com-\n",
       "pletely destroyed. Fricker emphasises that stereotypes and prejudices are neutral, partlybecause they can be benign and sometimes advantageous, and partly because theyserve an essential pragmatic cognitive and social role. The concern about testimonialinjustice arises when a person or group are subjected to a ‘negative identity-prejudicial\n",
       "stereotype ’which involves a disparaging association between a social group and one or\n",
       "more attributes, and is closely connected to ethically objectionable investment such as\n",
       "disdain for the relevant social group.\n",
       "25\n",
       "A typical case of testimonial injustice could involve negative stereotypes of a particu-\n",
       "lar race or gender as suffering inferior cognitive capacity and a presumed predilectionfor deception, such that their epistemic credibility is automatically downgraded. Suchinjustices can be incidental, if the stereotype is weak or the prejudices susceptible tochallenge, or they can be systematic, especially if, as in the case of racism and sexism,the stereotypes and prejudices are deeply entrenched in the social world. In the latter\n",
       "case, the social group may suffer a ‘tracker prejudice ’, as the prejudices imposed by\n",
       "the negative stereotype tracks them through different domains of the social world.\n",
       "26\n",
       "A person or social group suffers from testimonial injustice"
      ],
      "text/plain": [
       "<IPython.core.display.Markdown object>"
      ]
     },
     "metadata": {},
     "output_type": "display_data"
    },
    {
     "name": "stdout",
     "output_type": "stream",
     "text": [
      "\n",
      "Observation: \u001b[36;1m\u001b[1;3mThe two sub-branches of discriminatory epistemic injustice discussed by the author are testimonial injustice and hermeneutical injustice. Testimonial injustice occurs when a speaker's credibility is devalued due to the hearer's prejudice, while hermeneutical injustice occurs when a subject who is already marginalized in terms of generating social meanings is put at a disadvantage when it comes to making sense of a significant area of their social experience. The author also discusses two specific forms of testimonial injustice, participatory prejudice and informational prejudice, which involve a person or group facing obstacles to their participation in collective epistemic activities. \n",
      "\n",
      "Ill persons are particularly vulnerable to these forms of epistemic injustice due to negative stereotypes and prejudices that are often associated with illness. These stereotypes and prejudices can be irrational and operate without any focused awareness, making it difficult for ill individuals to be taken seriously as knowers. Healthcare institutions are also underpinned by biomedical approaches that focus on the biological rather than existential aspects of illness, which can lower the level of attention paid to the subjective experience of being ill. Additionally, time pressure, short consultations, and use of standardized protocols can limit opportunities for personalized care and communication between patients and health professionals, further eroding the epistemic confidence and capacities of the ill person.\n",
      "\n",
      "Combating these forms of epistemic injustice requires a large-scale social movement aimed at dismantling oppressive ideologies and stereotypes. Such movements are necessary to develop and disseminate novel concepts needed to understand socially significant experiences and to unlearn and dislodge the grip of controlling images and oppressive concepts that are operative within one's social milieu. The gay rights movement and the fight for marriage equality in North America, as well as the #BodyPositivity movement, are examples of social movements that have supported the intelligibility of concepts that have been twisted and co-opted, and have enabled individuals to enjoy benefits and privileges afforded by legal unions.\u001b[0m\u001b[32;1m\u001b[1;3m\u001b[0m\n",
      "\n",
      "\u001b[1m> Finished chain.\u001b[0m\n"
     ]
    },
    {
     "data": {
      "text/plain": [
       "\"The two sub-branches of discriminatory epistemic injustice discussed by the author are testimonial injustice and hermeneutical injustice. Testimonial injustice occurs when a speaker's credibility is devalued due to the hearer's prejudice, while hermeneutical injustice occurs when a subject who is already marginalized in terms of generating social meanings is put at a disadvantage when it comes to making sense of a significant area of their social experience. The author also discusses two specific forms of testimonial injustice, participatory prejudice and informational prejudice, which involve a person or group facing obstacles to their participation in collective epistemic activities. \\n\\nIll persons are particularly vulnerable to these forms of epistemic injustice due to negative stereotypes and prejudices that are often associated with illness. These stereotypes and prejudices can be irrational and operate without any focused awareness, making it difficult for ill individuals to be taken seriously as knowers. Healthcare institutions are also underpinned by biomedical approaches that focus on the biological rather than existential aspects of illness, which can lower the level of attention paid to the subjective experience of being ill. Additionally, time pressure, short consultations, and use of standardized protocols can limit opportunities for personalized care and communication between patients and health professionals, further eroding the epistemic confidence and capacities of the ill person.\\n\\nCombating these forms of epistemic injustice requires a large-scale social movement aimed at dismantling oppressive ideologies and stereotypes. Such movements are necessary to develop and disseminate novel concepts needed to understand socially significant experiences and to unlearn and dislodge the grip of controlling images and oppressive concepts that are operative within one's social milieu. The gay rights movement and the fight for marriage equality in North America, as well as the #BodyPositivity movement, are examples of social movements that have supported the intelligibility of concepts that have been twisted and co-opted, and have enabled individuals to enjoy benefits and privileges afforded by legal unions.\""
      ]
     },
     "execution_count": 24,
     "metadata": {},
     "output_type": "execute_result"
    }
   ],
   "source": [
    "agent_chain.run(input=\"how is testimony related to all these?\")"
   ]
  },
  {
   "cell_type": "code",
   "execution_count": 260,
   "metadata": {},
   "outputs": [
    {
     "name": "stdout",
     "output_type": "stream",
     "text": [
      "\n",
      "\n",
      "\u001b[1m> Entering new AgentExecutor chain...\u001b[0m\n",
      "\u001b[32;1m\u001b[1;3m{\n",
      "    \"action\": \"Philosophy Search\",\n",
      "    \"action_input\": \"Epistemic injustice and money\"\n",
      "}\u001b[0m"
     ]
    },
    {
     "name": "stderr",
     "output_type": "stream",
     "text": [
      "INFO:llama_index.token_counter.token_counter:> [query] Total LLM token usage: 6599 tokens\n",
      "INFO:llama_index.token_counter.token_counter:> [query] Total embedding token usage: 186 tokens\n"
     ]
    },
    {
     "data": {
      "text/markdown": [
       "<b>While money is not a central theme in the concept of epistemic justice, it is concerned with the fair distribution of epistemic goods such as education and information. Epistemic injustice can manifest in two ways: testimonial injustice and hermeneutical injustice. Testimonial injustice occurs when a speaker's credibility is negatively affected by prejudice in the hearer's judgment, while hermeneutical injustice occurs when there is a gap in collective interpretive resources that prevents a marginalized group from making sense of their experiences. \n",
       "\n",
       "To combat hermeneutical injustice, it is necessary to dismantle oppressive ideologies and scripts through large-scale social movements that develop and disseminate novel concepts needed to understand socially significant experiences. This involves scaling up the virtue of epistemic justice to systemic size and reforming larger systems by which we organize the training of inquirers and the circulation, uptake, and incorporation of individuals' epistemic contributions to the construction of knowledge. \n",
       "\n",
       "The fair distribution of epistemic goods is crucial for combating epistemic injustice, and systemic reform may be necessary to ensure this distribution. While institutions such as central banks can alter interest rates and the aggregate money supply to prevent or reverse recessions, larger systems may need to be reformed to ensure epistemic justice. This highlights the need to combat the inherent risks of injustice that arise from basic features of the human predicament such as self-interest, prejudice, and unequal power, and to ensure a fair distribution of resources such as education and information. \n",
       "\n",
       "In conclusion, while money is not a central theme in the concept of epistemic justice, it is related to the fair distribution of epistemic goods, which are crucial for combating epistemic injustice. Large-scale social movements and systemic reform may be necessary to ensure this fair distribution and combat the inherent risks of injustice.</b>"
      ],
      "text/plain": [
       "<IPython.core.display.Markdown object>"
      ]
     },
     "metadata": {},
     "output_type": "display_data"
    },
    {
     "name": "stdout",
     "output_type": "stream",
     "text": [
      "\n",
      "Observation: \u001b[36;1m\u001b[1;3mWhile money is not a central theme in the concept of epistemic justice, it is concerned with the fair distribution of epistemic goods such as education and information. Epistemic injustice can manifest in two ways: testimonial injustice and hermeneutical injustice. Testimonial injustice occurs when a speaker's credibility is negatively affected by prejudice in the hearer's judgment, while hermeneutical injustice occurs when there is a gap in collective interpretive resources that prevents a marginalized group from making sense of their experiences. \n",
      "\n",
      "To combat hermeneutical injustice, it is necessary to dismantle oppressive ideologies and scripts through large-scale social movements that develop and disseminate novel concepts needed to understand socially significant experiences. This involves scaling up the virtue of epistemic justice to systemic size and reforming larger systems by which we organize the training of inquirers and the circulation, uptake, and incorporation of individuals' epistemic contributions to the construction of knowledge. \n",
      "\n",
      "The fair distribution of epistemic goods is crucial for combating epistemic injustice, and systemic reform may be necessary to ensure this distribution. While institutions such as central banks can alter interest rates and the aggregate money supply to prevent or reverse recessions, larger systems may need to be reformed to ensure epistemic justice. This highlights the need to combat the inherent risks of injustice that arise from basic features of the human predicament such as self-interest, prejudice, and unequal power, and to ensure a fair distribution of resources such as education and information. \n",
      "\n",
      "In conclusion, while money is not a central theme in the concept of epistemic justice, it is related to the fair distribution of epistemic goods, which are crucial for combating epistemic injustice. Large-scale social movements and systemic reform may be necessary to ensure this fair distribution and combat the inherent risks of injustice.\u001b[0m\u001b[32;1m\u001b[1;3m\u001b[0m\n",
      "\n",
      "\u001b[1m> Finished chain.\u001b[0m\n"
     ]
    },
    {
     "data": {
      "text/plain": [
       "\"While money is not a central theme in the concept of epistemic justice, it is concerned with the fair distribution of epistemic goods such as education and information. Epistemic injustice can manifest in two ways: testimonial injustice and hermeneutical injustice. Testimonial injustice occurs when a speaker's credibility is negatively affected by prejudice in the hearer's judgment, while hermeneutical injustice occurs when there is a gap in collective interpretive resources that prevents a marginalized group from making sense of their experiences. \\n\\nTo combat hermeneutical injustice, it is necessary to dismantle oppressive ideologies and scripts through large-scale social movements that develop and disseminate novel concepts needed to understand socially significant experiences. This involves scaling up the virtue of epistemic justice to systemic size and reforming larger systems by which we organize the training of inquirers and the circulation, uptake, and incorporation of individuals' epistemic contributions to the construction of knowledge. \\n\\nThe fair distribution of epistemic goods is crucial for combating epistemic injustice, and systemic reform may be necessary to ensure this distribution. While institutions such as central banks can alter interest rates and the aggregate money supply to prevent or reverse recessions, larger systems may need to be reformed to ensure epistemic justice. This highlights the need to combat the inherent risks of injustice that arise from basic features of the human predicament such as self-interest, prejudice, and unequal power, and to ensure a fair distribution of resources such as education and information. \\n\\nIn conclusion, while money is not a central theme in the concept of epistemic justice, it is related to the fair distribution of epistemic goods, which are crucial for combating epistemic injustice. Large-scale social movements and systemic reform may be necessary to ensure this fair distribution and combat the inherent risks of injustice.\""
      ]
     },
     "execution_count": 260,
     "metadata": {},
     "output_type": "execute_result"
    }
   ],
   "source": [
    "agent_chain.run(input=\"What about money?\")"
   ]
  },
  {
   "cell_type": "code",
   "execution_count": 251,
   "metadata": {},
   "outputs": [
    {
     "name": "stdout",
     "output_type": "stream",
     "text": [
      "\n",
      "\n",
      "\u001b[1m> Entering new AgentExecutor chain...\u001b[0m\n",
      "\u001b[32;1m\u001b[1;3m{\n",
      "    \"action\": \"Philosophy Search\",\n",
      "    \"action_input\": \"Epistemology of sex\"\n",
      "}\u001b[0m"
     ]
    },
    {
     "ename": "KeyboardInterrupt",
     "evalue": "",
     "output_type": "error",
     "traceback": [
      "\u001b[1;31m---------------------------------------------------------------------------\u001b[0m",
      "\u001b[1;31mKeyboardInterrupt\u001b[0m                         Traceback (most recent call last)",
      "Cell \u001b[1;32mIn[251], line 1\u001b[0m\n\u001b[1;32m----> 1\u001b[0m agent_chain\u001b[39m.\u001b[39;49mrun(\u001b[39minput\u001b[39;49m\u001b[39m=\u001b[39;49m\u001b[39m\"\u001b[39;49m\u001b[39mWhat about sex?\u001b[39;49m\u001b[39m\"\u001b[39;49m)\n",
      "File \u001b[1;32mc:\\Users\\Edison Yi\\AppData\\Local\\Programs\\Python\\Python310\\lib\\site-packages\\langchain\\chains\\base.py:216\u001b[0m, in \u001b[0;36mChain.run\u001b[1;34m(self, *args, **kwargs)\u001b[0m\n\u001b[0;32m    213\u001b[0m     \u001b[39mreturn\u001b[39;00m \u001b[39mself\u001b[39m(args[\u001b[39m0\u001b[39m])[\u001b[39mself\u001b[39m\u001b[39m.\u001b[39moutput_keys[\u001b[39m0\u001b[39m]]\n\u001b[0;32m    215\u001b[0m \u001b[39mif\u001b[39;00m kwargs \u001b[39mand\u001b[39;00m \u001b[39mnot\u001b[39;00m args:\n\u001b[1;32m--> 216\u001b[0m     \u001b[39mreturn\u001b[39;00m \u001b[39mself\u001b[39;49m(kwargs)[\u001b[39mself\u001b[39m\u001b[39m.\u001b[39moutput_keys[\u001b[39m0\u001b[39m]]\n\u001b[0;32m    218\u001b[0m \u001b[39mraise\u001b[39;00m \u001b[39mValueError\u001b[39;00m(\n\u001b[0;32m    219\u001b[0m     \u001b[39mf\u001b[39m\u001b[39m\"\u001b[39m\u001b[39m`run` supported with either positional arguments or keyword arguments\u001b[39m\u001b[39m\"\u001b[39m\n\u001b[0;32m    220\u001b[0m     \u001b[39mf\u001b[39m\u001b[39m\"\u001b[39m\u001b[39m but not both. Got args: \u001b[39m\u001b[39m{\u001b[39;00margs\u001b[39m}\u001b[39;00m\u001b[39m and kwargs: \u001b[39m\u001b[39m{\u001b[39;00mkwargs\u001b[39m}\u001b[39;00m\u001b[39m.\u001b[39m\u001b[39m\"\u001b[39m\n\u001b[0;32m    221\u001b[0m )\n",
      "File \u001b[1;32mc:\\Users\\Edison Yi\\AppData\\Local\\Programs\\Python\\Python310\\lib\\site-packages\\langchain\\chains\\base.py:116\u001b[0m, in \u001b[0;36mChain.__call__\u001b[1;34m(self, inputs, return_only_outputs)\u001b[0m\n\u001b[0;32m    114\u001b[0m \u001b[39mexcept\u001b[39;00m (\u001b[39mKeyboardInterrupt\u001b[39;00m, \u001b[39mException\u001b[39;00m) \u001b[39mas\u001b[39;00m e:\n\u001b[0;32m    115\u001b[0m     \u001b[39mself\u001b[39m\u001b[39m.\u001b[39mcallback_manager\u001b[39m.\u001b[39mon_chain_error(e, verbose\u001b[39m=\u001b[39m\u001b[39mself\u001b[39m\u001b[39m.\u001b[39mverbose)\n\u001b[1;32m--> 116\u001b[0m     \u001b[39mraise\u001b[39;00m e\n\u001b[0;32m    117\u001b[0m \u001b[39mself\u001b[39m\u001b[39m.\u001b[39mcallback_manager\u001b[39m.\u001b[39mon_chain_end(outputs, verbose\u001b[39m=\u001b[39m\u001b[39mself\u001b[39m\u001b[39m.\u001b[39mverbose)\n\u001b[0;32m    118\u001b[0m \u001b[39mreturn\u001b[39;00m \u001b[39mself\u001b[39m\u001b[39m.\u001b[39mprep_outputs(inputs, outputs, return_only_outputs)\n",
      "File \u001b[1;32mc:\\Users\\Edison Yi\\AppData\\Local\\Programs\\Python\\Python310\\lib\\site-packages\\langchain\\chains\\base.py:113\u001b[0m, in \u001b[0;36mChain.__call__\u001b[1;34m(self, inputs, return_only_outputs)\u001b[0m\n\u001b[0;32m    107\u001b[0m \u001b[39mself\u001b[39m\u001b[39m.\u001b[39mcallback_manager\u001b[39m.\u001b[39mon_chain_start(\n\u001b[0;32m    108\u001b[0m     {\u001b[39m\"\u001b[39m\u001b[39mname\u001b[39m\u001b[39m\"\u001b[39m: \u001b[39mself\u001b[39m\u001b[39m.\u001b[39m\u001b[39m__class__\u001b[39m\u001b[39m.\u001b[39m\u001b[39m__name__\u001b[39m},\n\u001b[0;32m    109\u001b[0m     inputs,\n\u001b[0;32m    110\u001b[0m     verbose\u001b[39m=\u001b[39m\u001b[39mself\u001b[39m\u001b[39m.\u001b[39mverbose,\n\u001b[0;32m    111\u001b[0m )\n\u001b[0;32m    112\u001b[0m \u001b[39mtry\u001b[39;00m:\n\u001b[1;32m--> 113\u001b[0m     outputs \u001b[39m=\u001b[39m \u001b[39mself\u001b[39;49m\u001b[39m.\u001b[39;49m_call(inputs)\n\u001b[0;32m    114\u001b[0m \u001b[39mexcept\u001b[39;00m (\u001b[39mKeyboardInterrupt\u001b[39;00m, \u001b[39mException\u001b[39;00m) \u001b[39mas\u001b[39;00m e:\n\u001b[0;32m    115\u001b[0m     \u001b[39mself\u001b[39m\u001b[39m.\u001b[39mcallback_manager\u001b[39m.\u001b[39mon_chain_error(e, verbose\u001b[39m=\u001b[39m\u001b[39mself\u001b[39m\u001b[39m.\u001b[39mverbose)\n",
      "File \u001b[1;32mc:\\Users\\Edison Yi\\AppData\\Local\\Programs\\Python\\Python310\\lib\\site-packages\\langchain\\agents\\agent.py:632\u001b[0m, in \u001b[0;36mAgentExecutor._call\u001b[1;34m(self, inputs)\u001b[0m\n\u001b[0;32m    630\u001b[0m \u001b[39m# We now enter the agent loop (until it returns something).\u001b[39;00m\n\u001b[0;32m    631\u001b[0m \u001b[39mwhile\u001b[39;00m \u001b[39mself\u001b[39m\u001b[39m.\u001b[39m_should_continue(iterations):\n\u001b[1;32m--> 632\u001b[0m     next_step_output \u001b[39m=\u001b[39m \u001b[39mself\u001b[39;49m\u001b[39m.\u001b[39;49m_take_next_step(\n\u001b[0;32m    633\u001b[0m         name_to_tool_map, color_mapping, inputs, intermediate_steps\n\u001b[0;32m    634\u001b[0m     )\n\u001b[0;32m    635\u001b[0m     \u001b[39mif\u001b[39;00m \u001b[39misinstance\u001b[39m(next_step_output, AgentFinish):\n\u001b[0;32m    636\u001b[0m         \u001b[39mreturn\u001b[39;00m \u001b[39mself\u001b[39m\u001b[39m.\u001b[39m_return(next_step_output, intermediate_steps)\n",
      "File \u001b[1;32mc:\\Users\\Edison Yi\\AppData\\Local\\Programs\\Python\\Python310\\lib\\site-packages\\langchain\\agents\\agent.py:564\u001b[0m, in \u001b[0;36mAgentExecutor._take_next_step\u001b[1;34m(self, name_to_tool_map, color_mapping, inputs, intermediate_steps)\u001b[0m\n\u001b[0;32m    562\u001b[0m         tool_run_kwargs[\u001b[39m\"\u001b[39m\u001b[39mllm_prefix\u001b[39m\u001b[39m\"\u001b[39m] \u001b[39m=\u001b[39m \u001b[39m\"\u001b[39m\u001b[39m\"\u001b[39m\n\u001b[0;32m    563\u001b[0m     \u001b[39m# We then call the tool on the tool input to get an observation\u001b[39;00m\n\u001b[1;32m--> 564\u001b[0m     observation \u001b[39m=\u001b[39m tool\u001b[39m.\u001b[39mrun(\n\u001b[0;32m    565\u001b[0m         output\u001b[39m.\u001b[39mtool_input, verbose\u001b[39m=\u001b[39m\u001b[39mself\u001b[39m\u001b[39m.\u001b[39mverbose, color\u001b[39m=\u001b[39mcolor, \u001b[39m*\u001b[39m\u001b[39m*\u001b[39mtool_run_kwargs\n\u001b[0;32m    566\u001b[0m     )\n\u001b[0;32m    567\u001b[0m \u001b[39melse\u001b[39;00m:\n\u001b[0;32m    568\u001b[0m     tool_run_kwargs \u001b[39m=\u001b[39m \u001b[39mself\u001b[39m\u001b[39m.\u001b[39magent\u001b[39m.\u001b[39mtool_run_logging_kwargs()\n",
      "File \u001b[1;32mc:\\Users\\Edison Yi\\AppData\\Local\\Programs\\Python\\Python310\\lib\\site-packages\\langchain\\tools\\base.py:73\u001b[0m, in \u001b[0;36mBaseTool.run\u001b[1;34m(self, tool_input, verbose, start_color, color, **kwargs)\u001b[0m\n\u001b[0;32m     71\u001b[0m \u001b[39mexcept\u001b[39;00m (\u001b[39mException\u001b[39;00m, \u001b[39mKeyboardInterrupt\u001b[39;00m) \u001b[39mas\u001b[39;00m e:\n\u001b[0;32m     72\u001b[0m     \u001b[39mself\u001b[39m\u001b[39m.\u001b[39mcallback_manager\u001b[39m.\u001b[39mon_tool_error(e, verbose\u001b[39m=\u001b[39mverbose_)\n\u001b[1;32m---> 73\u001b[0m     \u001b[39mraise\u001b[39;00m e\n\u001b[0;32m     74\u001b[0m \u001b[39mself\u001b[39m\u001b[39m.\u001b[39mcallback_manager\u001b[39m.\u001b[39mon_tool_end(\n\u001b[0;32m     75\u001b[0m     observation, verbose\u001b[39m=\u001b[39mverbose_, color\u001b[39m=\u001b[39mcolor, name\u001b[39m=\u001b[39m\u001b[39mself\u001b[39m\u001b[39m.\u001b[39mname, \u001b[39m*\u001b[39m\u001b[39m*\u001b[39mkwargs\n\u001b[0;32m     76\u001b[0m )\n\u001b[0;32m     77\u001b[0m \u001b[39mreturn\u001b[39;00m observation\n",
      "File \u001b[1;32mc:\\Users\\Edison Yi\\AppData\\Local\\Programs\\Python\\Python310\\lib\\site-packages\\langchain\\tools\\base.py:70\u001b[0m, in \u001b[0;36mBaseTool.run\u001b[1;34m(self, tool_input, verbose, start_color, color, **kwargs)\u001b[0m\n\u001b[0;32m     62\u001b[0m \u001b[39mself\u001b[39m\u001b[39m.\u001b[39mcallback_manager\u001b[39m.\u001b[39mon_tool_start(\n\u001b[0;32m     63\u001b[0m     {\u001b[39m\"\u001b[39m\u001b[39mname\u001b[39m\u001b[39m\"\u001b[39m: \u001b[39mself\u001b[39m\u001b[39m.\u001b[39mname, \u001b[39m\"\u001b[39m\u001b[39mdescription\u001b[39m\u001b[39m\"\u001b[39m: \u001b[39mself\u001b[39m\u001b[39m.\u001b[39mdescription},\n\u001b[0;32m     64\u001b[0m     tool_input,\n\u001b[1;32m   (...)\u001b[0m\n\u001b[0;32m     67\u001b[0m     \u001b[39m*\u001b[39m\u001b[39m*\u001b[39mkwargs,\n\u001b[0;32m     68\u001b[0m )\n\u001b[0;32m     69\u001b[0m \u001b[39mtry\u001b[39;00m:\n\u001b[1;32m---> 70\u001b[0m     observation \u001b[39m=\u001b[39m \u001b[39mself\u001b[39;49m\u001b[39m.\u001b[39;49m_run(tool_input)\n\u001b[0;32m     71\u001b[0m \u001b[39mexcept\u001b[39;00m (\u001b[39mException\u001b[39;00m, \u001b[39mKeyboardInterrupt\u001b[39;00m) \u001b[39mas\u001b[39;00m e:\n\u001b[0;32m     72\u001b[0m     \u001b[39mself\u001b[39m\u001b[39m.\u001b[39mcallback_manager\u001b[39m.\u001b[39mon_tool_error(e, verbose\u001b[39m=\u001b[39mverbose_)\n",
      "File \u001b[1;32mc:\\Users\\Edison Yi\\AppData\\Local\\Programs\\Python\\Python310\\lib\\site-packages\\langchain\\agents\\tools.py:17\u001b[0m, in \u001b[0;36mTool._run\u001b[1;34m(self, tool_input)\u001b[0m\n\u001b[0;32m     15\u001b[0m \u001b[39mdef\u001b[39;00m \u001b[39m_run\u001b[39m(\u001b[39mself\u001b[39m, tool_input: \u001b[39mstr\u001b[39m) \u001b[39m-\u001b[39m\u001b[39m>\u001b[39m \u001b[39mstr\u001b[39m:\n\u001b[0;32m     16\u001b[0m \u001b[39m    \u001b[39m\u001b[39m\"\"\"Use the tool.\"\"\"\u001b[39;00m\n\u001b[1;32m---> 17\u001b[0m     \u001b[39mreturn\u001b[39;00m \u001b[39mself\u001b[39;49m\u001b[39m.\u001b[39;49mfunc(tool_input)\n",
      "Cell \u001b[1;32mIn[246], line 5\u001b[0m, in \u001b[0;36m<lambda>\u001b[1;34m(q)\u001b[0m\n\u001b[0;32m      1\u001b[0m \u001b[39m# query_transform = HyDEQueryTransform(include_original=True)\u001b[39;00m\n\u001b[0;32m      2\u001b[0m tools \u001b[39m=\u001b[39m [\n\u001b[0;32m      3\u001b[0m     Tool(\n\u001b[0;32m      4\u001b[0m         name \u001b[39m=\u001b[39m \u001b[39m\"\u001b[39m\u001b[39mPhilosophy Search\u001b[39m\u001b[39m\"\u001b[39m,\n\u001b[1;32m----> 5\u001b[0m         func\u001b[39m=\u001b[39m\u001b[39mlambda\u001b[39;00m q: \u001b[39mstr\u001b[39m(get_answer(q)),\n\u001b[0;32m      6\u001b[0m         description\u001b[39m=\u001b[39m\u001b[39m\"\u001b[39m\u001b[39museful for when you want to answer questions related to epistemic or hermeneutical injustice. Please use this if the question is remotely related\u001b[39m\u001b[39m\"\u001b[39m,\n\u001b[0;32m      7\u001b[0m         return_direct\u001b[39m=\u001b[39m\u001b[39mTrue\u001b[39;00m\n\u001b[0;32m      8\u001b[0m     ),\n\u001b[0;32m      9\u001b[0m ]\n",
      "Cell \u001b[1;32mIn[229], line 25\u001b[0m, in \u001b[0;36mget_answer\u001b[1;34m(q)\u001b[0m\n\u001b[0;32m     23\u001b[0m response_mode \u001b[39m=\u001b[39m \u001b[39m'\u001b[39m\u001b[39mdefault\u001b[39m\u001b[39m'\u001b[39m\n\u001b[0;32m     24\u001b[0m mode\u001b[39m=\u001b[39m\u001b[39m\"\u001b[39m\u001b[39mdefault\u001b[39m\u001b[39m\"\u001b[39m\n\u001b[1;32m---> 25\u001b[0m response \u001b[39m=\u001b[39m index\u001b[39m.\u001b[39;49mquery(q, \n\u001b[0;32m     26\u001b[0m                         similarity_top_k \u001b[39m=\u001b[39;49m \u001b[39m4\u001b[39;49m, \n\u001b[0;32m     27\u001b[0m                         query_transform\u001b[39m=\u001b[39;49mquery_transform, \n\u001b[0;32m     28\u001b[0m                         response_mode \u001b[39m=\u001b[39;49m response_mode,\n\u001b[0;32m     29\u001b[0m                         refine_template \u001b[39m=\u001b[39;49m REFINE_PROMPT,\n\u001b[0;32m     30\u001b[0m                         mode \u001b[39m=\u001b[39;49m mode, \n\u001b[0;32m     31\u001b[0m                         verbose\u001b[39m=\u001b[39;49m\u001b[39mFalse\u001b[39;49;00m)\n\u001b[0;32m     32\u001b[0m display(Markdown(\u001b[39mf\u001b[39m\u001b[39m\"\u001b[39m\u001b[39m<b>\u001b[39m\u001b[39m{\u001b[39;00mresponse\u001b[39m}\u001b[39;00m\u001b[39m</b>\u001b[39m\u001b[39m\"\u001b[39m))\n\u001b[0;32m     33\u001b[0m \u001b[39mglobal\u001b[39;00m sources\n",
      "File \u001b[1;32mc:\\Users\\Edison Yi\\AppData\\Local\\Programs\\Python\\Python310\\lib\\site-packages\\llama_index\\indices\\base.py:244\u001b[0m, in \u001b[0;36mBaseGPTIndex.query\u001b[1;34m(self, query_str, mode, query_transform, use_async, **query_kwargs)\u001b[0m\n\u001b[0;32m    230\u001b[0m query_config \u001b[39m=\u001b[39m QueryConfig(\n\u001b[0;32m    231\u001b[0m     index_struct_type\u001b[39m=\u001b[39m\u001b[39mself\u001b[39m\u001b[39m.\u001b[39m_index_struct\u001b[39m.\u001b[39mget_type(),\n\u001b[0;32m    232\u001b[0m     query_mode\u001b[39m=\u001b[39mmode_enum,\n\u001b[0;32m    233\u001b[0m     query_kwargs\u001b[39m=\u001b[39mquery_kwargs,\n\u001b[0;32m    234\u001b[0m )\n\u001b[0;32m    235\u001b[0m query_runner \u001b[39m=\u001b[39m QueryRunner(\n\u001b[0;32m    236\u001b[0m     index_struct\u001b[39m=\u001b[39m\u001b[39mself\u001b[39m\u001b[39m.\u001b[39m_index_struct,\n\u001b[0;32m    237\u001b[0m     service_context\u001b[39m=\u001b[39m\u001b[39mself\u001b[39m\u001b[39m.\u001b[39m_service_context,\n\u001b[1;32m   (...)\u001b[0m\n\u001b[0;32m    242\u001b[0m     use_async\u001b[39m=\u001b[39muse_async,\n\u001b[0;32m    243\u001b[0m )\n\u001b[1;32m--> 244\u001b[0m \u001b[39mreturn\u001b[39;00m query_runner\u001b[39m.\u001b[39;49mquery(query_str)\n",
      "File \u001b[1;32mc:\\Users\\Edison Yi\\AppData\\Local\\Programs\\Python\\Python310\\lib\\site-packages\\llama_index\\indices\\query\\query_runner.py:342\u001b[0m, in \u001b[0;36mQueryRunner.query\u001b[1;34m(self, query_str_or_bundle, index_id, level)\u001b[0m\n\u001b[0;32m    324\u001b[0m \u001b[39m\u001b[39m\u001b[39m\"\"\"Run query.\u001b[39;00m\n\u001b[0;32m    325\u001b[0m \n\u001b[0;32m    326\u001b[0m \u001b[39mNOTE: Relies on mutual recursion between\u001b[39;00m\n\u001b[1;32m   (...)\u001b[0m\n\u001b[0;32m    337\u001b[0m \u001b[39m    composable graph.\u001b[39;00m\n\u001b[0;32m    338\u001b[0m \u001b[39m\"\"\"\u001b[39;00m\n\u001b[0;32m    339\u001b[0m query_combiner, query_bundle \u001b[39m=\u001b[39m \u001b[39mself\u001b[39m\u001b[39m.\u001b[39m_prepare_query_objects(\n\u001b[0;32m    340\u001b[0m     query_str_or_bundle, index_id\u001b[39m=\u001b[39mindex_id\n\u001b[0;32m    341\u001b[0m )\n\u001b[1;32m--> 342\u001b[0m \u001b[39mreturn\u001b[39;00m query_combiner\u001b[39m.\u001b[39;49mrun(query_bundle, level)\n",
      "File \u001b[1;32mc:\\Users\\Edison Yi\\AppData\\Local\\Programs\\Python\\Python310\\lib\\site-packages\\llama_index\\indices\\query\\query_combiner\\base.py:66\u001b[0m, in \u001b[0;36mSingleQueryCombiner.run\u001b[1;34m(self, query_bundle, level)\u001b[0m\n\u001b[0;32m     64\u001b[0m \u001b[39m\u001b[39m\u001b[39m\"\"\"Run query combiner.\"\"\"\u001b[39;00m\n\u001b[0;32m     65\u001b[0m updated_query_bundle \u001b[39m=\u001b[39m \u001b[39mself\u001b[39m\u001b[39m.\u001b[39m_prepare_update(query_bundle)\n\u001b[1;32m---> 66\u001b[0m \u001b[39mreturn\u001b[39;00m \u001b[39mself\u001b[39;49m\u001b[39m.\u001b[39;49m_query_runner\u001b[39m.\u001b[39;49mquery_transformed(\n\u001b[0;32m     67\u001b[0m     updated_query_bundle, \u001b[39mself\u001b[39;49m\u001b[39m.\u001b[39;49m_index_struct, level\u001b[39m=\u001b[39;49mlevel\n\u001b[0;32m     68\u001b[0m )\n",
      "File \u001b[1;32mc:\\Users\\Edison Yi\\AppData\\Local\\Programs\\Python\\Python310\\lib\\site-packages\\llama_index\\indices\\query\\query_runner.py:202\u001b[0m, in \u001b[0;36mQueryRunner.query_transformed\u001b[1;34m(self, query_bundle, index_struct, level)\u001b[0m\n\u001b[0;32m    200\u001b[0m     \u001b[39mreturn\u001b[39;00m response\n\u001b[0;32m    201\u001b[0m \u001b[39melse\u001b[39;00m:\n\u001b[1;32m--> 202\u001b[0m     \u001b[39mreturn\u001b[39;00m query_obj\u001b[39m.\u001b[39;49mquery(query_bundle)\n",
      "File \u001b[1;32mc:\\Users\\Edison Yi\\AppData\\Local\\Programs\\Python\\Python310\\lib\\site-packages\\llama_index\\token_counter\\token_counter.py:78\u001b[0m, in \u001b[0;36mllm_token_counter.<locals>.wrap.<locals>.wrapped_llm_predict\u001b[1;34m(_self, *args, **kwargs)\u001b[0m\n\u001b[0;32m     76\u001b[0m \u001b[39mdef\u001b[39;00m \u001b[39mwrapped_llm_predict\u001b[39m(_self: Any, \u001b[39m*\u001b[39margs: Any, \u001b[39m*\u001b[39m\u001b[39m*\u001b[39mkwargs: Any) \u001b[39m-\u001b[39m\u001b[39m>\u001b[39m Any:\n\u001b[0;32m     77\u001b[0m     \u001b[39mwith\u001b[39;00m wrapper_logic(_self):\n\u001b[1;32m---> 78\u001b[0m         f_return_val \u001b[39m=\u001b[39m f(_self, \u001b[39m*\u001b[39margs, \u001b[39m*\u001b[39m\u001b[39m*\u001b[39mkwargs)\n\u001b[0;32m     80\u001b[0m     \u001b[39mreturn\u001b[39;00m f_return_val\n",
      "File \u001b[1;32mc:\\Users\\Edison Yi\\AppData\\Local\\Programs\\Python\\Python310\\lib\\site-packages\\llama_index\\indices\\query\\base.py:393\u001b[0m, in \u001b[0;36mBaseGPTIndexQuery.query\u001b[1;34m(self, query_bundle)\u001b[0m\n\u001b[0;32m    391\u001b[0m \u001b[39m\u001b[39m\u001b[39m\"\"\"Answer a query.\"\"\"\u001b[39;00m\n\u001b[0;32m    392\u001b[0m \u001b[39m# TODO: support include summary\u001b[39;00m\n\u001b[1;32m--> 393\u001b[0m \u001b[39mreturn\u001b[39;00m \u001b[39mself\u001b[39;49m\u001b[39m.\u001b[39;49m_query(query_bundle)\n",
      "File \u001b[1;32mc:\\Users\\Edison Yi\\AppData\\Local\\Programs\\Python\\Python310\\lib\\site-packages\\llama_index\\indices\\query\\base.py:380\u001b[0m, in \u001b[0;36mBaseGPTIndexQuery._query\u001b[1;34m(self, query_bundle)\u001b[0m\n\u001b[0;32m    378\u001b[0m \u001b[39m# TODO: remove _query and just use query\u001b[39;00m\n\u001b[0;32m    379\u001b[0m nodes \u001b[39m=\u001b[39m \u001b[39mself\u001b[39m\u001b[39m.\u001b[39mretrieve(query_bundle)\n\u001b[1;32m--> 380\u001b[0m \u001b[39mreturn\u001b[39;00m \u001b[39mself\u001b[39;49m\u001b[39m.\u001b[39;49msynthesize(query_bundle, nodes)\n",
      "File \u001b[1;32mc:\\Users\\Edison Yi\\AppData\\Local\\Programs\\Python\\Python310\\lib\\site-packages\\llama_index\\indices\\query\\base.py:337\u001b[0m, in \u001b[0;36mBaseGPTIndexQuery.synthesize\u001b[1;34m(self, query_bundle, nodes, additional_source_nodes)\u001b[0m\n\u001b[0;32m    329\u001b[0m \u001b[39mself\u001b[39m\u001b[39m.\u001b[39m_prepare_response_builder(\n\u001b[0;32m    330\u001b[0m     \u001b[39mself\u001b[39m\u001b[39m.\u001b[39mresponse_builder,\n\u001b[0;32m    331\u001b[0m     query_bundle,\n\u001b[0;32m    332\u001b[0m     nodes,\n\u001b[0;32m    333\u001b[0m     additional_source_nodes\u001b[39m=\u001b[39madditional_source_nodes,\n\u001b[0;32m    334\u001b[0m )\n\u001b[0;32m    336\u001b[0m \u001b[39mif\u001b[39;00m \u001b[39mself\u001b[39m\u001b[39m.\u001b[39m_response_mode \u001b[39m!=\u001b[39m ResponseMode\u001b[39m.\u001b[39mNO_TEXT:\n\u001b[1;32m--> 337\u001b[0m     response_str \u001b[39m=\u001b[39m \u001b[39mself\u001b[39;49m\u001b[39m.\u001b[39;49m_give_response_for_nodes(\n\u001b[0;32m    338\u001b[0m         \u001b[39mself\u001b[39;49m\u001b[39m.\u001b[39;49mresponse_builder, query_bundle\u001b[39m.\u001b[39;49mquery_str\n\u001b[0;32m    339\u001b[0m     )\n\u001b[0;32m    340\u001b[0m \u001b[39melse\u001b[39;00m:\n\u001b[0;32m    341\u001b[0m     response_str \u001b[39m=\u001b[39m \u001b[39mNone\u001b[39;00m\n",
      "File \u001b[1;32mc:\\Users\\Edison Yi\\AppData\\Local\\Programs\\Python\\Python310\\lib\\site-packages\\llama_index\\indices\\query\\base.py:223\u001b[0m, in \u001b[0;36mBaseGPTIndexQuery._give_response_for_nodes\u001b[1;34m(self, response_builder, query_str)\u001b[0m\n\u001b[0;32m    219\u001b[0m \u001b[39mdef\u001b[39;00m \u001b[39m_give_response_for_nodes\u001b[39m(\n\u001b[0;32m    220\u001b[0m     \u001b[39mself\u001b[39m, response_builder: ResponseBuilder, query_str: \u001b[39mstr\u001b[39m\n\u001b[0;32m    221\u001b[0m ) \u001b[39m-\u001b[39m\u001b[39m>\u001b[39m RESPONSE_TEXT_TYPE:\n\u001b[0;32m    222\u001b[0m \u001b[39m    \u001b[39m\u001b[39m\"\"\"Give response for nodes.\"\"\"\u001b[39;00m\n\u001b[1;32m--> 223\u001b[0m     response \u001b[39m=\u001b[39m response_builder\u001b[39m.\u001b[39mget_response(\n\u001b[0;32m    224\u001b[0m         query_str,\n\u001b[0;32m    225\u001b[0m         mode\u001b[39m=\u001b[39m\u001b[39mself\u001b[39m\u001b[39m.\u001b[39m_response_mode,\n\u001b[0;32m    226\u001b[0m         \u001b[39m*\u001b[39m\u001b[39m*\u001b[39m\u001b[39mself\u001b[39m\u001b[39m.\u001b[39m_response_kwargs,\n\u001b[0;32m    227\u001b[0m     )\n\u001b[0;32m    228\u001b[0m     \u001b[39mreturn\u001b[39;00m response\n",
      "File \u001b[1;32mc:\\Users\\Edison Yi\\AppData\\Local\\Programs\\Python\\Python310\\lib\\site-packages\\llama_index\\indices\\response\\builder.py:378\u001b[0m, in \u001b[0;36mResponseBuilder.get_response\u001b[1;34m(self, query_str, prev_response, mode, **response_kwargs)\u001b[0m\n\u001b[0;32m    376\u001b[0m \u001b[39m\u001b[39m\u001b[39m\"\"\"Get response.\"\"\"\u001b[39;00m\n\u001b[0;32m    377\u001b[0m \u001b[39mif\u001b[39;00m mode \u001b[39m==\u001b[39m ResponseMode\u001b[39m.\u001b[39mDEFAULT:\n\u001b[1;32m--> 378\u001b[0m     \u001b[39mreturn\u001b[39;00m \u001b[39mself\u001b[39;49m\u001b[39m.\u001b[39;49m_get_response_default(query_str, prev_response)\n\u001b[0;32m    379\u001b[0m \u001b[39melif\u001b[39;00m mode \u001b[39m==\u001b[39m ResponseMode\u001b[39m.\u001b[39mCOMPACT:\n\u001b[0;32m    380\u001b[0m     \u001b[39mreturn\u001b[39;00m \u001b[39mself\u001b[39m\u001b[39m.\u001b[39m_get_response_compact(query_str, prev_response)\n",
      "File \u001b[1;32mc:\\Users\\Edison Yi\\AppData\\Local\\Programs\\Python\\Python310\\lib\\site-packages\\llama_index\\indices\\response\\builder.py:238\u001b[0m, in \u001b[0;36mResponseBuilder._get_response_default\u001b[1;34m(self, query_str, prev_response)\u001b[0m\n\u001b[0;32m    235\u001b[0m \u001b[39mdef\u001b[39;00m \u001b[39m_get_response_default\u001b[39m(\n\u001b[0;32m    236\u001b[0m     \u001b[39mself\u001b[39m, query_str: \u001b[39mstr\u001b[39m, prev_response: Optional[\u001b[39mstr\u001b[39m]\n\u001b[0;32m    237\u001b[0m ) \u001b[39m-\u001b[39m\u001b[39m>\u001b[39m RESPONSE_TEXT_TYPE:\n\u001b[1;32m--> 238\u001b[0m     \u001b[39mreturn\u001b[39;00m \u001b[39mself\u001b[39;49m\u001b[39m.\u001b[39;49mget_response_over_chunks(\n\u001b[0;32m    239\u001b[0m         query_str, \u001b[39mself\u001b[39;49m\u001b[39m.\u001b[39;49m_texts, prev_response\u001b[39m=\u001b[39;49mprev_response\n\u001b[0;32m    240\u001b[0m     )\n",
      "File \u001b[1;32mc:\\Users\\Edison Yi\\AppData\\Local\\Programs\\Python\\Python310\\lib\\site-packages\\llama_index\\indices\\response\\builder.py:225\u001b[0m, in \u001b[0;36mResponseBuilder.get_response_over_chunks\u001b[1;34m(self, query_str, text_chunks, prev_response)\u001b[0m\n\u001b[0;32m    220\u001b[0m             response \u001b[39m=\u001b[39m \u001b[39mself\u001b[39m\u001b[39m.\u001b[39mgive_response_single(\n\u001b[0;32m    221\u001b[0m                 query_str,\n\u001b[0;32m    222\u001b[0m                 text_chunk\u001b[39m.\u001b[39mtext,\n\u001b[0;32m    223\u001b[0m             )\n\u001b[0;32m    224\u001b[0m     \u001b[39melse\u001b[39;00m:\n\u001b[1;32m--> 225\u001b[0m         response \u001b[39m=\u001b[39m \u001b[39mself\u001b[39;49m\u001b[39m.\u001b[39;49mrefine_response_single(\n\u001b[0;32m    226\u001b[0m             prev_response_obj, query_str, text_chunk\u001b[39m.\u001b[39;49mtext\n\u001b[0;32m    227\u001b[0m         )\n\u001b[0;32m    228\u001b[0m     prev_response_obj \u001b[39m=\u001b[39m response\n\u001b[0;32m    229\u001b[0m \u001b[39mif\u001b[39;00m \u001b[39misinstance\u001b[39m(response, \u001b[39mstr\u001b[39m):\n",
      "File \u001b[1;32mc:\\Users\\Edison Yi\\AppData\\Local\\Programs\\Python\\Python310\\lib\\site-packages\\llama_index\\indices\\response\\builder.py:142\u001b[0m, in \u001b[0;36mResponseBuilder.refine_response_single\u001b[1;34m(self, response, query_str, text_chunk)\u001b[0m\n\u001b[0;32m    137\u001b[0m \u001b[39mfor\u001b[39;00m cur_text_chunk \u001b[39min\u001b[39;00m text_chunks:\n\u001b[0;32m    138\u001b[0m     \u001b[39mif\u001b[39;00m \u001b[39mnot\u001b[39;00m \u001b[39mself\u001b[39m\u001b[39m.\u001b[39m_streaming:\n\u001b[0;32m    139\u001b[0m         (\n\u001b[0;32m    140\u001b[0m             response,\n\u001b[0;32m    141\u001b[0m             formatted_prompt,\n\u001b[1;32m--> 142\u001b[0m         ) \u001b[39m=\u001b[39m \u001b[39mself\u001b[39;49m\u001b[39m.\u001b[39;49m_service_context\u001b[39m.\u001b[39;49mllm_predictor\u001b[39m.\u001b[39;49mpredict(\n\u001b[0;32m    143\u001b[0m             refine_template,\n\u001b[0;32m    144\u001b[0m             context_msg\u001b[39m=\u001b[39;49mcur_text_chunk,\n\u001b[0;32m    145\u001b[0m         )\n\u001b[0;32m    146\u001b[0m     \u001b[39melse\u001b[39;00m:\n\u001b[0;32m    147\u001b[0m         response, formatted_prompt \u001b[39m=\u001b[39m \u001b[39mself\u001b[39m\u001b[39m.\u001b[39m_service_context\u001b[39m.\u001b[39mllm_predictor\u001b[39m.\u001b[39mstream(\n\u001b[0;32m    148\u001b[0m             refine_template,\n\u001b[0;32m    149\u001b[0m             context_msg\u001b[39m=\u001b[39mcur_text_chunk,\n\u001b[0;32m    150\u001b[0m         )\n",
      "File \u001b[1;32mc:\\Users\\Edison Yi\\AppData\\Local\\Programs\\Python\\Python310\\lib\\site-packages\\llama_index\\llm_predictor\\base.py:223\u001b[0m, in \u001b[0;36mLLMPredictor.predict\u001b[1;34m(self, prompt, **prompt_args)\u001b[0m\n\u001b[0;32m    213\u001b[0m \u001b[39m\u001b[39m\u001b[39m\"\"\"Predict the answer to a query.\u001b[39;00m\n\u001b[0;32m    214\u001b[0m \n\u001b[0;32m    215\u001b[0m \u001b[39mArgs:\u001b[39;00m\n\u001b[1;32m   (...)\u001b[0m\n\u001b[0;32m    220\u001b[0m \n\u001b[0;32m    221\u001b[0m \u001b[39m\"\"\"\u001b[39;00m\n\u001b[0;32m    222\u001b[0m formatted_prompt \u001b[39m=\u001b[39m prompt\u001b[39m.\u001b[39mformat(llm\u001b[39m=\u001b[39m\u001b[39mself\u001b[39m\u001b[39m.\u001b[39m_llm, \u001b[39m*\u001b[39m\u001b[39m*\u001b[39mprompt_args)\n\u001b[1;32m--> 223\u001b[0m llm_prediction \u001b[39m=\u001b[39m \u001b[39mself\u001b[39m\u001b[39m.\u001b[39m_predict(prompt, \u001b[39m*\u001b[39m\u001b[39m*\u001b[39mprompt_args)\n\u001b[0;32m    224\u001b[0m logger\u001b[39m.\u001b[39mdebug(llm_prediction)\n\u001b[0;32m    226\u001b[0m \u001b[39m# We assume that the value of formatted_prompt is exactly the thing\u001b[39;00m\n\u001b[0;32m    227\u001b[0m \u001b[39m# eventually sent to OpenAI, or whatever LLM downstream\u001b[39;00m\n",
      "File \u001b[1;32mc:\\Users\\Edison Yi\\AppData\\Local\\Programs\\Python\\Python310\\lib\\site-packages\\llama_index\\llm_predictor\\base.py:197\u001b[0m, in \u001b[0;36mLLMPredictor._predict\u001b[1;34m(self, prompt, **prompt_args)\u001b[0m\n\u001b[0;32m    195\u001b[0m full_prompt_args \u001b[39m=\u001b[39m prompt\u001b[39m.\u001b[39mget_full_format_args(prompt_args)\n\u001b[0;32m    196\u001b[0m \u001b[39mif\u001b[39;00m \u001b[39mself\u001b[39m\u001b[39m.\u001b[39mretry_on_throttling:\n\u001b[1;32m--> 197\u001b[0m     llm_prediction \u001b[39m=\u001b[39m retry_on_exceptions_with_backoff(\n\u001b[0;32m    198\u001b[0m         \u001b[39mlambda\u001b[39;49;00m: llm_chain\u001b[39m.\u001b[39;49mpredict(\u001b[39m*\u001b[39;49m\u001b[39m*\u001b[39;49mfull_prompt_args),\n\u001b[0;32m    199\u001b[0m         [\n\u001b[0;32m    200\u001b[0m             ErrorToRetry(openai\u001b[39m.\u001b[39;49merror\u001b[39m.\u001b[39;49mRateLimitError),\n\u001b[0;32m    201\u001b[0m             ErrorToRetry(openai\u001b[39m.\u001b[39;49merror\u001b[39m.\u001b[39;49mServiceUnavailableError),\n\u001b[0;32m    202\u001b[0m             ErrorToRetry(openai\u001b[39m.\u001b[39;49merror\u001b[39m.\u001b[39;49mTryAgain),\n\u001b[0;32m    203\u001b[0m             ErrorToRetry(\n\u001b[0;32m    204\u001b[0m                 openai\u001b[39m.\u001b[39;49merror\u001b[39m.\u001b[39;49mAPIConnectionError, \u001b[39mlambda\u001b[39;49;00m e: e\u001b[39m.\u001b[39;49mshould_retry\n\u001b[0;32m    205\u001b[0m             ),\n\u001b[0;32m    206\u001b[0m         ],\n\u001b[0;32m    207\u001b[0m     )\n\u001b[0;32m    208\u001b[0m \u001b[39melse\u001b[39;00m:\n\u001b[0;32m    209\u001b[0m     llm_prediction \u001b[39m=\u001b[39m llm_chain\u001b[39m.\u001b[39mpredict(\u001b[39m*\u001b[39m\u001b[39m*\u001b[39mfull_prompt_args)\n",
      "File \u001b[1;32mc:\\Users\\Edison Yi\\AppData\\Local\\Programs\\Python\\Python310\\lib\\site-packages\\llama_index\\utils.py:162\u001b[0m, in \u001b[0;36mretry_on_exceptions_with_backoff\u001b[1;34m(lambda_fn, errors_to_retry, max_tries, min_backoff_secs, max_backoff_secs)\u001b[0m\n\u001b[0;32m    160\u001b[0m \u001b[39mwhile\u001b[39;00m \u001b[39mTrue\u001b[39;00m:\n\u001b[0;32m    161\u001b[0m     \u001b[39mtry\u001b[39;00m:\n\u001b[1;32m--> 162\u001b[0m         \u001b[39mreturn\u001b[39;00m lambda_fn()\n\u001b[0;32m    163\u001b[0m     \u001b[39mexcept\u001b[39;00m exception_class_tuples \u001b[39mas\u001b[39;00m e:\n\u001b[0;32m    164\u001b[0m         traceback\u001b[39m.\u001b[39mprint_exc()\n",
      "File \u001b[1;32mc:\\Users\\Edison Yi\\AppData\\Local\\Programs\\Python\\Python310\\lib\\site-packages\\llama_index\\llm_predictor\\base.py:198\u001b[0m, in \u001b[0;36mLLMPredictor._predict.<locals>.<lambda>\u001b[1;34m()\u001b[0m\n\u001b[0;32m    195\u001b[0m full_prompt_args \u001b[39m=\u001b[39m prompt\u001b[39m.\u001b[39mget_full_format_args(prompt_args)\n\u001b[0;32m    196\u001b[0m \u001b[39mif\u001b[39;00m \u001b[39mself\u001b[39m\u001b[39m.\u001b[39mretry_on_throttling:\n\u001b[0;32m    197\u001b[0m     llm_prediction \u001b[39m=\u001b[39m retry_on_exceptions_with_backoff(\n\u001b[1;32m--> 198\u001b[0m         \u001b[39mlambda\u001b[39;00m: llm_chain\u001b[39m.\u001b[39mpredict(\u001b[39m*\u001b[39m\u001b[39m*\u001b[39mfull_prompt_args),\n\u001b[0;32m    199\u001b[0m         [\n\u001b[0;32m    200\u001b[0m             ErrorToRetry(openai\u001b[39m.\u001b[39merror\u001b[39m.\u001b[39mRateLimitError),\n\u001b[0;32m    201\u001b[0m             ErrorToRetry(openai\u001b[39m.\u001b[39merror\u001b[39m.\u001b[39mServiceUnavailableError),\n\u001b[0;32m    202\u001b[0m             ErrorToRetry(openai\u001b[39m.\u001b[39merror\u001b[39m.\u001b[39mTryAgain),\n\u001b[0;32m    203\u001b[0m             ErrorToRetry(\n\u001b[0;32m    204\u001b[0m                 openai\u001b[39m.\u001b[39merror\u001b[39m.\u001b[39mAPIConnectionError, \u001b[39mlambda\u001b[39;00m e: e\u001b[39m.\u001b[39mshould_retry\n\u001b[0;32m    205\u001b[0m             ),\n\u001b[0;32m    206\u001b[0m         ],\n\u001b[0;32m    207\u001b[0m     )\n\u001b[0;32m    208\u001b[0m \u001b[39melse\u001b[39;00m:\n\u001b[0;32m    209\u001b[0m     llm_prediction \u001b[39m=\u001b[39m llm_chain\u001b[39m.\u001b[39mpredict(\u001b[39m*\u001b[39m\u001b[39m*\u001b[39mfull_prompt_args)\n",
      "File \u001b[1;32mc:\\Users\\Edison Yi\\AppData\\Local\\Programs\\Python\\Python310\\lib\\site-packages\\langchain\\chains\\llm.py:151\u001b[0m, in \u001b[0;36mLLMChain.predict\u001b[1;34m(self, **kwargs)\u001b[0m\n\u001b[0;32m    137\u001b[0m \u001b[39mdef\u001b[39;00m \u001b[39mpredict\u001b[39m(\u001b[39mself\u001b[39m, \u001b[39m*\u001b[39m\u001b[39m*\u001b[39mkwargs: Any) \u001b[39m-\u001b[39m\u001b[39m>\u001b[39m \u001b[39mstr\u001b[39m:\n\u001b[0;32m    138\u001b[0m \u001b[39m    \u001b[39m\u001b[39m\"\"\"Format prompt with kwargs and pass to LLM.\u001b[39;00m\n\u001b[0;32m    139\u001b[0m \n\u001b[0;32m    140\u001b[0m \u001b[39m    Args:\u001b[39;00m\n\u001b[1;32m   (...)\u001b[0m\n\u001b[0;32m    149\u001b[0m \u001b[39m            completion = llm.predict(adjective=\"funny\")\u001b[39;00m\n\u001b[0;32m    150\u001b[0m \u001b[39m    \"\"\"\u001b[39;00m\n\u001b[1;32m--> 151\u001b[0m     \u001b[39mreturn\u001b[39;00m \u001b[39mself\u001b[39;49m(kwargs)[\u001b[39mself\u001b[39m\u001b[39m.\u001b[39moutput_key]\n",
      "File \u001b[1;32mc:\\Users\\Edison Yi\\AppData\\Local\\Programs\\Python\\Python310\\lib\\site-packages\\langchain\\chains\\base.py:116\u001b[0m, in \u001b[0;36mChain.__call__\u001b[1;34m(self, inputs, return_only_outputs)\u001b[0m\n\u001b[0;32m    114\u001b[0m \u001b[39mexcept\u001b[39;00m (\u001b[39mKeyboardInterrupt\u001b[39;00m, \u001b[39mException\u001b[39;00m) \u001b[39mas\u001b[39;00m e:\n\u001b[0;32m    115\u001b[0m     \u001b[39mself\u001b[39m\u001b[39m.\u001b[39mcallback_manager\u001b[39m.\u001b[39mon_chain_error(e, verbose\u001b[39m=\u001b[39m\u001b[39mself\u001b[39m\u001b[39m.\u001b[39mverbose)\n\u001b[1;32m--> 116\u001b[0m     \u001b[39mraise\u001b[39;00m e\n\u001b[0;32m    117\u001b[0m \u001b[39mself\u001b[39m\u001b[39m.\u001b[39mcallback_manager\u001b[39m.\u001b[39mon_chain_end(outputs, verbose\u001b[39m=\u001b[39m\u001b[39mself\u001b[39m\u001b[39m.\u001b[39mverbose)\n\u001b[0;32m    118\u001b[0m \u001b[39mreturn\u001b[39;00m \u001b[39mself\u001b[39m\u001b[39m.\u001b[39mprep_outputs(inputs, outputs, return_only_outputs)\n",
      "File \u001b[1;32mc:\\Users\\Edison Yi\\AppData\\Local\\Programs\\Python\\Python310\\lib\\site-packages\\langchain\\chains\\base.py:113\u001b[0m, in \u001b[0;36mChain.__call__\u001b[1;34m(self, inputs, return_only_outputs)\u001b[0m\n\u001b[0;32m    107\u001b[0m \u001b[39mself\u001b[39m\u001b[39m.\u001b[39mcallback_manager\u001b[39m.\u001b[39mon_chain_start(\n\u001b[0;32m    108\u001b[0m     {\u001b[39m\"\u001b[39m\u001b[39mname\u001b[39m\u001b[39m\"\u001b[39m: \u001b[39mself\u001b[39m\u001b[39m.\u001b[39m\u001b[39m__class__\u001b[39m\u001b[39m.\u001b[39m\u001b[39m__name__\u001b[39m},\n\u001b[0;32m    109\u001b[0m     inputs,\n\u001b[0;32m    110\u001b[0m     verbose\u001b[39m=\u001b[39m\u001b[39mself\u001b[39m\u001b[39m.\u001b[39mverbose,\n\u001b[0;32m    111\u001b[0m )\n\u001b[0;32m    112\u001b[0m \u001b[39mtry\u001b[39;00m:\n\u001b[1;32m--> 113\u001b[0m     outputs \u001b[39m=\u001b[39m \u001b[39mself\u001b[39;49m\u001b[39m.\u001b[39;49m_call(inputs)\n\u001b[0;32m    114\u001b[0m \u001b[39mexcept\u001b[39;00m (\u001b[39mKeyboardInterrupt\u001b[39;00m, \u001b[39mException\u001b[39;00m) \u001b[39mas\u001b[39;00m e:\n\u001b[0;32m    115\u001b[0m     \u001b[39mself\u001b[39m\u001b[39m.\u001b[39mcallback_manager\u001b[39m.\u001b[39mon_chain_error(e, verbose\u001b[39m=\u001b[39m\u001b[39mself\u001b[39m\u001b[39m.\u001b[39mverbose)\n",
      "File \u001b[1;32mc:\\Users\\Edison Yi\\AppData\\Local\\Programs\\Python\\Python310\\lib\\site-packages\\langchain\\chains\\llm.py:57\u001b[0m, in \u001b[0;36mLLMChain._call\u001b[1;34m(self, inputs)\u001b[0m\n\u001b[0;32m     56\u001b[0m \u001b[39mdef\u001b[39;00m \u001b[39m_call\u001b[39m(\u001b[39mself\u001b[39m, inputs: Dict[\u001b[39mstr\u001b[39m, Any]) \u001b[39m-\u001b[39m\u001b[39m>\u001b[39m Dict[\u001b[39mstr\u001b[39m, \u001b[39mstr\u001b[39m]:\n\u001b[1;32m---> 57\u001b[0m     \u001b[39mreturn\u001b[39;00m \u001b[39mself\u001b[39;49m\u001b[39m.\u001b[39;49mapply([inputs])[\u001b[39m0\u001b[39m]\n",
      "File \u001b[1;32mc:\\Users\\Edison Yi\\AppData\\Local\\Programs\\Python\\Python310\\lib\\site-packages\\langchain\\chains\\llm.py:118\u001b[0m, in \u001b[0;36mLLMChain.apply\u001b[1;34m(self, input_list)\u001b[0m\n\u001b[0;32m    116\u001b[0m \u001b[39mdef\u001b[39;00m \u001b[39mapply\u001b[39m(\u001b[39mself\u001b[39m, input_list: List[Dict[\u001b[39mstr\u001b[39m, Any]]) \u001b[39m-\u001b[39m\u001b[39m>\u001b[39m List[Dict[\u001b[39mstr\u001b[39m, \u001b[39mstr\u001b[39m]]:\n\u001b[0;32m    117\u001b[0m \u001b[39m    \u001b[39m\u001b[39m\"\"\"Utilize the LLM generate method for speed gains.\"\"\"\u001b[39;00m\n\u001b[1;32m--> 118\u001b[0m     response \u001b[39m=\u001b[39m \u001b[39mself\u001b[39;49m\u001b[39m.\u001b[39;49mgenerate(input_list)\n\u001b[0;32m    119\u001b[0m     \u001b[39mreturn\u001b[39;00m \u001b[39mself\u001b[39m\u001b[39m.\u001b[39mcreate_outputs(response)\n",
      "File \u001b[1;32mc:\\Users\\Edison Yi\\AppData\\Local\\Programs\\Python\\Python310\\lib\\site-packages\\langchain\\chains\\llm.py:62\u001b[0m, in \u001b[0;36mLLMChain.generate\u001b[1;34m(self, input_list)\u001b[0m\n\u001b[0;32m     60\u001b[0m \u001b[39m\u001b[39m\u001b[39m\"\"\"Generate LLM result from inputs.\"\"\"\u001b[39;00m\n\u001b[0;32m     61\u001b[0m prompts, stop \u001b[39m=\u001b[39m \u001b[39mself\u001b[39m\u001b[39m.\u001b[39mprep_prompts(input_list)\n\u001b[1;32m---> 62\u001b[0m \u001b[39mreturn\u001b[39;00m \u001b[39mself\u001b[39;49m\u001b[39m.\u001b[39;49mllm\u001b[39m.\u001b[39;49mgenerate_prompt(prompts, stop)\n",
      "File \u001b[1;32mc:\\Users\\Edison Yi\\AppData\\Local\\Programs\\Python\\Python310\\lib\\site-packages\\langchain\\llms\\base.py:107\u001b[0m, in \u001b[0;36mBaseLLM.generate_prompt\u001b[1;34m(self, prompts, stop)\u001b[0m\n\u001b[0;32m    103\u001b[0m \u001b[39mdef\u001b[39;00m \u001b[39mgenerate_prompt\u001b[39m(\n\u001b[0;32m    104\u001b[0m     \u001b[39mself\u001b[39m, prompts: List[PromptValue], stop: Optional[List[\u001b[39mstr\u001b[39m]] \u001b[39m=\u001b[39m \u001b[39mNone\u001b[39;00m\n\u001b[0;32m    105\u001b[0m ) \u001b[39m-\u001b[39m\u001b[39m>\u001b[39m LLMResult:\n\u001b[0;32m    106\u001b[0m     prompt_strings \u001b[39m=\u001b[39m [p\u001b[39m.\u001b[39mto_string() \u001b[39mfor\u001b[39;00m p \u001b[39min\u001b[39;00m prompts]\n\u001b[1;32m--> 107\u001b[0m     \u001b[39mreturn\u001b[39;00m \u001b[39mself\u001b[39;49m\u001b[39m.\u001b[39;49mgenerate(prompt_strings, stop\u001b[39m=\u001b[39;49mstop)\n",
      "File \u001b[1;32mc:\\Users\\Edison Yi\\AppData\\Local\\Programs\\Python\\Python310\\lib\\site-packages\\langchain\\llms\\base.py:140\u001b[0m, in \u001b[0;36mBaseLLM.generate\u001b[1;34m(self, prompts, stop)\u001b[0m\n\u001b[0;32m    138\u001b[0m \u001b[39mexcept\u001b[39;00m (\u001b[39mKeyboardInterrupt\u001b[39;00m, \u001b[39mException\u001b[39;00m) \u001b[39mas\u001b[39;00m e:\n\u001b[0;32m    139\u001b[0m     \u001b[39mself\u001b[39m\u001b[39m.\u001b[39mcallback_manager\u001b[39m.\u001b[39mon_llm_error(e, verbose\u001b[39m=\u001b[39m\u001b[39mself\u001b[39m\u001b[39m.\u001b[39mverbose)\n\u001b[1;32m--> 140\u001b[0m     \u001b[39mraise\u001b[39;00m e\n\u001b[0;32m    141\u001b[0m \u001b[39mself\u001b[39m\u001b[39m.\u001b[39mcallback_manager\u001b[39m.\u001b[39mon_llm_end(output, verbose\u001b[39m=\u001b[39m\u001b[39mself\u001b[39m\u001b[39m.\u001b[39mverbose)\n\u001b[0;32m    142\u001b[0m \u001b[39mreturn\u001b[39;00m output\n",
      "File \u001b[1;32mc:\\Users\\Edison Yi\\AppData\\Local\\Programs\\Python\\Python310\\lib\\site-packages\\langchain\\llms\\base.py:137\u001b[0m, in \u001b[0;36mBaseLLM.generate\u001b[1;34m(self, prompts, stop)\u001b[0m\n\u001b[0;32m    133\u001b[0m \u001b[39mself\u001b[39m\u001b[39m.\u001b[39mcallback_manager\u001b[39m.\u001b[39mon_llm_start(\n\u001b[0;32m    134\u001b[0m     {\u001b[39m\"\u001b[39m\u001b[39mname\u001b[39m\u001b[39m\"\u001b[39m: \u001b[39mself\u001b[39m\u001b[39m.\u001b[39m\u001b[39m__class__\u001b[39m\u001b[39m.\u001b[39m\u001b[39m__name__\u001b[39m}, prompts, verbose\u001b[39m=\u001b[39m\u001b[39mself\u001b[39m\u001b[39m.\u001b[39mverbose\n\u001b[0;32m    135\u001b[0m )\n\u001b[0;32m    136\u001b[0m \u001b[39mtry\u001b[39;00m:\n\u001b[1;32m--> 137\u001b[0m     output \u001b[39m=\u001b[39m \u001b[39mself\u001b[39;49m\u001b[39m.\u001b[39;49m_generate(prompts, stop\u001b[39m=\u001b[39;49mstop)\n\u001b[0;32m    138\u001b[0m \u001b[39mexcept\u001b[39;00m (\u001b[39mKeyboardInterrupt\u001b[39;00m, \u001b[39mException\u001b[39;00m) \u001b[39mas\u001b[39;00m e:\n\u001b[0;32m    139\u001b[0m     \u001b[39mself\u001b[39m\u001b[39m.\u001b[39mcallback_manager\u001b[39m.\u001b[39mon_llm_error(e, verbose\u001b[39m=\u001b[39m\u001b[39mself\u001b[39m\u001b[39m.\u001b[39mverbose)\n",
      "File \u001b[1;32mc:\\Users\\Edison Yi\\AppData\\Local\\Programs\\Python\\Python310\\lib\\site-packages\\langchain\\llms\\openai.py:656\u001b[0m, in \u001b[0;36mOpenAIChat._generate\u001b[1;34m(self, prompts, stop)\u001b[0m\n\u001b[0;32m    652\u001b[0m     \u001b[39mreturn\u001b[39;00m LLMResult(\n\u001b[0;32m    653\u001b[0m         generations\u001b[39m=\u001b[39m[[Generation(text\u001b[39m=\u001b[39mresponse)]],\n\u001b[0;32m    654\u001b[0m     )\n\u001b[0;32m    655\u001b[0m \u001b[39melse\u001b[39;00m:\n\u001b[1;32m--> 656\u001b[0m     full_response \u001b[39m=\u001b[39m completion_with_retry(\u001b[39mself\u001b[39m, messages\u001b[39m=\u001b[39mmessages, \u001b[39m*\u001b[39m\u001b[39m*\u001b[39mparams)\n\u001b[0;32m    657\u001b[0m     llm_output \u001b[39m=\u001b[39m {\n\u001b[0;32m    658\u001b[0m         \u001b[39m\"\u001b[39m\u001b[39mtoken_usage\u001b[39m\u001b[39m\"\u001b[39m: full_response[\u001b[39m\"\u001b[39m\u001b[39musage\u001b[39m\u001b[39m\"\u001b[39m],\n\u001b[0;32m    659\u001b[0m         \u001b[39m\"\u001b[39m\u001b[39mmodel_name\u001b[39m\u001b[39m\"\u001b[39m: \u001b[39mself\u001b[39m\u001b[39m.\u001b[39mmodel_name,\n\u001b[0;32m    660\u001b[0m     }\n\u001b[0;32m    661\u001b[0m     \u001b[39mreturn\u001b[39;00m LLMResult(\n\u001b[0;32m    662\u001b[0m         generations\u001b[39m=\u001b[39m[\n\u001b[0;32m    663\u001b[0m             [Generation(text\u001b[39m=\u001b[39mfull_response[\u001b[39m\"\u001b[39m\u001b[39mchoices\u001b[39m\u001b[39m\"\u001b[39m][\u001b[39m0\u001b[39m][\u001b[39m\"\u001b[39m\u001b[39mmessage\u001b[39m\u001b[39m\"\u001b[39m][\u001b[39m\"\u001b[39m\u001b[39mcontent\u001b[39m\u001b[39m\"\u001b[39m])]\n\u001b[0;32m    664\u001b[0m         ],\n\u001b[0;32m    665\u001b[0m         llm_output\u001b[39m=\u001b[39mllm_output,\n\u001b[0;32m    666\u001b[0m     )\n",
      "File \u001b[1;32mc:\\Users\\Edison Yi\\AppData\\Local\\Programs\\Python\\Python310\\lib\\site-packages\\langchain\\llms\\openai.py:99\u001b[0m, in \u001b[0;36mcompletion_with_retry\u001b[1;34m(llm, **kwargs)\u001b[0m\n\u001b[0;32m     95\u001b[0m \u001b[39m@retry_decorator\u001b[39m\n\u001b[0;32m     96\u001b[0m \u001b[39mdef\u001b[39;00m \u001b[39m_completion_with_retry\u001b[39m(\u001b[39m*\u001b[39m\u001b[39m*\u001b[39mkwargs: Any) \u001b[39m-\u001b[39m\u001b[39m>\u001b[39m Any:\n\u001b[0;32m     97\u001b[0m     \u001b[39mreturn\u001b[39;00m llm\u001b[39m.\u001b[39mclient\u001b[39m.\u001b[39mcreate(\u001b[39m*\u001b[39m\u001b[39m*\u001b[39mkwargs)\n\u001b[1;32m---> 99\u001b[0m \u001b[39mreturn\u001b[39;00m _completion_with_retry(\u001b[39m*\u001b[39m\u001b[39m*\u001b[39mkwargs)\n",
      "File \u001b[1;32mc:\\Users\\Edison Yi\\AppData\\Local\\Programs\\Python\\Python310\\lib\\site-packages\\tenacity\\__init__.py:289\u001b[0m, in \u001b[0;36mBaseRetrying.wraps.<locals>.wrapped_f\u001b[1;34m(*args, **kw)\u001b[0m\n\u001b[0;32m    287\u001b[0m \u001b[39m@functools\u001b[39m\u001b[39m.\u001b[39mwraps(f)\n\u001b[0;32m    288\u001b[0m \u001b[39mdef\u001b[39;00m \u001b[39mwrapped_f\u001b[39m(\u001b[39m*\u001b[39margs: t\u001b[39m.\u001b[39mAny, \u001b[39m*\u001b[39m\u001b[39m*\u001b[39mkw: t\u001b[39m.\u001b[39mAny) \u001b[39m-\u001b[39m\u001b[39m>\u001b[39m t\u001b[39m.\u001b[39mAny:\n\u001b[1;32m--> 289\u001b[0m     \u001b[39mreturn\u001b[39;00m \u001b[39mself\u001b[39m(f, \u001b[39m*\u001b[39margs, \u001b[39m*\u001b[39m\u001b[39m*\u001b[39mkw)\n",
      "File \u001b[1;32mc:\\Users\\Edison Yi\\AppData\\Local\\Programs\\Python\\Python310\\lib\\site-packages\\tenacity\\__init__.py:379\u001b[0m, in \u001b[0;36mRetrying.__call__\u001b[1;34m(self, fn, *args, **kwargs)\u001b[0m\n\u001b[0;32m    377\u001b[0m retry_state \u001b[39m=\u001b[39m RetryCallState(retry_object\u001b[39m=\u001b[39m\u001b[39mself\u001b[39m, fn\u001b[39m=\u001b[39mfn, args\u001b[39m=\u001b[39margs, kwargs\u001b[39m=\u001b[39mkwargs)\n\u001b[0;32m    378\u001b[0m \u001b[39mwhile\u001b[39;00m \u001b[39mTrue\u001b[39;00m:\n\u001b[1;32m--> 379\u001b[0m     do \u001b[39m=\u001b[39m \u001b[39mself\u001b[39;49m\u001b[39m.\u001b[39;49miter(retry_state\u001b[39m=\u001b[39;49mretry_state)\n\u001b[0;32m    380\u001b[0m     \u001b[39mif\u001b[39;00m \u001b[39misinstance\u001b[39m(do, DoAttempt):\n\u001b[0;32m    381\u001b[0m         \u001b[39mtry\u001b[39;00m:\n",
      "File \u001b[1;32mc:\\Users\\Edison Yi\\AppData\\Local\\Programs\\Python\\Python310\\lib\\site-packages\\tenacity\\__init__.py:314\u001b[0m, in \u001b[0;36mBaseRetrying.iter\u001b[1;34m(self, retry_state)\u001b[0m\n\u001b[0;32m    312\u001b[0m is_explicit_retry \u001b[39m=\u001b[39m fut\u001b[39m.\u001b[39mfailed \u001b[39mand\u001b[39;00m \u001b[39misinstance\u001b[39m(fut\u001b[39m.\u001b[39mexception(), TryAgain)\n\u001b[0;32m    313\u001b[0m \u001b[39mif\u001b[39;00m \u001b[39mnot\u001b[39;00m (is_explicit_retry \u001b[39mor\u001b[39;00m \u001b[39mself\u001b[39m\u001b[39m.\u001b[39mretry(retry_state)):\n\u001b[1;32m--> 314\u001b[0m     \u001b[39mreturn\u001b[39;00m fut\u001b[39m.\u001b[39;49mresult()\n\u001b[0;32m    316\u001b[0m \u001b[39mif\u001b[39;00m \u001b[39mself\u001b[39m\u001b[39m.\u001b[39mafter \u001b[39mis\u001b[39;00m \u001b[39mnot\u001b[39;00m \u001b[39mNone\u001b[39;00m:\n\u001b[0;32m    317\u001b[0m     \u001b[39mself\u001b[39m\u001b[39m.\u001b[39mafter(retry_state)\n",
      "File \u001b[1;32mc:\\Users\\Edison Yi\\AppData\\Local\\Programs\\Python\\Python310\\lib\\concurrent\\futures\\_base.py:451\u001b[0m, in \u001b[0;36mFuture.result\u001b[1;34m(self, timeout)\u001b[0m\n\u001b[0;32m    449\u001b[0m     \u001b[39mraise\u001b[39;00m CancelledError()\n\u001b[0;32m    450\u001b[0m \u001b[39melif\u001b[39;00m \u001b[39mself\u001b[39m\u001b[39m.\u001b[39m_state \u001b[39m==\u001b[39m FINISHED:\n\u001b[1;32m--> 451\u001b[0m     \u001b[39mreturn\u001b[39;00m \u001b[39mself\u001b[39;49m\u001b[39m.\u001b[39;49m__get_result()\n\u001b[0;32m    453\u001b[0m \u001b[39mself\u001b[39m\u001b[39m.\u001b[39m_condition\u001b[39m.\u001b[39mwait(timeout)\n\u001b[0;32m    455\u001b[0m \u001b[39mif\u001b[39;00m \u001b[39mself\u001b[39m\u001b[39m.\u001b[39m_state \u001b[39min\u001b[39;00m [CANCELLED, CANCELLED_AND_NOTIFIED]:\n",
      "File \u001b[1;32mc:\\Users\\Edison Yi\\AppData\\Local\\Programs\\Python\\Python310\\lib\\concurrent\\futures\\_base.py:403\u001b[0m, in \u001b[0;36mFuture.__get_result\u001b[1;34m(self)\u001b[0m\n\u001b[0;32m    401\u001b[0m \u001b[39mif\u001b[39;00m \u001b[39mself\u001b[39m\u001b[39m.\u001b[39m_exception:\n\u001b[0;32m    402\u001b[0m     \u001b[39mtry\u001b[39;00m:\n\u001b[1;32m--> 403\u001b[0m         \u001b[39mraise\u001b[39;00m \u001b[39mself\u001b[39m\u001b[39m.\u001b[39m_exception\n\u001b[0;32m    404\u001b[0m     \u001b[39mfinally\u001b[39;00m:\n\u001b[0;32m    405\u001b[0m         \u001b[39m# Break a reference cycle with the exception in self._exception\u001b[39;00m\n\u001b[0;32m    406\u001b[0m         \u001b[39mself\u001b[39m \u001b[39m=\u001b[39m \u001b[39mNone\u001b[39;00m\n",
      "File \u001b[1;32mc:\\Users\\Edison Yi\\AppData\\Local\\Programs\\Python\\Python310\\lib\\site-packages\\tenacity\\__init__.py:382\u001b[0m, in \u001b[0;36mRetrying.__call__\u001b[1;34m(self, fn, *args, **kwargs)\u001b[0m\n\u001b[0;32m    380\u001b[0m \u001b[39mif\u001b[39;00m \u001b[39misinstance\u001b[39m(do, DoAttempt):\n\u001b[0;32m    381\u001b[0m     \u001b[39mtry\u001b[39;00m:\n\u001b[1;32m--> 382\u001b[0m         result \u001b[39m=\u001b[39m fn(\u001b[39m*\u001b[39margs, \u001b[39m*\u001b[39m\u001b[39m*\u001b[39mkwargs)\n\u001b[0;32m    383\u001b[0m     \u001b[39mexcept\u001b[39;00m \u001b[39mBaseException\u001b[39;00m:  \u001b[39m# noqa: B902\u001b[39;00m\n\u001b[0;32m    384\u001b[0m         retry_state\u001b[39m.\u001b[39mset_exception(sys\u001b[39m.\u001b[39mexc_info())  \u001b[39m# type: ignore[arg-type]\u001b[39;00m\n",
      "File \u001b[1;32mc:\\Users\\Edison Yi\\AppData\\Local\\Programs\\Python\\Python310\\lib\\site-packages\\langchain\\llms\\openai.py:97\u001b[0m, in \u001b[0;36mcompletion_with_retry.<locals>._completion_with_retry\u001b[1;34m(**kwargs)\u001b[0m\n\u001b[0;32m     95\u001b[0m \u001b[39m@retry_decorator\u001b[39m\n\u001b[0;32m     96\u001b[0m \u001b[39mdef\u001b[39;00m \u001b[39m_completion_with_retry\u001b[39m(\u001b[39m*\u001b[39m\u001b[39m*\u001b[39mkwargs: Any) \u001b[39m-\u001b[39m\u001b[39m>\u001b[39m Any:\n\u001b[1;32m---> 97\u001b[0m     \u001b[39mreturn\u001b[39;00m llm\u001b[39m.\u001b[39mclient\u001b[39m.\u001b[39mcreate(\u001b[39m*\u001b[39m\u001b[39m*\u001b[39mkwargs)\n",
      "File \u001b[1;32mc:\\Users\\Edison Yi\\AppData\\Local\\Programs\\Python\\Python310\\lib\\site-packages\\openai\\api_resources\\chat_completion.py:25\u001b[0m, in \u001b[0;36mChatCompletion.create\u001b[1;34m(cls, *args, **kwargs)\u001b[0m\n\u001b[0;32m     23\u001b[0m \u001b[39mwhile\u001b[39;00m \u001b[39mTrue\u001b[39;00m:\n\u001b[0;32m     24\u001b[0m     \u001b[39mtry\u001b[39;00m:\n\u001b[1;32m---> 25\u001b[0m         \u001b[39mreturn\u001b[39;00m \u001b[39msuper\u001b[39m()\u001b[39m.\u001b[39mcreate(\u001b[39m*\u001b[39margs, \u001b[39m*\u001b[39m\u001b[39m*\u001b[39mkwargs)\n\u001b[0;32m     26\u001b[0m     \u001b[39mexcept\u001b[39;00m TryAgain \u001b[39mas\u001b[39;00m e:\n\u001b[0;32m     27\u001b[0m         \u001b[39mif\u001b[39;00m timeout \u001b[39mis\u001b[39;00m \u001b[39mnot\u001b[39;00m \u001b[39mNone\u001b[39;00m \u001b[39mand\u001b[39;00m time\u001b[39m.\u001b[39mtime() \u001b[39m>\u001b[39m start \u001b[39m+\u001b[39m timeout:\n",
      "File \u001b[1;32mc:\\Users\\Edison Yi\\AppData\\Local\\Programs\\Python\\Python310\\lib\\site-packages\\openai\\api_resources\\abstract\\engine_api_resource.py:153\u001b[0m, in \u001b[0;36mEngineAPIResource.create\u001b[1;34m(cls, api_key, api_base, api_type, request_id, api_version, organization, **params)\u001b[0m\n\u001b[0;32m    127\u001b[0m \u001b[39m@classmethod\u001b[39m\n\u001b[0;32m    128\u001b[0m \u001b[39mdef\u001b[39;00m \u001b[39mcreate\u001b[39m(\n\u001b[0;32m    129\u001b[0m     \u001b[39mcls\u001b[39m,\n\u001b[1;32m   (...)\u001b[0m\n\u001b[0;32m    136\u001b[0m     \u001b[39m*\u001b[39m\u001b[39m*\u001b[39mparams,\n\u001b[0;32m    137\u001b[0m ):\n\u001b[0;32m    138\u001b[0m     (\n\u001b[0;32m    139\u001b[0m         deployment_id,\n\u001b[0;32m    140\u001b[0m         engine,\n\u001b[1;32m   (...)\u001b[0m\n\u001b[0;32m    150\u001b[0m         api_key, api_base, api_type, api_version, organization, \u001b[39m*\u001b[39m\u001b[39m*\u001b[39mparams\n\u001b[0;32m    151\u001b[0m     )\n\u001b[1;32m--> 153\u001b[0m     response, _, api_key \u001b[39m=\u001b[39m requestor\u001b[39m.\u001b[39;49mrequest(\n\u001b[0;32m    154\u001b[0m         \u001b[39m\"\u001b[39;49m\u001b[39mpost\u001b[39;49m\u001b[39m\"\u001b[39;49m,\n\u001b[0;32m    155\u001b[0m         url,\n\u001b[0;32m    156\u001b[0m         params\u001b[39m=\u001b[39;49mparams,\n\u001b[0;32m    157\u001b[0m         headers\u001b[39m=\u001b[39;49mheaders,\n\u001b[0;32m    158\u001b[0m         stream\u001b[39m=\u001b[39;49mstream,\n\u001b[0;32m    159\u001b[0m         request_id\u001b[39m=\u001b[39;49mrequest_id,\n\u001b[0;32m    160\u001b[0m         request_timeout\u001b[39m=\u001b[39;49mrequest_timeout,\n\u001b[0;32m    161\u001b[0m     )\n\u001b[0;32m    163\u001b[0m     \u001b[39mif\u001b[39;00m stream:\n\u001b[0;32m    164\u001b[0m         \u001b[39m# must be an iterator\u001b[39;00m\n\u001b[0;32m    165\u001b[0m         \u001b[39massert\u001b[39;00m \u001b[39mnot\u001b[39;00m \u001b[39misinstance\u001b[39m(response, OpenAIResponse)\n",
      "File \u001b[1;32mc:\\Users\\Edison Yi\\AppData\\Local\\Programs\\Python\\Python310\\lib\\site-packages\\openai\\api_requestor.py:216\u001b[0m, in \u001b[0;36mAPIRequestor.request\u001b[1;34m(self, method, url, params, headers, files, stream, request_id, request_timeout)\u001b[0m\n\u001b[0;32m    205\u001b[0m \u001b[39mdef\u001b[39;00m \u001b[39mrequest\u001b[39m(\n\u001b[0;32m    206\u001b[0m     \u001b[39mself\u001b[39m,\n\u001b[0;32m    207\u001b[0m     method,\n\u001b[1;32m   (...)\u001b[0m\n\u001b[0;32m    214\u001b[0m     request_timeout: Optional[Union[\u001b[39mfloat\u001b[39m, Tuple[\u001b[39mfloat\u001b[39m, \u001b[39mfloat\u001b[39m]]] \u001b[39m=\u001b[39m \u001b[39mNone\u001b[39;00m,\n\u001b[0;32m    215\u001b[0m ) \u001b[39m-\u001b[39m\u001b[39m>\u001b[39m Tuple[Union[OpenAIResponse, Iterator[OpenAIResponse]], \u001b[39mbool\u001b[39m, \u001b[39mstr\u001b[39m]:\n\u001b[1;32m--> 216\u001b[0m     result \u001b[39m=\u001b[39m \u001b[39mself\u001b[39;49m\u001b[39m.\u001b[39;49mrequest_raw(\n\u001b[0;32m    217\u001b[0m         method\u001b[39m.\u001b[39;49mlower(),\n\u001b[0;32m    218\u001b[0m         url,\n\u001b[0;32m    219\u001b[0m         params\u001b[39m=\u001b[39;49mparams,\n\u001b[0;32m    220\u001b[0m         supplied_headers\u001b[39m=\u001b[39;49mheaders,\n\u001b[0;32m    221\u001b[0m         files\u001b[39m=\u001b[39;49mfiles,\n\u001b[0;32m    222\u001b[0m         stream\u001b[39m=\u001b[39;49mstream,\n\u001b[0;32m    223\u001b[0m         request_id\u001b[39m=\u001b[39;49mrequest_id,\n\u001b[0;32m    224\u001b[0m         request_timeout\u001b[39m=\u001b[39;49mrequest_timeout,\n\u001b[0;32m    225\u001b[0m     )\n\u001b[0;32m    226\u001b[0m     resp, got_stream \u001b[39m=\u001b[39m \u001b[39mself\u001b[39m\u001b[39m.\u001b[39m_interpret_response(result, stream)\n\u001b[0;32m    227\u001b[0m     \u001b[39mreturn\u001b[39;00m resp, got_stream, \u001b[39mself\u001b[39m\u001b[39m.\u001b[39mapi_key\n",
      "File \u001b[1;32mc:\\Users\\Edison Yi\\AppData\\Local\\Programs\\Python\\Python310\\lib\\site-packages\\openai\\api_requestor.py:516\u001b[0m, in \u001b[0;36mAPIRequestor.request_raw\u001b[1;34m(self, method, url, params, supplied_headers, files, stream, request_id, request_timeout)\u001b[0m\n\u001b[0;32m    514\u001b[0m     _thread_context\u001b[39m.\u001b[39msession \u001b[39m=\u001b[39m _make_session()\n\u001b[0;32m    515\u001b[0m \u001b[39mtry\u001b[39;00m:\n\u001b[1;32m--> 516\u001b[0m     result \u001b[39m=\u001b[39m _thread_context\u001b[39m.\u001b[39;49msession\u001b[39m.\u001b[39;49mrequest(\n\u001b[0;32m    517\u001b[0m         method,\n\u001b[0;32m    518\u001b[0m         abs_url,\n\u001b[0;32m    519\u001b[0m         headers\u001b[39m=\u001b[39;49mheaders,\n\u001b[0;32m    520\u001b[0m         data\u001b[39m=\u001b[39;49mdata,\n\u001b[0;32m    521\u001b[0m         files\u001b[39m=\u001b[39;49mfiles,\n\u001b[0;32m    522\u001b[0m         stream\u001b[39m=\u001b[39;49mstream,\n\u001b[0;32m    523\u001b[0m         timeout\u001b[39m=\u001b[39;49mrequest_timeout \u001b[39mif\u001b[39;49;00m request_timeout \u001b[39melse\u001b[39;49;00m TIMEOUT_SECS,\n\u001b[0;32m    524\u001b[0m     )\n\u001b[0;32m    525\u001b[0m \u001b[39mexcept\u001b[39;00m requests\u001b[39m.\u001b[39mexceptions\u001b[39m.\u001b[39mTimeout \u001b[39mas\u001b[39;00m e:\n\u001b[0;32m    526\u001b[0m     \u001b[39mraise\u001b[39;00m error\u001b[39m.\u001b[39mTimeout(\u001b[39m\"\u001b[39m\u001b[39mRequest timed out: \u001b[39m\u001b[39m{}\u001b[39;00m\u001b[39m\"\u001b[39m\u001b[39m.\u001b[39mformat(e)) \u001b[39mfrom\u001b[39;00m \u001b[39me\u001b[39;00m\n",
      "File \u001b[1;32mc:\\Users\\Edison Yi\\AppData\\Local\\Programs\\Python\\Python310\\lib\\site-packages\\requests\\sessions.py:587\u001b[0m, in \u001b[0;36mSession.request\u001b[1;34m(self, method, url, params, data, headers, cookies, files, auth, timeout, allow_redirects, proxies, hooks, stream, verify, cert, json)\u001b[0m\n\u001b[0;32m    582\u001b[0m send_kwargs \u001b[39m=\u001b[39m {\n\u001b[0;32m    583\u001b[0m     \u001b[39m\"\u001b[39m\u001b[39mtimeout\u001b[39m\u001b[39m\"\u001b[39m: timeout,\n\u001b[0;32m    584\u001b[0m     \u001b[39m\"\u001b[39m\u001b[39mallow_redirects\u001b[39m\u001b[39m\"\u001b[39m: allow_redirects,\n\u001b[0;32m    585\u001b[0m }\n\u001b[0;32m    586\u001b[0m send_kwargs\u001b[39m.\u001b[39mupdate(settings)\n\u001b[1;32m--> 587\u001b[0m resp \u001b[39m=\u001b[39m \u001b[39mself\u001b[39m\u001b[39m.\u001b[39msend(prep, \u001b[39m*\u001b[39m\u001b[39m*\u001b[39msend_kwargs)\n\u001b[0;32m    589\u001b[0m \u001b[39mreturn\u001b[39;00m resp\n",
      "File \u001b[1;32mc:\\Users\\Edison Yi\\AppData\\Local\\Programs\\Python\\Python310\\lib\\site-packages\\requests\\sessions.py:701\u001b[0m, in \u001b[0;36mSession.send\u001b[1;34m(self, request, **kwargs)\u001b[0m\n\u001b[0;32m    698\u001b[0m start \u001b[39m=\u001b[39m preferred_clock()\n\u001b[0;32m    700\u001b[0m \u001b[39m# Send the request\u001b[39;00m\n\u001b[1;32m--> 701\u001b[0m r \u001b[39m=\u001b[39m adapter\u001b[39m.\u001b[39msend(request, \u001b[39m*\u001b[39m\u001b[39m*\u001b[39mkwargs)\n\u001b[0;32m    703\u001b[0m \u001b[39m# Total elapsed time of the request (approximately)\u001b[39;00m\n\u001b[0;32m    704\u001b[0m elapsed \u001b[39m=\u001b[39m preferred_clock() \u001b[39m-\u001b[39m start\n",
      "File \u001b[1;32mc:\\Users\\Edison Yi\\AppData\\Local\\Programs\\Python\\Python310\\lib\\site-packages\\requests\\adapters.py:489\u001b[0m, in \u001b[0;36mHTTPAdapter.send\u001b[1;34m(self, request, stream, timeout, verify, cert, proxies)\u001b[0m\n\u001b[0;32m    487\u001b[0m \u001b[39mtry\u001b[39;00m:\n\u001b[0;32m    488\u001b[0m     \u001b[39mif\u001b[39;00m \u001b[39mnot\u001b[39;00m chunked:\n\u001b[1;32m--> 489\u001b[0m         resp \u001b[39m=\u001b[39m conn\u001b[39m.\u001b[39;49murlopen(\n\u001b[0;32m    490\u001b[0m             method\u001b[39m=\u001b[39;49mrequest\u001b[39m.\u001b[39;49mmethod,\n\u001b[0;32m    491\u001b[0m             url\u001b[39m=\u001b[39;49murl,\n\u001b[0;32m    492\u001b[0m             body\u001b[39m=\u001b[39;49mrequest\u001b[39m.\u001b[39;49mbody,\n\u001b[0;32m    493\u001b[0m             headers\u001b[39m=\u001b[39;49mrequest\u001b[39m.\u001b[39;49mheaders,\n\u001b[0;32m    494\u001b[0m             redirect\u001b[39m=\u001b[39;49m\u001b[39mFalse\u001b[39;49;00m,\n\u001b[0;32m    495\u001b[0m             assert_same_host\u001b[39m=\u001b[39;49m\u001b[39mFalse\u001b[39;49;00m,\n\u001b[0;32m    496\u001b[0m             preload_content\u001b[39m=\u001b[39;49m\u001b[39mFalse\u001b[39;49;00m,\n\u001b[0;32m    497\u001b[0m             decode_content\u001b[39m=\u001b[39;49m\u001b[39mFalse\u001b[39;49;00m,\n\u001b[0;32m    498\u001b[0m             retries\u001b[39m=\u001b[39;49m\u001b[39mself\u001b[39;49m\u001b[39m.\u001b[39;49mmax_retries,\n\u001b[0;32m    499\u001b[0m             timeout\u001b[39m=\u001b[39;49mtimeout,\n\u001b[0;32m    500\u001b[0m         )\n\u001b[0;32m    502\u001b[0m     \u001b[39m# Send the request.\u001b[39;00m\n\u001b[0;32m    503\u001b[0m     \u001b[39melse\u001b[39;00m:\n\u001b[0;32m    504\u001b[0m         \u001b[39mif\u001b[39;00m \u001b[39mhasattr\u001b[39m(conn, \u001b[39m\"\u001b[39m\u001b[39mproxy_pool\u001b[39m\u001b[39m\"\u001b[39m):\n",
      "File \u001b[1;32mc:\\Users\\Edison Yi\\AppData\\Local\\Programs\\Python\\Python310\\lib\\site-packages\\urllib3\\connectionpool.py:703\u001b[0m, in \u001b[0;36mHTTPConnectionPool.urlopen\u001b[1;34m(self, method, url, body, headers, retries, redirect, assert_same_host, timeout, pool_timeout, release_conn, chunked, body_pos, **response_kw)\u001b[0m\n\u001b[0;32m    700\u001b[0m     \u001b[39mself\u001b[39m\u001b[39m.\u001b[39m_prepare_proxy(conn)\n\u001b[0;32m    702\u001b[0m \u001b[39m# Make the request on the httplib connection object.\u001b[39;00m\n\u001b[1;32m--> 703\u001b[0m httplib_response \u001b[39m=\u001b[39m \u001b[39mself\u001b[39;49m\u001b[39m.\u001b[39;49m_make_request(\n\u001b[0;32m    704\u001b[0m     conn,\n\u001b[0;32m    705\u001b[0m     method,\n\u001b[0;32m    706\u001b[0m     url,\n\u001b[0;32m    707\u001b[0m     timeout\u001b[39m=\u001b[39;49mtimeout_obj,\n\u001b[0;32m    708\u001b[0m     body\u001b[39m=\u001b[39;49mbody,\n\u001b[0;32m    709\u001b[0m     headers\u001b[39m=\u001b[39;49mheaders,\n\u001b[0;32m    710\u001b[0m     chunked\u001b[39m=\u001b[39;49mchunked,\n\u001b[0;32m    711\u001b[0m )\n\u001b[0;32m    713\u001b[0m \u001b[39m# If we're going to release the connection in ``finally:``, then\u001b[39;00m\n\u001b[0;32m    714\u001b[0m \u001b[39m# the response doesn't need to know about the connection. Otherwise\u001b[39;00m\n\u001b[0;32m    715\u001b[0m \u001b[39m# it will also try to release it and we'll have a double-release\u001b[39;00m\n\u001b[0;32m    716\u001b[0m \u001b[39m# mess.\u001b[39;00m\n\u001b[0;32m    717\u001b[0m response_conn \u001b[39m=\u001b[39m conn \u001b[39mif\u001b[39;00m \u001b[39mnot\u001b[39;00m release_conn \u001b[39melse\u001b[39;00m \u001b[39mNone\u001b[39;00m\n",
      "File \u001b[1;32mc:\\Users\\Edison Yi\\AppData\\Local\\Programs\\Python\\Python310\\lib\\site-packages\\urllib3\\connectionpool.py:449\u001b[0m, in \u001b[0;36mHTTPConnectionPool._make_request\u001b[1;34m(self, conn, method, url, timeout, chunked, **httplib_request_kw)\u001b[0m\n\u001b[0;32m    444\u001b[0m             httplib_response \u001b[39m=\u001b[39m conn\u001b[39m.\u001b[39mgetresponse()\n\u001b[0;32m    445\u001b[0m         \u001b[39mexcept\u001b[39;00m \u001b[39mBaseException\u001b[39;00m \u001b[39mas\u001b[39;00m e:\n\u001b[0;32m    446\u001b[0m             \u001b[39m# Remove the TypeError from the exception chain in\u001b[39;00m\n\u001b[0;32m    447\u001b[0m             \u001b[39m# Python 3 (including for exceptions like SystemExit).\u001b[39;00m\n\u001b[0;32m    448\u001b[0m             \u001b[39m# Otherwise it looks like a bug in the code.\u001b[39;00m\n\u001b[1;32m--> 449\u001b[0m             six\u001b[39m.\u001b[39;49mraise_from(e, \u001b[39mNone\u001b[39;49;00m)\n\u001b[0;32m    450\u001b[0m \u001b[39mexcept\u001b[39;00m (SocketTimeout, BaseSSLError, SocketError) \u001b[39mas\u001b[39;00m e:\n\u001b[0;32m    451\u001b[0m     \u001b[39mself\u001b[39m\u001b[39m.\u001b[39m_raise_timeout(err\u001b[39m=\u001b[39me, url\u001b[39m=\u001b[39murl, timeout_value\u001b[39m=\u001b[39mread_timeout)\n",
      "File \u001b[1;32m<string>:3\u001b[0m, in \u001b[0;36mraise_from\u001b[1;34m(value, from_value)\u001b[0m\n",
      "File \u001b[1;32mc:\\Users\\Edison Yi\\AppData\\Local\\Programs\\Python\\Python310\\lib\\site-packages\\urllib3\\connectionpool.py:444\u001b[0m, in \u001b[0;36mHTTPConnectionPool._make_request\u001b[1;34m(self, conn, method, url, timeout, chunked, **httplib_request_kw)\u001b[0m\n\u001b[0;32m    441\u001b[0m \u001b[39mexcept\u001b[39;00m \u001b[39mTypeError\u001b[39;00m:\n\u001b[0;32m    442\u001b[0m     \u001b[39m# Python 3\u001b[39;00m\n\u001b[0;32m    443\u001b[0m     \u001b[39mtry\u001b[39;00m:\n\u001b[1;32m--> 444\u001b[0m         httplib_response \u001b[39m=\u001b[39m conn\u001b[39m.\u001b[39;49mgetresponse()\n\u001b[0;32m    445\u001b[0m     \u001b[39mexcept\u001b[39;00m \u001b[39mBaseException\u001b[39;00m \u001b[39mas\u001b[39;00m e:\n\u001b[0;32m    446\u001b[0m         \u001b[39m# Remove the TypeError from the exception chain in\u001b[39;00m\n\u001b[0;32m    447\u001b[0m         \u001b[39m# Python 3 (including for exceptions like SystemExit).\u001b[39;00m\n\u001b[0;32m    448\u001b[0m         \u001b[39m# Otherwise it looks like a bug in the code.\u001b[39;00m\n\u001b[0;32m    449\u001b[0m         six\u001b[39m.\u001b[39mraise_from(e, \u001b[39mNone\u001b[39;00m)\n",
      "File \u001b[1;32mc:\\Users\\Edison Yi\\AppData\\Local\\Programs\\Python\\Python310\\lib\\http\\client.py:1374\u001b[0m, in \u001b[0;36mHTTPConnection.getresponse\u001b[1;34m(self)\u001b[0m\n\u001b[0;32m   1372\u001b[0m \u001b[39mtry\u001b[39;00m:\n\u001b[0;32m   1373\u001b[0m     \u001b[39mtry\u001b[39;00m:\n\u001b[1;32m-> 1374\u001b[0m         response\u001b[39m.\u001b[39;49mbegin()\n\u001b[0;32m   1375\u001b[0m     \u001b[39mexcept\u001b[39;00m \u001b[39mConnectionError\u001b[39;00m:\n\u001b[0;32m   1376\u001b[0m         \u001b[39mself\u001b[39m\u001b[39m.\u001b[39mclose()\n",
      "File \u001b[1;32mc:\\Users\\Edison Yi\\AppData\\Local\\Programs\\Python\\Python310\\lib\\http\\client.py:318\u001b[0m, in \u001b[0;36mHTTPResponse.begin\u001b[1;34m(self)\u001b[0m\n\u001b[0;32m    316\u001b[0m \u001b[39m# read until we get a non-100 response\u001b[39;00m\n\u001b[0;32m    317\u001b[0m \u001b[39mwhile\u001b[39;00m \u001b[39mTrue\u001b[39;00m:\n\u001b[1;32m--> 318\u001b[0m     version, status, reason \u001b[39m=\u001b[39m \u001b[39mself\u001b[39;49m\u001b[39m.\u001b[39;49m_read_status()\n\u001b[0;32m    319\u001b[0m     \u001b[39mif\u001b[39;00m status \u001b[39m!=\u001b[39m CONTINUE:\n\u001b[0;32m    320\u001b[0m         \u001b[39mbreak\u001b[39;00m\n",
      "File \u001b[1;32mc:\\Users\\Edison Yi\\AppData\\Local\\Programs\\Python\\Python310\\lib\\http\\client.py:279\u001b[0m, in \u001b[0;36mHTTPResponse._read_status\u001b[1;34m(self)\u001b[0m\n\u001b[0;32m    278\u001b[0m \u001b[39mdef\u001b[39;00m \u001b[39m_read_status\u001b[39m(\u001b[39mself\u001b[39m):\n\u001b[1;32m--> 279\u001b[0m     line \u001b[39m=\u001b[39m \u001b[39mstr\u001b[39m(\u001b[39mself\u001b[39;49m\u001b[39m.\u001b[39;49mfp\u001b[39m.\u001b[39;49mreadline(_MAXLINE \u001b[39m+\u001b[39;49m \u001b[39m1\u001b[39;49m), \u001b[39m\"\u001b[39m\u001b[39miso-8859-1\u001b[39m\u001b[39m\"\u001b[39m)\n\u001b[0;32m    280\u001b[0m     \u001b[39mif\u001b[39;00m \u001b[39mlen\u001b[39m(line) \u001b[39m>\u001b[39m _MAXLINE:\n\u001b[0;32m    281\u001b[0m         \u001b[39mraise\u001b[39;00m LineTooLong(\u001b[39m\"\u001b[39m\u001b[39mstatus line\u001b[39m\u001b[39m\"\u001b[39m)\n",
      "File \u001b[1;32mc:\\Users\\Edison Yi\\AppData\\Local\\Programs\\Python\\Python310\\lib\\socket.py:705\u001b[0m, in \u001b[0;36mSocketIO.readinto\u001b[1;34m(self, b)\u001b[0m\n\u001b[0;32m    703\u001b[0m \u001b[39mwhile\u001b[39;00m \u001b[39mTrue\u001b[39;00m:\n\u001b[0;32m    704\u001b[0m     \u001b[39mtry\u001b[39;00m:\n\u001b[1;32m--> 705\u001b[0m         \u001b[39mreturn\u001b[39;00m \u001b[39mself\u001b[39;49m\u001b[39m.\u001b[39;49m_sock\u001b[39m.\u001b[39;49mrecv_into(b)\n\u001b[0;32m    706\u001b[0m     \u001b[39mexcept\u001b[39;00m timeout:\n\u001b[0;32m    707\u001b[0m         \u001b[39mself\u001b[39m\u001b[39m.\u001b[39m_timeout_occurred \u001b[39m=\u001b[39m \u001b[39mTrue\u001b[39;00m\n",
      "File \u001b[1;32mc:\\Users\\Edison Yi\\AppData\\Local\\Programs\\Python\\Python310\\lib\\ssl.py:1274\u001b[0m, in \u001b[0;36mSSLSocket.recv_into\u001b[1;34m(self, buffer, nbytes, flags)\u001b[0m\n\u001b[0;32m   1270\u001b[0m     \u001b[39mif\u001b[39;00m flags \u001b[39m!=\u001b[39m \u001b[39m0\u001b[39m:\n\u001b[0;32m   1271\u001b[0m         \u001b[39mraise\u001b[39;00m \u001b[39mValueError\u001b[39;00m(\n\u001b[0;32m   1272\u001b[0m           \u001b[39m\"\u001b[39m\u001b[39mnon-zero flags not allowed in calls to recv_into() on \u001b[39m\u001b[39m%s\u001b[39;00m\u001b[39m\"\u001b[39m \u001b[39m%\u001b[39m\n\u001b[0;32m   1273\u001b[0m           \u001b[39mself\u001b[39m\u001b[39m.\u001b[39m\u001b[39m__class__\u001b[39m)\n\u001b[1;32m-> 1274\u001b[0m     \u001b[39mreturn\u001b[39;00m \u001b[39mself\u001b[39;49m\u001b[39m.\u001b[39;49mread(nbytes, buffer)\n\u001b[0;32m   1275\u001b[0m \u001b[39melse\u001b[39;00m:\n\u001b[0;32m   1276\u001b[0m     \u001b[39mreturn\u001b[39;00m \u001b[39msuper\u001b[39m()\u001b[39m.\u001b[39mrecv_into(buffer, nbytes, flags)\n",
      "File \u001b[1;32mc:\\Users\\Edison Yi\\AppData\\Local\\Programs\\Python\\Python310\\lib\\ssl.py:1130\u001b[0m, in \u001b[0;36mSSLSocket.read\u001b[1;34m(self, len, buffer)\u001b[0m\n\u001b[0;32m   1128\u001b[0m \u001b[39mtry\u001b[39;00m:\n\u001b[0;32m   1129\u001b[0m     \u001b[39mif\u001b[39;00m buffer \u001b[39mis\u001b[39;00m \u001b[39mnot\u001b[39;00m \u001b[39mNone\u001b[39;00m:\n\u001b[1;32m-> 1130\u001b[0m         \u001b[39mreturn\u001b[39;00m \u001b[39mself\u001b[39;49m\u001b[39m.\u001b[39;49m_sslobj\u001b[39m.\u001b[39;49mread(\u001b[39mlen\u001b[39;49m, buffer)\n\u001b[0;32m   1131\u001b[0m     \u001b[39melse\u001b[39;00m:\n\u001b[0;32m   1132\u001b[0m         \u001b[39mreturn\u001b[39;00m \u001b[39mself\u001b[39m\u001b[39m.\u001b[39m_sslobj\u001b[39m.\u001b[39mread(\u001b[39mlen\u001b[39m)\n",
      "\u001b[1;31mKeyboardInterrupt\u001b[0m: "
     ]
    }
   ],
   "source": [
    "agent_chain.run(input=\"What about sex?\")"
   ]
  },
  {
   "cell_type": "code",
   "execution_count": null,
   "metadata": {},
   "outputs": [
    {
     "data": {
      "text/plain": [
       "'Sex and money are both factors that can influence epistemic and hermeneutical injustice. Sex can shape access to resources and information, leading to a lack of understanding of certain experiences and perspectives. Money can also be used to manipulate language and create oppressive language games, as well as shape and control the production and dissemination of knowledge. Both factors can lead to the privileging of certain forms of knowledge over others, and can lead to a lack of understanding and recognition of experiences and perspectives that are outside of the dominant discourse. In this way, sex and money can interact to create a system of epistemic and hermeneutical injustice that privileges certain forms of knowledge and excludes or marginalizes others.'"
      ]
     },
     "execution_count": 215,
     "metadata": {},
     "output_type": "execute_result"
    }
   ],
   "source": [
    "agent_chain.run(input=\"how are the previous two factors related?\")"
   ]
  },
  {
   "cell_type": "code",
   "execution_count": 25,
   "metadata": {},
   "outputs": [
    {
     "name": "stdout",
     "output_type": "stream",
     "text": [
      "\n",
      "\n",
      "\u001b[1m> Entering new AgentExecutor chain...\u001b[0m\n",
      "\u001b[32;1m\u001b[1;3m{\n",
      "    \"action\": \"Final Answer\",\n",
      "    \"action_input\": \"I can certainly try my best to write a poem!\\n\\nA world of words, a world of sound,\\nA world of wonder that surrounds,\\nEach syllable a tiny spark,\\nA flame that lights up in the dark.\\n\\nA poem is a work of art,\\nA painting made of words and heart,\\nA symphony of ink and thought,\\nA tapestry of what’s been wrought.\\n\\nSo here’s a poem, short and sweet,\\nA little gift for you to keep,\\nA reminder of the power of words,\\nAnd how they can make the world a little less absurd.\"\n",
      "}\u001b[0m\n",
      "\n",
      "\u001b[1m> Finished chain.\u001b[0m\n"
     ]
    },
    {
     "data": {
      "text/plain": [
       "'I can certainly try my best to write a poem!\\n\\nA world of words, a world of sound,\\nA world of wonder that surrounds,\\nEach syllable a tiny spark,\\nA flame that lights up in the dark.\\n\\nA poem is a work of art,\\nA painting made of words and heart,\\nA symphony of ink and thought,\\nA tapestry of what’s been wrought.\\n\\nSo here’s a poem, short and sweet,\\nA little gift for you to keep,\\nA reminder of the power of words,\\nAnd how they can make the world a little less absurd.'"
      ]
     },
     "execution_count": 25,
     "metadata": {},
     "output_type": "execute_result"
    }
   ],
   "source": [
    "agent_chain.run(input='write a poem.')"
   ]
  },
  {
   "cell_type": "code",
   "execution_count": 26,
   "metadata": {},
   "outputs": [
    {
     "name": "stdout",
     "output_type": "stream",
     "text": [
      "\n",
      "\n",
      "\u001b[1m> Entering new AgentExecutor chain...\u001b[0m\n",
      "\u001b[32;1m\u001b[1;3m{\n",
      "    \"action\": \"Final Answer\",\n",
      "    \"action_input\": \"No, the poem was not directly related to the above discussion of epistemic injustice, hermeneutical injustice, and testimony. It was simply a response to the human's request to write a poem.\"\n",
      "}\u001b[0m\n",
      "\n",
      "\u001b[1m> Finished chain.\u001b[0m\n"
     ]
    },
    {
     "data": {
      "text/plain": [
       "\"No, the poem was not directly related to the above discussion of epistemic injustice, hermeneutical injustice, and testimony. It was simply a response to the human's request to write a poem.\""
      ]
     },
     "execution_count": 26,
     "metadata": {},
     "output_type": "execute_result"
    }
   ],
   "source": [
    "agent_chain.run(input='is the poem related to the above?')"
   ]
  },
  {
   "cell_type": "code",
   "execution_count": 222,
   "metadata": {},
   "outputs": [
    {
     "data": {
      "text/plain": [
       "str"
      ]
     },
     "execution_count": 222,
     "metadata": {},
     "output_type": "execute_result"
    }
   ],
   "source": [
    "type(response)"
   ]
  },
  {
   "cell_type": "code",
   "execution_count": 278,
   "metadata": {},
   "outputs": [
    {
     "data": {
      "text/plain": [
       "{'chat_memory': {'messages': [{'content': 'How is epistemic injustice related to hermeneutical injustice? How can one lead to another? How are they related to a phenomenon called linguistic hijacking, the phenomenon wherein politically significant terminology is co-opted by dominant groups in ways that further their dominance over marginalized groups?',\n",
       "    'additional_kwargs': {}},\n",
       "   {'content': 'The relationship between \"epistemic injustice\" and \"hermeneutical injustice\" as well as how they are related to the phenomenon of \"linguistic hijacking\" can be understood through the impact of oppressive and distorting concepts on the accurate application of concepts. Hermeneutical injustice is related to the phenomenon of the meaning of concepts being twisted and co-opted, eventually losing their meaning in that oppressive concepts can be used to crowd out, defeat, or preempt the accurate application of a concept. This can result in a failure of conceptual aptness or applicability, meaning that marginalized individuals are unable to contribute their knowledge in a socially significant context and their status as a knower is diminished.\\n\\nLinguistic hijacking, or the distortion of language for manipulative purposes, is a form of oppressive concept that can contribute to hermeneutical injustice. This can occur in a variety of ways, including the use of genocidal language games or rape myths in the news media, which both have been used to distort the meaning of concepts and prevent the accurate application of those concepts. The use of such oppressive concepts limits or blocks the accurate application of a concept and removes available hermeneutical resources, such as postracial movements which attempt to erase the concept of race and thereby limit or block the accurate application of the concept.\\n\\nTo combat hermeneutical injustice and linguistic hijacking, large-scale social movements aimed at dismantling oppressive ideologies and scripts are necessary. Such movements are needed in order to develop and widely disseminate novel concepts needed to understand socially significant experiences, as well as to unlearning and dislodging the distorting ideological grip of controlling images and oppressive concepts that are operative within one’s social milieu. Examples of such movements include the gay rights movement and the fight for marriage equality in North America, as well as the #BodyPositivity movement, which have helped to support the intelligibility of concepts that have been twisted and co-opted, and have also enabled individuals to enjoy benefits and privileges afforded by legal unions.\\n\\nIn conclusion, epistemic injustice and hermeneutical injustice are related to the phenomenon of linguistic hijacking through the impact of oppressive and distorting concepts on the accurate application of concepts. Linguistic hijacking is a form of oppressive concept that can contribute to hermeneutical injustice, limiting or blocking the accurate application of concepts and removing available hermeneutical resources. To combat these injustices, large-scale social movements aimed at dismantling oppressive ideologies and scripts are necessary.',\n",
       "    'additional_kwargs': {}}]},\n",
       " 'output_key': None,\n",
       " 'input_key': None,\n",
       " 'return_messages': True,\n",
       " 'human_prefix': 'Human',\n",
       " 'ai_prefix': 'AI',\n",
       " 'memory_key': 'chat_history'}"
      ]
     },
     "execution_count": 278,
     "metadata": {},
     "output_type": "execute_result"
    }
   ],
   "source": [
    "memory.dict()"
   ]
  },
  {
   "cell_type": "code",
   "execution_count": 308,
   "metadata": {},
   "outputs": [
    {
     "data": {
      "text/plain": [
       "[Response(response='Epistemic injustice, hermeneutical injustice, and linguistic hijacking are interrelated concepts that play a significant role in shaping the discourse on marginalized groups in society. Epistemic injustice refers to the ways in which individuals or groups are denied the capacity to participate as full and equal members in the social and intellectual practices of their community. Testimonial injustice and hermeneutical injustice are two forms of epistemic injustice that can arise in these contexts.\\n\\nTestimonial injustice occurs when a speaker is not given the benefit of the doubt and is not believed or taken seriously because of their social identity. Hermeneutical injustice, on the other hand, occurs when a speaker’s experience or perspective is not recognized or understood because there are no available hermeneutical resources for making sense of it. This can result in the speaker being silenced or not being able to contribute their knowledge in a socially significant context.\\n\\nLinguistic hijacking is a phenomenon in which concepts are twisted and co-opted, eventually losing their original meaning. It is related to epistemic and hermeneutical injustice in that oppressive and distorting concepts can be used to crowd out, defeat, or preempt the accurate application of a concept. This can result in a failure of conceptual aptness or applicability, meaning that marginalized individuals are unable to contribute their knowledge in a socially significant context and their status as a knower is diminished.\\n\\nHermeneutical injustice is also related to linguistic hijacking in that it can lead to the loss of meaning of concepts. Hermeneutical injustice occurs when a gap in collective hermeneutical resources puts a person or group at an unfair disadvantage when making sense of their social experiences. Specifically, \"some significant area of one\\'s social experience [is] obscured from collective understanding owing to a structural identity prejudice in the collective hermeneutical resource\" (Fricker, 2007). This can occur when dominant and non-dominant hermeneutical resources are not recognized or respected by the dominant social and epistemic authorities, resulting in a failure to adequately understand and articulate experiences.\\n\\nExamples of linguistic hijacking include the use of genocidal language games and rape myths in the news media, which both have been used to distort the meaning of concepts and prevent the accurate application of those concepts. Positive hermeneutical injustice is thus connected to the presence of oppressive concepts that limit or block the accurate application of a concept, as well as the removal of available hermeneutical resources, such as postracial movements which attempt to erase the concept of race and thereby limit or block the accurate application of the concept.\\n\\nTo combat linguistic hijacking and its related injustices, large-scale social movements are necessary to dismantle oppressive ideologies and scripts. Such movements are needed to develop and widely disseminate novel concepts needed to understand socially significant experiences, as well as to unlearn and dislodge the distorting ideological grip of controlling', source_nodes=[NodeWithScore(node=Node(text='Human: How is epistemic injustice related to hermeneutical injustice? How can one lead to another? How are they related to a phenomenon called linguistic hijacking, the phenomenon wherein politically significant terminology is co-opted by dominant groups in ways that further their dominance over marginalized groups?', doc_id='6c847e35-6a2f-4f8a-8ed9-fa95206c2bed', embedding=None, doc_hash='94bdbf463378b2964390b01ec21093cbc26eb7e381aeb8b9efecbc3c7f6fd01b', extra_info=None, node_info={'start': 0, 'end': 317}, relationships={<DocumentRelationship.SOURCE: '1'>: '0e8c764a-7b39-484f-b5b5-44eab5fddbfc'}), score=0.9490098106788029), NodeWithScore(node=Node(text='AI: The article discusses epistemic injustice, specifically testimonial injustice and hermeneutical injustice, and how they can affect ill persons. It does not mention linguistic hijacking.', doc_id='09754053-f197-4155-8c10-507a126c3529', embedding=None, doc_hash='27c88031a5ab0d258d0584e212bdb3501ed3650b5f0f3a25db1b1b883bfa738e', extra_info=None, node_info={'start': 0, 'end': 189}, relationships={<DocumentRelationship.SOURCE: '1'>: 'fcf847dc-e74c-4e86-922c-b8a08e372e4f'}), score=0.9250129135024434), NodeWithScore(node=Node(text='Sons Ltd on behalf of Society for Applied Philosophy.Epistemic Injustice and Illness 11\\n5. Hermeneutical Injustice\\nHermeneutical injustice occurs when a gap in collective hermeneutical resources puts\\na person or group at unfair disadvantage when making sense of their social experi-ences. Speci ﬁcally, ‘some signi ﬁcant area of one ’s social experience [is] obscured from\\ncollective understanding owing to a structural identity prejudice in the collective\\nhermeneutical resource ’.\\n45Certain experiences cannot be understood because of the\\nabsence of the resources needed to understand them, and then to articulate and com-municate that understanding to others, with the consequence that the person or groupsuffers hermeneutical marginalization , which Fricker de ﬁnes as ‘unequal hermeneutical\\nparticipation with respect to some signi ﬁcant area(s) of social experience ’.\\n46\\nThe social implications of hermeneutical marginalization arise because our ability to\\nrecognise and respond to the concerns and experiences of others is crucially premisedupon our ability to understand those concerns and experiences by mobilising adequate\\nhermeneutical resources. If the required resources do not exist, those experiences will\\nremain obscure in a way that prevents even the most sympathetic social peers torespond adequately to them. It is for this reason that hermeneutical injustice is struc-tural and not agential, arising from speci ﬁc contingent features of the social world –\\nsuch as its educational practices and political arrangements –rather than from the\\nactivities of speci ﬁc agents. Indeed, a consequence of hermeneutical injustice is what\\nFricker calls cognitive disablement . All members of a society that is structurally\\nhermeneutically unjust will be impaired in their capacity to understand certain experi-\\nences, but the impairment has differential impact.\\nFricker offers the example of societies that lack the concept of sexual harassment,\\nnoting that though both the harasser and harassee are cognitively disabled, there is anobvious sense in which this is to the harasser ’s advantage: ‘it suits his immediate pur-\\npose, in that it leaves his conduct unchallenged ’.\\n47Indeed, many cases can be offered\\nin which a particular social group actively bene ﬁts from their inability to understand,\\nand hence take seriously, the experiences of other groups. Bacon ’s maxim that knowl-\\nedge is power is true, but in certain contexts ignorance can also be a source and\\nmeans of legitimating power.48\\nHermeneutical injustice can arise in at least three ways, the ﬁrst two of which are\\nidenti ﬁed by Rebecca Mason.49She argues that a distinction should be drawn between\\ndominant andnon-dominant hermeneutical resources on the grounds that ‘marginalized\\ngroups can be silenced relative to dominant discourses without being prevented fromunderstanding or expressing their own social experiences ’.\\n50The ﬁrst way that\\nhermeneutical injustice can arise is a situation characterised by a global lack of\\nhermeneutical resources: the required hermeneutical resources do not exist and so are\\nnot available to any person or group within that society, including but not limited to\\nthe speci ﬁc social group whose experiences they are. The second way is that a particu-\\nlar social group has perfectly adequate hermeneutical resources of its own –its mem-\\nbers can make sense of their experiences –but those resources are not recognised or\\nrespected by the dominant social and epistemic authorities. This group therefore hasnon-dominant hermeneutical resources, and so suffers hermeneutical injustice becausethe dominant social groups cannot understand their experiences.\\nWe add to this a third way in which', doc_id='aedac710-0955-41bc-9ae3-019a7a89d6af', embedding=None, doc_hash='9ff414c5ee6581400690d7cfbe967777d6f8c6b42756b1773effc129705bd556', extra_info={'filename': '..\\\\..\\\\papers\\\\For_Imposter_Concept_Paper\\\\kidd2016.pdf'}, node_info={'start': 51194, 'end': 54896}, relationships={<DocumentRelationship.SOURCE: '1'>: '80fbf1da-9b7e-45b5-bac3-a96bd0721458'}), score=0.9165753082501373), NodeWithScore(node=Node(text='injustice can also be applied to them.\\nThere are several varieties of epistemic injustice, but for reasons of space and focus,\\nour analysis focuses on the two identi ﬁed by Fricker, namely testimonial injustice and\\nhermeneutical injustice , which arise in the context of our testimonial and hermeneutical\\npractices. We also discuss two speci ﬁc forms of testimonial injustice, which Christo-\\npher Hookway dubs participatory prejudice and informational prejudice , each of which\\ninvolve a person or group facing obstacles to their participation in collective epistemic\\nactivities.17The relationship of these two prejudices to testimonial injustice is a matter\\nof debate among virtue epistemologists, with Fricker herself arguing that testimonialinjustice is ‘the most basic ’form of epistemic injustice, of which the two prejudices\\nidenti ﬁed as Hookway are speci ﬁcations.\\n18We agree, so the article starts with testimo-\\nnial injustice, moves onto the two prejudices, before turning to hermeneutical injus-tice. In each case, we ask whether ill persons are especially vulnerable to that type ofinjustice, and if so, identify the stereotypes, structures, and practices that generate and\\nsustain it.\\nIllness often leads to incapacitation, anxiety, and insecurity; these can either be met\\nwith empathy and compassion, or may trigger negative stereotyping. Instead of makingan empirically and re ﬂectively robust judgment on a case-by-case basis of the epis-\\ntemic credibility of an ill person, health professionals (and others) may tacitly fall backupon such uncritically (and often unconsciously) adopted stereotypes, many of whichincorporate negative epistemic prejudices.\\nFricker emphasises that such stereotypes and prejudices typically operate ‘without\\nany focused awareness ’and are ‘(typically) culpably resistant to the evidence ’, and\\nthus irrational.\\n19Many prevailing stereotypes of ill persons tend to connote incapacita-\\ntion, disability, diminished agency, social vulnerability, psychological fragility, andbodily failure, among others.\\n20These stereotypes often portray illness in terms of\\nmoral or conative failure or social defect that may ‘contaminate its surroundings ’21\\nand range from moralistic forms through to the ‘punitive and sentimental ’types\\ndescribed by Susan Sontag.22A broad theme of these stereotypes is, as Arthur Frank\\nremarks, that ‘the power of stigma has fed on seeing the body ’s condition as an\\nexpression of morality ’,23such that the fact of illness is a mark of moral, social, and\\nepistemic failure.\\nThe structures of healthcare institutions are underpinned by biomedical approaches\\nthat focus upon the biological rather than existential aspects of illness, and thereforelower the level of attention paid to the subjective experience of being ill. Healthcareprovision is based upon principles of ef ﬁciency (and in some cases ﬁnancial pro ﬁt)\\nand designed to suit the needs of health specialists rather than patients. In addition,time pressure, short consultations, and use of standardised protocols that leave little\\nroom for personal needs and values, are also core features of modern healthcare\\nsystems.\\nFinally, work is task-based rather than patient-focused, thereby closing down oppor-\\ntunities for establishing sustained contact between a particular health professional andan individual patient, and for the rich forms of communicative relationship that mightfacilitate the recognition and cultivation of patients ’ability to contribute to the\\n©2016The Author. Journal of Applied Philosophy published by John Wiley & Sons Ltd on behalf of Society for Applied Philosophy.Epistemic Injustice', doc_id='f290a440-6c2c-487e-9e3b-1afa5b9a7a3d', embedding=None, doc_hash='639952f0fd79206a449983ff56163dbb8da3afe60dfbcee783c1f13b2f3b00f8', extra_info={'filename': '..\\\\..\\\\papers\\\\For_Imposter_Concept_Paper\\\\kidd2016.pdf'}, node_info={'start': 18092, 'end': 21728}, relationships={<DocumentRelationship.SOURCE: '1'>: '80fbf1da-9b7e-45b5-bac3-a96bd0721458'}), score=0.9121539512684957)], extra_info=None),\n",
       " NodeWithScore(node=Node(text='Human: How is epistemic injustice related to hermeneutical injustice? How can one lead to another? How are they related to a phenomenon called linguistic hijacking, the phenomenon wherein politically significant terminology is co-opted by dominant groups in ways that further their dominance over marginalized groups?', doc_id='6c847e35-6a2f-4f8a-8ed9-fa95206c2bed', embedding=None, doc_hash='94bdbf463378b2964390b01ec21093cbc26eb7e381aeb8b9efecbc3c7f6fd01b', extra_info=None, node_info={'start': 0, 'end': 317}, relationships={<DocumentRelationship.SOURCE: '1'>: '0e8c764a-7b39-484f-b5b5-44eab5fddbfc'}), score=0.9490098106788029),\n",
       " NodeWithScore(node=Node(text='AI: The article discusses epistemic injustice, specifically testimonial injustice and hermeneutical injustice, and how they can affect ill persons. It does not mention linguistic hijacking.', doc_id='09754053-f197-4155-8c10-507a126c3529', embedding=None, doc_hash='27c88031a5ab0d258d0584e212bdb3501ed3650b5f0f3a25db1b1b883bfa738e', extra_info=None, node_info={'start': 0, 'end': 189}, relationships={<DocumentRelationship.SOURCE: '1'>: 'fcf847dc-e74c-4e86-922c-b8a08e372e4f'}), score=0.9250129135024434),\n",
       " NodeWithScore(node=Node(text='Sons Ltd on behalf of Society for Applied Philosophy.Epistemic Injustice and Illness 11\\n5. Hermeneutical Injustice\\nHermeneutical injustice occurs when a gap in collective hermeneutical resources puts\\na person or group at unfair disadvantage when making sense of their social experi-ences. Speci ﬁcally, ‘some signi ﬁcant area of one ’s social experience [is] obscured from\\ncollective understanding owing to a structural identity prejudice in the collective\\nhermeneutical resource ’.\\n45Certain experiences cannot be understood because of the\\nabsence of the resources needed to understand them, and then to articulate and com-municate that understanding to others, with the consequence that the person or groupsuffers hermeneutical marginalization , which Fricker de ﬁnes as ‘unequal hermeneutical\\nparticipation with respect to some signi ﬁcant area(s) of social experience ’.\\n46\\nThe social implications of hermeneutical marginalization arise because our ability to\\nrecognise and respond to the concerns and experiences of others is crucially premisedupon our ability to understand those concerns and experiences by mobilising adequate\\nhermeneutical resources. If the required resources do not exist, those experiences will\\nremain obscure in a way that prevents even the most sympathetic social peers torespond adequately to them. It is for this reason that hermeneutical injustice is struc-tural and not agential, arising from speci ﬁc contingent features of the social world –\\nsuch as its educational practices and political arrangements –rather than from the\\nactivities of speci ﬁc agents. Indeed, a consequence of hermeneutical injustice is what\\nFricker calls cognitive disablement . All members of a society that is structurally\\nhermeneutically unjust will be impaired in their capacity to understand certain experi-\\nences, but the impairment has differential impact.\\nFricker offers the example of societies that lack the concept of sexual harassment,\\nnoting that though both the harasser and harassee are cognitively disabled, there is anobvious sense in which this is to the harasser ’s advantage: ‘it suits his immediate pur-\\npose, in that it leaves his conduct unchallenged ’.\\n47Indeed, many cases can be offered\\nin which a particular social group actively bene ﬁts from their inability to understand,\\nand hence take seriously, the experiences of other groups. Bacon ’s maxim that knowl-\\nedge is power is true, but in certain contexts ignorance can also be a source and\\nmeans of legitimating power.48\\nHermeneutical injustice can arise in at least three ways, the ﬁrst two of which are\\nidenti ﬁed by Rebecca Mason.49She argues that a distinction should be drawn between\\ndominant andnon-dominant hermeneutical resources on the grounds that ‘marginalized\\ngroups can be silenced relative to dominant discourses without being prevented fromunderstanding or expressing their own social experiences ’.\\n50The ﬁrst way that\\nhermeneutical injustice can arise is a situation characterised by a global lack of\\nhermeneutical resources: the required hermeneutical resources do not exist and so are\\nnot available to any person or group within that society, including but not limited to\\nthe speci ﬁc social group whose experiences they are. The second way is that a particu-\\nlar social group has perfectly adequate hermeneutical resources of its own –its mem-\\nbers can make sense of their experiences –but those resources are not recognised or\\nrespected by the dominant social and epistemic authorities. This group therefore hasnon-dominant hermeneutical resources, and so suffers hermeneutical injustice becausethe dominant social groups cannot understand their experiences.\\nWe add to this a third way in which', doc_id='aedac710-0955-41bc-9ae3-019a7a89d6af', embedding=None, doc_hash='9ff414c5ee6581400690d7cfbe967777d6f8c6b42756b1773effc129705bd556', extra_info={'filename': '..\\\\..\\\\papers\\\\For_Imposter_Concept_Paper\\\\kidd2016.pdf'}, node_info={'start': 51194, 'end': 54896}, relationships={<DocumentRelationship.SOURCE: '1'>: '80fbf1da-9b7e-45b5-bac3-a96bd0721458'}), score=0.9165753082501373),\n",
       " NodeWithScore(node=Node(text='injustice can also be applied to them.\\nThere are several varieties of epistemic injustice, but for reasons of space and focus,\\nour analysis focuses on the two identi ﬁed by Fricker, namely testimonial injustice and\\nhermeneutical injustice , which arise in the context of our testimonial and hermeneutical\\npractices. We also discuss two speci ﬁc forms of testimonial injustice, which Christo-\\npher Hookway dubs participatory prejudice and informational prejudice , each of which\\ninvolve a person or group facing obstacles to their participation in collective epistemic\\nactivities.17The relationship of these two prejudices to testimonial injustice is a matter\\nof debate among virtue epistemologists, with Fricker herself arguing that testimonialinjustice is ‘the most basic ’form of epistemic injustice, of which the two prejudices\\nidenti ﬁed as Hookway are speci ﬁcations.\\n18We agree, so the article starts with testimo-\\nnial injustice, moves onto the two prejudices, before turning to hermeneutical injus-tice. In each case, we ask whether ill persons are especially vulnerable to that type ofinjustice, and if so, identify the stereotypes, structures, and practices that generate and\\nsustain it.\\nIllness often leads to incapacitation, anxiety, and insecurity; these can either be met\\nwith empathy and compassion, or may trigger negative stereotyping. Instead of makingan empirically and re ﬂectively robust judgment on a case-by-case basis of the epis-\\ntemic credibility of an ill person, health professionals (and others) may tacitly fall backupon such uncritically (and often unconsciously) adopted stereotypes, many of whichincorporate negative epistemic prejudices.\\nFricker emphasises that such stereotypes and prejudices typically operate ‘without\\nany focused awareness ’and are ‘(typically) culpably resistant to the evidence ’, and\\nthus irrational.\\n19Many prevailing stereotypes of ill persons tend to connote incapacita-\\ntion, disability, diminished agency, social vulnerability, psychological fragility, andbodily failure, among others.\\n20These stereotypes often portray illness in terms of\\nmoral or conative failure or social defect that may ‘contaminate its surroundings ’21\\nand range from moralistic forms through to the ‘punitive and sentimental ’types\\ndescribed by Susan Sontag.22A broad theme of these stereotypes is, as Arthur Frank\\nremarks, that ‘the power of stigma has fed on seeing the body ’s condition as an\\nexpression of morality ’,23such that the fact of illness is a mark of moral, social, and\\nepistemic failure.\\nThe structures of healthcare institutions are underpinned by biomedical approaches\\nthat focus upon the biological rather than existential aspects of illness, and thereforelower the level of attention paid to the subjective experience of being ill. Healthcareprovision is based upon principles of ef ﬁciency (and in some cases ﬁnancial pro ﬁt)\\nand designed to suit the needs of health specialists rather than patients. In addition,time pressure, short consultations, and use of standardised protocols that leave little\\nroom for personal needs and values, are also core features of modern healthcare\\nsystems.\\nFinally, work is task-based rather than patient-focused, thereby closing down oppor-\\ntunities for establishing sustained contact between a particular health professional andan individual patient, and for the rich forms of communicative relationship that mightfacilitate the recognition and cultivation of patients ’ability to contribute to the\\n©2016The Author. Journal of Applied Philosophy published by John Wiley & Sons Ltd on behalf of Society for Applied Philosophy.Epistemic Injustice', doc_id='f290a440-6c2c-487e-9e3b-1afa5b9a7a3d', embedding=None, doc_hash='639952f0fd79206a449983ff56163dbb8da3afe60dfbcee783c1f13b2f3b00f8', extra_info={'filename': '..\\\\..\\\\papers\\\\For_Imposter_Concept_Paper\\\\kidd2016.pdf'}, node_info={'start': 18092, 'end': 21728}, relationships={<DocumentRelationship.SOURCE: '1'>: '80fbf1da-9b7e-45b5-bac3-a96bd0721458'}), score=0.9121539512684957),\n",
       " NodeWithScore(node=Node(text='Human: How is epistemic injustice related to hermeneutical injustice? How can one lead to another? How are they related to a phenomenon called linguistic hijacking, the phenomenon wherein politically significant terminology is co-opted by dominant groups in ways that further their dominance over marginalized groups?', doc_id='6c847e35-6a2f-4f8a-8ed9-fa95206c2bed', embedding=None, doc_hash='94bdbf463378b2964390b01ec21093cbc26eb7e381aeb8b9efecbc3c7f6fd01b', extra_info=None, node_info={'start': 0, 'end': 317}, relationships={<DocumentRelationship.SOURCE: '1'>: '0e8c764a-7b39-484f-b5b5-44eab5fddbfc'}), score=0.9490098106788029),\n",
       " NodeWithScore(node=Node(text='AI: The article discusses epistemic injustice, specifically testimonial injustice and hermeneutical injustice, and how they can affect ill persons. It does not mention linguistic hijacking.', doc_id='09754053-f197-4155-8c10-507a126c3529', embedding=None, doc_hash='27c88031a5ab0d258d0584e212bdb3501ed3650b5f0f3a25db1b1b883bfa738e', extra_info=None, node_info={'start': 0, 'end': 189}, relationships={<DocumentRelationship.SOURCE: '1'>: 'fcf847dc-e74c-4e86-922c-b8a08e372e4f'}), score=0.9250129135024434),\n",
       " NodeWithScore(node=Node(text='Sons Ltd on behalf of Society for Applied Philosophy.Epistemic Injustice and Illness 11\\n5. Hermeneutical Injustice\\nHermeneutical injustice occurs when a gap in collective hermeneutical resources puts\\na person or group at unfair disadvantage when making sense of their social experi-ences. Speci ﬁcally, ‘some signi ﬁcant area of one ’s social experience [is] obscured from\\ncollective understanding owing to a structural identity prejudice in the collective\\nhermeneutical resource ’.\\n45Certain experiences cannot be understood because of the\\nabsence of the resources needed to understand them, and then to articulate and com-municate that understanding to others, with the consequence that the person or groupsuffers hermeneutical marginalization , which Fricker de ﬁnes as ‘unequal hermeneutical\\nparticipation with respect to some signi ﬁcant area(s) of social experience ’.\\n46\\nThe social implications of hermeneutical marginalization arise because our ability to\\nrecognise and respond to the concerns and experiences of others is crucially premisedupon our ability to understand those concerns and experiences by mobilising adequate\\nhermeneutical resources. If the required resources do not exist, those experiences will\\nremain obscure in a way that prevents even the most sympathetic social peers torespond adequately to them. It is for this reason that hermeneutical injustice is struc-tural and not agential, arising from speci ﬁc contingent features of the social world –\\nsuch as its educational practices and political arrangements –rather than from the\\nactivities of speci ﬁc agents. Indeed, a consequence of hermeneutical injustice is what\\nFricker calls cognitive disablement . All members of a society that is structurally\\nhermeneutically unjust will be impaired in their capacity to understand certain experi-\\nences, but the impairment has differential impact.\\nFricker offers the example of societies that lack the concept of sexual harassment,\\nnoting that though both the harasser and harassee are cognitively disabled, there is anobvious sense in which this is to the harasser ’s advantage: ‘it suits his immediate pur-\\npose, in that it leaves his conduct unchallenged ’.\\n47Indeed, many cases can be offered\\nin which a particular social group actively bene ﬁts from their inability to understand,\\nand hence take seriously, the experiences of other groups. Bacon ’s maxim that knowl-\\nedge is power is true, but in certain contexts ignorance can also be a source and\\nmeans of legitimating power.48\\nHermeneutical injustice can arise in at least three ways, the ﬁrst two of which are\\nidenti ﬁed by Rebecca Mason.49She argues that a distinction should be drawn between\\ndominant andnon-dominant hermeneutical resources on the grounds that ‘marginalized\\ngroups can be silenced relative to dominant discourses without being prevented fromunderstanding or expressing their own social experiences ’.\\n50The ﬁrst way that\\nhermeneutical injustice can arise is a situation characterised by a global lack of\\nhermeneutical resources: the required hermeneutical resources do not exist and so are\\nnot available to any person or group within that society, including but not limited to\\nthe speci ﬁc social group whose experiences they are. The second way is that a particu-\\nlar social group has perfectly adequate hermeneutical resources of its own –its mem-\\nbers can make sense of their experiences –but those resources are not recognised or\\nrespected by the dominant social and epistemic authorities. This group therefore hasnon-dominant hermeneutical resources, and so suffers hermeneutical injustice becausethe dominant social groups cannot understand their experiences.\\nWe add to this a third way in which', doc_id='aedac710-0955-41bc-9ae3-019a7a89d6af', embedding=None, doc_hash='9ff414c5ee6581400690d7cfbe967777d6f8c6b42756b1773effc129705bd556', extra_info={'filename': '..\\\\..\\\\papers\\\\For_Imposter_Concept_Paper\\\\kidd2016.pdf'}, node_info={'start': 51194, 'end': 54896}, relationships={<DocumentRelationship.SOURCE: '1'>: '80fbf1da-9b7e-45b5-bac3-a96bd0721458'}), score=0.9165753082501373),\n",
       " NodeWithScore(node=Node(text='injustice can also be applied to them.\\nThere are several varieties of epistemic injustice, but for reasons of space and focus,\\nour analysis focuses on the two identi ﬁed by Fricker, namely testimonial injustice and\\nhermeneutical injustice , which arise in the context of our testimonial and hermeneutical\\npractices. We also discuss two speci ﬁc forms of testimonial injustice, which Christo-\\npher Hookway dubs participatory prejudice and informational prejudice , each of which\\ninvolve a person or group facing obstacles to their participation in collective epistemic\\nactivities.17The relationship of these two prejudices to testimonial injustice is a matter\\nof debate among virtue epistemologists, with Fricker herself arguing that testimonialinjustice is ‘the most basic ’form of epistemic injustice, of which the two prejudices\\nidenti ﬁed as Hookway are speci ﬁcations.\\n18We agree, so the article starts with testimo-\\nnial injustice, moves onto the two prejudices, before turning to hermeneutical injus-tice. In each case, we ask whether ill persons are especially vulnerable to that type ofinjustice, and if so, identify the stereotypes, structures, and practices that generate and\\nsustain it.\\nIllness often leads to incapacitation, anxiety, and insecurity; these can either be met\\nwith empathy and compassion, or may trigger negative stereotyping. Instead of makingan empirically and re ﬂectively robust judgment on a case-by-case basis of the epis-\\ntemic credibility of an ill person, health professionals (and others) may tacitly fall backupon such uncritically (and often unconsciously) adopted stereotypes, many of whichincorporate negative epistemic prejudices.\\nFricker emphasises that such stereotypes and prejudices typically operate ‘without\\nany focused awareness ’and are ‘(typically) culpably resistant to the evidence ’, and\\nthus irrational.\\n19Many prevailing stereotypes of ill persons tend to connote incapacita-\\ntion, disability, diminished agency, social vulnerability, psychological fragility, andbodily failure, among others.\\n20These stereotypes often portray illness in terms of\\nmoral or conative failure or social defect that may ‘contaminate its surroundings ’21\\nand range from moralistic forms through to the ‘punitive and sentimental ’types\\ndescribed by Susan Sontag.22A broad theme of these stereotypes is, as Arthur Frank\\nremarks, that ‘the power of stigma has fed on seeing the body ’s condition as an\\nexpression of morality ’,23such that the fact of illness is a mark of moral, social, and\\nepistemic failure.\\nThe structures of healthcare institutions are underpinned by biomedical approaches\\nthat focus upon the biological rather than existential aspects of illness, and thereforelower the level of attention paid to the subjective experience of being ill. Healthcareprovision is based upon principles of ef ﬁciency (and in some cases ﬁnancial pro ﬁt)\\nand designed to suit the needs of health specialists rather than patients. In addition,time pressure, short consultations, and use of standardised protocols that leave little\\nroom for personal needs and values, are also core features of modern healthcare\\nsystems.\\nFinally, work is task-based rather than patient-focused, thereby closing down oppor-\\ntunities for establishing sustained contact between a particular health professional andan individual patient, and for the rich forms of communicative relationship that mightfacilitate the recognition and cultivation of patients ’ability to contribute to the\\n©2016The Author. Journal of Applied Philosophy published by John Wiley & Sons Ltd on behalf of Society for Applied Philosophy.Epistemic Injustice', doc_id='f290a440-6c2c-487e-9e3b-1afa5b9a7a3d', embedding=None, doc_hash='639952f0fd79206a449983ff56163dbb8da3afe60dfbcee783c1f13b2f3b00f8', extra_info={'filename': '..\\\\..\\\\papers\\\\For_Imposter_Concept_Paper\\\\kidd2016.pdf'}, node_info={'start': 18092, 'end': 21728}, relationships={<DocumentRelationship.SOURCE: '1'>: '80fbf1da-9b7e-45b5-bac3-a96bd0721458'}), score=0.9121539512684957),\n",
       " Response(response='Epistemic injustice, hermeneutical injustice, and linguistic hijacking are interconnected phenomena that contribute to the marginalization of certain groups in society. Epistemic injustice involves the systematic exclusion or devaluation of certain types of knowledge or perspectives, often based on race, gender, or other identity markers. Hermeneutical injustice occurs when a gap in collective hermeneutical resources puts a person or group at an unfair disadvantage when making sense of their social experiences. Linguistic hijacking exacerbates both epistemic and hermeneutical injustice by allowing dominant groups to co-opt and redefine terms in ways that further marginalize or silence marginalized groups.\\n\\nHermeneutical injustice is related to linguistic hijacking, as the co-opting of terms can lead to a distortion of the meaning of concepts and prevent the accurate application of those concepts. This can result in a failure of conceptual aptness or applicability, meaning that marginalized individuals are unable to contribute their knowledge in a socially significant context and their status as a knower is diminished. Furthermore, epistemic injustice can contribute to linguistic hijacking by allowing dominant groups to control the narrative and redefine terms in a way that supports their interests.\\n\\nTo combat both epistemic and hermeneutical injustice and linguistic hijacking, a multifaceted approach is required. This approach involves recognizing and challenging oppressive ideologies and scripts, developing and disseminating novel concepts, and supporting the voices and perspectives of marginalized groups. Such movements include the gay rights movement, the fight for marriage equality, and the #BodyPositivity movement. These movements have helped to support the intelligibility of concepts that have been twisted and co-opted, and have enabled individuals to enjoy benefits and privileges afforded by legal unions.\\n\\nIn conclusion, addressing the interconnected phenomena of epistemic injustice, hermeneutical injustice, and linguistic hijacking is crucial to promoting social justice and equality. This requires a large-scale social movement aimed at dismantling oppressive ideologies and scripts, as well as developing and disseminating novel concepts needed to understand socially significant experiences.', source_nodes=[NodeWithScore(node=Node(text='Human: How is epistemic injustice related to hermeneutical injustice? How can one lead to another? How are they related to a phenomenon called linguistic hijacking, the phenomenon wherein politically significant terminology is co-opted by dominant groups in ways that further their dominance over marginalized groups?', doc_id='6c847e35-6a2f-4f8a-8ed9-fa95206c2bed', embedding=None, doc_hash='94bdbf463378b2964390b01ec21093cbc26eb7e381aeb8b9efecbc3c7f6fd01b', extra_info=None, node_info={'start': 0, 'end': 317}, relationships={<DocumentRelationship.SOURCE: '1'>: '0e8c764a-7b39-484f-b5b5-44eab5fddbfc'}), score=0.9490001626757733), NodeWithScore(node=Node(text='AI: The article discusses epistemic injustice, specifically testimonial injustice and hermeneutical injustice, and how they can affect ill persons. It does not mention linguistic hijacking.', doc_id='09754053-f197-4155-8c10-507a126c3529', embedding=None, doc_hash='27c88031a5ab0d258d0584e212bdb3501ed3650b5f0f3a25db1b1b883bfa738e', extra_info=None, node_info={'start': 0, 'end': 189}, relationships={<DocumentRelationship.SOURCE: '1'>: 'fcf847dc-e74c-4e86-922c-b8a08e372e4f'}), score=0.924993218142394), NodeWithScore(node=Node(text='Sons Ltd on behalf of Society for Applied Philosophy.Epistemic Injustice and Illness 11\\n5. Hermeneutical Injustice\\nHermeneutical injustice occurs when a gap in collective hermeneutical resources puts\\na person or group at unfair disadvantage when making sense of their social experi-ences. Speci ﬁcally, ‘some signi ﬁcant area of one ’s social experience [is] obscured from\\ncollective understanding owing to a structural identity prejudice in the collective\\nhermeneutical resource ’.\\n45Certain experiences cannot be understood because of the\\nabsence of the resources needed to understand them, and then to articulate and com-municate that understanding to others, with the consequence that the person or groupsuffers hermeneutical marginalization , which Fricker de ﬁnes as ‘unequal hermeneutical\\nparticipation with respect to some signi ﬁcant area(s) of social experience ’.\\n46\\nThe social implications of hermeneutical marginalization arise because our ability to\\nrecognise and respond to the concerns and experiences of others is crucially premisedupon our ability to understand those concerns and experiences by mobilising adequate\\nhermeneutical resources. If the required resources do not exist, those experiences will\\nremain obscure in a way that prevents even the most sympathetic social peers torespond adequately to them. It is for this reason that hermeneutical injustice is struc-tural and not agential, arising from speci ﬁc contingent features of the social world –\\nsuch as its educational practices and political arrangements –rather than from the\\nactivities of speci ﬁc agents. Indeed, a consequence of hermeneutical injustice is what\\nFricker calls cognitive disablement . All members of a society that is structurally\\nhermeneutically unjust will be impaired in their capacity to understand certain experi-\\nences, but the impairment has differential impact.\\nFricker offers the example of societies that lack the concept of sexual harassment,\\nnoting that though both the harasser and harassee are cognitively disabled, there is anobvious sense in which this is to the harasser ’s advantage: ‘it suits his immediate pur-\\npose, in that it leaves his conduct unchallenged ’.\\n47Indeed, many cases can be offered\\nin which a particular social group actively bene ﬁts from their inability to understand,\\nand hence take seriously, the experiences of other groups. Bacon ’s maxim that knowl-\\nedge is power is true, but in certain contexts ignorance can also be a source and\\nmeans of legitimating power.48\\nHermeneutical injustice can arise in at least three ways, the ﬁrst two of which are\\nidenti ﬁed by Rebecca Mason.49She argues that a distinction should be drawn between\\ndominant andnon-dominant hermeneutical resources on the grounds that ‘marginalized\\ngroups can be silenced relative to dominant discourses without being prevented fromunderstanding or expressing their own social experiences ’.\\n50The ﬁrst way that\\nhermeneutical injustice can arise is a situation characterised by a global lack of\\nhermeneutical resources: the required hermeneutical resources do not exist and so are\\nnot available to any person or group within that society, including but not limited to\\nthe speci ﬁc social group whose experiences they are. The second way is that a particu-\\nlar social group has perfectly adequate hermeneutical resources of its own –its mem-\\nbers can make sense of their experiences –but those resources are not recognised or\\nrespected by the dominant social and epistemic authorities. This group therefore hasnon-dominant hermeneutical resources, and so suffers hermeneutical injustice becausethe dominant social groups cannot understand their experiences.\\nWe add to this a third way in which', doc_id='aedac710-0955-41bc-9ae3-019a7a89d6af', embedding=None, doc_hash='9ff414c5ee6581400690d7cfbe967777d6f8c6b42756b1773effc129705bd556', extra_info={'filename': '..\\\\..\\\\papers\\\\For_Imposter_Concept_Paper\\\\kidd2016.pdf'}, node_info={'start': 51194, 'end': 54896}, relationships={<DocumentRelationship.SOURCE: '1'>: '80fbf1da-9b7e-45b5-bac3-a96bd0721458'}), score=0.9166003455891649), NodeWithScore(node=Node(text='injustice can also be applied to them.\\nThere are several varieties of epistemic injustice, but for reasons of space and focus,\\nour analysis focuses on the two identi ﬁed by Fricker, namely testimonial injustice and\\nhermeneutical injustice , which arise in the context of our testimonial and hermeneutical\\npractices. We also discuss two speci ﬁc forms of testimonial injustice, which Christo-\\npher Hookway dubs participatory prejudice and informational prejudice , each of which\\ninvolve a person or group facing obstacles to their participation in collective epistemic\\nactivities.17The relationship of these two prejudices to testimonial injustice is a matter\\nof debate among virtue epistemologists, with Fricker herself arguing that testimonialinjustice is ‘the most basic ’form of epistemic injustice, of which the two prejudices\\nidenti ﬁed as Hookway are speci ﬁcations.\\n18We agree, so the article starts with testimo-\\nnial injustice, moves onto the two prejudices, before turning to hermeneutical injus-tice. In each case, we ask whether ill persons are especially vulnerable to that type ofinjustice, and if so, identify the stereotypes, structures, and practices that generate and\\nsustain it.\\nIllness often leads to incapacitation, anxiety, and insecurity; these can either be met\\nwith empathy and compassion, or may trigger negative stereotyping. Instead of makingan empirically and re ﬂectively robust judgment on a case-by-case basis of the epis-\\ntemic credibility of an ill person, health professionals (and others) may tacitly fall backupon such uncritically (and often unconsciously) adopted stereotypes, many of whichincorporate negative epistemic prejudices.\\nFricker emphasises that such stereotypes and prejudices typically operate ‘without\\nany focused awareness ’and are ‘(typically) culpably resistant to the evidence ’, and\\nthus irrational.\\n19Many prevailing stereotypes of ill persons tend to connote incapacita-\\ntion, disability, diminished agency, social vulnerability, psychological fragility, andbodily failure, among others.\\n20These stereotypes often portray illness in terms of\\nmoral or conative failure or social defect that may ‘contaminate its surroundings ’21\\nand range from moralistic forms through to the ‘punitive and sentimental ’types\\ndescribed by Susan Sontag.22A broad theme of these stereotypes is, as Arthur Frank\\nremarks, that ‘the power of stigma has fed on seeing the body ’s condition as an\\nexpression of morality ’,23such that the fact of illness is a mark of moral, social, and\\nepistemic failure.\\nThe structures of healthcare institutions are underpinned by biomedical approaches\\nthat focus upon the biological rather than existential aspects of illness, and thereforelower the level of attention paid to the subjective experience of being ill. Healthcareprovision is based upon principles of ef ﬁciency (and in some cases ﬁnancial pro ﬁt)\\nand designed to suit the needs of health specialists rather than patients. In addition,time pressure, short consultations, and use of standardised protocols that leave little\\nroom for personal needs and values, are also core features of modern healthcare\\nsystems.\\nFinally, work is task-based rather than patient-focused, thereby closing down oppor-\\ntunities for establishing sustained contact between a particular health professional andan individual patient, and for the rich forms of communicative relationship that mightfacilitate the recognition and cultivation of patients ’ability to contribute to the\\n©2016The Author. Journal of Applied Philosophy published by John Wiley & Sons Ltd on behalf of Society for Applied Philosophy.Epistemic Injustice', doc_id='f290a440-6c2c-487e-9e3b-1afa5b9a7a3d', embedding=None, doc_hash='639952f0fd79206a449983ff56163dbb8da3afe60dfbcee783c1f13b2f3b00f8', extra_info={'filename': '..\\\\..\\\\papers\\\\For_Imposter_Concept_Paper\\\\kidd2016.pdf'}, node_info={'start': 18092, 'end': 21728}, relationships={<DocumentRelationship.SOURCE: '1'>: '80fbf1da-9b7e-45b5-bac3-a96bd0721458'}), score=0.9121611437045293)], extra_info=None),\n",
       " NodeWithScore(node=Node(text='Human: How is epistemic injustice related to hermeneutical injustice? How can one lead to another? How are they related to a phenomenon called linguistic hijacking, the phenomenon wherein politically significant terminology is co-opted by dominant groups in ways that further their dominance over marginalized groups?', doc_id='6c847e35-6a2f-4f8a-8ed9-fa95206c2bed', embedding=None, doc_hash='94bdbf463378b2964390b01ec21093cbc26eb7e381aeb8b9efecbc3c7f6fd01b', extra_info=None, node_info={'start': 0, 'end': 317}, relationships={<DocumentRelationship.SOURCE: '1'>: '0e8c764a-7b39-484f-b5b5-44eab5fddbfc'}), score=0.9490001626757733),\n",
       " NodeWithScore(node=Node(text='AI: The article discusses epistemic injustice, specifically testimonial injustice and hermeneutical injustice, and how they can affect ill persons. It does not mention linguistic hijacking.', doc_id='09754053-f197-4155-8c10-507a126c3529', embedding=None, doc_hash='27c88031a5ab0d258d0584e212bdb3501ed3650b5f0f3a25db1b1b883bfa738e', extra_info=None, node_info={'start': 0, 'end': 189}, relationships={<DocumentRelationship.SOURCE: '1'>: 'fcf847dc-e74c-4e86-922c-b8a08e372e4f'}), score=0.924993218142394),\n",
       " NodeWithScore(node=Node(text='Sons Ltd on behalf of Society for Applied Philosophy.Epistemic Injustice and Illness 11\\n5. Hermeneutical Injustice\\nHermeneutical injustice occurs when a gap in collective hermeneutical resources puts\\na person or group at unfair disadvantage when making sense of their social experi-ences. Speci ﬁcally, ‘some signi ﬁcant area of one ’s social experience [is] obscured from\\ncollective understanding owing to a structural identity prejudice in the collective\\nhermeneutical resource ’.\\n45Certain experiences cannot be understood because of the\\nabsence of the resources needed to understand them, and then to articulate and com-municate that understanding to others, with the consequence that the person or groupsuffers hermeneutical marginalization , which Fricker de ﬁnes as ‘unequal hermeneutical\\nparticipation with respect to some signi ﬁcant area(s) of social experience ’.\\n46\\nThe social implications of hermeneutical marginalization arise because our ability to\\nrecognise and respond to the concerns and experiences of others is crucially premisedupon our ability to understand those concerns and experiences by mobilising adequate\\nhermeneutical resources. If the required resources do not exist, those experiences will\\nremain obscure in a way that prevents even the most sympathetic social peers torespond adequately to them. It is for this reason that hermeneutical injustice is struc-tural and not agential, arising from speci ﬁc contingent features of the social world –\\nsuch as its educational practices and political arrangements –rather than from the\\nactivities of speci ﬁc agents. Indeed, a consequence of hermeneutical injustice is what\\nFricker calls cognitive disablement . All members of a society that is structurally\\nhermeneutically unjust will be impaired in their capacity to understand certain experi-\\nences, but the impairment has differential impact.\\nFricker offers the example of societies that lack the concept of sexual harassment,\\nnoting that though both the harasser and harassee are cognitively disabled, there is anobvious sense in which this is to the harasser ’s advantage: ‘it suits his immediate pur-\\npose, in that it leaves his conduct unchallenged ’.\\n47Indeed, many cases can be offered\\nin which a particular social group actively bene ﬁts from their inability to understand,\\nand hence take seriously, the experiences of other groups. Bacon ’s maxim that knowl-\\nedge is power is true, but in certain contexts ignorance can also be a source and\\nmeans of legitimating power.48\\nHermeneutical injustice can arise in at least three ways, the ﬁrst two of which are\\nidenti ﬁed by Rebecca Mason.49She argues that a distinction should be drawn between\\ndominant andnon-dominant hermeneutical resources on the grounds that ‘marginalized\\ngroups can be silenced relative to dominant discourses without being prevented fromunderstanding or expressing their own social experiences ’.\\n50The ﬁrst way that\\nhermeneutical injustice can arise is a situation characterised by a global lack of\\nhermeneutical resources: the required hermeneutical resources do not exist and so are\\nnot available to any person or group within that society, including but not limited to\\nthe speci ﬁc social group whose experiences they are. The second way is that a particu-\\nlar social group has perfectly adequate hermeneutical resources of its own –its mem-\\nbers can make sense of their experiences –but those resources are not recognised or\\nrespected by the dominant social and epistemic authorities. This group therefore hasnon-dominant hermeneutical resources, and so suffers hermeneutical injustice becausethe dominant social groups cannot understand their experiences.\\nWe add to this a third way in which', doc_id='aedac710-0955-41bc-9ae3-019a7a89d6af', embedding=None, doc_hash='9ff414c5ee6581400690d7cfbe967777d6f8c6b42756b1773effc129705bd556', extra_info={'filename': '..\\\\..\\\\papers\\\\For_Imposter_Concept_Paper\\\\kidd2016.pdf'}, node_info={'start': 51194, 'end': 54896}, relationships={<DocumentRelationship.SOURCE: '1'>: '80fbf1da-9b7e-45b5-bac3-a96bd0721458'}), score=0.9166003455891649),\n",
       " NodeWithScore(node=Node(text='injustice can also be applied to them.\\nThere are several varieties of epistemic injustice, but for reasons of space and focus,\\nour analysis focuses on the two identi ﬁed by Fricker, namely testimonial injustice and\\nhermeneutical injustice , which arise in the context of our testimonial and hermeneutical\\npractices. We also discuss two speci ﬁc forms of testimonial injustice, which Christo-\\npher Hookway dubs participatory prejudice and informational prejudice , each of which\\ninvolve a person or group facing obstacles to their participation in collective epistemic\\nactivities.17The relationship of these two prejudices to testimonial injustice is a matter\\nof debate among virtue epistemologists, with Fricker herself arguing that testimonialinjustice is ‘the most basic ’form of epistemic injustice, of which the two prejudices\\nidenti ﬁed as Hookway are speci ﬁcations.\\n18We agree, so the article starts with testimo-\\nnial injustice, moves onto the two prejudices, before turning to hermeneutical injus-tice. In each case, we ask whether ill persons are especially vulnerable to that type ofinjustice, and if so, identify the stereotypes, structures, and practices that generate and\\nsustain it.\\nIllness often leads to incapacitation, anxiety, and insecurity; these can either be met\\nwith empathy and compassion, or may trigger negative stereotyping. Instead of makingan empirically and re ﬂectively robust judgment on a case-by-case basis of the epis-\\ntemic credibility of an ill person, health professionals (and others) may tacitly fall backupon such uncritically (and often unconsciously) adopted stereotypes, many of whichincorporate negative epistemic prejudices.\\nFricker emphasises that such stereotypes and prejudices typically operate ‘without\\nany focused awareness ’and are ‘(typically) culpably resistant to the evidence ’, and\\nthus irrational.\\n19Many prevailing stereotypes of ill persons tend to connote incapacita-\\ntion, disability, diminished agency, social vulnerability, psychological fragility, andbodily failure, among others.\\n20These stereotypes often portray illness in terms of\\nmoral or conative failure or social defect that may ‘contaminate its surroundings ’21\\nand range from moralistic forms through to the ‘punitive and sentimental ’types\\ndescribed by Susan Sontag.22A broad theme of these stereotypes is, as Arthur Frank\\nremarks, that ‘the power of stigma has fed on seeing the body ’s condition as an\\nexpression of morality ’,23such that the fact of illness is a mark of moral, social, and\\nepistemic failure.\\nThe structures of healthcare institutions are underpinned by biomedical approaches\\nthat focus upon the biological rather than existential aspects of illness, and thereforelower the level of attention paid to the subjective experience of being ill. Healthcareprovision is based upon principles of ef ﬁciency (and in some cases ﬁnancial pro ﬁt)\\nand designed to suit the needs of health specialists rather than patients. In addition,time pressure, short consultations, and use of standardised protocols that leave little\\nroom for personal needs and values, are also core features of modern healthcare\\nsystems.\\nFinally, work is task-based rather than patient-focused, thereby closing down oppor-\\ntunities for establishing sustained contact between a particular health professional andan individual patient, and for the rich forms of communicative relationship that mightfacilitate the recognition and cultivation of patients ’ability to contribute to the\\n©2016The Author. Journal of Applied Philosophy published by John Wiley & Sons Ltd on behalf of Society for Applied Philosophy.Epistemic Injustice', doc_id='f290a440-6c2c-487e-9e3b-1afa5b9a7a3d', embedding=None, doc_hash='639952f0fd79206a449983ff56163dbb8da3afe60dfbcee783c1f13b2f3b00f8', extra_info={'filename': '..\\\\..\\\\papers\\\\For_Imposter_Concept_Paper\\\\kidd2016.pdf'}, node_info={'start': 18092, 'end': 21728}, relationships={<DocumentRelationship.SOURCE: '1'>: '80fbf1da-9b7e-45b5-bac3-a96bd0721458'}), score=0.9121611437045293)]"
      ]
     },
     "execution_count": 308,
     "metadata": {},
     "output_type": "execute_result"
    }
   ],
   "source": [
    "sources"
   ]
  },
  {
   "cell_type": "code",
   "execution_count": 28,
   "metadata": {},
   "outputs": [
    {
     "name": "stdout",
     "output_type": "stream",
     "text": [
      "NodeWithScore(node=Node(text='for instance). What was less familiar was the idea\\nof discriminatory epistemic injustice: a branch of epistemic injustice which, I have\\nargued, divides into two sub-branches, namely testimonial injustice and hermeneuticalinjustice.\\n3Since I have discussed these phenomena in detail in other work, I will merely\\nput the two concepts swiftly in place here. Once this is done, I will be in a position to\\nproceed with the task of this paper: to make out a new connection between epistemicjustice and an ideal of political freedom, and to explore the implications for account-\\nable institutional practices. My hope is that elaborating these ideas will reveal just\\nhow tightly epistemic justice needs to be interwoven in the fabric of the liberal polity.\\n1I have argued for this point about philosophical method more fully in Fricker (2012 ).\\n2David Coady has rightly emphasized both these points; see Coady (2010 ).\\n3For a fuller account of these kinds of epistemic injustice, see Fricker (2007 ).\\n123\\nSynthese (2013) 190:1317–1332 1319\\nTestimonial injustice happens when a speaker receives a deﬁcit of credibility owing\\nto the operation of prejudice in the hearer’s judgement. A possible example might be in\\na case of ‘stop and search’ by the police, where a racial prejudice affects the perceptionof the police ofﬁcer so that a young black male driver receives a prejudicially deﬂated\\nlevel of credibility when he declares that he is the rightful owner of the car. There will\\nof course be a spectrum of cases spanning those in which the speaker’s credibility isonly marginally deﬂated to those where it is drastically deﬂated, and also spanning\\ncases where (whatever the deﬂation) it either is or isn’t sufﬁcient to bring the level of\\ncredibility below the threshold for hearer acceptance. Sometimes a speaker’s word istaken far less seriously than it would be absent the prejudice, yet they are still believed;\\nsometimes a small credibility deﬂation is enough to entail that the speaker’s word is\\nrejected.\\nHermeneutical injustice occurs at a stage prior to communicative activity, though\\nit will only surface in a certain kind of failed or semi-failed attempt to render anexperience intelligible, either to oneself or communicatively to another. This kind of\\nepistemic injustice happens when a subject who is already hermeneutically marginal-\\nized (that is, they belong to a group which does not have access to equal participationin the generation of social meanings) is thereby put at an unfair disadvantage when\\nit comes to making sense of a signiﬁcant area of their social experience. An example\\nmight be a woman who attacked or killed a long-term physically abusive partner at atime before the background history of his own violence and intimidation came to be\\ninterpretable by reference to the legal category of ‘provocation’.\\nLike testimonial injustice, hermeneutical injustice comes in different degrees of\\nseverity, and along more than one dimension. First, there is internal diversity as regards\\nthe degree of misunderstanding. At one extreme, even serious domestic violence might\\nonce have been culturally, quasi secretly, understood as the violent afﬁrmation of a\\nproper natural hierarchy between ‘man and wife’ (not forgetting that our rich capacity\\nfor incoherence in collective forms of understanding is such that this construal can\\nsubsist alongside another, more openly avowed, interpretation to the effect that such\\nviolence is appalling). Or, alternatively, a less radical failure of understanding might\\nbe illustrated by a situation where such violence is on the whole taken seriously as acriminal offence, yet still not properly dealt with by the relevant institutional bodies\\nowing to confused social meanings surrounding, for instance, the fact that the victim\\ndid not leave her violent partner.\\nSecond, hermeneutical injustice is internally diverse in relation to how widespread\\nthe failure of understanding is. At the extreme, there can be cases where even the\\nsubject herself is radically unable to make sense of her own experience; or, by contrast,there can be cases at the other extreme in which the subject herself is entirely clear\\nwhat is happening to her, and can perhaps expect to communicate her experience\\nwith ease to other members of her community or social group, but (owing to thecollective hermeneutical gap pertaining to the wider community as a whole) still\\ncannot expect to communicate it successfully to signiﬁcant social agencies—notably,\\nrelevant institutional bodies—in order to describe or protest the experience. Finally,a third dimension of internal diversity in hermeneutical injustice is that such unfair\\ndeﬁcits of intelligibility might be owing either to the inadequately conceptualised\\n123\\n1320 Synthese (2013) 190:1317–1332\\ncontent , and/or owing to an inadequately understood expressive form , in the sense of\\nstyle of communication.\\nI have tried in previous work to develop the ethical and epistemic aspects of the\\nwrong of both kinds of discriminatory epistemic injustice.4In brief, there is a generic\\nwrong to any kind of epistemic injustice (including the distributive kind) which is\\na matter of the subject being wronged speciﬁcally in their capacity as an epistemic\\nsubject . In respect of testimonial injustice, this generic wrong becomes somewhat\\nspeciﬁed in the idea of the subject’s being wronged as a giver of knowledge (an\\nunjust deﬁcit of credibility); and in respect of hermeneutical injustice it becomes theidea of the subject’s being wronged in their capacity for social understanding (an\\nunjust deﬁcit of', doc_id='d96b7738-3684-4c07-9989-8e77f9c166fc', embedding=None, doc_hash='9acf793d9f46ee6b6c52389060ecb1cabf74c565a6290f93bf3c8c60992c5cfd', extra_info={'filename': 'fricker2012.pdf'}, node_info={'start': 4901, 'end': 10477}, relationships={<DocumentRelationship.SOURCE: '1'>: '57cd3171-c4af-4707-af47-3a33a4386d53'}), score=0.9140560927098698)\n",
      "NodeWithScore(node=Node(text='there is without question a long way to go. See, for example, Dove ’s Self-Esteem Project:\\nhttps://www.dove.com/us/en/dove-self-esteem-project/our-mission.html .\\n21Elizabeth Anderson, Kristie Dotson, Sally Haslanger, and Nadya Vasilyeva and Saray Ayala-López,\\namong others, have also emphasized the importance of thinking about whole social systems and\\ninstitutional-level phenomena when theorizing about epistemic injustice (Anderson 2012 ; Dotson 2012 ;\\n2014 ; Haslanger 2016 ; Vasilyeva and Ayala-López 2019 ; Haslanger 2020a ;2020b ).\\nReferences\\nAnderson, Elizabeth. 2012. Epistemic justice as a virtue of social institutions. Social Epistemology 26 (2):\\n163–73.\\nAnderson, Luvell. 2017. Epistemic injustice and the philosophy of race. In Routledge handbook of epistemic\\ninjustice , ed. Ian James Kidd, José Medina, and Gaile Pohlhaus, Jr. New York: Routledge.\\nAtkins, Ashley. 2018. Black lives matter or alllives matter? Color-blindness and epistemic injustice. Social\\nEpistemology 33 (1): 1 –22.\\nBaker, Jes. 2015. Things no one will tell fat girls: A handbook for unapologetic living . Berkeley: Seal Press.\\nBalkin, Jack. 1990. Nested opposition. Yale Law Journal 99 (7):1669 –705.\\nBarnes, Elizabeth. 2016. The minority body . New York: Oxford University Press.\\nBeeby, Laura. 2011. A critique of hermeneutical injustice. Proceedings of the Aristotelian Society 111 (3):\\n479–86.\\nBegby, Endre. 2020. Evidential preemption. Philosophy and Phenomenological Research 102 (3): 515 –30.\\nBeverley, John. 2020. Speak no evil: Understanding hermeneutical (in)justice. Episteme ,1–24.\\nBrownmiller, Susan. 1990. In our time: Memoir of a revolution . New York: Dial Press.\\nCollins, Patricia Hill. 1986. Learning from the outsider within: The sociological significance of Black\\nfeminist thought. Social Problems 33 (6): 14 –32.\\nCollins, Patricia Hill. 1990. Black feminist thought . New York: Routledge.\\nCrabbe, Megan Jayne. 2017. Body positive power: How to stop dieting, make peace with your body, and live .\\nLondon: Vermilion.\\nDavis, Emmalon. 2016. Typecasts, tokens, and spokespersons: A case for credibility excess as testimonial\\ninjustice. Hypatia 31 (3): 485 –501.\\nDavis, Emmalon. 2018. On epistemic appropriation. Ethics 128 (4): 702 –27.\\nDembroff, Robin. 2020. Beyond binary: Genderqueer as a critical gender kind. Philosophers ’Imprint 20 (9):\\n1–23.\\nDembroff, Robin, and Dennis Whitcomb. Forthcoming. Content focused epistemic injustice. In Oxford\\nstudies in epistemology , ed. Tamar Szabo Gendler and John Hawthorne. Oxford: Oxford University Press.\\nDotson, Kristie. 2012. A cautionary tale: On limiting epistemic oppression. Frontiers: A Journal of Women\\nStudies 33 (1): 24 –47.\\nDotson, Kristie. 2014. Conceptualizing epistemic oppression. Social Epistemology 28 (2): 115 –38.\\nFerré-Sadurní, Luis. 2019. Teenager accused of rape deserves leniency because he ’sf r o ma “good family, ”\\njudge says. New York Times , July 2.\\nFricker, Miranda. 2006. Powerlessness and social interpretation. Episteme: A Journal of Social Epistemology\\n3( 1–2): 96 –108.Hypatia 361\\nhttps://doi.org/10.1017/hyp.2022.4  Published online by Cambridge University Press\\nFricker, Miranda. 2007. Epistemic injustice: Power and the ethics of knowing . Oxford: Oxford University\\nPress.\\nFricker, Miranda. 2016. Epistemic injustice and the preservation of ignorance. In The epistemic dimensions\\nof ignorance , ed. Rik Peels and Martijn Blaauw. Cambridge, UK: Cambridge University Press.\\nFricker, Miranda. 2017. Evolving concepts of epistemic injustice. In Routledge handbook of epistemic injus-\\ntice, ed. Ian James Kidd, José Medina, and Gaile Pohlhaus, Jr. New York: Routledge.\\nGilkes, Cheryl Townsend. 1981. From slavery to social welfare: Racism and control of Black women. In\\nClass, race, and sex :The dynamics of control , ed. Amy Smerdlow and Helen Lessinger. Boston: G. K. Hall.\\nGoetze, Trystan. 2017. Hermeneutical dissent and the species of hermeneutical injustice. Hypatia 33 (1):\\n73–90.\\nGray, Emma. 2016. You don ’t have to be a monster to be capable of rape. Huffington Post , February 23.\\nHaslanger, Sally. 2016. What is a (social) structural explanation? Philosophical Studies 173 (1): 113 –30.\\nHaslanger, Sally. 2020a. Cognition as a social skill. Australasian Philosophical Review 3 (1): 5 –25.\\nHaslanger, Sally. 2020b. Going on, not in the same way. In Conceptual ethics and conceptual engineering , ed.\\nAlexis Burgess, Herman Cappelen, and David Plunkett. New York: Oxford University Press.\\nHinton, Elizabeth. 2019. How the “Central Park Five ”changed the history of American law. Atlantic ,\\nJune 2.\\nJenkins, Katharine. 2017. Rape myths and domestic abuse', doc_id='bb8d764d-4628-43e8-a20e-ac7b12e5ccef', embedding=None, doc_hash='bf951c64ebf3708859188ee53eb5551fa2a6df8397d78f96cad6ad9a8f33ab29', extra_info={'filename': 'hermeneutical-injustice-distortion-and-conceptual-aptness.pdf'}, node_info={'start': 83451, 'end': 88093}, relationships={<DocumentRelationship.SOURCE: '1'>: 'a73e7226-bb4a-43d2-ab2a-78d189433608'}), score=0.9017849647844652)\n"
     ]
    }
   ],
   "source": [
    "response = sources[0]\n",
    "for i in range(len(response.source_nodes)):\n",
    "    print(response.source_nodes[i])\n",
    "        # if response.source_nodes[i].extra_info:\n",
    "        #     print(f'Source {i}: {response.source_nodes[i].extra_info[\"filename\"]}')\n",
    "        # sources.append(response.source_nodes[i])"
   ]
  },
  {
   "cell_type": "code",
   "execution_count": null,
   "metadata": {},
   "outputs": [],
   "source": []
  }
 ],
 "metadata": {
  "kernelspec": {
   "display_name": "base",
   "language": "python",
   "name": "python3"
  },
  "language_info": {
   "codemirror_mode": {
    "name": "ipython",
    "version": 3
   },
   "file_extension": ".py",
   "mimetype": "text/x-python",
   "name": "python",
   "nbconvert_exporter": "python",
   "pygments_lexer": "ipython3",
   "version": "3.10.10"
  },
  "orig_nbformat": 4
 },
 "nbformat": 4,
 "nbformat_minor": 2
}
